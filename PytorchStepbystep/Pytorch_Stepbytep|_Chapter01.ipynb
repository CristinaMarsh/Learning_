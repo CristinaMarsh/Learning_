{
  "cells": [
    {
      "cell_type": "markdown",
      "metadata": {
        "id": "view-in-github",
        "colab_type": "text"
      },
      "source": [
        "<a href=\"https://colab.research.google.com/github/CristinaMarsh/Learning_/blob/main/PytorchStepbystep/Pytorch_Stepbytep%7C_Chapter01.ipynb\" target=\"_parent\"><img src=\"https://colab.research.google.com/assets/colab-badge.svg\" alt=\"Open In Colab\"/></a>"
      ]
    },
    {
      "cell_type": "markdown",
      "metadata": {
        "id": "uSsYSrbEWKXw"
      },
      "source": [
        "# Deep Learning with PyTorch Step-by-Step: A Beginner's Guide"
      ]
    },
    {
      "cell_type": "markdown",
      "metadata": {
        "id": "OAELp1ZlWKXy"
      },
      "source": [
        "# Chapter 1"
      ]
    },
    {
      "cell_type": "code",
      "execution_count": null,
      "metadata": {
        "id": "csZr3jKiWKXz",
        "outputId": "90fa76ba-0299-4a14-fce5-a999e396cd81",
        "colab": {
          "base_uri": "https://localhost:8080/"
        }
      },
      "outputs": [
        {
          "output_type": "stream",
          "name": "stdout",
          "text": [
            "Installing torchviz...\n",
            "Downloading files from GitHub repo to Colab...\n",
            "Creating folders...\n",
            "Finished!\n"
          ]
        }
      ],
      "source": [
        "try:\n",
        "    import google.colab\n",
        "    import requests\n",
        "    url = 'https://raw.githubusercontent.com/dvgodoy/PyTorchStepByStep/master/config.py'\n",
        "    r = requests.get(url, allow_redirects=True)\n",
        "    open('config.py', 'wb').write(r.content)    \n",
        "except ModuleNotFoundError:\n",
        "    pass\n",
        "\n",
        "from config import *\n",
        "config_chapter1()\n",
        "# This is needed to render the plots in this chapter\n",
        "from plots.chapter1 import *"
      ]
    },
    {
      "cell_type": "code",
      "source": [
        "#coding by myself \n",
        "\n",
        "import numpy as np\n",
        "from sklearn.linear_model import LinearRegression\n",
        "\n",
        "import torch\n",
        "import torch.optim as optim\n",
        "import torch.nn as nn\n",
        "from torchviz import make_dot"
      ],
      "metadata": {
        "id": "albr7cuYWe6T"
      },
      "execution_count": null,
      "outputs": []
    },
    {
      "cell_type": "code",
      "execution_count": null,
      "metadata": {
        "id": "Kyebffi7WKX0"
      },
      "outputs": [],
      "source": [
        "import numpy as np\n",
        "from sklearn.linear_model import LinearRegression\n",
        "\n",
        "import torch\n",
        "import torch.optim as optim\n",
        "import torch.nn as nn\n",
        "from torchviz import make_dot"
      ]
    },
    {
      "cell_type": "markdown",
      "metadata": {
        "id": "KWF5MFW8WKX0"
      },
      "source": [
        "# A Simple Regression Problem\n",
        "\n",
        "$$\n",
        "\\Large y = b + w x + \\epsilon\n",
        "$$"
      ]
    },
    {
      "cell_type": "markdown",
      "metadata": {
        "id": "fprh5iLSWKX0"
      },
      "source": [
        "## Data Generation"
      ]
    },
    {
      "cell_type": "markdown",
      "metadata": {
        "id": "q6D9JPxKWKX0"
      },
      "source": [
        "### Synthetic Data Generation\n",
        "\n",
        "\n",
        "\n",
        "Let's start generating some synthetic data: we start with a vector of $100(N)$ points for our feature $(x)$ and create our labels $(y)$ using $b=1, w=2$, and some Gaussian noise $^{[38]}$ (epsilon).\n",
        "Synthetic Data Generation\n",
        "Data Generation"
      ]
    },
    {
      "cell_type": "code",
      "source": [
        "np.random.rand(100,1).shape"
      ],
      "metadata": {
        "id": "0zTfQWAXXpch",
        "outputId": "9e6c108d-7b1e-4bb1-a0c2-361de1e62248",
        "colab": {
          "base_uri": "https://localhost:8080/"
        }
      },
      "execution_count": null,
      "outputs": [
        {
          "output_type": "execute_result",
          "data": {
            "text/plain": [
              "(100, 1)"
            ]
          },
          "metadata": {},
          "execution_count": 4
        }
      ]
    },
    {
      "cell_type": "code",
      "source": [
        "#write by my self\n",
        "true_b = 1\n",
        "true_w = 2\n",
        "N = 100\n",
        "\n",
        "np.random.seed(42)\n",
        "x = np.random.rand(N,1)\n",
        "epsilon = (.1 * np.random.randn(N,1))\n",
        "\n",
        "y = true_b + true_w * x + epsilon"
      ],
      "metadata": {
        "id": "faXh_SsWXd16"
      },
      "execution_count": null,
      "outputs": []
    },
    {
      "cell_type": "code",
      "source": [
        "import pandas as pd\n",
        "plt.figure(figsize=(6,4))\n",
        "pd.DataFrame(y).plot()"
      ],
      "metadata": {
        "id": "vDThBK2eX4TV",
        "outputId": "54e59367-f487-4368-d4b5-6fbd071630d5",
        "colab": {
          "base_uri": "https://localhost:8080/",
          "height": 298
        }
      },
      "execution_count": null,
      "outputs": [
        {
          "output_type": "execute_result",
          "data": {
            "text/plain": [
              "<matplotlib.axes._subplots.AxesSubplot at 0x7f002de52f90>"
            ]
          },
          "metadata": {},
          "execution_count": 18
        },
        {
          "output_type": "display_data",
          "data": {
            "text/plain": [
              "<Figure size 432x288 with 0 Axes>"
            ]
          },
          "metadata": {}
        },
        {
          "output_type": "display_data",
          "data": {
            "text/plain": [
              "<Figure size 432x288 with 1 Axes>"
            ],
            "image/png": "[encoded data removed]"
          },
          "metadata": {
            "needs_background": "light"
          }
        }
      ]
    },
    {
      "cell_type": "code",
      "execution_count": null,
      "metadata": {
        "id": "vilun8PAWKX1"
      },
      "outputs": [],
      "source": [
        "true_b = 1\n",
        "true_w = 2\n",
        "N = 100\n",
        "\n",
        "# Data Generation\n",
        "np.random.seed(42)\n",
        "x = np.random.rand(N, 1)\n",
        "epsilon = (.1 * np.random.randn(N, 1))\n",
        "y = true_b + true_w * x + epsilon"
      ]
    },
    {
      "cell_type": "markdown",
      "metadata": {
        "id": "-EPGSsLcWKX1"
      },
      "source": [
        "### Cell 1.1\n",
        "\n",
        "#### Remember always first split training/testing"
      ]
    },
    {
      "cell_type": "code",
      "source": [
        "#auhor: Christina\n",
        "idx = np.arange(N)\n",
        "np.random.shuffle(idx)\n",
        "\n",
        "train_idx = idx[:int(N*.8)]\n",
        "# Uses the remaining indices for validation\n",
        "val_idx = idx[int(N*.8):]\n",
        "\n",
        "# Generates train and validation sets\n",
        "x_train, y_train = x[train_idx], y[train_idx]\n",
        "x_val, y_val = x[val_idx], y[val_idx]"
      ],
      "metadata": {
        "id": "fDtM9ei8Yowd"
      },
      "execution_count": null,
      "outputs": []
    },
    {
      "cell_type": "code",
      "execution_count": null,
      "metadata": {
        "id": "hDblB7dyWKX2"
      },
      "outputs": [],
      "source": [
        "# Shuffles the indices\n",
        "idx = np.arange(N)\n",
        "np.random.shuffle(idx)\n",
        "\n",
        "# Uses first 80 random indices for train\n",
        "train_idx = idx[:int(N*.8)]\n",
        "# Uses the remaining indices for validation\n",
        "val_idx = idx[int(N*.8):]\n",
        "\n",
        "# Generates train and validation sets\n",
        "x_train, y_train = x[train_idx], y[train_idx]\n",
        "x_val, y_val = x[val_idx], y[val_idx]"
      ]
    },
    {
      "cell_type": "code",
      "execution_count": null,
      "metadata": {
        "id": "WRp3GHQVWKX2",
        "outputId": "17e80948-bf66-495a-caa2-7ffdd0378b5f",
        "colab": {
          "base_uri": "https://localhost:8080/"
        }
      },
      "outputs": [
        {
          "output_type": "execute_result",
          "data": {
            "text/plain": [
              "(<Figure size 864x432 with 2 Axes>,\n",
              " array([<matplotlib.axes._subplots.AxesSubplot object at 0x7efd55f80550>,\n",
              "        <matplotlib.axes._subplots.AxesSubplot object at 0x7efd55fd3a50>],\n",
              "       dtype=object))"
            ]
          },
          "metadata": {},
          "execution_count": 22
        },
        {
          "output_type": "display_data",
          "data": {
            "text/plain": [
              "<Figure size 864x432 with 2 Axes>"
            ],
            "image/png": "[encoded data removed]"
          },
          "metadata": {
            "needs_background": "light"
          }
        }
      ],
      "source": [
        "figure1(x_train, y_train, x_val, y_val)"
      ]
    },
    {
      "cell_type": "markdown",
      "metadata": {
        "id": "dKI6_6SCWKX3"
      },
      "source": [
        "# Gradient Descent"
      ]
    },
    {
      "cell_type": "markdown",
      "metadata": {
        "id": "yyXsiY4uWKX3"
      },
      "source": [
        "## Step 0: Random Initialization"
      ]
    },
    {
      "cell_type": "code",
      "source": [
        "#auhor: Christina\n",
        "\n",
        "np.random.seed(42)\n",
        "b = np.random.randn(1)\n",
        "w = np.random.randn(1)\n",
        "\n",
        "b,w"
      ],
      "metadata": {
        "id": "Z3bFP58BZ9m6",
        "outputId": "b8933158-94d0-4d01-d39f-42ec26711173",
        "colab": {
          "base_uri": "https://localhost:8080/"
        }
      },
      "execution_count": null,
      "outputs": [
        {
          "output_type": "execute_result",
          "data": {
            "text/plain": [
              "(array([0.49671415]), array([-0.1382643]))"
            ]
          },
          "metadata": {},
          "execution_count": 23
        }
      ]
    },
    {
      "cell_type": "code",
      "execution_count": null,
      "metadata": {
        "id": "AVvNlz6EWKX3",
        "outputId": "e55ca5c9-129b-496c-874e-9b0af5dd0236",
        "colab": {
          "base_uri": "https://localhost:8080/"
        }
      },
      "outputs": [
        {
          "output_type": "stream",
          "name": "stdout",
          "text": [
            "[0.49671415] [-0.1382643]\n"
          ]
        }
      ],
      "source": [
        "# Step 0 - Initializes parameters \"b\" and \"w\" randomly\n",
        "np.random.seed(42)\n",
        "b = np.random.randn(1)\n",
        "w = np.random.randn(1)\n",
        "\n",
        "print(b, w)"
      ]
    },
    {
      "cell_type": "markdown",
      "metadata": {
        "id": "deeS__lRWKX3"
      },
      "source": [
        "## Step 1: Compute Model's Predictions\n",
        "\n",
        "This is the forward pass - it simply computes the model's predictions using the current values of the parameters/weights. At the very beginning, we will be producing really bad predictions, as we started with random values from Step $0 .$"
      ]
    },
    {
      "cell_type": "code",
      "source": [
        "#auhor: Christina\n",
        "yhat = b + w * x_train"
      ],
      "metadata": {
        "id": "phVpTt3baLdD"
      },
      "execution_count": null,
      "outputs": []
    },
    {
      "cell_type": "code",
      "execution_count": null,
      "metadata": {
        "id": "0eu23fGXWKX3"
      },
      "outputs": [],
      "source": [
        "# Step 1 - Computes our model's predicted output - forward pass\n",
        "yhat = b + w * x_train"
      ]
    },
    {
      "cell_type": "markdown",
      "metadata": {
        "id": "Su7p6S5vWKX4"
      },
      "source": [
        "## Step 2: Compute the Loss"
      ]
    },
    {
      "cell_type": "code",
      "execution_count": null,
      "metadata": {
        "id": "U0T6wL32WKX4",
        "outputId": "44a4a792-0bb6-4b50-8b5b-6ab85a1dcd29",
        "colab": {
          "base_uri": "https://localhost:8080/"
        }
      },
      "outputs": [
        {
          "output_type": "stream",
          "name": "stdout",
          "text": [
            "2.6146076614052993\n"
          ]
        }
      ],
      "source": [
        "# Step 2 - Computing the loss\n",
        "# We are using ALL data points, so this is BATCH gradient\n",
        "# descent. How wrong is our model? That's the error!\n",
        "error = (yhat - y_train)\n",
        "\n",
        "# It is a regression, so it computes mean squared error (MSE)\n",
        "loss = (error ** 2).mean()\n",
        "\n",
        "print(loss)"
      ]
    },
    {
      "cell_type": "markdown",
      "metadata": {
        "id": "LonkLh3uWKX4"
      },
      "source": [
        "## Step 3: Compute the Gradients"
      ]
    },
    {
      "cell_type": "code",
      "execution_count": null,
      "metadata": {
        "id": "EFANrcAzWKX4",
        "outputId": "40886b98-0c53-4373-a0c8-1b6995efc755",
        "colab": {
          "base_uri": "https://localhost:8080/"
        }
      },
      "outputs": [
        {
          "output_type": "stream",
          "name": "stdout",
          "text": [
            "-2.967686577368668 -1.754118510796967\n"
          ]
        }
      ],
      "source": [
        "# Step 3 - Computes gradients for both \"b\" and \"w\" parameters\n",
        "b_grad = 2 * error.mean()\n",
        "w_grad = 2 * (x_train * error).mean()\n",
        "print(b_grad, w_grad)"
      ]
    },
    {
      "cell_type": "markdown",
      "metadata": {
        "id": "YX-1WuboWKX4"
      },
      "source": [
        "## Step 4: Update the Parameters"
      ]
    },
    {
      "cell_type": "code",
      "execution_count": null,
      "metadata": {
        "id": "iPcSamxOWKX5",
        "outputId": "f0155f1e-d384-4d0b-803b-8ef1edea843d",
        "colab": {
          "base_uri": "https://localhost:8080/"
        }
      },
      "outputs": [
        {
          "output_type": "stream",
          "name": "stdout",
          "text": [
            "[0.49671415] [-0.1382643]\n",
            "[0.79348281] [0.03714755]\n"
          ]
        }
      ],
      "source": [
        "# Sets learning rate - this is \"eta\" ~ the \"n\" like Greek letter\n",
        "lr = 0.1\n",
        "print(b, w)\n",
        "\n",
        "# Step 4 - Updates parameters using gradients and \n",
        "# the learning rate\n",
        "b = b - lr * b_grad\n",
        "w = w - lr * w_grad\n",
        "\n",
        "print(b, w)"
      ]
    },
    {
      "cell_type": "markdown",
      "metadata": {
        "id": "dRqnGdO9WKX5"
      },
      "source": [
        "## Step 5: Rinse and Repeat!\n",
        "\n",
        "The number of updates $(N / n)$ will depend on the type of gradient descent being used:\n",
        "- for batch ( $n=N$ ) gradient descent, this is trivial, as it uses all points for computing the loss - one epoch is the same as one update\n",
        "- for stochastic ( $n=1$ ) gradient descent, one epoch means $\\mathbf{N}$ updates, since every individual data point is used to perform an update\n",
        "- for mini-batch (of size $n$ ), one epoch has $\\mathbf{N} / \\mathbf{n}$ updates, since a mini-batch of $n$ data points is used to perform an update"
      ]
    },
    {
      "cell_type": "code",
      "execution_count": null,
      "metadata": {
        "id": "Wz6ewVypWKX5"
      },
      "outputs": [],
      "source": [
        "# Go back to Step 1 and run observe how your parameters b and w change"
      ]
    },
    {
      "cell_type": "markdown",
      "metadata": {
        "id": "1Z6qWWRBWKX5"
      },
      "source": [
        "# Linear Regression in Numpy"
      ]
    },
    {
      "cell_type": "code",
      "source": [
        "np.random.seed(42)\n",
        "b = np.random.randn(1)\n",
        "w = np.random.randn(1)\n",
        "\n",
        "lr = 0.1\n",
        "n_epochs = 1000\n",
        "\n",
        "#for epoch in n_epochs: #TypeError: 'int' object is not iterable\n",
        "#corrected\n",
        "for epoch in range(n_epochs):\n",
        "  y_hat = b + w * x_train\n",
        "\n",
        "  error = (y_hat - y_train)\n",
        "\n",
        "  loss = (error ** 2).mean()\n",
        "\n",
        "  b_grad = 2 * error.mean()\n",
        "  w_grad = 2 * (x_train * error).mean()\n",
        "\n",
        "  b = b - lr * b_grad\n",
        "  w = w - lr * w_grad\n",
        "\n",
        "print(b,w)"
      ],
      "metadata": {
        "id": "_xkoXFE5asYR",
        "outputId": "747abc46-c9e9-4c10-ee38-9b1ebf6746da",
        "colab": {
          "base_uri": "https://localhost:8080/"
        }
      },
      "execution_count": null,
      "outputs": [
        {
          "output_type": "stream",
          "name": "stdout",
          "text": [
            "[1.02421602] [1.9503278]\n"
          ]
        }
      ]
    },
    {
      "cell_type": "markdown",
      "metadata": {
        "id": "hLLoe5hUWKX5"
      },
      "source": [
        "### Cell 1.2"
      ]
    },
    {
      "cell_type": "code",
      "execution_count": null,
      "metadata": {
        "id": "-_ec-bpeWKX5",
        "outputId": "8f451078-d0b7-4e78-ac42-752eb63dc0b6"
      },
      "outputs": [
        {
          "name": "stdout",
          "output_type": "stream",
          "text": [
            "[0.49671415] [-0.1382643]\n",
            "[1.02354094] [1.96896411]\n"
          ]
        }
      ],
      "source": [
        "# Step 0 - Initializes parameters \"b\" and \"w\" randomly\n",
        "np.random.seed(42)\n",
        "b = np.random.randn(1)\n",
        "w = np.random.randn(1)\n",
        "\n",
        "print(b, w)\n",
        "\n",
        "# Sets learning rate - this is \"eta\" ~ the \"n\"-like Greek letter\n",
        "lr = 0.1\n",
        "# Defines number of epochs\n",
        "n_epochs = 1000\n",
        "\n",
        "for epoch in range(n_epochs):\n",
        "    # Step 1 - Computes model's predicted output - forward pass\n",
        "    yhat = b + w * x_train\n",
        "    \n",
        "    # Step 2 - Computes the loss\n",
        "    # We are using ALL data points, so this is BATCH gradient\n",
        "    # descent. How wrong is our model? That's the error!   \n",
        "    error = (yhat - y_train)\n",
        "    # It is a regression, so it computes mean squared error (MSE)\n",
        "    loss = (error ** 2).mean()\n",
        "    \n",
        "    # Step 3 - Computes gradients for both \"b\" and \"w\" parameters\n",
        "    b_grad = 2 * error.mean()\n",
        "    w_grad = 2 * (x_train * error).mean()\n",
        "    \n",
        "    # Step 4 - Updates parameters using gradients and \n",
        "    # the learning rate\n",
        "    b = b - lr * b_grad\n",
        "    w = w - lr * w_grad\n",
        "    \n",
        "print(b, w)"
      ]
    },
    {
      "cell_type": "code",
      "execution_count": null,
      "metadata": {
        "id": "yxnOmup_WKX6",
        "outputId": "1fe0d4d6-1f48-40e2-dd3a-18dc53208f6b",
        "colab": {
          "base_uri": "https://localhost:8080/"
        }
      },
      "outputs": [
        {
          "output_type": "stream",
          "name": "stdout",
          "text": [
            "[1.0242157] [1.95032842]\n"
          ]
        }
      ],
      "source": [
        "# Sanity Check: do we get the same results as our\n",
        "# gradient descent?\n",
        "linr = LinearRegression()\n",
        "linr.fit(x_train, y_train)\n",
        "print(linr.intercept_, linr.coef_[0])"
      ]
    },
    {
      "cell_type": "code",
      "execution_count": null,
      "metadata": {
        "id": "o5NxRLIIWKX6",
        "outputId": "a70e0c32-a11a-4ca9-ddb8-8f769de809f4",
        "colab": {
          "base_uri": "https://localhost:8080/",
          "height": 441
        }
      },
      "outputs": [
        {
          "output_type": "display_data",
          "data": {
            "text/plain": [
              "<Figure size 432x432 with 1 Axes>"
            ],
            "image/png": "[encoded data removed]"
          },
          "metadata": {
            "needs_background": "light"
          }
        }
      ],
      "source": [
        "fig = figure3(x_train, y_train)"
      ]
    },
    {
      "cell_type": "markdown",
      "metadata": {
        "id": "VWhWHmvdWKX6"
      },
      "source": [
        "# PyTorch"
      ]
    },
    {
      "cell_type": "markdown",
      "metadata": {
        "id": "ykAcBoAeWKX6"
      },
      "source": [
        "## Tensor"
      ]
    },
    {
      "cell_type": "code",
      "source": [
        "scaler = torch.tensor(3.14159)\n",
        "vector = torch.tensor([1,1,3])\n",
        "matrix = torch.ones((3,4),dtype=torch.float)\n",
        "tensor = torch.randn((2,3,4),dtype=torch.float)\n",
        "print(scalar)\n",
        "print(vector)\n",
        "print(matrix)\n",
        "print(tensor)"
      ],
      "metadata": {
        "id": "41_7kEwTccXG",
        "outputId": "04f4b37e-6636-4952-98fd-a4072715b737",
        "colab": {
          "base_uri": "https://localhost:8080/"
        }
      },
      "execution_count": null,
      "outputs": [
        {
          "output_type": "stream",
          "name": "stdout",
          "text": [
            "tensor(3.1416)\n",
            "tensor([1, 1, 3])\n",
            "tensor([[1., 1., 1., 1.],\n",
            "        [1., 1., 1., 1.],\n",
            "        [1., 1., 1., 1.]])\n",
            "tensor([[[ 1.1689, -1.3117,  0.3259,  0.3937],\n",
            "         [-1.3630, -0.4384, -0.9195, -0.9792],\n",
            "         [ 0.2752, -1.5555, -1.0309, -0.5434]],\n",
            "\n",
            "        [[ 0.4722, -0.8562,  1.3511, -0.4113],\n",
            "         [-0.4676,  0.3883,  0.2850, -0.8287],\n",
            "         [-0.0918, -0.6872, -0.8170, -1.7830]]])\n"
          ]
        }
      ]
    },
    {
      "cell_type": "code",
      "execution_count": null,
      "metadata": {
        "id": "60-qL-_4WKX6",
        "outputId": "292e6e75-be2e-4573-fae5-e1de075d9ec0",
        "colab": {
          "base_uri": "https://localhost:8080/"
        }
      },
      "outputs": [
        {
          "output_type": "stream",
          "name": "stdout",
          "text": [
            "tensor(3.1416)\n",
            "tensor([1, 2, 3])\n",
            "tensor([[1., 1., 1.],\n",
            "        [1., 1., 1.]])\n",
            "tensor([[[-1.1706,  1.0474,  0.0061,  0.6957],\n",
            "         [ 0.3740, -0.0105, -0.8315,  0.3389],\n",
            "         [ 0.4663,  0.3030, -0.4577,  0.3075]],\n",
            "\n",
            "        [[-0.1014,  0.2153,  0.4479,  0.2402],\n",
            "         [-0.0814,  0.5532,  1.1372,  1.0514],\n",
            "         [-0.1191,  0.3382, -2.2494,  0.7508]]])\n"
          ]
        }
      ],
      "source": [
        "scalar = torch.tensor(3.14159)\n",
        "vector = torch.tensor([1, 2, 3])\n",
        "matrix = torch.ones((2, 3), dtype=torch.float)\n",
        "tensor = torch.randn((2, 3, 4), dtype=torch.float)\n",
        "\n",
        "print(scalar)\n",
        "print(vector)\n",
        "print(matrix)\n",
        "print(tensor)"
      ]
    },
    {
      "cell_type": "code",
      "execution_count": null,
      "metadata": {
        "id": "awzYl3_cWKX6",
        "outputId": "d7cb0602-3e69-4025-d82c-e7fd7629d0f9",
        "colab": {
          "base_uri": "https://localhost:8080/"
        }
      },
      "outputs": [
        {
          "output_type": "stream",
          "name": "stdout",
          "text": [
            "torch.Size([2, 3, 4]) torch.Size([2, 3, 4])\n"
          ]
        }
      ],
      "source": [
        "print(tensor.size(), tensor.shape)"
      ]
    },
    {
      "cell_type": "code",
      "execution_count": null,
      "metadata": {
        "id": "NjsXNjSuWKX7",
        "outputId": "2b478f2c-b125-4395-9065-f7a6314c0e66",
        "colab": {
          "base_uri": "https://localhost:8080/"
        }
      },
      "outputs": [
        {
          "output_type": "stream",
          "name": "stdout",
          "text": [
            "torch.Size([]) torch.Size([])\n"
          ]
        }
      ],
      "source": [
        "print(scalar.size(), scalar.shape)"
      ]
    },
    {
      "cell_type": "code",
      "execution_count": null,
      "metadata": {
        "id": "Qo8WFM_CWKX7",
        "outputId": "d701f6c6-2549-459a-f846-937f6ac3ad3a",
        "colab": {
          "base_uri": "https://localhost:8080/"
        }
      },
      "outputs": [
        {
          "output_type": "stream",
          "name": "stdout",
          "text": [
            "tensor([[1., 2., 1.],\n",
            "        [1., 1., 1.]])\n",
            "tensor([[1., 2., 1., 1., 1., 1.]])\n"
          ]
        }
      ],
      "source": [
        "# We get a tensor with a different shape but it still is\n",
        "# the SAME tensor\n",
        "same_matrix = matrix.view(1, 6)\n",
        "# If we change one of its elements...\n",
        "same_matrix[0, 1] = 2.\n",
        "# It changes both variables: matrix and same_matrix\n",
        "print(matrix)\n",
        "print(same_matrix)"
      ]
    },
    {
      "cell_type": "code",
      "source": [
        "different_matrix = matrix.new_tensor(matrix.view(1,6))\n",
        "\n",
        "different_matrix[0,1] = 3.\n"
      ],
      "metadata": {
        "id": "oBXhCPI2dRUr",
        "outputId": "84d757a0-b20e-46e8-b7b6-0069bffe5334",
        "colab": {
          "base_uri": "https://localhost:8080/"
        }
      },
      "execution_count": null,
      "outputs": [
        {
          "output_type": "stream",
          "name": "stderr",
          "text": [
            "/usr/local/lib/python3.7/dist-packages/ipykernel_launcher.py:1: UserWarning: To copy construct from a tensor, it is recommended to use sourceTensor.clone().detach() or sourceTensor.clone().detach().requires_grad_(True), rather than tensor.new_tensor(sourceTensor).\n",
            "  \"\"\"Entry point for launching an IPython kernel.\n"
          ]
        }
      ]
    },
    {
      "cell_type": "code",
      "execution_count": null,
      "metadata": {
        "id": "pbb1PhDgWKX7",
        "outputId": "aebe2702-57fe-4c24-8df5-9bbea9f13f4a"
      },
      "outputs": [
        {
          "name": "stdout",
          "output_type": "stream",
          "text": [
            "tensor([[1., 2., 1.],\n",
            "        [1., 1., 1.]])\n",
            "tensor([[1., 3., 1., 1., 1., 1.]])\n"
          ]
        },
        {
          "name": "stderr",
          "output_type": "stream",
          "text": [
            "/home/dvgodoy/anaconda3/envs/pytorch/lib/python3.7/site-packages/ipykernel_launcher.py:2: UserWarning: To copy construct from a tensor, it is recommended to use sourceTensor.clone().detach() or sourceTensor.clone().detach().requires_grad_(True), rather than tensor.new_tensor(sourceTensor).\n",
            "  \n"
          ]
        }
      ],
      "source": [
        "# We can use \"new_tensor\" method to REALLY copy it into a new one\n",
        "different_matrix = matrix.new_tensor(matrix.view(1, 6))\n",
        "# Now, if we change one of its elements...\n",
        "different_matrix[0, 1] = 3.\n",
        "# The original tensor (matrix) is left untouched!\n",
        "# But we get a \"warning\" from PyTorch telling us \n",
        "# to use \"clone()\" instead!\n",
        "print(matrix)\n",
        "print(different_matrix)"
      ]
    },
    {
      "cell_type": "code",
      "execution_count": null,
      "metadata": {
        "id": "SDP0-aSOWKX7",
        "outputId": "41579aac-4b8b-4ce3-fe2e-63ad35f3f46f"
      },
      "outputs": [
        {
          "name": "stdout",
          "output_type": "stream",
          "text": [
            "tensor([[1., 2., 1.],\n",
            "        [1., 1., 1.]])\n",
            "tensor([[1., 4., 1., 1., 1., 1.]])\n"
          ]
        }
      ],
      "source": [
        "# Lets follow PyTorch's suggestion and use \"clone\" method\n",
        "another_matrix = matrix.view(1, 6).clone().detach()\n",
        "# Again, if we change one of its elements...\n",
        "another_matrix[0, 1] = 4.\n",
        "# The original tensor (matrix) is left untouched!\n",
        "print(matrix)\n",
        "print(another_matrix)"
      ]
    },
    {
      "cell_type": "markdown",
      "metadata": {
        "id": "GTgAYt03WKX7"
      },
      "source": [
        "## Loading Data, Devices and CUDA"
      ]
    },
    {
      "cell_type": "code",
      "source": [
        "#auhor: Christina\n",
        "x_train_tensor = torch.as_tensor(x_train)\n",
        "x_train.dtype,x_train_tensor.dtype"
      ],
      "metadata": {
        "id": "3HywRIMYd24w",
        "outputId": "5b820382-d409-43d8-c479-9d9110e3a0bd",
        "colab": {
          "base_uri": "https://localhost:8080/"
        }
      },
      "execution_count": null,
      "outputs": [
        {
          "output_type": "execute_result",
          "data": {
            "text/plain": [
              "(dtype('float64'), torch.float64)"
            ]
          },
          "metadata": {},
          "execution_count": 9
        }
      ]
    },
    {
      "cell_type": "code",
      "execution_count": null,
      "metadata": {
        "id": "700vTPBpWKX7",
        "outputId": "de864ee7-7144-4a06-c9e7-ca1947be2208",
        "colab": {
          "base_uri": "https://localhost:8080/"
        }
      },
      "outputs": [
        {
          "output_type": "execute_result",
          "data": {
            "text/plain": [
              "(dtype('float64'), torch.float64)"
            ]
          },
          "metadata": {},
          "execution_count": 10
        }
      ],
      "source": [
        "x_train_tensor = torch.as_tensor(x_train)\n",
        "x_train.dtype, x_train_tensor.dtype"
      ]
    },
    {
      "cell_type": "code",
      "execution_count": null,
      "metadata": {
        "id": "3kw1QtcjWKX7",
        "outputId": "15f392b8-c715-4d31-b361-a379d6374b64"
      },
      "outputs": [
        {
          "data": {
            "text/plain": [
              "torch.float32"
            ]
          },
          "execution_count": 22,
          "metadata": {},
          "output_type": "execute_result"
        }
      ],
      "source": [
        "float_tensor = x_train_tensor.float()\n",
        "float_tensor.dtype"
      ]
    },
    {
      "cell_type": "code",
      "execution_count": null,
      "metadata": {
        "id": "CSY4EjASWKX8",
        "outputId": "d60b7aa5-d575-4b26-a87e-025596db071b"
      },
      "outputs": [
        {
          "data": {
            "text/plain": [
              "tensor([1, 0, 3])"
            ]
          },
          "execution_count": 23,
          "metadata": {},
          "output_type": "execute_result"
        }
      ],
      "source": [
        "dummy_array = np.array([1, 2, 3])\n",
        "dummy_tensor = torch.as_tensor(dummy_array)\n",
        "# Modifies the numpy array\n",
        "dummy_array[1] = 0\n",
        "# Tensor gets modified too...\n",
        "dummy_tensor"
      ]
    },
    {
      "cell_type": "code",
      "execution_count": null,
      "metadata": {
        "id": "bhK0TMf7WKX8",
        "outputId": "edc30089-e9c6-4ca1-f3a6-3d8cfec47580"
      },
      "outputs": [
        {
          "data": {
            "text/plain": [
              "array([1, 0, 3])"
            ]
          },
          "execution_count": 24,
          "metadata": {},
          "output_type": "execute_result"
        }
      ],
      "source": [
        "dummy_tensor.numpy()"
      ]
    },
    {
      "cell_type": "markdown",
      "metadata": {
        "id": "4WFpBHpPWKX8"
      },
      "source": [
        "### Defining your device"
      ]
    },
    {
      "cell_type": "code",
      "execution_count": null,
      "metadata": {
        "id": "W3vRKDckWKX8"
      },
      "outputs": [],
      "source": [
        "device = 'cuda' if torch.cuda.is_available() else 'cpu'"
      ]
    },
    {
      "cell_type": "code",
      "source": [
        "#auhor: Christina\n",
        "from torch.cuda import get_device_name\n",
        "n_cudas = torch.cuda.device_count()\n",
        "for i in range(n_cudas):\n",
        "  print(torch.cuda.get_device_name(i))"
      ],
      "metadata": {
        "id": "vlbBC94ZfCOl"
      },
      "execution_count": null,
      "outputs": []
    },
    {
      "cell_type": "code",
      "execution_count": null,
      "metadata": {
        "id": "4dEtYIinWKX8"
      },
      "outputs": [],
      "source": [
        "n_cudas = torch.cuda.device_count()\n",
        "for i in range(n_cudas):\n",
        "    print(torch.cuda.get_device_name(i))"
      ]
    },
    {
      "cell_type": "code",
      "execution_count": null,
      "metadata": {
        "id": "W3QUqRweWKX8",
        "outputId": "9a570106-6961-4cd6-9193-e373a21d514a",
        "colab": {
          "base_uri": "https://localhost:8080/"
        }
      },
      "outputs": [
        {
          "output_type": "execute_result",
          "data": {
            "text/plain": [
              "tensor([0.5248], dtype=torch.float64)"
            ]
          },
          "metadata": {},
          "execution_count": 56
        }
      ],
      "source": [
        "gpu_tensor = torch.as_tensor(x_train).to(device)\n",
        "gpu_tensor[0]"
      ]
    },
    {
      "cell_type": "markdown",
      "metadata": {
        "id": "3dzQJt6DWKX8"
      },
      "source": [
        "### Cell 1.3"
      ]
    },
    {
      "cell_type": "code",
      "source": [
        "#auhor: Christina\n",
        "device = 'cuda' if torch.cuda.is_available() else 'cpu'\n",
        "\n",
        "x_train_tensor = torch.as_tensor(x_train).float().to(device)\n",
        "y_train_tensor = torch.as_tensor(y_train).float().to(device)"
      ],
      "metadata": {
        "id": "QO0jHLLdfkiS"
      },
      "execution_count": null,
      "outputs": []
    },
    {
      "cell_type": "code",
      "execution_count": null,
      "metadata": {
        "scrolled": true,
        "id": "2hF1JWrPWKX9"
      },
      "outputs": [],
      "source": [
        "device = 'cuda' if torch.cuda.is_available() else 'cpu'\n",
        "\n",
        "# Our data was in Numpy arrays, but we need to transform them \n",
        "# into PyTorch's Tensors and then we send them to the \n",
        "# chosen device\n",
        "x_train_tensor = torch.as_tensor(x_train).float().to(device)\n",
        "y_train_tensor = torch.as_tensor(y_train).float().to(device)"
      ]
    },
    {
      "cell_type": "code",
      "execution_count": null,
      "metadata": {
        "id": "o3MVFgP6WKX9",
        "outputId": "72f2710b-11b2-47a7-d804-26d365514b34",
        "colab": {
          "base_uri": "https://localhost:8080/"
        }
      },
      "outputs": [
        {
          "output_type": "stream",
          "name": "stdout",
          "text": [
            "<class 'numpy.ndarray'> <class 'torch.Tensor'> torch.FloatTensor\n"
          ]
        }
      ],
      "source": [
        "# Here we can see the difference - notice that .type() is more\n",
        "# useful since it also tells us WHERE the tensor is (device)\n",
        "print(type(x_train), type(x_train_tensor), x_train_tensor.type())"
      ]
    },
    {
      "cell_type": "code",
      "execution_count": null,
      "metadata": {
        "id": "snT6RcaIWKX9"
      },
      "outputs": [],
      "source": [
        "back_to_numpy = x_train_tensor.numpy()"
      ]
    },
    {
      "cell_type": "code",
      "execution_count": null,
      "metadata": {
        "id": "NDuRqbuaWKX9"
      },
      "outputs": [],
      "source": [
        "back_to_numpy = x_train_tensor.cpu().numpy()"
      ]
    },
    {
      "cell_type": "markdown",
      "metadata": {
        "id": "nJWj3ei7WKX9"
      },
      "source": [
        "## Creating Parameters"
      ]
    },
    {
      "cell_type": "code",
      "source": [
        "#auhor: Christina\n",
        "torch.manual_seed(42)\n",
        "b = torch.randn(1,requires_grad=True,dtype=torch.float)\n",
        "w = torch.randn(1,requires_grad=True,dtype=torch.float)\n",
        "\n",
        "b,w"
      ],
      "metadata": {
        "id": "bBZbjlhkgSzq",
        "outputId": "c0463f2e-1d6e-4e08-855c-b34ea99992c9",
        "colab": {
          "base_uri": "https://localhost:8080/"
        }
      },
      "execution_count": null,
      "outputs": [
        {
          "output_type": "execute_result",
          "data": {
            "text/plain": [
              "(tensor([0.3367], requires_grad=True), tensor([0.1288], requires_grad=True))"
            ]
          },
          "metadata": {},
          "execution_count": 61
        }
      ]
    },
    {
      "cell_type": "code",
      "execution_count": null,
      "metadata": {
        "id": "Fd4YcZBeWKX9",
        "outputId": "ae87295a-89a8-44df-8cb6-bacf610c7f3c"
      },
      "outputs": [
        {
          "name": "stdout",
          "output_type": "stream",
          "text": [
            "tensor([0.3367], requires_grad=True) tensor([0.1288], requires_grad=True)\n"
          ]
        }
      ],
      "source": [
        "# FIRST\n",
        "# Initializes parameters \"b\" and \"w\" randomly, ALMOST as we\n",
        "# did in Numpy since we want to apply gradient descent on\n",
        "# these parameters we need to set REQUIRES_GRAD = TRUE\n",
        "torch.manual_seed(42)\n",
        "b = torch.randn(1, requires_grad=True, dtype=torch.float)\n",
        "w = torch.randn(1, requires_grad=True, dtype=torch.float)\n",
        "print(b, w)"
      ]
    },
    {
      "cell_type": "code",
      "execution_count": null,
      "metadata": {
        "id": "CsBuGvwTWKX-",
        "outputId": "7fd1fb9d-a421-48ee-fb1b-0edd4f96ad84",
        "colab": {
          "base_uri": "https://localhost:8080/"
        }
      },
      "outputs": [
        {
          "output_type": "stream",
          "name": "stdout",
          "text": [
            "tensor([0.3367], requires_grad=True) tensor([0.1288], requires_grad=True)\n"
          ]
        }
      ],
      "source": [
        "# SECOND\n",
        "# But what if we want to run it on a GPU? We could just\n",
        "# send them to device, right?\n",
        "torch.manual_seed(42)\n",
        "b = torch.randn(1, requires_grad=True, dtype=torch.float).to(device)\n",
        "w = torch.randn(1, requires_grad=True, dtype=torch.float).to(device)\n",
        "print(b, w)\n",
        "# Sorry, but NO! The to(device) \"shadows\" the gradient..."
      ]
    },
    {
      "cell_type": "code",
      "execution_count": null,
      "metadata": {
        "id": "6q4Biq3BWKX-",
        "outputId": "91b391df-2f7f-48dd-8e13-2184969f2165",
        "colab": {
          "base_uri": "https://localhost:8080/"
        }
      },
      "outputs": [
        {
          "output_type": "stream",
          "name": "stdout",
          "text": [
            "tensor([0.3367], requires_grad=True) tensor([0.1288], requires_grad=True)\n"
          ]
        }
      ],
      "source": [
        "# THIRD\n",
        "# We can either create regular tensors and send them to\n",
        "# the device (as we did with our data)\n",
        "torch.manual_seed(42)\n",
        "b = torch.randn(1, dtype=torch.float).to(device)\n",
        "w = torch.randn(1, dtype=torch.float).to(device)\n",
        "# and THEN set them as requiring gradients...\n",
        "b.requires_grad_()\n",
        "w.requires_grad_()\n",
        "print(b, w)"
      ]
    },
    {
      "cell_type": "markdown",
      "metadata": {
        "id": "pRYqvo8pWKX-"
      },
      "source": [
        "### Cell 1.4"
      ]
    },
    {
      "cell_type": "code",
      "execution_count": null,
      "metadata": {
        "id": "-VWCE3ZuWKX-",
        "outputId": "ab6195f5-b715-4df9-a22d-d5436eebb40b",
        "colab": {
          "base_uri": "https://localhost:8080/"
        }
      },
      "outputs": [
        {
          "output_type": "stream",
          "name": "stdout",
          "text": [
            "tensor([0.3367], requires_grad=True) tensor([0.1288], requires_grad=True)\n"
          ]
        }
      ],
      "source": [
        "# FINAL\n",
        "# We can specify the device at the moment of creation\n",
        "# RECOMMENDED!\n",
        "\n",
        "# Step 0 - Initializes parameters \"b\" and \"w\" randomly\n",
        "torch.manual_seed(42)\n",
        "b = torch.randn(1, requires_grad=True, \\\n",
        "                dtype=torch.float, device=device)\n",
        "w = torch.randn(1, requires_grad=True, \\\n",
        "                dtype=torch.float, device=device)\n",
        "print(b, w)"
      ]
    },
    {
      "cell_type": "markdown",
      "metadata": {
        "id": "c2v7NGM6WKX-"
      },
      "source": [
        "# Autograd"
      ]
    },
    {
      "cell_type": "markdown",
      "metadata": {
        "id": "m2oBsIdDWKX-"
      },
      "source": [
        "## backward"
      ]
    },
    {
      "cell_type": "markdown",
      "metadata": {
        "id": "pcbNYP9KWKX-"
      },
      "source": [
        "### Cell 1.5"
      ]
    },
    {
      "cell_type": "code",
      "execution_count": null,
      "metadata": {
        "id": "3xBhvrk3WKX_"
      },
      "outputs": [],
      "source": [
        "# Step 1 - Computes our model's predicted output - forward pass\n",
        "yhat = b + w * x_train_tensor\n",
        "\n",
        "# Step 2 - Computes the loss\n",
        "# We are using ALL data points, so this is BATCH gradient descent\n",
        "# How wrong is our model? That's the error! \n",
        "error = (yhat - y_train_tensor)\n",
        "# It is a regression, so it computes mean squared error (MSE)\n",
        "loss = (error ** 2).mean()\n",
        "\n",
        "# Step 3 - Computes gradients for both \"b\" and \"w\" parameters\n",
        "# No more manual computation of gradients! \n",
        "# b_grad = 2 * error.mean()\n",
        "# w_grad = 2 * (x_tensor * error).mean()\n",
        "loss.backward()"
      ]
    },
    {
      "cell_type": "code",
      "execution_count": null,
      "metadata": {
        "id": "Lz6EKQFdWKX_",
        "outputId": "ff2c4adf-5fb8-44aa-dfc9-d9f13169a7f0"
      },
      "outputs": [
        {
          "name": "stdout",
          "output_type": "stream",
          "text": [
            "True True True True\n",
            "False False\n"
          ]
        }
      ],
      "source": [
        "print(error.requires_grad, yhat.requires_grad, \\\n",
        "      b.requires_grad, w.requires_grad)\n",
        "print(y_train_tensor.requires_grad, x_train_tensor.requires_grad)"
      ]
    },
    {
      "cell_type": "markdown",
      "metadata": {
        "id": "VOFrq5BQWKX_"
      },
      "source": [
        "## grad"
      ]
    },
    {
      "cell_type": "code",
      "execution_count": null,
      "metadata": {
        "id": "wuMDvJXbWKX_",
        "outputId": "c52f8cd5-fb75-417c-e81a-1f6c7e03b4a9"
      },
      "outputs": [
        {
          "name": "stdout",
          "output_type": "stream",
          "text": [
            "tensor([-3.1125]) tensor([-1.8156])\n"
          ]
        }
      ],
      "source": [
        "print(b.grad, w.grad)"
      ]
    },
    {
      "cell_type": "code",
      "execution_count": null,
      "metadata": {
        "id": "zD-4NdXYWKX_"
      },
      "outputs": [],
      "source": [
        "# Just run the two cells above one more time "
      ]
    },
    {
      "cell_type": "markdown",
      "metadata": {
        "id": "UfwWxiDNWKX_"
      },
      "source": [
        "## zero_"
      ]
    },
    {
      "cell_type": "code",
      "execution_count": null,
      "metadata": {
        "id": "RN6D8kgEWKX_",
        "outputId": "1ab27db2-943e-4708-a298-7ee0a96f0da1"
      },
      "outputs": [
        {
          "data": {
            "text/plain": [
              "(tensor([0.]), tensor([0.]))"
            ]
          },
          "execution_count": 39,
          "metadata": {},
          "output_type": "execute_result"
        }
      ],
      "source": [
        "# This code will be placed *after* Step 4\n",
        "# (updating the parameters)\n",
        "b.grad.zero_(), w.grad.zero_()"
      ]
    },
    {
      "cell_type": "markdown",
      "metadata": {
        "id": "m9pFZnOMWKX_"
      },
      "source": [
        "## Updating Parameters"
      ]
    },
    {
      "cell_type": "markdown",
      "metadata": {
        "id": "PJDgJz_uWKX_"
      },
      "source": [
        "### Cell 1.6"
      ]
    },
    {
      "cell_type": "code",
      "execution_count": null,
      "metadata": {
        "id": "jhI1yBr9WKX_",
        "outputId": "36613f28-91cb-42ac-b690-de4291689305"
      },
      "outputs": [
        {
          "name": "stdout",
          "output_type": "stream",
          "text": [
            "tensor([1.0235], requires_grad=True) tensor([1.9690], requires_grad=True)\n"
          ]
        }
      ],
      "source": [
        "# Sets learning rate - this is \"eta\" ~ the \"n\"-like Greek letter\n",
        "lr = 0.1\n",
        "\n",
        "# Step 0 - Initializes parameters \"b\" and \"w\" randomly\n",
        "torch.manual_seed(42)\n",
        "b = torch.randn(1, requires_grad=True, \\\n",
        "                dtype=torch.float, device=device)\n",
        "w = torch.randn(1, requires_grad=True, \\\n",
        "                dtype=torch.float, device=device)\n",
        "\n",
        "# Defines number of epochs\n",
        "n_epochs = 1000\n",
        "\n",
        "for epoch in range(n_epochs):\n",
        "    # Step 1 - Computes model's predicted output - forward pass\n",
        "    yhat = b + w * x_train_tensor\n",
        "    \n",
        "    # Step 2 - Computes the loss\n",
        "    # We are using ALL data points, so this is BATCH gradient\n",
        "    # descent. How wrong is our model? That's the error!\n",
        "    error = (yhat - y_train_tensor)\n",
        "    # It is a regression, so it computes mean squared error (MSE)\n",
        "    loss = (error ** 2).mean()\n",
        "\n",
        "    # Step 3 - Computes gradients for both \"b\" and \"w\" parameters\n",
        "    # No more manual computation of gradients! \n",
        "    # b_grad = 2 * error.mean()\n",
        "    # w_grad = 2 * (x_tensor * error).mean()   \n",
        "    # We just tell PyTorch to work its way BACKWARDS \n",
        "    # from the specified loss!\n",
        "    loss.backward()\n",
        "    \n",
        "    # Step 4 - Updates parameters using gradients and \n",
        "    # the learning rate. But not so fast...\n",
        "    # FIRST ATTEMPT - just using the same code as before\n",
        "    # AttributeError: 'NoneType' object has no attribute 'zero_'\n",
        "    # b = b - lr * b.grad\n",
        "    # w = w - lr * w.grad\n",
        "    # print(b)\n",
        "\n",
        "    # SECOND ATTEMPT - using in-place Python assigment\n",
        "    # RuntimeError: a leaf Variable that requires grad\n",
        "    # has been used in an in-place operation.\n",
        "    # b -= lr * b.grad\n",
        "    # w -= lr * w.grad        \n",
        "    \n",
        "    # THIRD ATTEMPT - NO_GRAD for the win!\n",
        "    # We need to use NO_GRAD to keep the update out of\n",
        "    # the gradient computation. Why is that? It boils \n",
        "    # down to the DYNAMIC GRAPH that PyTorch uses...\n",
        "    with torch.no_grad():\n",
        "        b -= lr * b.grad\n",
        "        w -= lr * w.grad\n",
        "    \n",
        "    # PyTorch is \"clingy\" to its computed gradients, we\n",
        "    # need to tell it to let it go...\n",
        "    b.grad.zero_()\n",
        "    w.grad.zero_()\n",
        "    \n",
        "print(b, w)"
      ]
    },
    {
      "cell_type": "markdown",
      "metadata": {
        "id": "bhKszEouWKYA"
      },
      "source": [
        "## no_grad"
      ]
    },
    {
      "cell_type": "code",
      "execution_count": null,
      "metadata": {
        "id": "h6IlqXuhWKYA"
      },
      "outputs": [],
      "source": [
        "# This is what we used in the THIRD ATTEMPT..."
      ]
    },
    {
      "cell_type": "markdown",
      "metadata": {
        "id": "FJReeovZWKYA"
      },
      "source": [
        "# Dynamic Computation Graph"
      ]
    },
    {
      "cell_type": "code",
      "source": [
        "#auhor: Christina\n",
        "\n",
        "torch.manual_seed(42)\n",
        "\n",
        "b = torch.randn(1,requires_grad=True, \\\n",
        "                dtype=torch.float, device = device)\n",
        "w = torch.randn(1,requires_grad=True,\\\n",
        "                dtype=torch.float,device=device)"
      ],
      "metadata": {
        "id": "vaBb5aVDkf3V"
      },
      "execution_count": null,
      "outputs": []
    },
    {
      "cell_type": "code",
      "execution_count": null,
      "metadata": {
        "id": "O21eVetgWKYA",
        "outputId": "2411ed62-5891-48e4-b528-42b956a4e061"
      },
      "outputs": [
        {
          "data": {
            "image/svg+xml": [
              "<?xml version=\"1.0\" encoding=\"UTF-8\" standalone=\"no\"?>\n",
              "<!DOCTYPE svg PUBLIC \"-//W3C//DTD SVG 1.1//EN\"\n",
              " \"http://www.w3.org/Graphics/SVG/1.1/DTD/svg11.dtd\">\n",
              "<!-- Generated by graphviz version 2.40.1 (20161225.0304)\n",
              " -->\n",
              "<!-- Title: %3 Pages: 1 -->\n",
              "<svg width=\"172pt\" height=\"171pt\"\n",
              " viewBox=\"0.00 0.00 171.50 171.00\" xmlns=\"http://www.w3.org/2000/svg\" xmlns:xlink=\"http://www.w3.org/1999/xlink\">\n",
              "<g id=\"graph0\" class=\"graph\" transform=\"scale(1 1) rotate(0) translate(4 167)\">\n",
              "<title>%3</title>\n",
              "<polygon fill=\"#ffffff\" stroke=\"transparent\" points=\"-4,4 -4,-167 167.5,-167 167.5,4 -4,4\"/>\n",
              "<!-- 139884641992400 -->\n",
              "<g id=\"node1\" class=\"node\">\n",
              "<title>139884641992400</title>\n",
              "<polygon fill=\"#caff70\" stroke=\"#000000\" points=\"118,-21 26,-21 26,0 118,0 118,-21\"/>\n",
              "<text text-anchor=\"middle\" x=\"72\" y=\"-7.4\" font-family=\"Times,serif\" font-size=\"12.00\" fill=\"#000000\">AddBackward0</text>\n",
              "</g>\n",
              "<!-- 139884641990928 -->\n",
              "<g id=\"node2\" class=\"node\">\n",
              "<title>139884641990928</title>\n",
              "<polygon fill=\"#add8e6\" stroke=\"#000000\" points=\"54,-92 0,-92 0,-57 54,-57 54,-92\"/>\n",
              "<text text-anchor=\"middle\" x=\"27\" y=\"-64.4\" font-family=\"Times,serif\" font-size=\"12.00\" fill=\"#000000\"> (1)</text>\n",
              "</g>\n",
              "<!-- 139884641990928&#45;&gt;139884641992400 -->\n",
              "<g id=\"edge1\" class=\"edge\">\n",
              "<title>139884641990928&#45;&gt;139884641992400</title>\n",
              "<path fill=\"none\" stroke=\"#000000\" d=\"M39.535,-56.6724C45.4798,-48.2176 52.5878,-38.1085 58.6352,-29.5078\"/>\n",
              "<polygon fill=\"#000000\" stroke=\"#000000\" points=\"61.5714,-31.4169 64.4601,-21.2234 55.8452,-27.3906 61.5714,-31.4169\"/>\n",
              "</g>\n",
              "<!-- 139884642044240 -->\n",
              "<g id=\"node3\" class=\"node\">\n",
              "<title>139884642044240</title>\n",
              "<polygon fill=\"#d3d3d3\" stroke=\"#000000\" points=\"163.5,-85 72.5,-85 72.5,-64 163.5,-64 163.5,-85\"/>\n",
              "<text text-anchor=\"middle\" x=\"118\" y=\"-71.4\" font-family=\"Times,serif\" font-size=\"12.00\" fill=\"#000000\">MulBackward0</text>\n",
              "</g>\n",
              "<!-- 139884642044240&#45;&gt;139884641992400 -->\n",
              "<g id=\"edge2\" class=\"edge\">\n",
              "<title>139884642044240&#45;&gt;139884641992400</title>\n",
              "<path fill=\"none\" stroke=\"#000000\" d=\"M110.404,-63.9317C103.7191,-54.6309 93.821,-40.8597 85.7479,-29.6276\"/>\n",
              "<polygon fill=\"#000000\" stroke=\"#000000\" points=\"88.4395,-27.3753 79.761,-21.2979 82.7553,-31.4608 88.4395,-27.3753\"/>\n",
              "</g>\n",
              "<!-- 139884642045712 -->\n",
              "<g id=\"node4\" class=\"node\">\n",
              "<title>139884642045712</title>\n",
              "<polygon fill=\"#add8e6\" stroke=\"#000000\" points=\"145,-163 91,-163 91,-128 145,-128 145,-163\"/>\n",
              "<text text-anchor=\"middle\" x=\"118\" y=\"-135.4\" font-family=\"Times,serif\" font-size=\"12.00\" fill=\"#000000\"> (1)</text>\n",
              "</g>\n",
              "<!-- 139884642045712&#45;&gt;139884642044240 -->\n",
              "<g id=\"edge3\" class=\"edge\">\n",
              "<title>139884642045712&#45;&gt;139884642044240</title>\n",
              "<path fill=\"none\" stroke=\"#000000\" d=\"M118,-127.9494C118,-118.058 118,-105.6435 118,-95.2693\"/>\n",
              "<polygon fill=\"#000000\" stroke=\"#000000\" points=\"121.5001,-95.0288 118,-85.0288 114.5001,-95.0289 121.5001,-95.0288\"/>\n",
              "</g>\n",
              "</g>\n",
              "</svg>\n"
            ],
            "text/plain": [
              "<graphviz.dot.Digraph at 0x7f396e653c90>"
            ]
          },
          "execution_count": 42,
          "metadata": {},
          "output_type": "execute_result"
        }
      ],
      "source": [
        "# Step 0 - Initializes parameters \"b\" and \"w\" randomly\n",
        "torch.manual_seed(42)\n",
        "b = torch.randn(1, requires_grad=True, \\\n",
        "                dtype=torch.float, device=device)\n",
        "w = torch.randn(1, requires_grad=True, \\\n",
        "                dtype=torch.float, device=device)\n",
        "\n",
        "# Step 1 - Computes our model's predicted output - forward pass\n",
        "yhat = b + w * x_train_tensor\n",
        "\n",
        "# Step 2 - Computes the loss\n",
        "# We are using ALL data points, so this is BATCH gradient\n",
        "# descent. How wrong is our model? That's the error! \n",
        "error = (yhat - y_train_tensor)\n",
        "# It is a regression, so it computes mean squared error (MSE)\n",
        "loss = (error ** 2).mean()\n",
        "\n",
        "# We can try plotting the graph for any python variable: \n",
        "# yhat, error, loss...\n",
        "make_dot(yhat)"
      ]
    },
    {
      "cell_type": "code",
      "execution_count": null,
      "metadata": {
        "id": "THRygcT9WKYA",
        "outputId": "53dbdcdd-2a68-4173-cc3a-e1d2a1b2828e"
      },
      "outputs": [
        {
          "data": {
            "image/svg+xml": [
              "<?xml version=\"1.0\" encoding=\"UTF-8\" standalone=\"no\"?>\n",
              "<!DOCTYPE svg PUBLIC \"-//W3C//DTD SVG 1.1//EN\"\n",
              " \"http://www.w3.org/Graphics/SVG/1.1/DTD/svg11.dtd\">\n",
              "<!-- Generated by graphviz version 2.40.1 (20161225.0304)\n",
              " -->\n",
              "<!-- Title: %3 Pages: 1 -->\n",
              "<svg width=\"100pt\" height=\"157pt\"\n",
              " viewBox=\"0.00 0.00 100.00 157.00\" xmlns=\"http://www.w3.org/2000/svg\" xmlns:xlink=\"http://www.w3.org/1999/xlink\">\n",
              "<g id=\"graph0\" class=\"graph\" transform=\"scale(1 1) rotate(0) translate(4 153)\">\n",
              "<title>%3</title>\n",
              "<polygon fill=\"#ffffff\" stroke=\"transparent\" points=\"-4,4 -4,-153 96,-153 96,4 -4,4\"/>\n",
              "<!-- 139884642045008 -->\n",
              "<g id=\"node1\" class=\"node\">\n",
              "<title>139884642045008</title>\n",
              "<polygon fill=\"#caff70\" stroke=\"#000000\" points=\"92,-21 0,-21 0,0 92,0 92,-21\"/>\n",
              "<text text-anchor=\"middle\" x=\"46\" y=\"-7.4\" font-family=\"Times,serif\" font-size=\"12.00\" fill=\"#000000\">AddBackward0</text>\n",
              "</g>\n",
              "<!-- 139884642045904 -->\n",
              "<g id=\"node2\" class=\"node\">\n",
              "<title>139884642045904</title>\n",
              "<polygon fill=\"#d3d3d3\" stroke=\"#000000\" points=\"91.5,-78 .5,-78 .5,-57 91.5,-57 91.5,-78\"/>\n",
              "<text text-anchor=\"middle\" x=\"46\" y=\"-64.4\" font-family=\"Times,serif\" font-size=\"12.00\" fill=\"#000000\">MulBackward0</text>\n",
              "</g>\n",
              "<!-- 139884642045904&#45;&gt;139884642045008 -->\n",
              "<g id=\"edge1\" class=\"edge\">\n",
              "<title>139884642045904&#45;&gt;139884642045008</title>\n",
              "<path fill=\"none\" stroke=\"#000000\" d=\"M46,-56.7787C46,-49.6134 46,-39.9517 46,-31.3097\"/>\n",
              "<polygon fill=\"#000000\" stroke=\"#000000\" points=\"49.5001,-31.1732 46,-21.1732 42.5001,-31.1732 49.5001,-31.1732\"/>\n",
              "</g>\n",
              "<!-- 139884642043536 -->\n",
              "<g id=\"node3\" class=\"node\">\n",
              "<title>139884642043536</title>\n",
              "<polygon fill=\"#add8e6\" stroke=\"#000000\" points=\"73,-149 19,-149 19,-114 73,-114 73,-149\"/>\n",
              "<text text-anchor=\"middle\" x=\"46\" y=\"-121.4\" font-family=\"Times,serif\" font-size=\"12.00\" fill=\"#000000\"> (1)</text>\n",
              "</g>\n",
              "<!-- 139884642043536&#45;&gt;139884642045904 -->\n",
              "<g id=\"edge2\" class=\"edge\">\n",
              "<title>139884642043536&#45;&gt;139884642045904</title>\n",
              "<path fill=\"none\" stroke=\"#000000\" d=\"M46,-113.6724C46,-105.8405 46,-96.5893 46,-88.4323\"/>\n",
              "<polygon fill=\"#000000\" stroke=\"#000000\" points=\"49.5001,-88.2234 46,-78.2234 42.5001,-88.2235 49.5001,-88.2234\"/>\n",
              "</g>\n",
              "</g>\n",
              "</svg>\n"
            ],
            "text/plain": [
              "<graphviz.dot.Digraph at 0x7f396e660c90>"
            ]
          },
          "execution_count": 43,
          "metadata": {},
          "output_type": "execute_result"
        }
      ],
      "source": [
        "b_nograd = torch.randn(1, requires_grad=False, \\\n",
        "                       dtype=torch.float, device=device)\n",
        "w = torch.randn(1, requires_grad=True, \\\n",
        "                dtype=torch.float, device=device)\n",
        "\n",
        "yhat = b_nograd + w * x_train_tensor\n",
        "\n",
        "make_dot(yhat)"
      ]
    },
    {
      "cell_type": "code",
      "execution_count": null,
      "metadata": {
        "id": "YT3sqV_UWKYA",
        "outputId": "6616a2bf-8563-47ac-bba3-fde980c13dda"
      },
      "outputs": [
        {
          "data": {
            "image/svg+xml": [
              "<?xml version=\"1.0\" encoding=\"UTF-8\" standalone=\"no\"?>\n",
              "<!DOCTYPE svg PUBLIC \"-//W3C//DTD SVG 1.1//EN\"\n",
              " \"http://www.w3.org/Graphics/SVG/1.1/DTD/svg11.dtd\">\n",
              "<!-- Generated by graphviz version 2.40.1 (20161225.0304)\n",
              " -->\n",
              "<!-- Title: %3 Pages: 1 -->\n",
              "<svg width=\"284pt\" height=\"399pt\"\n",
              " viewBox=\"0.00 0.00 284.00 399.00\" xmlns=\"http://www.w3.org/2000/svg\" xmlns:xlink=\"http://www.w3.org/1999/xlink\">\n",
              "<g id=\"graph0\" class=\"graph\" transform=\"scale(1 1) rotate(0) translate(4 395)\">\n",
              "<title>%3</title>\n",
              "<polygon fill=\"#ffffff\" stroke=\"transparent\" points=\"-4,4 -4,-395 280,-395 280,4 -4,4\"/>\n",
              "<!-- 139884642042768 -->\n",
              "<g id=\"node1\" class=\"node\">\n",
              "<title>139884642042768</title>\n",
              "<polygon fill=\"#caff70\" stroke=\"#000000\" points=\"215,-21 123,-21 123,0 215,0 215,-21\"/>\n",
              "<text text-anchor=\"middle\" x=\"169\" y=\"-7.4\" font-family=\"Times,serif\" font-size=\"12.00\" fill=\"#000000\">AddBackward0</text>\n",
              "</g>\n",
              "<!-- 139884642043728 -->\n",
              "<g id=\"node2\" class=\"node\">\n",
              "<title>139884642043728</title>\n",
              "<polygon fill=\"#d3d3d3\" stroke=\"#000000\" points=\"180,-78 82,-78 82,-57 180,-57 180,-78\"/>\n",
              "<text text-anchor=\"middle\" x=\"131\" y=\"-64.4\" font-family=\"Times,serif\" font-size=\"12.00\" fill=\"#000000\">MeanBackward0</text>\n",
              "</g>\n",
              "<!-- 139884642043728&#45;&gt;139884642042768 -->\n",
              "<g id=\"edge1\" class=\"edge\">\n",
              "<title>139884642043728&#45;&gt;139884642042768</title>\n",
              "<path fill=\"none\" stroke=\"#000000\" d=\"M138.1475,-56.7787C143.2429,-49.1357 150.2317,-38.6524 156.2694,-29.596\"/>\n",
              "<polygon fill=\"#000000\" stroke=\"#000000\" points=\"159.2497,-31.4352 161.8845,-21.1732 153.4253,-27.5522 159.2497,-31.4352\"/>\n",
              "</g>\n",
              "<!-- 139884640533776 -->\n",
              "<g id=\"node3\" class=\"node\">\n",
              "<title>139884640533776</title>\n",
              "<polygon fill=\"#d3d3d3\" stroke=\"#000000\" points=\"159.5,-135 66.5,-135 66.5,-114 159.5,-114 159.5,-135\"/>\n",
              "<text text-anchor=\"middle\" x=\"113\" y=\"-121.4\" font-family=\"Times,serif\" font-size=\"12.00\" fill=\"#000000\">PowBackward0</text>\n",
              "</g>\n",
              "<!-- 139884640533776&#45;&gt;139884642043728 -->\n",
              "<g id=\"edge2\" class=\"edge\">\n",
              "<title>139884640533776&#45;&gt;139884642043728</title>\n",
              "<path fill=\"none\" stroke=\"#000000\" d=\"M116.3857,-113.7787C118.6987,-106.4542 121.8354,-96.5211 124.61,-87.7352\"/>\n",
              "<polygon fill=\"#000000\" stroke=\"#000000\" points=\"127.9557,-88.763 127.6295,-78.1732 121.2806,-86.655 127.9557,-88.763\"/>\n",
              "</g>\n",
              "<!-- 139884640530576 -->\n",
              "<g id=\"node4\" class=\"node\">\n",
              "<title>139884640530576</title>\n",
              "<polygon fill=\"#d3d3d3\" stroke=\"#000000\" points=\"158,-192 68,-192 68,-171 158,-171 158,-192\"/>\n",
              "<text text-anchor=\"middle\" x=\"113\" y=\"-178.4\" font-family=\"Times,serif\" font-size=\"12.00\" fill=\"#000000\">SubBackward0</text>\n",
              "</g>\n",
              "<!-- 139884640530576&#45;&gt;139884640533776 -->\n",
              "<g id=\"edge3\" class=\"edge\">\n",
              "<title>139884640530576&#45;&gt;139884640533776</title>\n",
              "<path fill=\"none\" stroke=\"#000000\" d=\"M113,-170.7787C113,-163.6134 113,-153.9517 113,-145.3097\"/>\n",
              "<polygon fill=\"#000000\" stroke=\"#000000\" points=\"116.5001,-145.1732 113,-135.1732 109.5001,-145.1732 116.5001,-145.1732\"/>\n",
              "</g>\n",
              "<!-- 139884640803152 -->\n",
              "<g id=\"node5\" class=\"node\">\n",
              "<title>139884640803152</title>\n",
              "<polygon fill=\"#d3d3d3\" stroke=\"#000000\" points=\"159,-249 67,-249 67,-228 159,-228 159,-249\"/>\n",
              "<text text-anchor=\"middle\" x=\"113\" y=\"-235.4\" font-family=\"Times,serif\" font-size=\"12.00\" fill=\"#000000\">AddBackward0</text>\n",
              "</g>\n",
              "<!-- 139884640803152&#45;&gt;139884640530576 -->\n",
              "<g id=\"edge4\" class=\"edge\">\n",
              "<title>139884640803152&#45;&gt;139884640530576</title>\n",
              "<path fill=\"none\" stroke=\"#000000\" d=\"M113,-227.7787C113,-220.6134 113,-210.9517 113,-202.3097\"/>\n",
              "<polygon fill=\"#000000\" stroke=\"#000000\" points=\"116.5001,-202.1732 113,-192.1732 109.5001,-202.1732 116.5001,-202.1732\"/>\n",
              "</g>\n",
              "<!-- 139884640802320 -->\n",
              "<g id=\"node6\" class=\"node\">\n",
              "<title>139884640802320</title>\n",
              "<polygon fill=\"#add8e6\" stroke=\"#000000\" points=\"54,-320 0,-320 0,-285 54,-285 54,-320\"/>\n",
              "<text text-anchor=\"middle\" x=\"27\" y=\"-292.4\" font-family=\"Times,serif\" font-size=\"12.00\" fill=\"#000000\"> (1)</text>\n",
              "</g>\n",
              "<!-- 139884640802320&#45;&gt;139884640803152 -->\n",
              "<g id=\"edge5\" class=\"edge\">\n",
              "<title>139884640802320&#45;&gt;139884640803152</title>\n",
              "<path fill=\"none\" stroke=\"#000000\" d=\"M50.9558,-284.6724C63.3538,-275.446 78.3987,-264.2498 90.5683,-255.1934\"/>\n",
              "<polygon fill=\"#000000\" stroke=\"#000000\" points=\"92.9097,-257.8138 98.8425,-249.0358 88.7306,-252.1981 92.9097,-257.8138\"/>\n",
              "</g>\n",
              "<!-- 139884640801680 -->\n",
              "<g id=\"node7\" class=\"node\">\n",
              "<title>139884640801680</title>\n",
              "<polygon fill=\"#d3d3d3\" stroke=\"#000000\" points=\"163.5,-313 72.5,-313 72.5,-292 163.5,-292 163.5,-313\"/>\n",
              "<text text-anchor=\"middle\" x=\"118\" y=\"-299.4\" font-family=\"Times,serif\" font-size=\"12.00\" fill=\"#000000\">MulBackward0</text>\n",
              "</g>\n",
              "<!-- 139884640801680&#45;&gt;139884640803152 -->\n",
              "<g id=\"edge6\" class=\"edge\">\n",
              "<title>139884640801680&#45;&gt;139884640803152</title>\n",
              "<path fill=\"none\" stroke=\"#000000\" d=\"M117.1744,-291.9317C116.4837,-283.0913 115.4775,-270.2122 114.6261,-259.3135\"/>\n",
              "<polygon fill=\"#000000\" stroke=\"#000000\" points=\"118.1119,-258.9949 113.8436,-249.2979 111.1332,-259.5402 118.1119,-258.9949\"/>\n",
              "</g>\n",
              "<!-- 139884640151312 -->\n",
              "<g id=\"node8\" class=\"node\">\n",
              "<title>139884640151312</title>\n",
              "<polygon fill=\"#add8e6\" stroke=\"#000000\" points=\"199,-391 145,-391 145,-356 199,-356 199,-391\"/>\n",
              "<text text-anchor=\"middle\" x=\"172\" y=\"-363.4\" font-family=\"Times,serif\" font-size=\"12.00\" fill=\"#000000\"> (1)</text>\n",
              "</g>\n",
              "<!-- 139884640151312&#45;&gt;139884640801680 -->\n",
              "<g id=\"edge7\" class=\"edge\">\n",
              "<title>139884640151312&#45;&gt;139884640801680</title>\n",
              "<path fill=\"none\" stroke=\"#000000\" d=\"M158.6517,-355.9494C150.6484,-345.4266 140.4734,-332.0484 132.3053,-321.3089\"/>\n",
              "<polygon fill=\"#000000\" stroke=\"#000000\" points=\"134.8474,-318.8695 126.0078,-313.0288 129.2757,-323.1071 134.8474,-318.8695\"/>\n",
              "</g>\n",
              "<!-- 139884640803088 -->\n",
              "<g id=\"node11\" class=\"node\">\n",
              "<title>139884640803088</title>\n",
              "<polygon fill=\"#d3d3d3\" stroke=\"#000000\" points=\"272.5,-313 181.5,-313 181.5,-292 272.5,-292 272.5,-313\"/>\n",
              "<text text-anchor=\"middle\" x=\"227\" y=\"-299.4\" font-family=\"Times,serif\" font-size=\"12.00\" fill=\"#000000\">MulBackward0</text>\n",
              "</g>\n",
              "<!-- 139884640151312&#45;&gt;139884640803088 -->\n",
              "<g id=\"edge11\" class=\"edge\">\n",
              "<title>139884640151312&#45;&gt;139884640803088</title>\n",
              "<path fill=\"none\" stroke=\"#000000\" d=\"M185.5955,-355.9494C193.8285,-345.3214 204.3179,-331.7806 212.6787,-320.9875\"/>\n",
              "<polygon fill=\"#000000\" stroke=\"#000000\" points=\"215.4868,-323.0778 218.8439,-313.0288 209.9529,-318.7909 215.4868,-323.0778\"/>\n",
              "</g>\n",
              "<!-- 139884642045136 -->\n",
              "<g id=\"node9\" class=\"node\">\n",
              "<title>139884642045136</title>\n",
              "<polygon fill=\"#d3d3d3\" stroke=\"#000000\" points=\"276,-135 178,-135 178,-114 276,-114 276,-135\"/>\n",
              "<text text-anchor=\"middle\" x=\"227\" y=\"-121.4\" font-family=\"Times,serif\" font-size=\"12.00\" fill=\"#000000\">MeanBackward0</text>\n",
              "</g>\n",
              "<!-- 139884642045136&#45;&gt;139884642042768 -->\n",
              "<g id=\"edge8\" class=\"edge\">\n",
              "<title>139884642045136&#45;&gt;139884642042768</title>\n",
              "<path fill=\"none\" stroke=\"#000000\" d=\"M221.6475,-113.9795C211.9855,-94.9888 191.4875,-54.6995 179.1119,-30.3751\"/>\n",
              "<polygon fill=\"#000000\" stroke=\"#000000\" points=\"182.1629,-28.6533 174.5088,-21.3276 175.9239,-31.8275 182.1629,-28.6533\"/>\n",
              "</g>\n",
              "<!-- 139884640531728 -->\n",
              "<g id=\"node10\" class=\"node\">\n",
              "<title>139884640531728</title>\n",
              "<polygon fill=\"#d3d3d3\" stroke=\"#000000\" points=\"272,-249 182,-249 182,-228 272,-228 272,-249\"/>\n",
              "<text text-anchor=\"middle\" x=\"227\" y=\"-235.4\" font-family=\"Times,serif\" font-size=\"12.00\" fill=\"#000000\">SubBackward0</text>\n",
              "</g>\n",
              "<!-- 139884640531728&#45;&gt;139884642045136 -->\n",
              "<g id=\"edge9\" class=\"edge\">\n",
              "<title>139884640531728&#45;&gt;139884642045136</title>\n",
              "<path fill=\"none\" stroke=\"#000000\" d=\"M227,-227.9795C227,-209.242 227,-169.7701 227,-145.3565\"/>\n",
              "<polygon fill=\"#000000\" stroke=\"#000000\" points=\"230.5001,-145.3276 227,-135.3276 223.5001,-145.3277 230.5001,-145.3276\"/>\n",
              "</g>\n",
              "<!-- 139884640803088&#45;&gt;139884640531728 -->\n",
              "<g id=\"edge10\" class=\"edge\">\n",
              "<title>139884640803088&#45;&gt;139884640531728</title>\n",
              "<path fill=\"none\" stroke=\"#000000\" d=\"M227,-291.9317C227,-283.0913 227,-270.2122 227,-259.3135\"/>\n",
              "<polygon fill=\"#000000\" stroke=\"#000000\" points=\"230.5001,-259.2979 227,-249.2979 223.5001,-259.2979 230.5001,-259.2979\"/>\n",
              "</g>\n",
              "</g>\n",
              "</svg>\n"
            ],
            "text/plain": [
              "<graphviz.dot.Digraph at 0x7f396e4efbd0>"
            ]
          },
          "execution_count": 44,
          "metadata": {},
          "output_type": "execute_result"
        }
      ],
      "source": [
        "b = torch.randn(1, requires_grad=True, \\\n",
        "                dtype=torch.float, device=device)\n",
        "w = torch.randn(1, requires_grad=True, \\\n",
        "                dtype=torch.float, device=device)\n",
        "\n",
        "yhat = b + w * x_train_tensor\n",
        "error = yhat - y_train_tensor\n",
        "loss = (error ** 2).mean()\n",
        "\n",
        "# this makes no sense!!\n",
        "if loss > 0:\n",
        "    yhat2 = w * x_train_tensor\n",
        "    error2 = yhat2 - y_train_tensor\n",
        "    \n",
        "# neither does this :-)\n",
        "loss += error2.mean()\n",
        "\n",
        "make_dot(loss)"
      ]
    },
    {
      "cell_type": "markdown",
      "metadata": {
        "id": "YaeZ5FBeWKYA"
      },
      "source": [
        "# Optimizer"
      ]
    },
    {
      "cell_type": "markdown",
      "metadata": {
        "id": "YxV2JlPqWKYA"
      },
      "source": [
        "## step / zero_grad"
      ]
    },
    {
      "cell_type": "code",
      "execution_count": null,
      "metadata": {
        "id": "oTcf5kAKWKYB"
      },
      "outputs": [],
      "source": [
        "# Defines a SGD optimizer to update the parameters\n",
        "optimizer = optim.SGD([b, w], lr=lr)"
      ]
    },
    {
      "cell_type": "markdown",
      "metadata": {
        "id": "uMJBYSMmWKYB"
      },
      "source": [
        "### Cell 1.7"
      ]
    },
    {
      "cell_type": "code",
      "source": [
        "lr = 0.1\n",
        "b = torch.randn(1,requires_grad=True,\\\n",
        "                dtype=torch.float,device=device)\n",
        "w = torch.randn(1,requires_grad=True,\\\n",
        "                dtype=torch.float,device=device)\n",
        "\n",
        "optimizer = optim.SGD([b,w],lr=lr)\n",
        "\n",
        "n_epochs = 1000\n",
        "\n",
        "for epoch in range(n_epochs):\n",
        "  y_hat = b + w * x_train_tensor\n",
        "\n",
        "  error = (y_hat - y_train_tensor)\n",
        "\n",
        "  loss = (error ** 2).mean()\n",
        "\n",
        "  loss.backward()\n",
        "\n",
        "  optimizer.step()\n",
        "\n",
        "  optimizer.zero_grad()\n",
        "\n",
        "print(b,w)"
      ],
      "metadata": {
        "colab": {
          "base_uri": "https://localhost:8080/"
        },
        "id": "a3NzIvXylS0z",
        "outputId": "d130f1d2-b748-4b3c-85f6-9cd0546a5b45"
      },
      "execution_count": null,
      "outputs": [
        {
          "output_type": "stream",
          "name": "stdout",
          "text": [
            "tensor([1.0205], requires_grad=True) tensor([1.9468], requires_grad=True)\n"
          ]
        }
      ]
    },
    {
      "cell_type": "code",
      "execution_count": null,
      "metadata": {
        "id": "t-q2GjSeWKYB",
        "outputId": "6f93c6c2-22f6-41a2-da4e-f0c0a7d2b7f8"
      },
      "outputs": [
        {
          "name": "stdout",
          "output_type": "stream",
          "text": [
            "tensor([1.0235], requires_grad=True) tensor([1.9690], requires_grad=True)\n"
          ]
        }
      ],
      "source": [
        "# Sets learning rate - this is \"eta\" ~ the \"n\"-like Greek letter\n",
        "lr = 0.1\n",
        "\n",
        "# Step 0 - Initializes parameters \"b\" and \"w\" randomly\n",
        "torch.manual_seed(42)\n",
        "b = torch.randn(1, requires_grad=True, \\\n",
        "                dtype=torch.float, device=device)\n",
        "w = torch.randn(1, requires_grad=True, \\\n",
        "                dtype=torch.float, device=device)\n",
        "\n",
        "# Defines a SGD optimizer to update the parameters\n",
        "optimizer = optim.SGD([b, w], lr=lr)\n",
        "\n",
        "# Defines number of epochs\n",
        "n_epochs = 1000\n",
        "\n",
        "for epoch in range(n_epochs):\n",
        "    # Step 1 - Computes model's predicted output - forward pass\n",
        "    yhat = b + w * x_train_tensor\n",
        "    \n",
        "    # Step 2 - Computes the loss\n",
        "    # We are using ALL data points, so this is BATCH gradient \n",
        "    # descent. How wrong is our model? That's the error! \n",
        "    error = (yhat - y_train_tensor)\n",
        "    # It is a regression, so it computes mean squared error (MSE)\n",
        "    loss = (error ** 2).mean()\n",
        "\n",
        "    # Step 3 - Computes gradients for both \"b\" and \"w\" parameters\n",
        "    loss.backward()\n",
        "    \n",
        "    # Step 4 - Updates parameters using gradients and \n",
        "    # the learning rate. No more manual update!\n",
        "    # with torch.no_grad():\n",
        "    #     b -= lr * b.grad\n",
        "    #     w -= lr * w.grad\n",
        "    optimizer.step()\n",
        "    \n",
        "    # No more telling Pytorch to let gradients go!\n",
        "    # b.grad.zero_()\n",
        "    # w.grad.zero_()\n",
        "    optimizer.zero_grad()\n",
        "    \n",
        "print(b, w)"
      ]
    },
    {
      "cell_type": "markdown",
      "metadata": {
        "id": "d-I_1rdGWKYB"
      },
      "source": [
        "# Loss"
      ]
    },
    {
      "cell_type": "code",
      "execution_count": null,
      "metadata": {
        "id": "siNAqEeJWKYB",
        "outputId": "bfc3214b-f46f-419f-b3e2-eee782c3296a",
        "colab": {
          "base_uri": "https://localhost:8080/"
        }
      },
      "outputs": [
        {
          "output_type": "execute_result",
          "data": {
            "text/plain": [
              "MSELoss()"
            ]
          },
          "metadata": {},
          "execution_count": 36
        }
      ],
      "source": [
        "# Defines a MSE loss function\n",
        "loss_fn = nn.MSELoss(reduction='mean')\n",
        "loss_fn"
      ]
    },
    {
      "cell_type": "code",
      "execution_count": null,
      "metadata": {
        "id": "CrGnV2MYWKYB",
        "outputId": "6f45591b-9572-4804-b6f6-966a2e17a67a",
        "colab": {
          "base_uri": "https://localhost:8080/"
        }
      },
      "outputs": [
        {
          "output_type": "execute_result",
          "data": {
            "text/plain": [
              "tensor(1.1700)"
            ]
          },
          "metadata": {},
          "execution_count": 37
        }
      ],
      "source": [
        "# This is a random example to illustrate the loss function\n",
        "predictions = torch.tensor([0.5, 1.0])\n",
        "labels = torch.tensor([2.0, 1.3])\n",
        "loss_fn(predictions, labels)"
      ]
    },
    {
      "cell_type": "markdown",
      "metadata": {
        "id": "_Hmc0y1aWKYB"
      },
      "source": [
        "### Cell 1.8"
      ]
    },
    {
      "cell_type": "code",
      "execution_count": null,
      "metadata": {
        "id": "vEZT7C5tWKYB",
        "outputId": "3b098393-1296-41b9-cddd-3f3399f1f7d7",
        "colab": {
          "base_uri": "https://localhost:8080/"
        }
      },
      "outputs": [
        {
          "output_type": "stream",
          "name": "stdout",
          "text": [
            "tensor([1.0205], requires_grad=True) tensor([1.9468], requires_grad=True)\n"
          ]
        }
      ],
      "source": [
        "# Sets learning rate - this is \"eta\" ~ the \"n\"-like\n",
        "# Greek letter\n",
        "lr = 0.1\n",
        "\n",
        "# Step 0 - Initializes parameters \"b\" and \"w\" randomly\n",
        "torch.manual_seed(42)\n",
        "b = torch.randn(1, requires_grad=True, \\\n",
        "                dtype=torch.float, device=device)\n",
        "w = torch.randn(1, requires_grad=True, \\\n",
        "                dtype=torch.float, device=device)\n",
        "\n",
        "# Defines a SGD optimizer to update the parameters\n",
        "optimizer = optim.SGD([b, w], lr=lr)\n",
        "\n",
        "# Defines a MSE loss function\n",
        "loss_fn = nn.MSELoss(reduction='mean')\n",
        "\n",
        "# Defines number of epochs\n",
        "n_epochs = 1000\n",
        "\n",
        "for epoch in range(n_epochs):\n",
        "    # Step 1 - Computes model's predicted output - forward pass\n",
        "    yhat = b + w * x_train_tensor\n",
        "    \n",
        "    # Step 2 - Computes the loss\n",
        "    # No more manual loss!\n",
        "    # error = (yhat - y_train_tensor)\n",
        "    # loss = (error ** 2).mean()\n",
        "    loss = loss_fn(yhat, y_train_tensor)\n",
        "\n",
        "    # Step 3 - Computes gradients for both \"b\" and \"w\" parameters\n",
        "    loss.backward()\n",
        "    \n",
        "    # Step 4 - Updates parameters using gradients and\n",
        "    # the learning rate\n",
        "    optimizer.step()\n",
        "    optimizer.zero_grad()\n",
        "    \n",
        "print(b, w)"
      ]
    },
    {
      "cell_type": "code",
      "execution_count": null,
      "metadata": {
        "id": "pa3bBR54WKYB",
        "outputId": "ee1bf08e-f2a1-4ab4-bc91-2289916bd148"
      },
      "outputs": [
        {
          "data": {
            "text/plain": [
              "tensor(0.0080, grad_fn=<MseLossBackward>)"
            ]
          },
          "execution_count": 50,
          "metadata": {},
          "output_type": "execute_result"
        }
      ],
      "source": [
        "loss"
      ]
    },
    {
      "cell_type": "code",
      "execution_count": null,
      "metadata": {
        "id": "n4w6J7FYWKYC",
        "outputId": "49ae8568-da60-41fb-a3bd-c993ca1cae45"
      },
      "outputs": [
        {
          "ename": "RuntimeError",
          "evalue": "Can't call numpy() on Tensor that requires grad. Use tensor.detach().numpy() instead.",
          "output_type": "error",
          "traceback": [
            "\u001b[0;31m---------------------------------------------------------------------------\u001b[0m",
            "\u001b[0;31mRuntimeError\u001b[0m                              Traceback (most recent call last)",
            "\u001b[0;32m<ipython-input-51-58c76a7bac74>\u001b[0m in \u001b[0;36m<module>\u001b[0;34m\u001b[0m\n\u001b[0;32m----> 1\u001b[0;31m \u001b[0mloss\u001b[0m\u001b[0;34m.\u001b[0m\u001b[0mcpu\u001b[0m\u001b[0;34m(\u001b[0m\u001b[0;34m)\u001b[0m\u001b[0;34m.\u001b[0m\u001b[0mnumpy\u001b[0m\u001b[0;34m(\u001b[0m\u001b[0;34m)\u001b[0m\u001b[0;34m\u001b[0m\u001b[0;34m\u001b[0m\u001b[0m\n\u001b[0m",
            "\u001b[0;31mRuntimeError\u001b[0m: Can't call numpy() on Tensor that requires grad. Use tensor.detach().numpy() instead."
          ]
        }
      ],
      "source": [
        "loss.cpu().numpy()"
      ]
    },
    {
      "cell_type": "code",
      "execution_count": null,
      "metadata": {
        "id": "osPWEH80WKYC",
        "outputId": "68900277-3c41-4d47-b754-5eadc6574b2d"
      },
      "outputs": [
        {
          "data": {
            "text/plain": [
              "array(0.00804466, dtype=float32)"
            ]
          },
          "execution_count": 52,
          "metadata": {},
          "output_type": "execute_result"
        }
      ],
      "source": [
        "loss.detach().cpu().numpy()"
      ]
    },
    {
      "cell_type": "code",
      "execution_count": null,
      "metadata": {
        "id": "uzEe2K87WKYC",
        "outputId": "99cfb79a-fc61-4932-9c2d-746de645555d"
      },
      "outputs": [
        {
          "name": "stdout",
          "output_type": "stream",
          "text": [
            "0.008044655434787273 0.008044655434787273\n"
          ]
        }
      ],
      "source": [
        "print(loss.item(), loss.tolist())"
      ]
    },
    {
      "cell_type": "markdown",
      "metadata": {
        "id": "JJKKzDQoWKYC"
      },
      "source": [
        "# Model\n",
        "\n",
        "\n",
        "Besides, do not forget to include `super( )._init__( )` to execute the `_init__ ()` method of the parent class (nn.Module) before your own."
      ]
    },
    {
      "cell_type": "markdown",
      "metadata": {
        "id": "N4mwAvcEWKYC"
      },
      "source": [
        "### Cell 1.9"
      ]
    },
    {
      "cell_type": "code",
      "execution_count": null,
      "metadata": {
        "id": "JToXKHaDWKYC"
      },
      "outputs": [],
      "source": [
        "class ManualLinearRegression(nn.Module):\n",
        "    def __init__(self):\n",
        "        super().__init__()\n",
        "        # To make \"b\" and \"w\" real parameters of the model,\n",
        "        # we need to wrap them with nn.Parameter\n",
        "        self.b = nn.Parameter(torch.randn(1,\n",
        "                                          requires_grad=True, \n",
        "                                          dtype=torch.float))\n",
        "        self.w = nn.Parameter(torch.randn(1, \n",
        "                                          requires_grad=True,\n",
        "                                          dtype=torch.float))\n",
        "        \n",
        "    def forward(self, x):\n",
        "        # Computes the outputs / predictions\n",
        "        return self.b + self.w * x"
      ]
    },
    {
      "cell_type": "markdown",
      "metadata": {
        "id": "2hDW9knGWKYC"
      },
      "source": [
        "## Parameters"
      ]
    },
    {
      "cell_type": "code",
      "source": [
        "#auhor: Christina\n",
        "\n",
        "torch.manual_seed(42)\n",
        "\n",
        "dummy = ManualLinearRegression()\n",
        "list(dummy.parameters())"
      ],
      "metadata": {
        "colab": {
          "base_uri": "https://localhost:8080/"
        },
        "id": "nuWqNoFQm6Qd",
        "outputId": "e25a3162-8791-467e-d2d8-9eacd2e294f8"
      },
      "execution_count": null,
      "outputs": [
        {
          "output_type": "execute_result",
          "data": {
            "text/plain": [
              "[Parameter containing:\n",
              " tensor([0.3367], requires_grad=True), Parameter containing:\n",
              " tensor([0.1288], requires_grad=True)]"
            ]
          },
          "metadata": {},
          "execution_count": 40
        }
      ]
    },
    {
      "cell_type": "code",
      "execution_count": null,
      "metadata": {
        "id": "Rm_2ij5TWKYC",
        "outputId": "74296ad9-0ae9-4e23-b1b8-1225a0c18df4"
      },
      "outputs": [
        {
          "data": {
            "text/plain": [
              "[Parameter containing:\n",
              " tensor([0.3367], requires_grad=True), Parameter containing:\n",
              " tensor([0.1288], requires_grad=True)]"
            ]
          },
          "execution_count": 55,
          "metadata": {},
          "output_type": "execute_result"
        }
      ],
      "source": [
        "torch.manual_seed(42)\n",
        "# Creates a \"dummy\" instance of our ManualLinearRegression model\n",
        "dummy = ManualLinearRegression()\n",
        "list(dummy.parameters())"
      ]
    },
    {
      "cell_type": "markdown",
      "metadata": {
        "id": "ZFsk2YdyWKYD"
      },
      "source": [
        "## state_dict"
      ]
    },
    {
      "cell_type": "code",
      "execution_count": null,
      "metadata": {
        "id": "lSlxNDu-WKYD",
        "outputId": "33a968b6-8400-4028-e13e-9de5b188dba6",
        "colab": {
          "base_uri": "https://localhost:8080/"
        }
      },
      "outputs": [
        {
          "output_type": "execute_result",
          "data": {
            "text/plain": [
              "OrderedDict([('b', tensor([0.3367])), ('w', tensor([0.1288]))])"
            ]
          },
          "metadata": {},
          "execution_count": 41
        }
      ],
      "source": [
        "dummy.state_dict()"
      ]
    },
    {
      "cell_type": "code",
      "execution_count": null,
      "metadata": {
        "id": "dkK9bFElWKYD",
        "outputId": "2b3b0371-cb52-4696-c814-36c72c440ba6",
        "colab": {
          "base_uri": "https://localhost:8080/"
        }
      },
      "outputs": [
        {
          "output_type": "execute_result",
          "data": {
            "text/plain": [
              "{'param_groups': [{'dampening': 0,\n",
              "   'lr': 0.1,\n",
              "   'maximize': False,\n",
              "   'momentum': 0,\n",
              "   'nesterov': False,\n",
              "   'params': [0, 1],\n",
              "   'weight_decay': 0}],\n",
              " 'state': {0: {'momentum_buffer': None}, 1: {'momentum_buffer': None}}}"
            ]
          },
          "metadata": {},
          "execution_count": 43
        }
      ],
      "source": [
        "optimizer.state_dict()"
      ]
    },
    {
      "cell_type": "markdown",
      "metadata": {
        "id": "JirT68dcWKYD"
      },
      "source": [
        "## device"
      ]
    },
    {
      "cell_type": "code",
      "execution_count": null,
      "metadata": {
        "id": "wk3SkKbpWKYD"
      },
      "outputs": [],
      "source": [
        "torch.manual_seed(42)\n",
        "# Creates a \"dummy\" instance of our ManualLinearRegression model\n",
        "# and sends it to the device\n",
        "dummy = ManualLinearRegression().to(device)"
      ]
    },
    {
      "cell_type": "markdown",
      "metadata": {
        "id": "G8JVygGdWKYD"
      },
      "source": [
        "## Forward Pass"
      ]
    },
    {
      "cell_type": "markdown",
      "metadata": {
        "id": "ZrQq5XLwWKYD"
      },
      "source": [
        "### Cell 1.10"
      ]
    },
    {
      "cell_type": "code",
      "source": [
        "#auhor: Christina\n",
        "\n",
        "lr = 0.1\n",
        "\n",
        "torch.manual_seed(42)\n",
        "\n",
        "model = ManualLinearRegression().to(device)\n",
        "\n",
        "optimizer = optim.SGD(model.parameters(),lr=lr)\n",
        "loss_fn = nn.MSELoss(reduction='mean')\n",
        "n_epochs = 1000\n",
        "\n",
        "for epoch in range(n_epochs):\n",
        "  y_hat = model(x_train_tensor)\n",
        "  loss = loss_fn(y_hat,y_train_tensor)\n",
        "  loss.backward()\n",
        "  optimizer.step()\n",
        "  optimizer.zero_grad()\n",
        "\n",
        "print(model.state_dict())"
      ],
      "metadata": {
        "colab": {
          "base_uri": "https://localhost:8080/"
        },
        "id": "noXkEA0vn0Op",
        "outputId": "38538b13-8de4-48c7-f228-f415289717f5"
      },
      "execution_count": null,
      "outputs": [
        {
          "output_type": "stream",
          "name": "stdout",
          "text": [
            "OrderedDict([('b', tensor([1.0205])), ('w', tensor([1.9468]))])\n"
          ]
        }
      ]
    },
    {
      "cell_type": "code",
      "execution_count": null,
      "metadata": {
        "id": "pbbFOIZkWKYD",
        "outputId": "d0e017ec-52ed-4111-ed04-1911fcdeccb9"
      },
      "outputs": [
        {
          "name": "stdout",
          "output_type": "stream",
          "text": [
            "OrderedDict([('b', tensor([1.0235])), ('w', tensor([1.9690]))])\n"
          ]
        }
      ],
      "source": [
        "# Sets learning rate - this is \"eta\" ~ the \"n\"-like\n",
        "# Greek letter\n",
        "lr = 0.1\n",
        "\n",
        "# Step 0 - Initializes parameters \"b\" and \"w\" randomly\n",
        "torch.manual_seed(42)\n",
        "# Now we can create a model and send it at once to the device\n",
        "model = ManualLinearRegression().to(device)\n",
        "\n",
        "# Defines a SGD optimizer to update the parameters \n",
        "# (now retrieved directly from the model)\n",
        "optimizer = optim.SGD(model.parameters(), lr=lr)\n",
        "\n",
        "# Defines a MSE loss function\n",
        "loss_fn = nn.MSELoss(reduction='mean')\n",
        "\n",
        "# Defines number of epochs\n",
        "n_epochs = 1000\n",
        "\n",
        "for epoch in range(n_epochs):\n",
        "    model.train() # What is this?!?\n",
        "\n",
        "    # Step 1 - Computes model's predicted output - forward pass\n",
        "    # No more manual prediction!\n",
        "    yhat = model(x_train_tensor)\n",
        "    \n",
        "    # Step 2 - Computes the loss\n",
        "    loss = loss_fn(yhat, y_train_tensor)\n",
        "\n",
        "    # Step 3 - Computes gradients for both \"b\" and \"w\" parameters\n",
        "    loss.backward()\n",
        "    \n",
        "    # Step 4 - Updates parameters using gradients and\n",
        "    # the learning rate\n",
        "    optimizer.step()\n",
        "    optimizer.zero_grad()\n",
        "    \n",
        "# We can also inspect its parameters using its state_dict\n",
        "print(model.state_dict())"
      ]
    },
    {
      "cell_type": "markdown",
      "metadata": {
        "id": "wXIAuLXrWKYD"
      },
      "source": [
        "## train"
      ]
    },
    {
      "cell_type": "code",
      "execution_count": null,
      "metadata": {
        "id": "VrEUBMtiWKYD"
      },
      "outputs": [],
      "source": [
        "## Never forget to include model.train() in your training loop!"
      ]
    },
    {
      "cell_type": "markdown",
      "metadata": {
        "id": "2ZVDdPJyWKYE"
      },
      "source": [
        "## Nested Models"
      ]
    },
    {
      "cell_type": "code",
      "execution_count": null,
      "metadata": {
        "id": "QOFZ8M6aWKYE",
        "outputId": "ce34eddb-82d9-4da1-8730-007f4e382ae4"
      },
      "outputs": [
        {
          "data": {
            "text/plain": [
              "Linear(in_features=1, out_features=1, bias=True)"
            ]
          },
          "execution_count": 61,
          "metadata": {},
          "output_type": "execute_result"
        }
      ],
      "source": [
        "linear = nn.Linear(1, 1)\n",
        "linear"
      ]
    },
    {
      "cell_type": "code",
      "execution_count": null,
      "metadata": {
        "id": "pHRtTkJKWKYE",
        "outputId": "9a81bb6c-21bc-4262-e6f2-c6852dfced7b"
      },
      "outputs": [
        {
          "data": {
            "text/plain": [
              "OrderedDict([('weight', tensor([[-0.2191]])), ('bias', tensor([0.2018]))])"
            ]
          },
          "execution_count": 62,
          "metadata": {},
          "output_type": "execute_result"
        }
      ],
      "source": [
        "linear.state_dict()"
      ]
    },
    {
      "cell_type": "markdown",
      "metadata": {
        "id": "2lZ7fX_pWKYE"
      },
      "source": [
        "### Cell 1.11"
      ]
    },
    {
      "cell_type": "code",
      "execution_count": null,
      "metadata": {
        "id": "Ooc5uz8tWKYE"
      },
      "outputs": [],
      "source": [
        "class MyLinearRegression(nn.Module):\n",
        "    def __init__(self):\n",
        "        super().__init__()\n",
        "        # Instead of our custom parameters, we use a Linear model\n",
        "        # with single input and single output\n",
        "        self.linear = nn.Linear(1, 1)\n",
        "                \n",
        "    def forward(self, x):\n",
        "        # Now it only takes a call\n",
        "        self.linear(x)"
      ]
    },
    {
      "cell_type": "code",
      "execution_count": null,
      "metadata": {
        "id": "ya7ufOUeWKYE",
        "outputId": "380f2445-ef74-4fc8-8aa5-27f926768e3b"
      },
      "outputs": [
        {
          "data": {
            "text/plain": [
              "[Parameter containing:\n",
              " tensor([[0.7645]], device='cuda:0', requires_grad=True), Parameter containing:\n",
              " tensor([0.8300], device='cuda:0', requires_grad=True)]"
            ]
          },
          "execution_count": 65,
          "metadata": {},
          "output_type": "execute_result"
        }
      ],
      "source": [
        "torch.manual_seed(42)\n",
        "dummy = MyLinearRegression().to(device)\n",
        "list(dummy.parameters())"
      ]
    },
    {
      "cell_type": "code",
      "execution_count": null,
      "metadata": {
        "id": "aefNqhgCWKYE",
        "outputId": "d6397a12-e35d-4e6f-c4c2-ce7aaeddbf9a"
      },
      "outputs": [
        {
          "data": {
            "text/plain": [
              "OrderedDict([('linear.weight', tensor([[0.7645]], device='cuda:0')),\n",
              "             ('linear.bias', tensor([0.8300], device='cuda:0'))])"
            ]
          },
          "execution_count": 66,
          "metadata": {},
          "output_type": "execute_result"
        }
      ],
      "source": [
        "dummy.state_dict()"
      ]
    },
    {
      "cell_type": "markdown",
      "metadata": {
        "id": "3r2QHQbVWKYE"
      },
      "source": [
        "## Sequential Models"
      ]
    },
    {
      "cell_type": "markdown",
      "metadata": {
        "id": "gC2-VIfyWKYE"
      },
      "source": [
        "### Cell 1.12"
      ]
    },
    {
      "cell_type": "code",
      "execution_count": null,
      "metadata": {
        "id": "SIfGyLh3WKYE",
        "outputId": "1d3f8dbf-1447-44b8-c604-8f7182ec783b"
      },
      "outputs": [
        {
          "data": {
            "text/plain": [
              "OrderedDict([('0.weight', tensor([[0.7645]], device='cuda:0')),\n",
              "             ('0.bias', tensor([0.8300], device='cuda:0'))])"
            ]
          },
          "execution_count": 67,
          "metadata": {},
          "output_type": "execute_result"
        }
      ],
      "source": [
        "torch.manual_seed(42)\n",
        "# Alternatively, you can use a Sequential model\n",
        "model = nn.Sequential(nn.Linear(1, 1)).to(device)\n",
        "\n",
        "model.state_dict()"
      ]
    },
    {
      "cell_type": "markdown",
      "metadata": {
        "id": "0HqwEIWvWKYF"
      },
      "source": [
        "## Layers"
      ]
    },
    {
      "cell_type": "code",
      "execution_count": null,
      "metadata": {
        "id": "sfkTvuJOWKYF",
        "outputId": "89b03372-f2da-45e3-a80a-8ae2f00712cf",
        "colab": {
          "base_uri": "https://localhost:8080/"
        }
      },
      "outputs": [
        {
          "output_type": "execute_result",
          "data": {
            "text/plain": [
              "OrderedDict([('0.weight', tensor([[ 0.4414,  0.4792, -0.1353],\n",
              "                      [ 0.5304, -0.1265,  0.1165],\n",
              "                      [-0.2811,  0.3391,  0.5090],\n",
              "                      [-0.4236,  0.5018,  0.1081],\n",
              "                      [ 0.4266,  0.0782,  0.2784]])),\n",
              "             ('0.bias', tensor([-0.0815,  0.4451,  0.0853, -0.2695,  0.1472])),\n",
              "             ('1.weight',\n",
              "              tensor([[-0.2060, -0.0524, -0.1816,  0.2967, -0.3530]])),\n",
              "             ('1.bias', tensor([-0.2062]))])"
            ]
          },
          "metadata": {},
          "execution_count": 46
        }
      ],
      "source": [
        "torch.manual_seed(42)\n",
        "# Building the model from the figure above\n",
        "model = nn.Sequential(nn.Linear(3, 5), nn.Linear(5, 1)).to(device)\n",
        "\n",
        "model.state_dict()"
      ]
    },
    {
      "cell_type": "code",
      "source": [
        "model_test = nn.Sequential(nn.Linear(4,12),nn.Linear(12,5),nn.Linear(5,1)).to(device)\n",
        "model_test.state_dict()"
      ],
      "metadata": {
        "colab": {
          "base_uri": "https://localhost:8080/"
        },
        "id": "9AIJ1zDEpWrq",
        "outputId": "e7cfc92a-498d-474d-da24-7b34fd9c5766"
      },
      "execution_count": null,
      "outputs": [
        {
          "output_type": "execute_result",
          "data": {
            "text/plain": [
              "OrderedDict([('0.weight', tensor([[ 0.1757,  0.1625, -0.2703,  0.4545],\n",
              "                      [ 0.1099,  0.0643, -0.4406,  0.2099],\n",
              "                      [-0.0750, -0.2291,  0.4295,  0.1115],\n",
              "                      [-0.2766, -0.2531, -0.0239,  0.2792],\n",
              "                      [-0.1278, -0.2853, -0.1712, -0.3735],\n",
              "                      [ 0.1783,  0.3870, -0.4707,  0.1161],\n",
              "                      [ 0.2583,  0.0907, -0.1781,  0.2610],\n",
              "                      [ 0.2628,  0.1870, -0.0879, -0.1324],\n",
              "                      [ 0.0535, -0.0883, -0.1490,  0.3196],\n",
              "                      [ 0.4297, -0.0495, -0.1119,  0.0073],\n",
              "                      [-0.0299,  0.1202,  0.1401, -0.4541],\n",
              "                      [-0.1845,  0.4211,  0.1948, -0.0249]])),\n",
              "             ('0.bias',\n",
              "              tensor([-0.3015, -0.3059, -0.4479, -0.1630,  0.1689,  0.3188,  0.2308, -0.4420,\n",
              "                      -0.3007, -0.0789,  0.4837,  0.0723])),\n",
              "             ('1.weight',\n",
              "              tensor([[-0.0748,  0.1194, -0.1100, -0.1868,  0.2107, -0.1313, -0.0579, -0.2872,\n",
              "                        0.1932,  0.2187,  0.1052, -0.2013],\n",
              "                      [-0.2849, -0.2345,  0.2153,  0.1386,  0.2429,  0.1512,  0.0731, -0.0028,\n",
              "                       -0.2195, -0.2473, -0.2700,  0.1182],\n",
              "                      [-0.1417, -0.0581, -0.1661, -0.0526, -0.2032, -0.1886,  0.0958, -0.0858,\n",
              "                        0.1782, -0.0926, -0.2118, -0.0509],\n",
              "                      [-0.1399, -0.0883, -0.2748,  0.1615, -0.2010,  0.1451,  0.1310,  0.2062,\n",
              "                       -0.2214,  0.2076, -0.1365,  0.1071],\n",
              "                      [ 0.2711, -0.0407, -0.0022, -0.0665, -0.2410,  0.1385, -0.2866,  0.1792,\n",
              "                        0.2160,  0.2730, -0.0681, -0.2372]])),\n",
              "             ('1.bias', tensor([ 0.0649,  0.1595, -0.2873, -0.0655, -0.1730])),\n",
              "             ('2.weight',\n",
              "              tensor([[-0.0391, -0.2201, -0.1828, -0.1420, -0.4250]])),\n",
              "             ('2.bias', tensor([0.3669]))])"
            ]
          },
          "metadata": {},
          "execution_count": 48
        }
      ]
    },
    {
      "cell_type": "code",
      "source": [
        ""
      ],
      "metadata": {
        "id": "TXelRKrupidh"
      },
      "execution_count": null,
      "outputs": []
    },
    {
      "cell_type": "code",
      "execution_count": null,
      "metadata": {
        "id": "1s2ewWIWWKYF",
        "outputId": "188ed713-9e6a-4f78-bb88-aa91a62d90f3",
        "colab": {
          "base_uri": "https://localhost:8080/"
        }
      },
      "outputs": [
        {
          "output_type": "execute_result",
          "data": {
            "text/plain": [
              "Sequential(\n",
              "  (layer1): Linear(in_features=3, out_features=5, bias=True)\n",
              "  (layer2): Linear(in_features=5, out_features=1, bias=True)\n",
              ")"
            ]
          },
          "metadata": {},
          "execution_count": 49
        }
      ],
      "source": [
        "torch.manual_seed(42)\n",
        "# Building the model from the figure above\n",
        "model = nn.Sequential()\n",
        "model.add_module('layer1', nn.Linear(3, 5))\n",
        "model.add_module('layer2', nn.Linear(5, 1))\n",
        "model.to(device)"
      ]
    },
    {
      "cell_type": "markdown",
      "metadata": {
        "id": "Q9P_dh1CWKYF"
      },
      "source": [
        "# Putting It All Together"
      ]
    },
    {
      "cell_type": "markdown",
      "metadata": {
        "id": "kED2RNkuWKYF"
      },
      "source": [
        "## Data Preparation"
      ]
    },
    {
      "cell_type": "markdown",
      "metadata": {
        "id": "O1Qcnu6oWKYF"
      },
      "source": [
        "### Data Preparation V0"
      ]
    },
    {
      "cell_type": "code",
      "source": [
        "%%writefile data_preparation/v0.py\n",
        "\n",
        "device = 'cuda' if torch.cuda.is_available() else 'cpu'\n",
        "\n",
        "# Our data was in Numpy arrays, but we need to transform them\n",
        "# into PyTorch's Tensors and then we send them to the \n",
        "# chosen device\n",
        "\n",
        "x_train_tensor = torch.as_tensor(x_train).float().to(device)\n",
        "y_train_tensor = torch.as_tensor(y_train).float().to(device)\n"
      ],
      "metadata": {
        "colab": {
          "base_uri": "https://localhost:8080/"
        },
        "id": "SG4YzCTWqAEx",
        "outputId": "591efcd0-d45b-4d06-a16d-37b0a643cfef"
      },
      "execution_count": null,
      "outputs": [
        {
          "output_type": "stream",
          "name": "stdout",
          "text": [
            "Writing data_preparation/v0.py\n"
          ]
        }
      ]
    },
    {
      "cell_type": "code",
      "execution_count": null,
      "metadata": {
        "id": "vC9Vn7EBWKYF",
        "outputId": "19223c95-f8d2-422b-87d1-ac326834b595"
      },
      "outputs": [
        {
          "name": "stdout",
          "output_type": "stream",
          "text": [
            "Overwriting data_preparation/v0.py\n"
          ]
        }
      ],
      "source": [
        "%%writefile data_preparation/v0.py\n",
        "\n",
        "device = 'cuda' if torch.cuda.is_available() else 'cpu'\n",
        "\n",
        "# Our data was in Numpy arrays, but we need to transform them\n",
        "# into PyTorch's Tensors and then we send them to the \n",
        "# chosen device\n",
        "x_train_tensor = torch.as_tensor(x_train).float().to(device)\n",
        "y_train_tensor = torch.as_tensor(y_train).float().to(device)"
      ]
    },
    {
      "cell_type": "code",
      "execution_count": null,
      "metadata": {
        "id": "9pFRKub3WKYF",
        "colab": {
          "base_uri": "https://localhost:8080/",
          "height": 35
        },
        "outputId": "53f281c7-fba3-4cc5-b630-c42d209259c9"
      },
      "outputs": [
        {
          "output_type": "display_data",
          "data": {
            "text/plain": [
              "<Figure size 432x288 with 0 Axes>"
            ]
          },
          "metadata": {}
        }
      ],
      "source": [
        "%run -i data_preparation/v0.py"
      ]
    },
    {
      "cell_type": "markdown",
      "metadata": {
        "id": "g60jqh7UWKYF"
      },
      "source": [
        "## Model Configurtion"
      ]
    },
    {
      "cell_type": "markdown",
      "metadata": {
        "id": "U6HA-HjRWKYG"
      },
      "source": [
        "### Model Configuration V0"
      ]
    },
    {
      "cell_type": "code",
      "source": [
        "%%writefile model_configuration/v0.py\n",
        "\n",
        "device = 'cuda' if torch.cuda.is_available() else 'cpu'\n",
        "\n",
        "lr = 0.05\n",
        "\n",
        "model = nn.Sequential(nn.Linear(1,12),\n",
        "            nn.Linear(12,5),\n",
        "            nn.Linear(5,1)).to(device)\n",
        "optimizer = optim.SGD(model.parameters(),lr=lr)\n",
        "loss_fn = nn.MSELoss(reduction='mean')"
      ],
      "metadata": {
        "colab": {
          "base_uri": "https://localhost:8080/"
        },
        "id": "ELPH1gxOq8yZ",
        "outputId": "8322516b-2f3a-4533-a67c-7c436501257a"
      },
      "execution_count": null,
      "outputs": [
        {
          "output_type": "stream",
          "name": "stdout",
          "text": [
            "Writing model_configuration/v0.py\n"
          ]
        }
      ]
    },
    {
      "cell_type": "code",
      "execution_count": null,
      "metadata": {
        "id": "E4ZvfLMnWKYH",
        "outputId": "a6cdaad1-5a7f-4746-a1fb-000b3a3a886e"
      },
      "outputs": [
        {
          "name": "stdout",
          "output_type": "stream",
          "text": [
            "Overwriting model_configuration/v0.py\n"
          ]
        }
      ],
      "source": [
        "%%writefile model_configuration/v0.py\n",
        "\n",
        "# This is redundant now, but it won't be when we introduce\n",
        "# Datasets...\n",
        "device = 'cuda' if torch.cuda.is_available() else 'cpu'\n",
        "\n",
        "# Sets learning rate - this is \"eta\" ~ the \"n\"-like Greek letter\n",
        "lr = 0.1\n",
        "\n",
        "torch.manual_seed(42)\n",
        "# Now we can create a model and send it at once to the device\n",
        "model = nn.Sequential(nn.Linear(1, 1)).to(device)\n",
        "\n",
        "# Defines a SGD optimizer to update the parameters \n",
        "# (now retrieved directly from the model)\n",
        "optimizer = optim.SGD(model.parameters(), lr=lr)\n",
        "\n",
        "# Defines a MSE loss function\n",
        "loss_fn = nn.MSELoss(reduction='mean')"
      ]
    },
    {
      "cell_type": "code",
      "execution_count": null,
      "metadata": {
        "id": "7u8Ij6HDWKYH"
      },
      "outputs": [],
      "source": [
        "%run -i model_configuration/v0.py"
      ]
    },
    {
      "cell_type": "markdown",
      "metadata": {
        "id": "3DWJfuXPWKYH"
      },
      "source": [
        "## Model Training"
      ]
    },
    {
      "cell_type": "markdown",
      "metadata": {
        "id": "hDHmUZFpWKYH"
      },
      "source": [
        "### Model Training V0"
      ]
    },
    {
      "cell_type": "code",
      "source": [
        "%%writefile model_training/v0.py\n",
        "\n",
        "n_epochs = 1000\n",
        "for epoch in range(n_epochs):\n",
        "  model.train()\n",
        "\n",
        "  y_hat = model(x_train_tensor)\n",
        "  loss = loss_fn(y_hat,y_train_tensor)\n",
        "  loss.backward()\n",
        "  optimizer.step()\n",
        "  optimizer.zero_grad()"
      ],
      "metadata": {
        "colab": {
          "base_uri": "https://localhost:8080/"
        },
        "id": "z8CHj2mLriF2",
        "outputId": "7c8d5869-cb12-4d22-80a8-8d3e16a20418"
      },
      "execution_count": null,
      "outputs": [
        {
          "output_type": "stream",
          "name": "stdout",
          "text": [
            "Writing model_training/v0.py\n"
          ]
        }
      ]
    },
    {
      "cell_type": "code",
      "execution_count": null,
      "metadata": {
        "id": "eNfZjvrUWKYH",
        "outputId": "402af262-e504-4875-9004-e6d3420786e4"
      },
      "outputs": [
        {
          "name": "stdout",
          "output_type": "stream",
          "text": [
            "Overwriting model_training/v0.py\n"
          ]
        }
      ],
      "source": [
        "%%writefile model_training/v0.py\n",
        "\n",
        "# Defines number of epochs\n",
        "n_epochs = 1000\n",
        "\n",
        "for epoch in range(n_epochs):\n",
        "    # Sets model to TRAIN mode\n",
        "    model.train()\n",
        "\n",
        "    # Step 1 - Computes model's predicted output - forward pass\n",
        "    yhat = model(x_train_tensor)\n",
        "    \n",
        "    # Step 2 - Computes the loss\n",
        "    loss = loss_fn(yhat, y_train_tensor)\n",
        "\n",
        "    # Step 3 - Computes gradients for both \"b\" and \"w\" parameters\n",
        "    loss.backward()\n",
        "    \n",
        "    # Step 4 - Updates parameters using gradients and \n",
        "    # the learning rate\n",
        "    optimizer.step()\n",
        "    optimizer.zero_grad()"
      ]
    },
    {
      "cell_type": "code",
      "execution_count": null,
      "metadata": {
        "id": "jQlQbvZYWKYH"
      },
      "outputs": [],
      "source": [
        "%run -i model_training/v0.py"
      ]
    },
    {
      "cell_type": "code",
      "execution_count": null,
      "metadata": {
        "id": "iHT4p3UzWKYI",
        "outputId": "fe0b7e7b-87bc-4a0f-fc0d-5dedd4fdf2d2",
        "colab": {
          "base_uri": "https://localhost:8080/"
        }
      },
      "outputs": [
        {
          "output_type": "stream",
          "name": "stdout",
          "text": [
            "OrderedDict([('0.weight', tensor([[-0.2127],\n",
            "        [-0.5267],\n",
            "        [ 0.2133],\n",
            "        [-1.1042],\n",
            "        [ 0.9631],\n",
            "        [-0.8638],\n",
            "        [ 0.8144],\n",
            "        [ 0.1881],\n",
            "        [-0.2542],\n",
            "        [ 0.7408],\n",
            "        [ 0.2019],\n",
            "        [ 0.8583]])), ('0.bias', tensor([ 0.1501, -0.2505,  0.3175, -0.2910,  0.4041,  0.8932,  0.5672, -0.4199,\n",
            "         0.5984,  0.2137,  0.5009, -0.5927])), ('1.weight', tensor([[-0.2764, -0.0742, -0.2361,  0.2955,  0.0255,  0.1356,  0.0357, -0.0009,\n",
            "          0.2239, -0.2429, -0.0050, -0.2200],\n",
            "        [ 0.0669, -0.1647,  0.1116, -0.1747,  0.3456, -0.2363, -0.0758, -0.1649,\n",
            "          0.2445,  0.1708,  0.3087, -0.1680],\n",
            "        [-0.2539, -0.0962, -0.2467,  0.3245, -0.0993,  0.2997, -0.3442, -0.1841,\n",
            "          0.1474, -0.2513,  0.0949, -0.1523],\n",
            "        [ 0.1849, -0.1465, -0.1775,  0.2144, -0.0616, -0.0346,  0.0544,  0.2027,\n",
            "         -0.2115, -0.2363,  0.2166, -0.1504],\n",
            "        [-0.0649, -0.1482, -0.2161,  0.2911, -0.2470, -0.1198, -0.1895, -0.1957,\n",
            "         -0.2359, -0.3014, -0.3262, -0.2922]])), ('1.bias', tensor([ 0.2593,  0.0806, -0.0116, -0.3280, -0.2713])), ('2.weight', tensor([[-0.2206,  0.3665, -0.5764, -0.2890, -0.5979]])), ('2.bias', tensor([0.3119]))])\n"
          ]
        }
      ],
      "source": [
        "print(model.state_dict())"
      ]
    },
    {
      "cell_type": "code",
      "execution_count": null,
      "metadata": {
        "id": "NPpZgBbvWKYI"
      },
      "outputs": [],
      "source": [
        ""
      ]
    }
  ],
  "metadata": {
    "kernelspec": {
      "display_name": "Python 3",
      "language": "python",
      "name": "python3"
    },
    "language_info": {
      "codemirror_mode": {
        "name": "ipython",
        "version": 3
      },
      "file_extension": ".py",
      "mimetype": "text/x-python",
      "name": "python",
      "nbconvert_exporter": "python",
      "pygments_lexer": "ipython3",
      "version": "3.7.5"
    },
    "colab": {
      "name": "Pytorch Stepbytep| Chapter01.ipynb",
      "provenance": [],
      "collapsed_sections": [
        "-EPGSsLcWKX1",
        "m2oBsIdDWKX-",
        "pcbNYP9KWKX-",
        "VOFrq5BQWKX_",
        "2lZ7fX_pWKYE"
      ],
      "include_colab_link": true
    }
  },
  "nbformat": 4,
  "nbformat_minor": 0
}