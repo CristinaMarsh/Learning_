{
  "cells": [
    {
      "cell_type": "markdown",
      "metadata": {
        "id": "view-in-github",
        "colab_type": "text"
      },
      "source": [
        "<a href=\"https://colab.research.google.com/github/CristinaMarsh/Learning_/blob/main/PytorchStepbystep/C_02_1.ipynb\" target=\"_parent\"><img src=\"https://colab.research.google.com/assets/colab-badge.svg\" alt=\"Open In Colab\"/></a>"
      ]
    },
    {
      "cell_type": "markdown",
      "metadata": {
        "id": "lJu8rtRg1JYc"
      },
      "source": [
        "# Deep Learning with PyTorch Step-by-Step: A Beginner's Guide"
      ]
    },
    {
      "cell_type": "markdown",
      "metadata": {
        "id": "vx4x_CU71JYc"
      },
      "source": [
        "# Chapter 2.1"
      ]
    },
    {
      "cell_type": "code",
      "execution_count": 1,
      "metadata": {
        "id": "xYn9gzb61JYd",
        "outputId": "ade3df77-e921-4bdb-87b4-64d92173ee24",
        "colab": {
          "base_uri": "https://localhost:8080/"
        }
      },
      "outputs": [
        {
          "output_type": "stream",
          "name": "stdout",
          "text": [
            "Downloading files from GitHub repo to Colab...\n",
            "Finished!\n"
          ]
        }
      ],
      "source": [
        "try:\n",
        "    import google.colab\n",
        "    import requests\n",
        "    url = 'https://raw.githubusercontent.com/dvgodoy/PyTorchStepByStep/master/config.py'\n",
        "    r = requests.get(url, allow_redirects=True)\n",
        "    open('config.py', 'wb').write(r.content)    \n",
        "except ModuleNotFoundError:\n",
        "    pass\n",
        "\n",
        "from config import *\n",
        "config_chapter2_1()\n",
        "# This is needed to render the plots in this chapter\n",
        "from plots.chapter2_1 import *"
      ]
    },
    {
      "cell_type": "code",
      "execution_count": 2,
      "metadata": {
        "id": "9phtM6hu1JYe"
      },
      "outputs": [],
      "source": [
        "import numpy as np\n",
        "import datetime\n",
        "\n",
        "import torch\n",
        "import torch.optim as optim\n",
        "import torch.nn as nn\n",
        "import torch.functional as F\n",
        "from torch.utils.data import DataLoader, TensorDataset, random_split\n",
        "from torch.utils.tensorboard import SummaryWriter\n",
        "\n",
        "import matplotlib.pyplot as plt\n",
        "%matplotlib inline\n",
        "plt.style.use('fivethirtyeight')"
      ]
    },
    {
      "cell_type": "markdown",
      "metadata": {
        "id": "t03Hulp_1JYe"
      },
      "source": [
        "# Going Classy"
      ]
    },
    {
      "cell_type": "markdown",
      "metadata": {
        "id": "8DxeuDrq1JYe"
      },
      "source": [
        "## The Class\n",
        "\n",
        "Summary by christina:\n",
        "\n",
        "building a class from the **constructor**\n",
        "\n",
        "\n",
        "That would be the **constructor**, the `__init__(self)` method that we've already seen a couple of times when handling both model and dataset classes.\n",
        "\n",
        "The constructor defines the parts that make up the class. These parts are the attributes of the class. Typical attributes include:\n",
        "- **arguments** provided by the user\n",
        "- **placeholders** for other objects that are not available at the moment of creation (pretty much like delayed arguments)\n",
        "- **variables** we may want to keep track of\n",
        "- **functions** that are dynamically built using some of the arguments and higherorder functions\n",
        "\n",
        "Let's see how each one of those applies to our problem."
      ]
    },
    {
      "cell_type": "code",
      "execution_count": null,
      "metadata": {
        "id": "LdzE5ldw1JYe"
      },
      "outputs": [],
      "source": [
        "# A completely empty (and useless) class\n",
        "class StepByStep(object):\n",
        "    pass"
      ]
    },
    {
      "cell_type": "markdown",
      "metadata": {
        "id": "t61w9m3c1JYf"
      },
      "source": [
        "## The Constructor\n",
        "\n",
        "\n",
        "#### **Arguments**\n",
        "Let's start with the arguments, the part that needs to be specified by the user. At the beginning of Chapter 2 , we asked ourselves: \"Would the code inside the training loop change if we were using a different **optimizer,** or **loss**, or even **model**?\". The answer was and still is, no, it wouldn't change.\n",
        "\n",
        "So, these three elements, optimizer, loss, and model, will be our main arguments. The user needs to specify those; we can't figure them on our own.\n",
        "\n",
        "But there is one more piece of information needed: the device to be used for training the model. Instead of asking the user to inform it, we'll automatically check if there is a GPU available and fall back to a CPU if there isn't. But we still want to give the user a chance to use a different device (whatever the reason may be); thus, we add a very simple method (conveniently named to) that allows the user to specify a device.\n",
        "\n",
        "Our constructor `(__init__)` method will initially look like this:"
      ]
    },
    {
      "cell_type": "markdown",
      "metadata": {
        "id": "21blOOxj1JYf"
      },
      "source": [
        "### Arguments"
      ]
    },
    {
      "cell_type": "code",
      "source": [
        "#auhor: Christina\n",
        "\n",
        "class StepByStep(object):\n",
        "  def __init__(self, model, loss_fn, optimizer):\n",
        "    self.model = model\n",
        "    self.loss_fn = loss_fn\n",
        "    self.optimizer = optimizer\n",
        "    self.device = 'cuda' if torch.cuda.is_available() else 'cpu'\n",
        "    self.model.to(self.device)\n",
        "\n",
        "  def to(self, device):\n",
        "    try:\n",
        "\n",
        "      self.device = device\n",
        "      self.model.to(self.device)\n",
        "    except RuntimeError:\n",
        "        self.device = 'cuda' if torch.cuda.is_available() else 'cpu'\n",
        "        print(f\"Couldn't send it to {device}, sending it to {self.device} instead.\")\n",
        "        self.model.to(self.device)"
      ],
      "metadata": {
        "id": "pp7W7XTY2aI4"
      },
      "execution_count": null,
      "outputs": []
    },
    {
      "cell_type": "code",
      "execution_count": null,
      "metadata": {
        "id": "FBMhBMCV1JYg"
      },
      "outputs": [],
      "source": [
        "class StepByStep(object):\n",
        "    def __init__(self, model, loss_fn, optimizer):\n",
        "        # Here we define the attributes of our class\n",
        "        \n",
        "        # We start by storing the arguments as attributes \n",
        "        # to use them later\n",
        "        self.model = model\n",
        "        self.loss_fn = loss_fn\n",
        "        self.optimizer = optimizer\n",
        "        self.device = 'cuda' if torch.cuda.is_available() else 'cpu'\n",
        "        # Let's send the model to the specified device right away\n",
        "        self.model.to(self.device)\n",
        "        \n",
        "    def to(self, device):\n",
        "        # This method allows the user to specify a different device\n",
        "        # It sets the corresponding attribute (to be used later in\n",
        "        # the mini-batches) and sends the model to the device\n",
        "        try:\n",
        "            self.device = device\n",
        "            self.model.to(self.device)\n",
        "        except RuntimeError:\n",
        "            self.device = 'cuda' if torch.cuda.is_available() else 'cpu'\n",
        "            print(f\"Couldn't send it to {device}, sending it to {self.device} instead.\")\n",
        "            self.model.to(self.device)"
      ]
    },
    {
      "cell_type": "markdown",
      "metadata": {
        "id": "AYqOKdZ-1JYg"
      },
      "source": [
        "### Placeholders\n",
        "\n",
        "\n",
        "Next, let's tackle the placeholders or delayed arguments. We expect the user to eventually provide some of those, as they are not necessarily required. There are another three elements that fall into that category: train and validation data loaders and a summary writer to interface with TensorBoard.\n",
        "\n",
        "We need to append the following code to the constructor method above (I am not reproducing the rest of the method here for the sake of simplicity - in the Jupyter notebook you'll find the full code):"
      ]
    },
    {
      "cell_type": "code",
      "source": [
        "# These attributes are defined here, but since they are\n",
        "# not available at the moment of creation, we keep them None\n",
        "class Something(StepByStep):\n",
        "  def __init__():\n",
        "    self.train_loader = None\n",
        "    self.test_loader = None\n",
        "    self.writer = None\n",
        "    pass"
      ],
      "metadata": {
        "id": "3NPbelOS32wS"
      },
      "execution_count": null,
      "outputs": []
    },
    {
      "cell_type": "markdown",
      "source": [
        "\n",
        "The validation data loader is not required\n",
        "\n",
        "The train data loader is obviously required. How could we possibly train a model\n",
        "without it?\n",
        "\n",
        "\n",
        "Conceptually speaking, the data loader (and the dataset it contains) is not part of the model. It is the input we use to train the model. **Since we can specify a model without it, it shouldn't be made an argument of our class.**\n",
        "\n",
        "In other words, our StepByStep class is defined by a **particular combination of arguments (model, loss function, and optimizer)**, which can then be used to perform model training on any (compatible) dataset.\n",
        "\n",
        "The validation data loader is not required (although it is recommended), and the summary writer is definitely optional.\n",
        "\n",
        "The class should implement methods to allow the user to inform those at a later time (both methods should be placed inside the StepByStep class, after the constructor method):"
      ],
      "metadata": {
        "id": "DTaIz3Vi4iRq"
      }
    },
    {
      "cell_type": "code",
      "source": [
        "#Christina\n",
        "\n",
        "class StepByStep(object):\n",
        "  def __init__(self, model, loss_fn, optimizer):\n",
        "    self.model = model\n",
        "    self.loss_fn = loss_fn\n",
        "    self.optimizer = optimizer\n",
        "    self.device = 'cuda' if torch.cuda.is_available() else 'cpu'\n",
        "    self.model.to(self.device)\n",
        "\n",
        "    self.train_loader = None \n",
        "    self.val_loader = None\n",
        "    self.writer = None\n",
        "\n",
        "  def to(self, device):\n",
        "    \n",
        "    try:\n",
        "        self.device = device\n",
        "        self.model.to(self.device)\n",
        "    except RuntimeError:\n",
        "        self.device = 'cuda' if torch.cuda.is_available() else 'cpu'\n",
        "        print(f\"Couldn't send it to {device}, sending it to {self.device} instead.\")\n",
        "        self.model.to(self.device)\n",
        "  def set_loaders(train_loader,val_loader=None): #Here, None means optinally\n",
        "    self.train_loader = train_loader\n",
        "    self.val_loader = val_loader\n",
        "  def set_tensorboard(self,name,folder='runs'):\n",
        "    suffix = datetime.datetime.now().strftime('%Y%m%d%H%M%S')\n",
        "    self.writter = SummaryWriter(f'{folder}/{name}_{suffix}')"
      ],
      "metadata": {
        "id": "v-3GkUga5dk4"
      },
      "execution_count": null,
      "outputs": []
    },
    {
      "cell_type": "code",
      "execution_count": null,
      "metadata": {
        "id": "yRDQGvfJ1JYg"
      },
      "outputs": [],
      "source": [
        "\n",
        "\n",
        "class StepByStep(object):\n",
        "    def __init__(self, model, loss_fn, optimizer):\n",
        "        # Here we define the attributes of our class\n",
        "        \n",
        "        # We start by storing the arguments as attributes \n",
        "        # to use them later\n",
        "        self.model = model\n",
        "        self.loss_fn = loss_fn\n",
        "        self.optimizer = optimizer\n",
        "        self.device = 'cuda' if torch.cuda.is_available() else 'cpu'\n",
        "        # Let's send the model to the specified device right away\n",
        "        self.model.to(self.device)\n",
        "        \n",
        "        # These attributes are defined here, but since they are\n",
        "        # not available at the moment of creation, we keep them None\n",
        "        self.train_loader = None\n",
        "        self.val_loader = None\n",
        "        self.writer = None\n",
        "\n",
        "    def to(self, device):\n",
        "        # This method allows the user to specify a different device\n",
        "        # It sets the corresponding attribute (to be used later in\n",
        "        # the mini-batches) and sends the model to the device\n",
        "        try:\n",
        "            self.device = device\n",
        "            self.model.to(self.device)\n",
        "        except RuntimeError:\n",
        "            self.device = 'cuda' if torch.cuda.is_available() else 'cpu'\n",
        "            print(f\"Couldn't send it to {device}, sending it to {self.device} instead.\")\n",
        "            self.model.to(self.device)\n",
        "\n",
        "    def set_loaders(self, train_loader, val_loader=None):\n",
        "        # This method allows the user to define which train_loader \n",
        "        # (and val_loader, optionally) to use\n",
        "        # Both loaders are then assigned to attributes of the class\n",
        "        # So they can be referred to later\n",
        "        self.train_loader = train_loader\n",
        "        self.val_loader = val_loader\n",
        "\n",
        "    def set_tensorboard(self, name, folder='runs'):\n",
        "        # This method allows the user to create a SummaryWriter to \n",
        "        # interface with TensorBoard\n",
        "        suffix = datetime.datetime.now().strftime('%Y%m%d%H%M%S')\n",
        "        self.writer = SummaryWriter(f'{folder}/{name}_{suffix}')"
      ]
    },
    {
      "cell_type": "markdown",
      "metadata": {
        "id": "FKfjsdtg1JYh"
      },
      "source": [
        "### Variables\n",
        "\n",
        "\n",
        "Then, there are variables we may want to keep track of. Typical examples are **the number of epochs**, and the **training and validation losses**. These variables are likely to be computed and updated internally by the class.\n",
        "\n",
        "We need to append the following code to the constructor method once again (like we did with the placeholders):"
      ]
    },
    {
      "cell_type": "code",
      "execution_count": null,
      "metadata": {
        "id": "Ah8mtg3l1JYh"
      },
      "outputs": [],
      "source": [
        "class StepByStep(object):\n",
        "    def __init__(self, model, loss_fn, optimizer):\n",
        "        # Here we define the attributes of our class\n",
        "        \n",
        "        # We start by storing the arguments as attributes \n",
        "        # to use them later\n",
        "        #1. \n",
        "        self.model = model\n",
        "        self.loss_fn = loss_fn\n",
        "        self.optimizer = optimizer\n",
        "        self.device = 'cuda' if torch.cuda.is_available() else 'cpu'\n",
        "        # Let's send the model to the specified device right away\n",
        "        self.model.to(self.device)\n",
        "        \n",
        "        # These attributes are defined here, but since they are\n",
        "        # not available at the moment of creation, we keep them None\n",
        "\n",
        "        self.train_loader = None\n",
        "        self.val_loader = None\n",
        "        self.writer = None\n",
        "\n",
        "        # These attributes are going to be computed internally\n",
        "        #3. \n",
        "        self.losses = []\n",
        "        self.val_losses = []\n",
        "        self.total_epochs = 0\n",
        "\n",
        "    def to(self, device):\n",
        "        # This method allows the user to specify a different device\n",
        "        # It sets the corresponding attribute (to be used later in\n",
        "        # the mini-batches) and sends the model to the device\n",
        "        try:\n",
        "            self.device = device\n",
        "            self.model.to(self.device)\n",
        "        except RuntimeError:\n",
        "            self.device = 'cuda' if torch.cuda.is_available() else 'cpu'\n",
        "            print(f\"Couldn't send it to {device}, sending it to {self.device} instead.\")\n",
        "            self.model.to(self.device)\n",
        "\n",
        "    def set_loaders(self, train_loader, val_loader=None):\n",
        "        # This method allows the user to define which train_loader \n",
        "        # (and val_loader, optionally) to use\n",
        "        # Both loaders are then assigned to attributes of the class\n",
        "        # So they can be referred to later\n",
        "        self.train_loader = train_loader\n",
        "        self.val_loader = val_loader\n",
        "\n",
        "    def set_tensorboard(self, name, folder='runs'):\n",
        "        # This method allows the user to create a SummaryWriter to \n",
        "        # interface with TensorBoard\n",
        "        suffix = datetime.datetime.now().strftime('%Y%m%d%H%M%S')\n",
        "        self.writer = SummaryWriter(f'{folder}/{name}_{suffix}')"
      ]
    },
    {
      "cell_type": "markdown",
      "metadata": {
        "id": "tKeEnz5Y1JYi"
      },
      "source": [
        "### Functions"
      ]
    },
    {
      "cell_type": "code",
      "execution_count": null,
      "metadata": {
        "id": "s3Pu34nj1JYi"
      },
      "outputs": [],
      "source": [
        "class StepByStep(object):\n",
        "    def __init__(self, model, loss_fn, optimizer):\n",
        "        # Here we define the attributes of our class\n",
        "        \n",
        "        # We start by storing the arguments as attributes \n",
        "        # to use them later\n",
        "        #1.\n",
        "        self.model = model\n",
        "        self.loss_fn = loss_fn\n",
        "        self.optimizer = optimizer\n",
        "        self.device = 'cuda' if torch.cuda.is_available() else 'cpu'\n",
        "        # Let's send the model to the specified device right away\n",
        "        self.model.to(self.device)\n",
        "        \n",
        "        # These attributes are defined here, but since they are\n",
        "        # not available at the moment of creation, we keep them None\n",
        "        #2.\n",
        "        self.train_loader = None\n",
        "        self.val_loader = None\n",
        "        self.writer = None\n",
        "\n",
        "        # These attributes are going to be computed internally\n",
        "        #3.\n",
        "        self.losses = []\n",
        "        self.val_losses = []\n",
        "        self.total_epochs = 0\n",
        "\n",
        "        # Creates the train_step function for our model, \n",
        "        # loss function and optimizer\n",
        "        # Note: there are NO ARGS there! It makes use of the class\n",
        "        # attributes directly\n",
        "        #4.\n",
        "        self.train_step = self._make_train_step()\n",
        "        # Creates the val_step function for our model and loss\n",
        "        self.val_step = self._make_val_step()\n",
        "\n",
        "    def to(self, device):\n",
        "        # This method allows the user to specify a different device\n",
        "        # It sets the corresponding attribute (to be used later in\n",
        "        # the mini-batches) and sends the model to the device\n",
        "        try:\n",
        "            self.device = device\n",
        "            self.model.to(self.device)\n",
        "        except RuntimeError:\n",
        "            self.device = 'cuda' if torch.cuda.is_available() else 'cpu'\n",
        "            print(f\"Couldn't send it to {device}, sending it to {self.device} instead.\")\n",
        "            self.model.to(self.device)\n",
        "\n",
        "    def set_loaders(self, train_loader, val_loader=None):\n",
        "        # This method allows the user to define which train_loader \n",
        "        # (and val_loader, optionally) to use\n",
        "        # Both loaders are then assigned to attributes of the class\n",
        "        # So they can be referred to later\n",
        "        self.train_loader = train_loader\n",
        "        self.val_loader = val_loader\n",
        "\n",
        "    def set_tensorboard(self, name, folder='runs'):\n",
        "        # This method allows the user to create a SummaryWriter to \n",
        "        # interface with TensorBoard\n",
        "        suffix = datetime.datetime.now().strftime('%Y%m%d%H%M%S')\n",
        "        self.writer = SummaryWriter(f'{folder}/{name}_{suffix}')"
      ]
    },
    {
      "cell_type": "markdown",
      "metadata": {
        "id": "VhSY07lc1JYi"
      },
      "source": [
        "### Step Methods"
      ]
    },
    {
      "cell_type": "code",
      "source": [
        "#Christina\n",
        "\n",
        "def _make_train_fn(self):\n",
        "\n",
        "  def perform_train_step_fn(x,y):\n",
        "    self.model.train()\n",
        "\n",
        "    yhat = self.model(x)\n",
        "    loss = self.loss_fn(yhat,y)\n",
        "    loss.backward()\n",
        "    self.optimizer.step()\n",
        "    self.optimizer.zero_grad()\n",
        "\n",
        "    return loss.item()\n",
        "\n",
        "  return perform_train_step_fn\n",
        "\n",
        "def _make_val_step_fn(self):\n",
        "  def perform_val_step_fn(x,y):\n",
        "    self.model.eval()\n",
        "\n",
        "    yhat = self.model(x)\n",
        "    loss = self.loss_fn(yhat,y)\n",
        "    return loss.item()\n",
        "\n",
        "  return perform_val_step_fn"
      ],
      "metadata": {
        "id": "4J4yR2oR9h2Y"
      },
      "execution_count": null,
      "outputs": []
    },
    {
      "cell_type": "code",
      "execution_count": null,
      "metadata": {
        "id": "M-FSA2Jd1JYi"
      },
      "outputs": [],
      "source": [
        "def _make_train_step_fn(self):\n",
        "    # This method does not need ARGS... it can refer to\n",
        "    # the attributes: self.model, self.loss_fn and self.optimizer\n",
        "\n",
        "    # Builds function that performs a step in the train loop\n",
        "    def perform_train_step_fn(x, y):\n",
        "        # Sets model to TRAIN mode\n",
        "        self.model.train()\n",
        "\n",
        "        # Step 1 - Computes our model's predicted output - forward pass\n",
        "        yhat = self.model(x)\n",
        "        # Step 2 - Computes the loss\n",
        "        loss = self.loss_fn(yhat, y)\n",
        "        # Step 3 - Computes gradients for both \"b\" and \"w\" parameters\n",
        "        loss.backward()\n",
        "        # Step 4 - Updates parameters using gradients and the\n",
        "        # learning rate\n",
        "        self.optimizer.step()\n",
        "        self.optimizer.zero_grad()\n",
        "\n",
        "        # Returns the loss\n",
        "        return loss.item()\n",
        "\n",
        "    # Returns the function that will be called inside the train loop\n",
        "    return perform_train_step_fn\n",
        "\n",
        "def _make_val_step_fn(self):\n",
        "    # Builds function that performs a step in the validation loop\n",
        "    def perform_val_step_fn(x, y):\n",
        "        # Sets model to EVAL mode\n",
        "        self.model.eval()\n",
        "\n",
        "        # Step 1 - Computes our model's predicted output - forward pass\n",
        "        yhat = self.model(x)\n",
        "        # Step 2 - Computes the loss\n",
        "        loss = self.loss_fn(yhat, y)\n",
        "        # There is no need to compute Steps 3 and 4, \n",
        "        # since we don't update parameters during evaluation\n",
        "        return loss.item()\n",
        "\n",
        "    return perform_val_step_fn"
      ]
    },
    {
      "cell_type": "markdown",
      "source": [
        "Why these methods have an underscore as a prefix? How is this `__init__` method?\n",
        "\n",
        "\n",
        "Methods, _methods and __methods\n",
        "Some programming languages, like Java, have three kinds of methods: public,\n",
        "protected, and private. Public methods are the kind you’re most familiar\n",
        "with: they can be called by the user.\n",
        "Protected methods, on the other hand, shouldn’t be called by the user - they\n",
        "are supposed to be called either internally or by the child class (the child\n",
        "class can call a protected method from its parent class).\n",
        "Finally, private methods are supposed to be called exclusively internally.\n",
        "They should be invisible even to a child class.\n",
        "These rules are strictly enforced in Java, but Python takes a more relaxed\n",
        "approach: all methods are public, meaning you can call whatever method\n",
        "you want. But you can suggest the appropriate usage by prefixing the\n",
        "method name with a single underscore (for protected methods) or a double\n",
        "underscore (for private methods). This way, the user is aware of the\n",
        "programmer’s intention.\"\n",
        "\n",
        "\n",
        "\n",
        "In our example, both _make_train_step and _make_val_step are defined as\n",
        "protected methods. I expect users not to call them directly, but if someone\n",
        "decides to define a class that inherits from StepByStep, they should feel entitled to\n",
        "do so."
      ],
      "metadata": {
        "id": "2U3EeGTC9RHB"
      }
    },
    {
      "cell_type": "code",
      "execution_count": null,
      "metadata": {
        "id": "iIWxl6uc1JYi"
      },
      "outputs": [],
      "source": [
        "# ATTENTION! Using SETATTR for educational purposes only :-)\n",
        "setattr(StepByStep, '_make_train_step_fn', _make_train_step_fn)\n",
        "setattr(StepByStep, '_make_val_step_fn', _make_val_step_fn)"
      ]
    },
    {
      "cell_type": "markdown",
      "metadata": {
        "id": "slzeG-FF1JYj"
      },
      "source": [
        "### setattr\n",
        "\n",
        "\n",
        "**The setattr function sets the value of the specified attribute of a given object. **But methods are also attributes, so we can use this function to \"attach\" a method to an existing class and to all its existing instances in one go!\n",
        "\n",
        "Yes, this is a hack! No, you should not use it in your regular code! Using setattr to build a class by appending methods to it incrementally serves educational purposes only.\n",
        "\n",
        "To illustrate how it works and why it may be dangerous, I will show you a little example. Let's create a simple Dog class, which takes only the dog's name as argument:"
      ]
    },
    {
      "cell_type": "code",
      "execution_count": null,
      "metadata": {
        "id": "7k6gXRRF1JYj"
      },
      "outputs": [],
      "source": [
        "class Dog(object):\n",
        "    def __init__(self, name):\n",
        "        self.name = name"
      ]
    },
    {
      "cell_type": "code",
      "execution_count": null,
      "metadata": {
        "id": "OIKj-U9b1JYj",
        "outputId": "eb1d49e0-c8ed-4576-b39c-00eea3e41f21",
        "colab": {
          "base_uri": "https://localhost:8080/"
        }
      },
      "outputs": [
        {
          "output_type": "stream",
          "name": "stdout",
          "text": [
            "Rex\n"
          ]
        }
      ],
      "source": [
        "rex = Dog('Rex')\n",
        "print(rex.name)"
      ]
    },
    {
      "cell_type": "code",
      "execution_count": null,
      "metadata": {
        "id": "PZT4Ch7i1JYj"
      },
      "outputs": [],
      "source": [
        "def bark(dog):\n",
        "    print('{} barks: \"Woof!\"'.format(dog.name))"
      ]
    },
    {
      "cell_type": "code",
      "execution_count": null,
      "metadata": {
        "id": "9isWkN5G1JYk",
        "outputId": "584e8ede-d3db-4fcc-8d21-e9fb78a8e799",
        "colab": {
          "base_uri": "https://localhost:8080/"
        }
      },
      "outputs": [
        {
          "output_type": "stream",
          "name": "stdout",
          "text": [
            "Rex barks: \"Woof!\"\n"
          ]
        }
      ],
      "source": [
        "bark(rex)"
      ]
    },
    {
      "cell_type": "code",
      "execution_count": null,
      "metadata": {
        "id": "OhAQAWHC1JYk"
      },
      "outputs": [],
      "source": [
        "def bark(self):\n",
        "    print('{} barks: \"Woof!\"'.format(self.name))\n",
        "\n",
        "setattr(Dog, 'bark', bark)"
      ]
    },
    {
      "cell_type": "code",
      "execution_count": null,
      "metadata": {
        "id": "Km9PK3qv1JYk",
        "outputId": "dbff53d8-4f5c-438d-92ae-9b217da3b32d",
        "colab": {
          "base_uri": "https://localhost:8080/"
        }
      },
      "outputs": [
        {
          "output_type": "stream",
          "name": "stdout",
          "text": [
            "Fido barks: \"Woof!\"\n"
          ]
        }
      ],
      "source": [
        "fido = Dog('Fido')\n",
        "fido.bark()"
      ]
    },
    {
      "cell_type": "code",
      "execution_count": null,
      "metadata": {
        "id": "mTdubvvw1JYk",
        "outputId": "bc4d06ac-e8e6-4107-eddb-231a7cd89441",
        "colab": {
          "base_uri": "https://localhost:8080/"
        }
      },
      "outputs": [
        {
          "output_type": "stream",
          "name": "stdout",
          "text": [
            "Rex barks: \"Woof!\"\n"
          ]
        }
      ],
      "source": [
        "rex.bark()"
      ]
    },
    {
      "cell_type": "markdown",
      "metadata": {
        "id": "xVb8g4ua1JYk"
      },
      "source": [
        "## Training Methods"
      ]
    },
    {
      "cell_type": "markdown",
      "metadata": {
        "id": "vfbEy8aN1JYk"
      },
      "source": [
        "### Mini-Batch"
      ]
    },
    {
      "cell_type": "code",
      "source": [
        "# Christina\n",
        "def _mini_batch(self, validation=False):\n",
        "  if validation:\n",
        "    data_loader = self.val_loader\n",
        "    step_fn = self.val_step_fn\n",
        "\n",
        "  else:\n",
        "    data_loader = self.train_loader\n",
        "    step_fn = self.train_step_fn\n",
        "\n",
        "  mini_batch_losses = []\n",
        "  for x_batch, y_batch in data_loader:\n",
        "    x_batch = x_batch.to(self.device)\n",
        "    y_batch = y_batch.to(self.device)\n",
        "\n",
        "    mini_batch_loss = step_fn(x_batch,y_batch)\n",
        "    mini_batch_losses.append(mini_batch_loss)\n",
        "\n",
        "  loss = np.mean(mini_batch_losses)\n",
        "\n",
        "  return loss\n",
        "\n",
        "setattr(StepByStep,'_mini_batch',_mini_batch)"
      ],
      "metadata": {
        "id": "HbTP3NBfAcpV"
      },
      "execution_count": null,
      "outputs": []
    },
    {
      "cell_type": "code",
      "execution_count": null,
      "metadata": {
        "id": "s8JoUVXf1JYk"
      },
      "outputs": [],
      "source": [
        "def _mini_batch(self, validation=False):\n",
        "    # The mini-batch can be used with both loaders\n",
        "    # The argument `validation`defines which loader and \n",
        "    # corresponding step function is going to be used\n",
        "    if validation:\n",
        "        data_loader = self.val_loader\n",
        "        step_fn = self.val_step_fn\n",
        "    else:\n",
        "        data_loader = self.train_loader\n",
        "        step_fn = self.train_step_fn\n",
        "\n",
        "    if data_loader is None:\n",
        "        return None\n",
        "\n",
        "    # Once the data loader and step function, this is the same\n",
        "    # mini-batch loop we had before\n",
        "    mini_batch_losses = []\n",
        "    for x_batch, y_batch in data_loader:\n",
        "        x_batch = x_batch.to(self.device)\n",
        "        y_batch = y_batch.to(self.device)\n",
        "\n",
        "        mini_batch_loss = step_fn(x_batch, y_batch)\n",
        "        mini_batch_losses.append(mini_batch_loss)\n",
        "\n",
        "    loss = np.mean(mini_batch_losses)\n",
        "\n",
        "    return loss\n",
        "\n",
        "setattr(StepByStep, '_mini_batch', _mini_batch)"
      ]
    },
    {
      "cell_type": "markdown",
      "metadata": {
        "id": "7xATcFbC1JYl"
      },
      "source": [
        "### Training Loop"
      ]
    },
    {
      "cell_type": "code",
      "execution_count": null,
      "metadata": {
        "id": "y5w5QdQH1JYl"
      },
      "outputs": [],
      "source": [
        "def set_seed(self, seed=42):\n",
        "    torch.backends.cudnn.deterministic = True\n",
        "    torch.backends.cudnn.benchmark = False    \n",
        "    torch.manual_seed(seed)\n",
        "    np.random.seed(seed)\n",
        "    \n",
        "setattr(StepByStep, 'set_seed', set_seed)"
      ]
    },
    {
      "cell_type": "markdown",
      "source": [
        "It is also time to use the variables we defined as attributes in the constructor\n",
        "method: self.total_epochs, self.losses and self.val_losses. All of them are\n",
        "being updated inside the training loop"
      ],
      "metadata": {
        "id": "OmRMXXc9CHL1"
      }
    },
    {
      "cell_type": "code",
      "source": [
        "from sys import settrace\n",
        "#Christina\n",
        "\n",
        "def train(self, n_epochs, seed=42):\n",
        "  self.set_seed(seed)\n",
        "\n",
        "  for epoch in range(n_epochs):\n",
        "    self.total_epochs += 1\n",
        "\n",
        "    loss = self._mini_batch(validation=False)\n",
        "    self.losses.append(loss) #in class StepbyStep: self.losses = []\n",
        "\n",
        "    with torch.no_grad():\n",
        "      val_loss = self._mini_batch(validation=True)\n",
        "      self.val_losses.append(val_loss)\n",
        "\n",
        "    if self.writer: #Remember? class StepbyStep: self.writer = None\n",
        "      scalers = {'training': loss}\n",
        "      if val_loss is not None:\n",
        "        scalers.update({'validation':val_loss})\n",
        "        self.writer.add_scalars(main_tag='loss',\n",
        "                                tag_scalar_dict = scalars,\n",
        "                                global_step = epoch)\n",
        "  if self.writer:\n",
        "    self.writer.Flush()\n",
        "setattr(StepByStep, 'train', train)"
      ],
      "metadata": {
        "id": "EDxIyo83CEHN"
      },
      "execution_count": null,
      "outputs": []
    },
    {
      "cell_type": "code",
      "execution_count": null,
      "metadata": {
        "id": "G2rUwBEl1JYl"
      },
      "outputs": [],
      "source": [
        "def train(self, n_epochs, seed=42):\n",
        "    # To ensure reproducibility of the training process\n",
        "    self.set_seed(seed)\n",
        "    \n",
        "    for epoch in range(n_epochs):\n",
        "        # Keeps track of the numbers of epochs\n",
        "        # by updating the corresponding attribute\n",
        "        self.total_epochs += 1\n",
        "\n",
        "        # inner loop\n",
        "        # Performs training using mini-batches\n",
        "        loss = self._mini_batch(validation=False)\n",
        "        self.losses.append(loss)\n",
        "\n",
        "        # VALIDATION\n",
        "        # no gradients in validation!\n",
        "        with torch.no_grad():\n",
        "            # Performs evaluation using mini-batches\n",
        "            val_loss = self._mini_batch(validation=True)\n",
        "            self.val_losses.append(val_loss)\n",
        "\n",
        "        # If a SummaryWriter has been set...\n",
        "        if self.writer:\n",
        "            scalars = {'training': loss}\n",
        "            if val_loss is not None:\n",
        "                scalars.update({'validation': val_loss})\n",
        "            # Records both losses for each epoch under the main tag \"loss\"\n",
        "            self.writer.add_scalars(main_tag='loss',\n",
        "                                    tag_scalar_dict=scalars,\n",
        "                                    global_step=epoch)\n",
        "\n",
        "    if self.writer:\n",
        "        # Flushes the writer\n",
        "        self.writer.flush()\n",
        "        \n",
        "setattr(StepByStep, 'train', train)"
      ]
    },
    {
      "cell_type": "markdown",
      "metadata": {
        "id": "ONkI_gtj1JYl"
      },
      "source": [
        "## Saving and Loading Methods"
      ]
    },
    {
      "cell_type": "markdown",
      "metadata": {
        "id": "-E3Y4zk81JYl"
      },
      "source": [
        "### Saving"
      ]
    },
    {
      "cell_type": "code",
      "execution_count": null,
      "metadata": {
        "id": "oldzE9tY1JYl"
      },
      "outputs": [],
      "source": [
        "def save_checkpoint(self, filename):\n",
        "    # Builds dictionary with all elements for resuming training\n",
        "    checkpoint = {'epoch': self.total_epochs,\n",
        "                  'model_state_dict': self.model.state_dict(),\n",
        "                  'optimizer_state_dict': self.optimizer.state_dict(),\n",
        "                  'loss': self.losses,\n",
        "                  'val_loss': self.val_losses}\n",
        "\n",
        "    torch.save(checkpoint, filename)\n",
        "    \n",
        "setattr(StepByStep, 'save_checkpoint', save_checkpoint)"
      ]
    },
    {
      "cell_type": "markdown",
      "metadata": {
        "id": "JU0-O9d31JYl"
      },
      "source": [
        "### Loading"
      ]
    },
    {
      "cell_type": "code",
      "execution_count": null,
      "metadata": {
        "id": "Struyom31JYl"
      },
      "outputs": [],
      "source": [
        "def load_checkpoint(self, filename):\n",
        "    # Loads dictionary\n",
        "    checkpoint = torch.load(filename)\n",
        "\n",
        "    # Restore state for model and optimizer\n",
        "    self.model.load_state_dict(checkpoint['model_state_dict'])\n",
        "    self.optimizer.load_state_dict(checkpoint['optimizer_state_dict'])\n",
        "\n",
        "    self.total_epochs = checkpoint['epoch']\n",
        "    self.losses = checkpoint['loss']\n",
        "    self.val_losses = checkpoint['val_loss']\n",
        "\n",
        "    self.model.train() # always use TRAIN for resuming training   \n",
        "    \n",
        "setattr(StepByStep, 'load_checkpoint', load_checkpoint)"
      ]
    },
    {
      "cell_type": "markdown",
      "source": [
        "Notice that the** model is set to training mode after loading the checkpoint.**\n",
        "What about making predictions? To make it easier for the user to make predictions for any new data points, we will be handling all the Numpy to PyTorch back and forth conversion inside the function."
      ],
      "metadata": {
        "id": "3NDIkK94EWma"
      }
    },
    {
      "cell_type": "markdown",
      "metadata": {
        "id": "39BU3hAu1JYm"
      },
      "source": [
        "### Making Predictions"
      ]
    },
    {
      "cell_type": "code",
      "source": [
        "#Christina\n",
        "\n",
        "def predict(self, x):\n",
        "  self.model.eval()\n",
        "  x_tensor = torch.as_tensor(x).float()\n",
        "  y_hat_tensor = self.model(x_tensor.to(self.device))\n",
        "  self.model.train()\n",
        "  return y_hat_tensor.detach().cpu().numpy()\n",
        "\n",
        "setattr(StepByStep, 'predict', predict)"
      ],
      "metadata": {
        "id": "lANtVbvEEqVp"
      },
      "execution_count": null,
      "outputs": []
    },
    {
      "cell_type": "code",
      "execution_count": null,
      "metadata": {
        "id": "sJFlx9e51JYm"
      },
      "outputs": [],
      "source": [
        "def predict(self, x):\n",
        "    # Set is to evaluation mode for predictions\n",
        "    self.model.eval() \n",
        "    # Takes aNumpy input and make it a float tensor\n",
        "    x_tensor = torch.as_tensor(x).float()\n",
        "    # Send input to device and uses model for prediction\n",
        "    y_hat_tensor = self.model(x_tensor.to(self.device))\n",
        "    # Set it back to train mode\n",
        "    self.model.train()\n",
        "    # Detaches it, brings it to CPU and back to Numpy\n",
        "    return y_hat_tensor.detach().cpu().numpy()\n",
        "\n",
        "setattr(StepByStep, 'predict', predict)"
      ]
    },
    {
      "cell_type": "markdown",
      "metadata": {
        "id": "R5a35Ipw1JYm"
      },
      "source": [
        "## Visualization Methods"
      ]
    },
    {
      "cell_type": "markdown",
      "metadata": {
        "id": "lmvw0HoT1JYm"
      },
      "source": [
        "### Losses"
      ]
    },
    {
      "cell_type": "code",
      "execution_count": null,
      "metadata": {
        "id": "AWUQzffk1JYm"
      },
      "outputs": [],
      "source": [
        "def plot_losses(self):\n",
        "    fig = plt.figure(figsize=(10, 4))\n",
        "    plt.plot(self.losses, label='Training Loss', c='b')\n",
        "    if self.val_loader:\n",
        "        plt.plot(self.val_losses, label='Validation Loss', c='r')\n",
        "    plt.yscale('log')\n",
        "    plt.xlabel('Epochs')\n",
        "    plt.ylabel('Loss')\n",
        "    plt.legend()\n",
        "    plt.tight_layout()\n",
        "    return fig\n",
        "\n",
        "setattr(StepByStep, 'plot_losses', plot_losses)"
      ]
    },
    {
      "cell_type": "markdown",
      "metadata": {
        "id": "mWbUJBvQ1JYm"
      },
      "source": [
        "### Model Graph"
      ]
    },
    {
      "cell_type": "code",
      "execution_count": null,
      "metadata": {
        "id": "K5CX1j0U1JYm"
      },
      "outputs": [],
      "source": [
        "def add_graph(self):\n",
        "    if self.train_loader and self.writer:\n",
        "        # Fetches a single mini-batch so we can use add_graph\n",
        "        x_sample, y_sample = next(iter(self.train_loader))\n",
        "        self.writer.add_graph(self.model, x_sample.to(self.device))\n",
        "    \n",
        "setattr(StepByStep, 'add_graph', add_graph)"
      ]
    },
    {
      "cell_type": "markdown",
      "metadata": {
        "id": "8-VpOaeH1JYm"
      },
      "source": [
        "## The Full Code"
      ]
    },
    {
      "cell_type": "code",
      "execution_count": 18,
      "metadata": {
        "id": "d670tadR1JYm"
      },
      "outputs": [],
      "source": [
        "# %load stepbystep/v0.py\n",
        "\n",
        "import numpy as np\n",
        "import datetime\n",
        "import torch\n",
        "import matplotlib.pyplot as plt\n",
        "from torch.utils.tensorboard import SummaryWriter\n",
        "\n",
        "plt.style.use('fivethirtyeight')\n",
        "\n",
        "class StepByStep(object):\n",
        "    def __init__(self, model, loss_fn, optimizer):\n",
        "        # Here we define the attributes of our class\n",
        "        \n",
        "        # We start by storing the arguments as attributes \n",
        "        # to use them later\n",
        "        self.model = model\n",
        "        self.loss_fn = loss_fn\n",
        "        self.optimizer = optimizer\n",
        "        self.device = 'cuda' if torch.cuda.is_available() else 'cpu'\n",
        "        # Let's send the model to the specified device right away\n",
        "        self.model.to(self.device)\n",
        "\n",
        "        # These attributes are defined here, but since they are\n",
        "        # not informed at the moment of creation, we keep them None\n",
        "        self.train_loader = None\n",
        "        self.val_loader = None\n",
        "        self.writer = None\n",
        "        \n",
        "        # These attributes are going to be computed internally\n",
        "        self.losses = []\n",
        "        self.val_losses = []\n",
        "        self.total_epochs = 0\n",
        "\n",
        "        # Creates the train_step function for our model, \n",
        "        # loss function and optimizer\n",
        "        # Note: there are NO ARGS there! It makes use of the class\n",
        "        # attributes directly\n",
        "        self.train_step_fn = self._make_train_step_fn()\n",
        "        # Creates the val_step function for our model and loss\n",
        "        self.val_step_fn = self._make_val_step_fn()\n",
        "\n",
        "    def to(self, device):\n",
        "        # This method allows the user to specify a different device\n",
        "        # It sets the corresponding attribute (to be used later in\n",
        "        # the mini-batches) and sends the model to the device\n",
        "        try:\n",
        "            self.device = device\n",
        "            self.model.to(self.device)\n",
        "        except RuntimeError:\n",
        "            self.device = 'cuda' if torch.cuda.is_available() else 'cpu'\n",
        "            print(f\"Couldn't send it to {device}, sending it to {self.device} instead.\")\n",
        "            self.model.to(self.device)\n",
        "\n",
        "    def set_loaders(self, train_loader, val_loader=None):\n",
        "        # This method allows the user to define which train_loader (and val_loader, optionally) to use\n",
        "        # Both loaders are then assigned to attributes of the class\n",
        "        # So they can be referred to later\n",
        "        self.train_loader = train_loader\n",
        "        self.val_loader = val_loader\n",
        "\n",
        "    def set_tensorboard(self, name, folder='runs'):\n",
        "        # This method allows the user to define a SummaryWriter to interface with TensorBoard\n",
        "        suffix = datetime.datetime.now().strftime('%Y%m%d%H%M%S')\n",
        "        self.writer = SummaryWriter(f'{folder}/{name}_{suffix}')\n",
        "\n",
        "    def _make_train_step_fn(self):\n",
        "        # This method does not need ARGS... it can refer to\n",
        "        # the attributes: self.model, self.loss_fn and self.optimizer\n",
        "        \n",
        "        # Builds function that performs a step in the train loop\n",
        "        def perform_train_step_fn(x, y):\n",
        "            # Sets model to TRAIN mode\n",
        "            self.model.train()\n",
        "\n",
        "            # Step 1 - Computes our model's predicted output - forward pass\n",
        "            yhat = self.model(x)\n",
        "            # Step 2 - Computes the loss\n",
        "            loss = self.loss_fn(yhat, y)\n",
        "            # Step 3 - Computes gradients for both \"a\" and \"b\" parameters\n",
        "            loss.backward()\n",
        "            # Step 4 - Updates parameters using gradients and the learning rate\n",
        "            self.optimizer.step()\n",
        "            self.optimizer.zero_grad()\n",
        "\n",
        "            # Returns the loss\n",
        "            return loss.item()\n",
        "\n",
        "        # Returns the function that will be called inside the train loop\n",
        "        return perform_train_step_fn\n",
        "    \n",
        "    def _make_val_step_fn(self):\n",
        "        # Builds function that performs a step in the validation loop\n",
        "        def perform_val_step_fn(x, y):\n",
        "            # Sets model to EVAL mode\n",
        "            self.model.eval()\n",
        "\n",
        "            # Step 1 - Computes our model's predicted output - forward pass\n",
        "            yhat = self.model(x)\n",
        "            # Step 2 - Computes the loss\n",
        "            loss = self.loss_fn(yhat, y)\n",
        "            # There is no need to compute Steps 3 and 4, \n",
        "            # since we don't update parameters during evaluation\n",
        "            return loss.item()\n",
        "\n",
        "        return perform_val_step_fn\n",
        "            \n",
        "    def _mini_batch(self, validation=False):\n",
        "        # The mini-batch can be used with both loaders\n",
        "        # The argument `validation`defines which loader and \n",
        "        # corresponding step function is going to be used\n",
        "        if validation:\n",
        "            data_loader = self.val_loader\n",
        "            step_fn = self.val_step_fn\n",
        "        else:\n",
        "            data_loader = self.train_loader\n",
        "            step_fn = self.train_step_fn\n",
        "\n",
        "        if data_loader is None:\n",
        "            return None\n",
        "            \n",
        "        # Once the data loader and step function, this is the \n",
        "        # same mini-batch loop we had before\n",
        "        mini_batch_losses = []\n",
        "        for x_batch, y_batch in data_loader:\n",
        "            x_batch = x_batch.to(self.device)\n",
        "            y_batch = y_batch.to(self.device)\n",
        "\n",
        "            mini_batch_loss = step_fn(x_batch, y_batch)\n",
        "            mini_batch_losses.append(mini_batch_loss)\n",
        "\n",
        "        loss = np.mean(mini_batch_losses)\n",
        "        return loss\n",
        "\n",
        "    def set_seed(self, seed=42):\n",
        "        torch.backends.cudnn.deterministic = True\n",
        "        torch.backends.cudnn.benchmark = False    \n",
        "        torch.manual_seed(seed)\n",
        "        np.random.seed(seed)\n",
        "    \n",
        "    def train(self, n_epochs, seed=42):\n",
        "        # To ensure reproducibility of the training process\n",
        "        self.set_seed(seed)\n",
        "\n",
        "        for epoch in range(n_epochs):\n",
        "            # Keeps track of the numbers of epochs\n",
        "            # by updating the corresponding attribute\n",
        "            self.total_epochs += 1\n",
        "\n",
        "            # inner loop\n",
        "            # Performs training using mini-batches\n",
        "            loss = self._mini_batch(validation=False)\n",
        "            self.losses.append(loss)\n",
        "\n",
        "            # VALIDATION\n",
        "            # no gradients in validation!\n",
        "            with torch.no_grad():\n",
        "                # Performs evaluation using mini-batches\n",
        "                val_loss = self._mini_batch(validation=True)\n",
        "                self.val_losses.append(val_loss)\n",
        "\n",
        "            # If a SummaryWriter has been set...\n",
        "            if self.writer:\n",
        "                scalars = {'training': loss}\n",
        "                if val_loss is not None:\n",
        "                    scalars.update({'validation': val_loss})\n",
        "                # Records both losses for each epoch under the main tag \"loss\"\n",
        "                self.writer.add_scalars(main_tag='loss',\n",
        "                                        tag_scalar_dict=scalars,\n",
        "                                        global_step=epoch)\n",
        "\n",
        "        if self.writer:\n",
        "            # Closes the writer\n",
        "            self.writer.close()\n",
        "\n",
        "    def save_checkpoint(self, filename):\n",
        "        # Builds dictionary with all elements for resuming training\n",
        "        checkpoint = {'epoch': self.total_epochs,\n",
        "                      'model_state_dict': self.model.state_dict(),\n",
        "                      'optimizer_state_dict': self.optimizer.state_dict(),\n",
        "                      'loss': self.losses,\n",
        "                      'val_loss': self.val_losses}\n",
        "\n",
        "        torch.save(checkpoint, filename)\n",
        "\n",
        "    def load_checkpoint(self, filename):\n",
        "        # Loads dictionary\n",
        "        checkpoint = torch.load(filename)\n",
        "\n",
        "        # Restore state for model and optimizer\n",
        "        self.model.load_state_dict(checkpoint['model_state_dict'])\n",
        "        self.optimizer.load_state_dict(checkpoint['optimizer_state_dict'])\n",
        "\n",
        "        self.total_epochs = checkpoint['epoch']\n",
        "        self.losses = checkpoint['loss']\n",
        "        self.val_losses = checkpoint['val_loss']\n",
        "\n",
        "        self.model.train() # always use TRAIN for resuming training   \n",
        "\n",
        "    def predict(self, x):\n",
        "        # Set is to evaluation mode for predictions\n",
        "        self.model.eval() \n",
        "        # Takes aNumpy input and make it a float tensor\n",
        "        x_tensor = torch.as_tensor(x).float()\n",
        "        # Send input to device and uses model for prediction\n",
        "        y_hat_tensor = self.model(x_tensor.to(self.device))\n",
        "        # Set it back to train mode\n",
        "        self.model.train()\n",
        "        # Detaches it, brings it to CPU and back to Numpy\n",
        "        return y_hat_tensor.detach().cpu().numpy()\n",
        "\n",
        "    def plot_losses(self):\n",
        "        fig = plt.figure(figsize=(10, 4))\n",
        "        plt.plot(self.losses, label='Training Loss', c='b')\n",
        "        plt.plot(self.val_losses, label='Validation Loss', c='r')\n",
        "        plt.yscale('log')\n",
        "        plt.xlabel('Epochs')\n",
        "        plt.ylabel('Loss')\n",
        "        plt.legend()\n",
        "        plt.tight_layout()\n",
        "        return fig\n",
        "\n",
        "    def add_graph(self):\n",
        "        # Fetches a single mini-batch so we can use add_graph\n",
        "        if self.train_loader and self.writer:\n",
        "            x_sample, y_sample = next(iter(self.train_loader))\n",
        "            self.writer.add_graph(self.model, x_sample.to(self.device))\n"
      ]
    },
    {
      "cell_type": "markdown",
      "metadata": {
        "id": "3Eb4on8G1JYn"
      },
      "source": [
        "## Classy Pipeline"
      ]
    },
    {
      "cell_type": "markdown",
      "metadata": {
        "id": "vJlvJ50h1JYn"
      },
      "source": [
        "### Data Generation"
      ]
    },
    {
      "cell_type": "code",
      "source": [
        "# Runs data generation - so we do not need to copy code here\n",
        "%run -i data_generation/simple_linear_regression.py"
      ],
      "metadata": {
        "id": "eILDGphniQ-p"
      },
      "execution_count": 6,
      "outputs": []
    },
    {
      "cell_type": "code",
      "execution_count": 7,
      "metadata": {
        "id": "7GEsHCfW1JYn",
        "outputId": "bf60a3fa-86ba-4971-e852-0262b3a8afc0",
        "colab": {
          "base_uri": "https://localhost:8080/",
          "height": 433
        }
      },
      "outputs": [
        {
          "output_type": "display_data",
          "data": {
            "text/plain": [
              "<Figure size 432x432 with 1 Axes>"
            ],
            "image/png": "[encoded data removed]"
          },
          "metadata": {}
        }
      ],
      "source": [
        "fig = figure1(x, y)"
      ]
    },
    {
      "cell_type": "markdown",
      "metadata": {
        "id": "BIAzofas1JYn"
      },
      "source": [
        "### Data Preparation V2"
      ]
    },
    {
      "cell_type": "code",
      "source": [
        "#Christina\n",
        "\n",
        "torch.manual_seed(42)\n",
        "\n",
        "# 1. Builds tensors from numpy arrays BEFORE split\n",
        "x_tensor = torch.as_tensor(x).float()\n",
        "y_tensor = torch.as_tensor(y).float()\n",
        "\n",
        "dataset = TensorDataset(x_tensor,y_tensor)\n",
        "\n",
        "# Performs the split\n",
        "ratio = .8\n",
        "n_total = len(dataset)\n",
        "n_train = int(n_total*ratio)\n",
        "n_val = n_total - n_train\n",
        "\n",
        "train_data, val_data = random_split(dataset,[n_train,n_val])\n",
        "\n",
        "\n",
        "train_loader = DataLoader(dataset=train_data,batch_size=16,shuffle=True)\n",
        "val_loader = DataLoader(dataset=val_data,batch_size=16)"
      ],
      "metadata": {
        "id": "2BVhthlRiqJ7"
      },
      "execution_count": 9,
      "outputs": []
    },
    {
      "cell_type": "code",
      "execution_count": null,
      "metadata": {
        "id": "08Bvd9xi1JYn"
      },
      "outputs": [],
      "source": [
        "# %load data_preparation/v2.py\n",
        "\n",
        "torch.manual_seed(13)\n",
        "\n",
        "# Builds tensors from numpy arrays BEFORE split\n",
        "x_tensor = torch.as_tensor(x).float()\n",
        "y_tensor = torch.as_tensor(y).float()\n",
        "\n",
        "# Builds dataset containing ALL data points\n",
        "dataset = TensorDataset(x_tensor, y_tensor)\n",
        "\n",
        "# Performs the split\n",
        "ratio = .8\n",
        "n_total = len(dataset)\n",
        "n_train = int(n_total * ratio)\n",
        "n_val = n_total - n_train\n",
        "\n",
        "train_data, val_data = random_split(dataset, [n_train, n_val])\n",
        "\n",
        "# Builds a loader of each set\n",
        "train_loader = DataLoader(dataset=train_data, batch_size=16, shuffle=True)\n",
        "val_loader = DataLoader(dataset=val_data, batch_size=16)"
      ]
    },
    {
      "cell_type": "markdown",
      "metadata": {
        "id": "dxOkfZHA1JYn"
      },
      "source": [
        "### Model Configuration V4"
      ]
    },
    {
      "cell_type": "code",
      "execution_count": 12,
      "metadata": {
        "id": "8CRWAlOG1JYn",
        "outputId": "4a7572a8-dcec-4fd6-dc17-e6c021caa6d1",
        "colab": {
          "base_uri": "https://localhost:8080/"
        }
      },
      "outputs": [
        {
          "output_type": "stream",
          "name": "stdout",
          "text": [
            "Writing model_configuration/v4.py\n"
          ]
        }
      ],
      "source": [
        "%%writefile model_configuration/v4.py\n",
        "\n",
        "# Sets learning rate - this is \"eta\" ~ the \"n\" like Greek letter\n",
        "lr = 0.1\n",
        "\n",
        "torch.manual_seed(42)\n",
        "# Now we can create a model and send it at once to the device\n",
        "model = nn.Sequential(nn.Linear(1, 1))\n",
        "\n",
        "# Defines a SGD optimizer to update the parameters\n",
        "# (now retrieved directly from the model)\n",
        "optimizer = optim.SGD(model.parameters(), lr=lr)\n",
        "\n",
        "# Defines a MSE loss function\n",
        "loss_fn = nn.MSELoss(reduction='mean')"
      ]
    },
    {
      "cell_type": "code",
      "execution_count": 14,
      "metadata": {
        "id": "FCAAyOxS1JYo",
        "outputId": "d36821bf-0e76-4978-e91e-0fa05ec5bc54",
        "colab": {
          "base_uri": "https://localhost:8080/",
          "height": 35
        }
      },
      "outputs": [
        {
          "output_type": "display_data",
          "data": {
            "text/plain": [
              "<Figure size 432x288 with 0 Axes>"
            ]
          },
          "metadata": {}
        }
      ],
      "source": [
        "%run -i model_configuration/v4.py"
      ]
    },
    {
      "cell_type": "code",
      "execution_count": 15,
      "metadata": {
        "id": "ISTHSml31JYo",
        "outputId": "6781c732-bdad-4f11-a956-341fb528adb6",
        "colab": {
          "base_uri": "https://localhost:8080/"
        }
      },
      "outputs": [
        {
          "output_type": "stream",
          "name": "stdout",
          "text": [
            "OrderedDict([('0.weight', tensor([[0.7645]])), ('0.bias', tensor([0.8300]))])\n"
          ]
        }
      ],
      "source": [
        "print(model.state_dict())"
      ]
    },
    {
      "cell_type": "markdown",
      "source": [
        "These are CPU tensors, since our model wasn’t sent anywhere (yet).\n",
        "And now the fun begins: let’s put our StepByStep class to good use and train our\n",
        "model."
      ],
      "metadata": {
        "id": "3gYJ1ZjlkAQK"
      }
    },
    {
      "cell_type": "markdown",
      "metadata": {
        "id": "TVZkjUHG1JYo"
      },
      "source": [
        "## Model Training"
      ]
    },
    {
      "cell_type": "markdown",
      "metadata": {
        "id": "ImDT0nlj1JYo"
      },
      "source": [
        "### Cell 2.1.1"
      ]
    },
    {
      "cell_type": "code",
      "source": [
        "#Christina\n",
        "# Sets learning rate - this is \"eta\" ~ the \"n\" like Greek letter\n",
        "lr = 0.1\n",
        "\n",
        "torch.manual_seed(42)\n",
        "# Now we can create a model and send it at once to the device\n",
        "model = nn.Sequential(nn.Linear(1, 1))\n",
        "\n",
        "# Defines a SGD optimizer to update the parameters\n",
        "# (now retrieved directly from the model)\n",
        "optimizer = optim.SGD(model.parameters(), lr=lr)\n",
        "\n",
        "# Defines a MSE loss function\n",
        "loss_fn = nn.MSELoss(reduction='mean')"
      ],
      "metadata": {
        "id": "3jAxSeNfkF1b"
      },
      "execution_count": 16,
      "outputs": []
    },
    {
      "cell_type": "code",
      "execution_count": 19,
      "metadata": {
        "id": "1557XLxv1JYo"
      },
      "outputs": [],
      "source": [
        "#1.call calss\n",
        "sbs = StepByStep(model, loss_fn, optimizer)\n",
        "# Data\n",
        "sbs.set_loaders(train_loader, val_loader)\n",
        "sbs.set_tensorboard('classy')"
      ]
    },
    {
      "cell_type": "code",
      "execution_count": 20,
      "metadata": {
        "id": "xv18f_1Q1JYo",
        "outputId": "4aefd70d-b2e5-4c16-f0c2-f0ec267c458d",
        "colab": {
          "base_uri": "https://localhost:8080/"
        }
      },
      "outputs": [
        {
          "output_type": "stream",
          "name": "stdout",
          "text": [
            "True\n",
            "Sequential(\n",
            "  (0): Linear(in_features=1, out_features=1, bias=True)\n",
            ")\n"
          ]
        }
      ],
      "source": [
        "print(sbs.model == model)\n",
        "print(sbs.model)"
      ]
    },
    {
      "cell_type": "markdown",
      "metadata": {
        "id": "jowi89UC1JYo"
      },
      "source": [
        "### Cell 2.1.2"
      ]
    },
    {
      "cell_type": "code",
      "execution_count": 21,
      "metadata": {
        "id": "L0ulEA1A1JYp"
      },
      "outputs": [],
      "source": [
        "#including train and test, remember?\n",
        "sbs.train(n_epochs=200)"
      ]
    },
    {
      "cell_type": "code",
      "execution_count": 22,
      "metadata": {
        "id": "qnvA5pre1JYp",
        "outputId": "bad30a59-d090-49d3-a32e-7fcab6618f80",
        "colab": {
          "base_uri": "https://localhost:8080/"
        }
      },
      "outputs": [
        {
          "output_type": "stream",
          "name": "stdout",
          "text": [
            "OrderedDict([('0.weight', tensor([[1.9584]])), ('0.bias', tensor([1.0099]))])\n",
            "200\n"
          ]
        }
      ],
      "source": [
        "print(model.state_dict()) # remember, model == sbs.model\n",
        "print(sbs.total_epochs)"
      ]
    },
    {
      "cell_type": "code",
      "execution_count": 23,
      "metadata": {
        "scrolled": true,
        "id": "Es6g3xDB1JYp",
        "outputId": "07584f2c-308d-4f6f-8f15-319a41153a54",
        "colab": {
          "base_uri": "https://localhost:8080/",
          "height": 289
        }
      },
      "outputs": [
        {
          "output_type": "display_data",
          "data": {
            "text/plain": [
              "<Figure size 720x288 with 1 Axes>"
            ],
            "image/png": "[encoded data removed]"
          },
          "metadata": {}
        }
      ],
      "source": [
        "fig = sbs.plot_losses()"
      ]
    },
    {
      "cell_type": "markdown",
      "metadata": {
        "id": "I0wSA6cn1JYp"
      },
      "source": [
        "### Making Predictions"
      ]
    },
    {
      "cell_type": "code",
      "execution_count": 24,
      "metadata": {
        "id": "zs_N5GU31JYp",
        "outputId": "1e1e672f-df90-4fcb-a5ac-16a94795b59f",
        "colab": {
          "base_uri": "https://localhost:8080/"
        }
      },
      "outputs": [
        {
          "output_type": "execute_result",
          "data": {
            "text/plain": [
              "array([[0.5],\n",
              "       [0.3],\n",
              "       [0.7]])"
            ]
          },
          "metadata": {},
          "execution_count": 24
        }
      ],
      "source": [
        "new_data = np.array([.5, .3, .7]).reshape(-1, 1)\n",
        "new_data"
      ]
    },
    {
      "cell_type": "code",
      "execution_count": 25,
      "metadata": {
        "id": "jffY9Zoz1JYp",
        "outputId": "702c8bc3-7dff-48a8-f55f-f37309aeab6d",
        "colab": {
          "base_uri": "https://localhost:8080/"
        }
      },
      "outputs": [
        {
          "output_type": "execute_result",
          "data": {
            "text/plain": [
              "array([[1.9891285],\n",
              "       [1.5974443],\n",
              "       [2.3808126]], dtype=float32)"
            ]
          },
          "metadata": {},
          "execution_count": 25
        }
      ],
      "source": [
        "predictions = sbs.predict(new_data)\n",
        "predictions"
      ]
    },
    {
      "cell_type": "markdown",
      "metadata": {
        "id": "qa5CHvsN1JYq"
      },
      "source": [
        "### Checkpointing"
      ]
    },
    {
      "cell_type": "markdown",
      "metadata": {
        "id": "HUDzOBFj1JYr"
      },
      "source": [
        "### Cell 2.1.3"
      ]
    },
    {
      "cell_type": "code",
      "execution_count": 28,
      "metadata": {
        "id": "DUdOFuRi1JYr"
      },
      "outputs": [],
      "source": [
        "sbs.save_checkpoint('model_checkpoint.pth')"
      ]
    },
    {
      "cell_type": "markdown",
      "metadata": {
        "id": "KEaWEdxS1JYr"
      },
      "source": [
        "### Resuming Training"
      ]
    },
    {
      "cell_type": "code",
      "execution_count": null,
      "metadata": {
        "id": "B-oG7Yde1JYr"
      },
      "outputs": [],
      "source": [
        "%run -i model_configuration/v4.py"
      ]
    },
    {
      "cell_type": "code",
      "execution_count": null,
      "metadata": {
        "id": "XjsgcPfK1JYr",
        "outputId": "9026a723-8f80-4c15-c0fc-1a6d092e3f8b"
      },
      "outputs": [
        {
          "name": "stdout",
          "output_type": "stream",
          "text": [
            "OrderedDict([('0.weight', tensor([[0.7645]], device='cuda:0')), ('0.bias', tensor([0.8300], device='cuda:0'))])\n"
          ]
        }
      ],
      "source": [
        "print(model.state_dict())"
      ]
    },
    {
      "cell_type": "markdown",
      "metadata": {
        "id": "bVXvHsnV1JYr"
      },
      "source": [
        "### Cell 2.1.4\n",
        "\n",
        "\n",
        "#### Resuming Training\n",
        "Remember, when we did this in Chapter 2, we had to set up the stage before actually loading the model, loading the data, and configuring the model. We still need to do this, but we are now using the latest version of model configuration:"
      ]
    },
    {
      "cell_type": "code",
      "execution_count": 30,
      "metadata": {
        "id": "lidTRNUg1JYr"
      },
      "outputs": [],
      "source": [
        "new_sbs = StepByStep(model, loss_fn, optimizer)"
      ]
    },
    {
      "cell_type": "markdown",
      "metadata": {
        "id": "tAUzTUiB1JYr"
      },
      "source": [
        "### Cell 2.1.5"
      ]
    },
    {
      "cell_type": "code",
      "execution_count": 32,
      "metadata": {
        "id": "Iom7tDGd1JYr",
        "outputId": "97465338-dd3b-4adc-ffdd-80c089ba5922",
        "colab": {
          "base_uri": "https://localhost:8080/"
        }
      },
      "outputs": [
        {
          "output_type": "stream",
          "name": "stdout",
          "text": [
            "OrderedDict([('0.weight', tensor([[1.9584]])), ('0.bias', tensor([1.0099]))])\n"
          ]
        }
      ],
      "source": [
        "new_sbs.load_checkpoint('model_checkpoint.pth')\n",
        "print(model.state_dict())"
      ]
    },
    {
      "cell_type": "markdown",
      "metadata": {
        "id": "PQ3isNZK1JYr"
      },
      "source": [
        "### Cell 2.1.6\n",
        "\n",
        "\n",
        "But we are still missing one thing… the data! First, we need to set the data\n",
        "loader(s), and then we can train our model for another, say, 50 epochs."
      ]
    },
    {
      "cell_type": "code",
      "execution_count": 33,
      "metadata": {
        "id": "99WWRlVp1JYr"
      },
      "outputs": [],
      "source": [
        "new_sbs.set_loaders(train_loader, val_loader)\n",
        "new_sbs.train(n_epochs=50)"
      ]
    },
    {
      "cell_type": "code",
      "execution_count": null,
      "metadata": {
        "id": "SYrjI-GV1JYs",
        "outputId": "1050da31-c41d-45d7-9ac6-9c6eccd31931"
      },
      "outputs": [
        {
          "data": {
            "image/png": "[encoded data removed]",
            "text/plain": [
              "<Figure size 720x288 with 1 Axes>"
            ]
          },
          "metadata": {},
          "output_type": "display_data"
        }
      ],
      "source": [
        "fig = new_sbs.plot_losses()"
      ]
    },
    {
      "cell_type": "code",
      "source": [
        "#Christina\n",
        "print(sbs.model.state_dict())"
      ],
      "metadata": {
        "colab": {
          "base_uri": "https://localhost:8080/"
        },
        "id": "jXbFXXsoD0NP",
        "outputId": "2094ee7f-41a7-403d-d04b-7c512e53fe74"
      },
      "execution_count": 34,
      "outputs": [
        {
          "output_type": "stream",
          "name": "stdout",
          "text": [
            "OrderedDict([('0.weight', tensor([[1.9599]])), ('0.bias', tensor([1.0143]))])\n"
          ]
        }
      ]
    },
    {
      "cell_type": "code",
      "execution_count": null,
      "metadata": {
        "id": "4DJQSA9M1JYs",
        "outputId": "70f48dd6-3b01-4aa6-b669-e567280fdfe8"
      },
      "outputs": [
        {
          "name": "stdout",
          "output_type": "stream",
          "text": [
            "OrderedDict([('0.weight', tensor([[1.9414]], device='cuda:0')), ('0.bias', tensor([1.0233], device='cuda:0'))])\n"
          ]
        }
      ],
      "source": [
        "print(sbs.model.state_dict())"
      ]
    },
    {
      "cell_type": "markdown",
      "metadata": {
        "id": "n7VSgb2V1JYs"
      },
      "source": [
        "# Putting It All Together"
      ]
    },
    {
      "cell_type": "code",
      "execution_count": 35,
      "metadata": {
        "id": "EkV_apN91JYs"
      },
      "outputs": [],
      "source": [
        "# %load data_preparation/v2.py\n",
        "\n",
        "torch.manual_seed(13)\n",
        "\n",
        "# Builds tensors from numpy arrays BEFORE split\n",
        "x_tensor = torch.as_tensor(x).float()\n",
        "y_tensor = torch.as_tensor(y).float()\n",
        "\n",
        "# Builds dataset containing ALL data points\n",
        "dataset = TensorDataset(x_tensor, y_tensor)\n",
        "\n",
        "# Performs the split\n",
        "ratio = .8\n",
        "n_total = len(dataset)\n",
        "n_train = int(n_total * ratio)\n",
        "n_val = n_total - n_train\n",
        "\n",
        "train_data, val_data = random_split(dataset, [n_train, n_val])\n",
        "\n",
        "# Builds a loader of each set\n",
        "train_loader = DataLoader(\n",
        "    dataset=train_data,\n",
        "    batch_size=16,\n",
        "    shuffle=True\n",
        ")\n",
        "val_loader = DataLoader(dataset=val_data, batch_size=16)"
      ]
    },
    {
      "cell_type": "code",
      "execution_count": 36,
      "metadata": {
        "id": "peFG003R1JYs"
      },
      "outputs": [],
      "source": [
        "# %load model_configuration/v4.py\n",
        "\n",
        "# Sets learning rate - this is \"eta\" ~ the \"n\" like Greek letter\n",
        "lr = 0.1\n",
        "\n",
        "torch.manual_seed(42)\n",
        "# Now we can create a model\n",
        "model = nn.Sequential(nn.Linear(1, 1))\n",
        "\n",
        "# Defines a SGD optimizer to update the parameters \n",
        "# (now retrieved directly from the model)\n",
        "optimizer = optim.SGD(model.parameters(), lr=lr)\n",
        "\n",
        "# Defines a MSE loss function\n",
        "loss_fn = nn.MSELoss(reduction='mean')"
      ]
    },
    {
      "cell_type": "code",
      "execution_count": 37,
      "metadata": {
        "id": "uHtwQo7V1JYs"
      },
      "outputs": [],
      "source": [
        "n_epochs = 200\n",
        "\n",
        "sbs = StepByStep(model, loss_fn, optimizer)\n",
        "sbs.set_loaders(train_loader, val_loader)\n",
        "sbs.set_tensorboard('classy')\n",
        "sbs.train(n_epochs=n_epochs)"
      ]
    },
    {
      "cell_type": "code",
      "execution_count": 38,
      "metadata": {
        "id": "oKFX4bKS1JYs",
        "outputId": "79bd7f66-e00a-4703-8c9c-abd0dd7c5247",
        "colab": {
          "base_uri": "https://localhost:8080/"
        }
      },
      "outputs": [
        {
          "output_type": "stream",
          "name": "stdout",
          "text": [
            "OrderedDict([('0.weight', tensor([[1.9416]])), ('0.bias', tensor([1.0235]))])\n"
          ]
        }
      ],
      "source": [
        "print(model.state_dict())"
      ]
    },
    {
      "cell_type": "markdown",
      "source": [
        "# Recap\n",
        "In this chapter, we’ve revisited and reimplemented many methods. This is what\n",
        "we’ve covered:\n",
        "- defining our StepByStep class\n",
        "- understanding the purpose of the constructor `(__init__)` method\n",
        "- defining the arguments of the constructor method\n",
        "- defining class' attributes to store arguments, placeholders, and variables we need to keep track of\n",
        "- defining functions as attributes, using higher-order functions and the class'\n",
        "attributes to build functions that perform training and validation steps\n",
        "- understanding the difference between public, protected, and private methods;\n",
        "and Python’s \"relaxed\" approach to it\n",
        "- creating methods to set data loaders and TensorBoard integration (re)implementing training methods: _mini_batch and train\n",
        "- implementing saving and loading methods: save_checkpoint and load_checkpoint\n",
        "- implementing a method for making predictions that takes care of all boilerplate code regarding Numpy to PyTorch conversion and back\n",
        "- implementing methods to plot losses and add the model’s graph to TensorBoard\n",
        "- instantiating our StepByStep class and running a classy pipeline: configuring the model, loading the data, training the model, making predictions checkpointing, and resuming training. The whole nine yards!"
      ],
      "metadata": {
        "id": "T5_DXCwXEJiW"
      }
    },
    {
      "cell_type": "code",
      "execution_count": null,
      "metadata": {
        "id": "O0oYk6TA1JYs"
      },
      "outputs": [],
      "source": [
        ""
      ]
    }
  ],
  "metadata": {
    "kernelspec": {
      "display_name": "Python 3",
      "language": "python",
      "name": "python3"
    },
    "language_info": {
      "codemirror_mode": {
        "name": "ipython",
        "version": 3
      },
      "file_extension": ".py",
      "mimetype": "text/x-python",
      "name": "python",
      "nbconvert_exporter": "python",
      "pygments_lexer": "ipython3",
      "version": "3.8.5"
    },
    "colab": {
      "name": "C 02.1.ipynb",
      "provenance": [],
      "collapsed_sections": [
        "FKfjsdtg1JYh",
        "tKeEnz5Y1JYi",
        "VhSY07lc1JYi",
        "slzeG-FF1JYj",
        "vfbEy8aN1JYk",
        "7xATcFbC1JYl",
        "-E3Y4zk81JYl",
        "JU0-O9d31JYl",
        "39BU3hAu1JYm",
        "lmvw0HoT1JYm",
        "mWbUJBvQ1JYm",
        "vJlvJ50h1JYn",
        "BIAzofas1JYn",
        "dxOkfZHA1JYn",
        "ImDT0nlj1JYo",
        "jowi89UC1JYo",
        "I0wSA6cn1JYp",
        "qa5CHvsN1JYq",
        "HUDzOBFj1JYr",
        "KEaWEdxS1JYr",
        "bVXvHsnV1JYr",
        "tAUzTUiB1JYr",
        "PQ3isNZK1JYr"
      ],
      "toc_visible": true,
      "include_colab_link": true
    }
  },
  "nbformat": 4,
  "nbformat_minor": 0
}