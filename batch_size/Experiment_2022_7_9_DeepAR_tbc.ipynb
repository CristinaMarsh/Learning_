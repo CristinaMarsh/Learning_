{
  "nbformat": 4,
  "nbformat_minor": 0,
  "metadata": {
    "colab": {
      "name": "Experiment 2022 7 9 DeepAR_tbc.ipynb",
      "provenance": [],
      "collapsed_sections": [],
      "authorship_tag": "ABX9TyN72LybR8cooFGdOIqNYMdd",
      "include_colab_link": true
    },
    "kernelspec": {
      "name": "python3",
      "display_name": "Python 3"
    },
    "language_info": {
      "name": "python"
    },
    "accelerator": "GPU",
    "gpuClass": "standard"
  },
  "cells": [
    {
      "cell_type": "markdown",
      "metadata": {
        "id": "view-in-github",
        "colab_type": "text"
      },
      "source": [
        "<a href=\"https://colab.research.google.com/github/CristinaMarsh/Learning_/blob/main/batch_size/Experiment_2022_7_9_DeepAR_tbc.ipynb\" target=\"_parent\"><img src=\"https://colab.research.google.com/assets/colab-badge.svg\" alt=\"Open In Colab\"/></a>"
      ]
    },
    {
      "cell_type": "code",
      "execution_count": 1,
      "metadata": {
        "colab": {
          "base_uri": "https://localhost:8080/"
        },
        "id": "4CFfobIgvynv",
        "outputId": "c7c48278-5e5a-4930-952f-2a30fca9cdbc"
      },
      "outputs": [
        {
          "output_type": "stream",
          "name": "stdout",
          "text": [
            "Looking in indexes: https://pypi.org/simple, https://us-python.pkg.dev/colab-wheels/public/simple/\n",
            "Collecting gluonts\n",
            "  Downloading gluonts-0.10.1-py3-none-any.whl (2.5 MB)\n",
            "\u001b[K     |████████████████████████████████| 2.5 MB 5.1 MB/s \n",
            "\u001b[?25hRequirement already satisfied: typing-extensions~=4.0 in /usr/local/lib/python3.7/dist-packages (from gluonts) (4.1.1)\n",
            "Requirement already satisfied: toolz~=0.10 in /usr/local/lib/python3.7/dist-packages (from gluonts) (0.11.2)\n",
            "Requirement already satisfied: matplotlib~=3.0 in /usr/local/lib/python3.7/dist-packages (from gluonts) (3.2.2)\n",
            "Requirement already satisfied: pandas~=1.0 in /usr/local/lib/python3.7/dist-packages (from gluonts) (1.3.5)\n",
            "Requirement already satisfied: tqdm~=4.23 in /usr/local/lib/python3.7/dist-packages (from gluonts) (4.64.0)\n",
            "Requirement already satisfied: numpy~=1.16 in /usr/local/lib/python3.7/dist-packages (from gluonts) (1.21.6)\n",
            "Requirement already satisfied: holidays>=0.9 in /usr/local/lib/python3.7/dist-packages (from gluonts) (0.10.5.2)\n",
            "Requirement already satisfied: pydantic~=1.7 in /usr/local/lib/python3.7/dist-packages (from gluonts) (1.8.2)\n",
            "Requirement already satisfied: convertdate>=2.3.0 in /usr/local/lib/python3.7/dist-packages (from holidays>=0.9->gluonts) (2.4.0)\n",
            "Requirement already satisfied: six in /usr/local/lib/python3.7/dist-packages (from holidays>=0.9->gluonts) (1.15.0)\n",
            "Requirement already satisfied: python-dateutil in /usr/local/lib/python3.7/dist-packages (from holidays>=0.9->gluonts) (2.8.2)\n",
            "Requirement already satisfied: hijri-converter in /usr/local/lib/python3.7/dist-packages (from holidays>=0.9->gluonts) (2.2.4)\n",
            "Requirement already satisfied: korean-lunar-calendar in /usr/local/lib/python3.7/dist-packages (from holidays>=0.9->gluonts) (0.2.1)\n",
            "Requirement already satisfied: pymeeus<=1,>=0.3.13 in /usr/local/lib/python3.7/dist-packages (from convertdate>=2.3.0->holidays>=0.9->gluonts) (0.5.11)\n",
            "Requirement already satisfied: cycler>=0.10 in /usr/local/lib/python3.7/dist-packages (from matplotlib~=3.0->gluonts) (0.11.0)\n",
            "Requirement already satisfied: pyparsing!=2.0.4,!=2.1.2,!=2.1.6,>=2.0.1 in /usr/local/lib/python3.7/dist-packages (from matplotlib~=3.0->gluonts) (3.0.9)\n",
            "Requirement already satisfied: kiwisolver>=1.0.1 in /usr/local/lib/python3.7/dist-packages (from matplotlib~=3.0->gluonts) (1.4.3)\n",
            "Requirement already satisfied: pytz>=2017.3 in /usr/local/lib/python3.7/dist-packages (from pandas~=1.0->gluonts) (2022.1)\n",
            "Installing collected packages: gluonts\n",
            "Successfully installed gluonts-0.10.1\n",
            "Looking in indexes: https://pypi.org/simple, https://us-python.pkg.dev/colab-wheels/public/simple/\n",
            "Collecting mxnet-cu101\n",
            "  Downloading mxnet_cu101-1.9.1-py3-none-manylinux2014_x86_64.whl (360.0 MB)\n",
            "\u001b[K     |████████████████████████████████| 360.0 MB 19 kB/s \n",
            "\u001b[?25hRequirement already satisfied: numpy<2.0.0,>1.16.0 in /usr/local/lib/python3.7/dist-packages (from mxnet-cu101) (1.21.6)\n",
            "Requirement already satisfied: requests<3,>=2.20.0 in /usr/local/lib/python3.7/dist-packages (from mxnet-cu101) (2.23.0)\n",
            "Collecting graphviz<0.9.0,>=0.8.1\n",
            "  Downloading graphviz-0.8.4-py2.py3-none-any.whl (16 kB)\n",
            "Requirement already satisfied: urllib3!=1.25.0,!=1.25.1,<1.26,>=1.21.1 in /usr/local/lib/python3.7/dist-packages (from requests<3,>=2.20.0->mxnet-cu101) (1.24.3)\n",
            "Requirement already satisfied: idna<3,>=2.5 in /usr/local/lib/python3.7/dist-packages (from requests<3,>=2.20.0->mxnet-cu101) (2.10)\n",
            "Requirement already satisfied: chardet<4,>=3.0.2 in /usr/local/lib/python3.7/dist-packages (from requests<3,>=2.20.0->mxnet-cu101) (3.0.4)\n",
            "Requirement already satisfied: certifi>=2017.4.17 in /usr/local/lib/python3.7/dist-packages (from requests<3,>=2.20.0->mxnet-cu101) (2022.6.15)\n",
            "Installing collected packages: graphviz, mxnet-cu101\n",
            "  Attempting uninstall: graphviz\n",
            "    Found existing installation: graphviz 0.10.1\n",
            "    Uninstalling graphviz-0.10.1:\n",
            "      Successfully uninstalled graphviz-0.10.1\n",
            "Successfully installed graphviz-0.8.4 mxnet-cu101-1.9.1\n",
            "Looking in indexes: https://pypi.org/simple, https://us-python.pkg.dev/colab-wheels/public/simple/\n",
            "Collecting pytorch_lightning\n",
            "  Downloading pytorch_lightning-1.6.4-py3-none-any.whl (585 kB)\n",
            "\u001b[K     |████████████████████████████████| 585 kB 5.3 MB/s \n",
            "\u001b[?25hCollecting pyDeprecate>=0.3.1\n",
            "  Downloading pyDeprecate-0.3.2-py3-none-any.whl (10 kB)\n",
            "Requirement already satisfied: tqdm>=4.57.0 in /usr/local/lib/python3.7/dist-packages (from pytorch_lightning) (4.64.0)\n",
            "Collecting torchmetrics>=0.4.1\n",
            "  Downloading torchmetrics-0.9.2-py3-none-any.whl (419 kB)\n",
            "\u001b[K     |████████████████████████████████| 419 kB 60.6 MB/s \n",
            "\u001b[?25hRequirement already satisfied: tensorboard>=2.2.0 in /usr/local/lib/python3.7/dist-packages (from pytorch_lightning) (2.8.0)\n",
            "Requirement already satisfied: numpy>=1.17.2 in /usr/local/lib/python3.7/dist-packages (from pytorch_lightning) (1.21.6)\n",
            "Requirement already satisfied: protobuf<=3.20.1 in /usr/local/lib/python3.7/dist-packages (from pytorch_lightning) (3.17.3)\n",
            "Collecting fsspec[http]!=2021.06.0,>=2021.05.0\n",
            "  Downloading fsspec-2022.5.0-py3-none-any.whl (140 kB)\n",
            "\u001b[K     |████████████████████████████████| 140 kB 61.9 MB/s \n",
            "\u001b[?25hRequirement already satisfied: torch>=1.8.* in /usr/local/lib/python3.7/dist-packages (from pytorch_lightning) (1.11.0+cu113)\n",
            "Requirement already satisfied: packaging>=17.0 in /usr/local/lib/python3.7/dist-packages (from pytorch_lightning) (21.3)\n",
            "Collecting PyYAML>=5.4\n",
            "  Downloading PyYAML-6.0-cp37-cp37m-manylinux_2_5_x86_64.manylinux1_x86_64.manylinux_2_12_x86_64.manylinux2010_x86_64.whl (596 kB)\n",
            "\u001b[K     |████████████████████████████████| 596 kB 56.7 MB/s \n",
            "\u001b[?25hRequirement already satisfied: typing-extensions>=4.0.0 in /usr/local/lib/python3.7/dist-packages (from pytorch_lightning) (4.1.1)\n",
            "Requirement already satisfied: requests in /usr/local/lib/python3.7/dist-packages (from fsspec[http]!=2021.06.0,>=2021.05.0->pytorch_lightning) (2.23.0)\n",
            "Collecting aiohttp\n",
            "  Downloading aiohttp-3.8.1-cp37-cp37m-manylinux_2_5_x86_64.manylinux1_x86_64.manylinux_2_12_x86_64.manylinux2010_x86_64.whl (1.1 MB)\n",
            "\u001b[K     |████████████████████████████████| 1.1 MB 57.6 MB/s \n",
            "\u001b[?25hRequirement already satisfied: pyparsing!=3.0.5,>=2.0.2 in /usr/local/lib/python3.7/dist-packages (from packaging>=17.0->pytorch_lightning) (3.0.9)\n",
            "Requirement already satisfied: six>=1.9 in /usr/local/lib/python3.7/dist-packages (from protobuf<=3.20.1->pytorch_lightning) (1.15.0)\n",
            "Requirement already satisfied: setuptools>=41.0.0 in /usr/local/lib/python3.7/dist-packages (from tensorboard>=2.2.0->pytorch_lightning) (57.4.0)\n",
            "Requirement already satisfied: google-auth<3,>=1.6.3 in /usr/local/lib/python3.7/dist-packages (from tensorboard>=2.2.0->pytorch_lightning) (1.35.0)\n",
            "Requirement already satisfied: grpcio>=1.24.3 in /usr/local/lib/python3.7/dist-packages (from tensorboard>=2.2.0->pytorch_lightning) (1.46.3)\n",
            "Requirement already satisfied: absl-py>=0.4 in /usr/local/lib/python3.7/dist-packages (from tensorboard>=2.2.0->pytorch_lightning) (1.1.0)\n",
            "Requirement already satisfied: google-auth-oauthlib<0.5,>=0.4.1 in /usr/local/lib/python3.7/dist-packages (from tensorboard>=2.2.0->pytorch_lightning) (0.4.6)\n",
            "Requirement already satisfied: markdown>=2.6.8 in /usr/local/lib/python3.7/dist-packages (from tensorboard>=2.2.0->pytorch_lightning) (3.3.7)\n",
            "Requirement already satisfied: tensorboard-data-server<0.7.0,>=0.6.0 in /usr/local/lib/python3.7/dist-packages (from tensorboard>=2.2.0->pytorch_lightning) (0.6.1)\n",
            "Requirement already satisfied: tensorboard-plugin-wit>=1.6.0 in /usr/local/lib/python3.7/dist-packages (from tensorboard>=2.2.0->pytorch_lightning) (1.8.1)\n",
            "Requirement already satisfied: werkzeug>=0.11.15 in /usr/local/lib/python3.7/dist-packages (from tensorboard>=2.2.0->pytorch_lightning) (1.0.1)\n",
            "Requirement already satisfied: wheel>=0.26 in /usr/local/lib/python3.7/dist-packages (from tensorboard>=2.2.0->pytorch_lightning) (0.37.1)\n",
            "Requirement already satisfied: pyasn1-modules>=0.2.1 in /usr/local/lib/python3.7/dist-packages (from google-auth<3,>=1.6.3->tensorboard>=2.2.0->pytorch_lightning) (0.2.8)\n",
            "Requirement already satisfied: rsa<5,>=3.1.4 in /usr/local/lib/python3.7/dist-packages (from google-auth<3,>=1.6.3->tensorboard>=2.2.0->pytorch_lightning) (4.8)\n",
            "Requirement already satisfied: cachetools<5.0,>=2.0.0 in /usr/local/lib/python3.7/dist-packages (from google-auth<3,>=1.6.3->tensorboard>=2.2.0->pytorch_lightning) (4.2.4)\n",
            "Requirement already satisfied: requests-oauthlib>=0.7.0 in /usr/local/lib/python3.7/dist-packages (from google-auth-oauthlib<0.5,>=0.4.1->tensorboard>=2.2.0->pytorch_lightning) (1.3.1)\n",
            "Requirement already satisfied: importlib-metadata>=4.4 in /usr/local/lib/python3.7/dist-packages (from markdown>=2.6.8->tensorboard>=2.2.0->pytorch_lightning) (4.11.4)\n",
            "Requirement already satisfied: zipp>=0.5 in /usr/local/lib/python3.7/dist-packages (from importlib-metadata>=4.4->markdown>=2.6.8->tensorboard>=2.2.0->pytorch_lightning) (3.8.0)\n",
            "Requirement already satisfied: pyasn1<0.5.0,>=0.4.6 in /usr/local/lib/python3.7/dist-packages (from pyasn1-modules>=0.2.1->google-auth<3,>=1.6.3->tensorboard>=2.2.0->pytorch_lightning) (0.4.8)\n",
            "Requirement already satisfied: urllib3!=1.25.0,!=1.25.1,<1.26,>=1.21.1 in /usr/local/lib/python3.7/dist-packages (from requests->fsspec[http]!=2021.06.0,>=2021.05.0->pytorch_lightning) (1.24.3)\n",
            "Requirement already satisfied: idna<3,>=2.5 in /usr/local/lib/python3.7/dist-packages (from requests->fsspec[http]!=2021.06.0,>=2021.05.0->pytorch_lightning) (2.10)\n",
            "Requirement already satisfied: chardet<4,>=3.0.2 in /usr/local/lib/python3.7/dist-packages (from requests->fsspec[http]!=2021.06.0,>=2021.05.0->pytorch_lightning) (3.0.4)\n",
            "Requirement already satisfied: certifi>=2017.4.17 in /usr/local/lib/python3.7/dist-packages (from requests->fsspec[http]!=2021.06.0,>=2021.05.0->pytorch_lightning) (2022.6.15)\n",
            "Requirement already satisfied: oauthlib>=3.0.0 in /usr/local/lib/python3.7/dist-packages (from requests-oauthlib>=0.7.0->google-auth-oauthlib<0.5,>=0.4.1->tensorboard>=2.2.0->pytorch_lightning) (3.2.0)\n",
            "Collecting async-timeout<5.0,>=4.0.0a3\n",
            "  Downloading async_timeout-4.0.2-py3-none-any.whl (5.8 kB)\n",
            "Collecting asynctest==0.13.0\n",
            "  Downloading asynctest-0.13.0-py3-none-any.whl (26 kB)\n",
            "Collecting yarl<2.0,>=1.0\n",
            "  Downloading yarl-1.7.2-cp37-cp37m-manylinux_2_5_x86_64.manylinux1_x86_64.manylinux_2_12_x86_64.manylinux2010_x86_64.whl (271 kB)\n",
            "\u001b[K     |████████████████████████████████| 271 kB 72.3 MB/s \n",
            "\u001b[?25hRequirement already satisfied: attrs>=17.3.0 in /usr/local/lib/python3.7/dist-packages (from aiohttp->fsspec[http]!=2021.06.0,>=2021.05.0->pytorch_lightning) (21.4.0)\n",
            "Requirement already satisfied: charset-normalizer<3.0,>=2.0 in /usr/local/lib/python3.7/dist-packages (from aiohttp->fsspec[http]!=2021.06.0,>=2021.05.0->pytorch_lightning) (2.1.0)\n",
            "Collecting frozenlist>=1.1.1\n",
            "  Downloading frozenlist-1.3.0-cp37-cp37m-manylinux_2_5_x86_64.manylinux1_x86_64.manylinux_2_17_x86_64.manylinux2014_x86_64.whl (144 kB)\n",
            "\u001b[K     |████████████████████████████████| 144 kB 68.9 MB/s \n",
            "\u001b[?25hCollecting multidict<7.0,>=4.5\n",
            "  Downloading multidict-6.0.2-cp37-cp37m-manylinux_2_17_x86_64.manylinux2014_x86_64.whl (94 kB)\n",
            "\u001b[K     |████████████████████████████████| 94 kB 4.1 MB/s \n",
            "\u001b[?25hCollecting aiosignal>=1.1.2\n",
            "  Downloading aiosignal-1.2.0-py3-none-any.whl (8.2 kB)\n",
            "Installing collected packages: multidict, frozenlist, yarl, asynctest, async-timeout, aiosignal, fsspec, aiohttp, torchmetrics, PyYAML, pyDeprecate, pytorch-lightning\n",
            "  Attempting uninstall: PyYAML\n",
            "    Found existing installation: PyYAML 3.13\n",
            "    Uninstalling PyYAML-3.13:\n",
            "      Successfully uninstalled PyYAML-3.13\n",
            "Successfully installed PyYAML-6.0 aiohttp-3.8.1 aiosignal-1.2.0 async-timeout-4.0.2 asynctest-0.13.0 frozenlist-1.3.0 fsspec-2022.5.0 multidict-6.0.2 pyDeprecate-0.3.2 pytorch-lightning-1.6.4 torchmetrics-0.9.2 yarl-1.7.2\n"
          ]
        }
      ],
      "source": [
        "!pip install gluonts\n",
        "!pip install mxnet-cu101\n",
        "!pip install pytorch_lightning"
      ]
    },
    {
      "cell_type": "code",
      "source": [
        "pip install pytorch_lightning"
      ],
      "metadata": {
        "colab": {
          "base_uri": "https://localhost:8080/",
          "height": 1000
        },
        "id": "P8z5Ol2myjtG",
        "outputId": "b1177003-078a-4e92-e990-14ec3588c51e"
      },
      "execution_count": null,
      "outputs": [
        {
          "output_type": "stream",
          "name": "stdout",
          "text": [
            "Looking in indexes: https://pypi.org/simple, https://us-python.pkg.dev/colab-wheels/public/simple/\n",
            "Collecting pytorch_lightning\n",
            "  Downloading pytorch_lightning-1.6.4-py3-none-any.whl (585 kB)\n",
            "\u001b[K     |████████████████████████████████| 585 kB 7.9 MB/s \n",
            "\u001b[?25hRequirement already satisfied: tqdm>=4.57.0 in /usr/local/lib/python3.7/dist-packages (from pytorch_lightning) (4.64.0)\n",
            "Collecting fsspec[http]!=2021.06.0,>=2021.05.0\n",
            "  Downloading fsspec-2022.5.0-py3-none-any.whl (140 kB)\n",
            "\u001b[K     |████████████████████████████████| 140 kB 51.6 MB/s \n",
            "\u001b[?25hRequirement already satisfied: numpy>=1.17.2 in /usr/local/lib/python3.7/dist-packages (from pytorch_lightning) (1.21.6)\n",
            "Requirement already satisfied: tensorboard>=2.2.0 in /usr/local/lib/python3.7/dist-packages (from pytorch_lightning) (2.8.0)\n",
            "Collecting pyDeprecate>=0.3.1\n",
            "  Downloading pyDeprecate-0.3.2-py3-none-any.whl (10 kB)\n",
            "Collecting PyYAML>=5.4\n",
            "  Downloading PyYAML-6.0-cp37-cp37m-manylinux_2_5_x86_64.manylinux1_x86_64.manylinux_2_12_x86_64.manylinux2010_x86_64.whl (596 kB)\n",
            "\u001b[K     |████████████████████████████████| 596 kB 48.8 MB/s \n",
            "\u001b[?25hRequirement already satisfied: torch>=1.8.* in /usr/local/lib/python3.7/dist-packages (from pytorch_lightning) (1.11.0+cu113)\n",
            "Requirement already satisfied: protobuf<=3.20.1 in /usr/local/lib/python3.7/dist-packages (from pytorch_lightning) (3.17.3)\n",
            "Requirement already satisfied: typing-extensions>=4.0.0 in /usr/local/lib/python3.7/dist-packages (from pytorch_lightning) (4.1.1)\n",
            "Requirement already satisfied: packaging>=17.0 in /usr/local/lib/python3.7/dist-packages (from pytorch_lightning) (21.3)\n",
            "Collecting torchmetrics>=0.4.1\n",
            "  Downloading torchmetrics-0.9.2-py3-none-any.whl (419 kB)\n",
            "\u001b[K     |████████████████████████████████| 419 kB 49.0 MB/s \n",
            "\u001b[?25hCollecting aiohttp\n",
            "  Downloading aiohttp-3.8.1-cp37-cp37m-manylinux_2_5_x86_64.manylinux1_x86_64.manylinux_2_12_x86_64.manylinux2010_x86_64.whl (1.1 MB)\n",
            "\u001b[K     |████████████████████████████████| 1.1 MB 43.5 MB/s \n",
            "\u001b[?25hRequirement already satisfied: requests in /usr/local/lib/python3.7/dist-packages (from fsspec[http]!=2021.06.0,>=2021.05.0->pytorch_lightning) (2.23.0)\n",
            "Requirement already satisfied: pyparsing!=3.0.5,>=2.0.2 in /usr/local/lib/python3.7/dist-packages (from packaging>=17.0->pytorch_lightning) (3.0.9)\n",
            "Requirement already satisfied: six>=1.9 in /usr/local/lib/python3.7/dist-packages (from protobuf<=3.20.1->pytorch_lightning) (1.15.0)\n",
            "Requirement already satisfied: markdown>=2.6.8 in /usr/local/lib/python3.7/dist-packages (from tensorboard>=2.2.0->pytorch_lightning) (3.3.7)\n",
            "Requirement already satisfied: wheel>=0.26 in /usr/local/lib/python3.7/dist-packages (from tensorboard>=2.2.0->pytorch_lightning) (0.37.1)\n",
            "Requirement already satisfied: absl-py>=0.4 in /usr/local/lib/python3.7/dist-packages (from tensorboard>=2.2.0->pytorch_lightning) (1.1.0)\n",
            "Requirement already satisfied: google-auth-oauthlib<0.5,>=0.4.1 in /usr/local/lib/python3.7/dist-packages (from tensorboard>=2.2.0->pytorch_lightning) (0.4.6)\n",
            "Requirement already satisfied: grpcio>=1.24.3 in /usr/local/lib/python3.7/dist-packages (from tensorboard>=2.2.0->pytorch_lightning) (1.46.3)\n",
            "Requirement already satisfied: tensorboard-plugin-wit>=1.6.0 in /usr/local/lib/python3.7/dist-packages (from tensorboard>=2.2.0->pytorch_lightning) (1.8.1)\n",
            "Requirement already satisfied: setuptools>=41.0.0 in /usr/local/lib/python3.7/dist-packages (from tensorboard>=2.2.0->pytorch_lightning) (57.4.0)\n",
            "Requirement already satisfied: tensorboard-data-server<0.7.0,>=0.6.0 in /usr/local/lib/python3.7/dist-packages (from tensorboard>=2.2.0->pytorch_lightning) (0.6.1)\n",
            "Requirement already satisfied: werkzeug>=0.11.15 in /usr/local/lib/python3.7/dist-packages (from tensorboard>=2.2.0->pytorch_lightning) (1.0.1)\n",
            "Requirement already satisfied: google-auth<3,>=1.6.3 in /usr/local/lib/python3.7/dist-packages (from tensorboard>=2.2.0->pytorch_lightning) (1.35.0)\n",
            "Requirement already satisfied: pyasn1-modules>=0.2.1 in /usr/local/lib/python3.7/dist-packages (from google-auth<3,>=1.6.3->tensorboard>=2.2.0->pytorch_lightning) (0.2.8)\n",
            "Requirement already satisfied: cachetools<5.0,>=2.0.0 in /usr/local/lib/python3.7/dist-packages (from google-auth<3,>=1.6.3->tensorboard>=2.2.0->pytorch_lightning) (4.2.4)\n",
            "Requirement already satisfied: rsa<5,>=3.1.4 in /usr/local/lib/python3.7/dist-packages (from google-auth<3,>=1.6.3->tensorboard>=2.2.0->pytorch_lightning) (4.8)\n",
            "Requirement already satisfied: requests-oauthlib>=0.7.0 in /usr/local/lib/python3.7/dist-packages (from google-auth-oauthlib<0.5,>=0.4.1->tensorboard>=2.2.0->pytorch_lightning) (1.3.1)\n",
            "Requirement already satisfied: importlib-metadata>=4.4 in /usr/local/lib/python3.7/dist-packages (from markdown>=2.6.8->tensorboard>=2.2.0->pytorch_lightning) (4.11.4)\n",
            "Requirement already satisfied: zipp>=0.5 in /usr/local/lib/python3.7/dist-packages (from importlib-metadata>=4.4->markdown>=2.6.8->tensorboard>=2.2.0->pytorch_lightning) (3.8.0)\n",
            "Requirement already satisfied: pyasn1<0.5.0,>=0.4.6 in /usr/local/lib/python3.7/dist-packages (from pyasn1-modules>=0.2.1->google-auth<3,>=1.6.3->tensorboard>=2.2.0->pytorch_lightning) (0.4.8)\n",
            "Requirement already satisfied: idna<3,>=2.5 in /usr/local/lib/python3.7/dist-packages (from requests->fsspec[http]!=2021.06.0,>=2021.05.0->pytorch_lightning) (2.10)\n",
            "Requirement already satisfied: chardet<4,>=3.0.2 in /usr/local/lib/python3.7/dist-packages (from requests->fsspec[http]!=2021.06.0,>=2021.05.0->pytorch_lightning) (3.0.4)\n",
            "Requirement already satisfied: certifi>=2017.4.17 in /usr/local/lib/python3.7/dist-packages (from requests->fsspec[http]!=2021.06.0,>=2021.05.0->pytorch_lightning) (2022.6.15)\n",
            "Requirement already satisfied: urllib3!=1.25.0,!=1.25.1,<1.26,>=1.21.1 in /usr/local/lib/python3.7/dist-packages (from requests->fsspec[http]!=2021.06.0,>=2021.05.0->pytorch_lightning) (1.24.3)\n",
            "Requirement already satisfied: oauthlib>=3.0.0 in /usr/local/lib/python3.7/dist-packages (from requests-oauthlib>=0.7.0->google-auth-oauthlib<0.5,>=0.4.1->tensorboard>=2.2.0->pytorch_lightning) (3.2.0)\n",
            "Collecting frozenlist>=1.1.1\n",
            "  Downloading frozenlist-1.3.0-cp37-cp37m-manylinux_2_5_x86_64.manylinux1_x86_64.manylinux_2_17_x86_64.manylinux2014_x86_64.whl (144 kB)\n",
            "\u001b[K     |████████████████████████████████| 144 kB 47.4 MB/s \n",
            "\u001b[?25hRequirement already satisfied: charset-normalizer<3.0,>=2.0 in /usr/local/lib/python3.7/dist-packages (from aiohttp->fsspec[http]!=2021.06.0,>=2021.05.0->pytorch_lightning) (2.1.0)\n",
            "Collecting aiosignal>=1.1.2\n",
            "  Downloading aiosignal-1.2.0-py3-none-any.whl (8.2 kB)\n",
            "Collecting asynctest==0.13.0\n",
            "  Downloading asynctest-0.13.0-py3-none-any.whl (26 kB)\n",
            "Collecting multidict<7.0,>=4.5\n",
            "  Downloading multidict-6.0.2-cp37-cp37m-manylinux_2_17_x86_64.manylinux2014_x86_64.whl (94 kB)\n",
            "\u001b[K     |████████████████████████████████| 94 kB 3.2 MB/s \n",
            "\u001b[?25hCollecting async-timeout<5.0,>=4.0.0a3\n",
            "  Downloading async_timeout-4.0.2-py3-none-any.whl (5.8 kB)\n",
            "Requirement already satisfied: attrs>=17.3.0 in /usr/local/lib/python3.7/dist-packages (from aiohttp->fsspec[http]!=2021.06.0,>=2021.05.0->pytorch_lightning) (21.4.0)\n",
            "Collecting yarl<2.0,>=1.0\n",
            "  Downloading yarl-1.7.2-cp37-cp37m-manylinux_2_5_x86_64.manylinux1_x86_64.manylinux_2_12_x86_64.manylinux2010_x86_64.whl (271 kB)\n",
            "\u001b[K     |████████████████████████████████| 271 kB 47.7 MB/s \n",
            "\u001b[?25hInstalling collected packages: multidict, frozenlist, yarl, asynctest, async-timeout, aiosignal, fsspec, aiohttp, torchmetrics, PyYAML, pyDeprecate, pytorch-lightning\n",
            "  Attempting uninstall: PyYAML\n",
            "    Found existing installation: PyYAML 3.13\n",
            "    Uninstalling PyYAML-3.13:\n",
            "      Successfully uninstalled PyYAML-3.13\n",
            "Successfully installed PyYAML-6.0 aiohttp-3.8.1 aiosignal-1.2.0 async-timeout-4.0.2 asynctest-0.13.0 frozenlist-1.3.0 fsspec-2022.5.0 multidict-6.0.2 pyDeprecate-0.3.2 pytorch-lightning-1.6.4 torchmetrics-0.9.2 yarl-1.7.2\n"
          ]
        },
        {
          "output_type": "display_data",
          "data": {
            "application/vnd.colab-display-data+json": {
              "pip_warning": {
                "packages": [
                  "yaml"
                ]
              }
            }
          },
          "metadata": {}
        }
      ]
    },
    {
      "cell_type": "code",
      "source": [
        "\n",
        "! pip install optuna"
      ],
      "metadata": {
        "colab": {
          "base_uri": "https://localhost:8080/"
        },
        "id": "GVVwz2t-2jjx",
        "outputId": "07b256fe-d413-4b79-ac50-de88ef111317"
      },
      "execution_count": null,
      "outputs": [
        {
          "output_type": "stream",
          "name": "stdout",
          "text": [
            "Looking in indexes: https://pypi.org/simple, https://us-python.pkg.dev/colab-wheels/public/simple/\n",
            "Collecting optuna\n",
            "  Downloading optuna-2.10.1-py3-none-any.whl (308 kB)\n",
            "\u001b[K     |████████████████████████████████| 308 kB 14.7 MB/s \n",
            "\u001b[?25hRequirement already satisfied: scipy!=1.4.0 in /usr/local/lib/python3.7/dist-packages (from optuna) (1.4.1)\n",
            "Collecting alembic\n",
            "  Downloading alembic-1.8.0-py3-none-any.whl (209 kB)\n",
            "\u001b[K     |████████████████████████████████| 209 kB 63.6 MB/s \n",
            "\u001b[?25hCollecting cliff\n",
            "  Downloading cliff-3.10.1-py3-none-any.whl (81 kB)\n",
            "\u001b[K     |████████████████████████████████| 81 kB 11.5 MB/s \n",
            "\u001b[?25hCollecting colorlog\n",
            "  Downloading colorlog-6.6.0-py2.py3-none-any.whl (11 kB)\n",
            "Requirement already satisfied: sqlalchemy>=1.1.0 in /usr/local/lib/python3.7/dist-packages (from optuna) (1.4.37)\n",
            "Requirement already satisfied: PyYAML in /usr/local/lib/python3.7/dist-packages (from optuna) (6.0)\n",
            "Requirement already satisfied: packaging>=20.0 in /usr/local/lib/python3.7/dist-packages (from optuna) (21.3)\n",
            "Collecting cmaes>=0.8.2\n",
            "  Downloading cmaes-0.8.2-py3-none-any.whl (15 kB)\n",
            "Requirement already satisfied: tqdm in /usr/local/lib/python3.7/dist-packages (from optuna) (4.64.0)\n",
            "Requirement already satisfied: numpy in /usr/local/lib/python3.7/dist-packages (from optuna) (1.21.6)\n",
            "Requirement already satisfied: pyparsing!=3.0.5,>=2.0.2 in /usr/local/lib/python3.7/dist-packages (from packaging>=20.0->optuna) (3.0.9)\n",
            "Requirement already satisfied: greenlet!=0.4.17 in /usr/local/lib/python3.7/dist-packages (from sqlalchemy>=1.1.0->optuna) (1.1.2)\n",
            "Requirement already satisfied: importlib-metadata in /usr/local/lib/python3.7/dist-packages (from sqlalchemy>=1.1.0->optuna) (4.11.4)\n",
            "Requirement already satisfied: importlib-resources in /usr/local/lib/python3.7/dist-packages (from alembic->optuna) (5.7.1)\n",
            "Collecting Mako\n",
            "  Downloading Mako-1.2.1-py3-none-any.whl (78 kB)\n",
            "\u001b[K     |████████████████████████████████| 78 kB 8.8 MB/s \n",
            "\u001b[?25hCollecting cmd2>=1.0.0\n",
            "  Downloading cmd2-2.4.1-py3-none-any.whl (146 kB)\n",
            "\u001b[K     |████████████████████████████████| 146 kB 73.1 MB/s \n",
            "\u001b[?25hCollecting autopage>=0.4.0\n",
            "  Downloading autopage-0.5.1-py3-none-any.whl (29 kB)\n",
            "Collecting pbr!=2.1.0,>=2.0.0\n",
            "  Downloading pbr-5.9.0-py2.py3-none-any.whl (112 kB)\n",
            "\u001b[K     |████████████████████████████████| 112 kB 77.8 MB/s \n",
            "\u001b[?25hCollecting stevedore>=2.0.1\n",
            "  Downloading stevedore-3.5.0-py3-none-any.whl (49 kB)\n",
            "\u001b[K     |████████████████████████████████| 49 kB 6.7 MB/s \n",
            "\u001b[?25hRequirement already satisfied: PrettyTable>=0.7.2 in /usr/local/lib/python3.7/dist-packages (from cliff->optuna) (3.3.0)\n",
            "Requirement already satisfied: typing-extensions in /usr/local/lib/python3.7/dist-packages (from cmd2>=1.0.0->cliff->optuna) (4.1.1)\n",
            "Requirement already satisfied: attrs>=16.3.0 in /usr/local/lib/python3.7/dist-packages (from cmd2>=1.0.0->cliff->optuna) (21.4.0)\n",
            "Collecting pyperclip>=1.6\n",
            "  Downloading pyperclip-1.8.2.tar.gz (20 kB)\n",
            "Requirement already satisfied: wcwidth>=0.1.7 in /usr/local/lib/python3.7/dist-packages (from cmd2>=1.0.0->cliff->optuna) (0.2.5)\n",
            "Requirement already satisfied: zipp>=0.5 in /usr/local/lib/python3.7/dist-packages (from importlib-metadata->sqlalchemy>=1.1.0->optuna) (3.8.0)\n",
            "Requirement already satisfied: MarkupSafe>=0.9.2 in /usr/local/lib/python3.7/dist-packages (from Mako->alembic->optuna) (2.0.1)\n",
            "Building wheels for collected packages: pyperclip\n",
            "  Building wheel for pyperclip (setup.py) ... \u001b[?25l\u001b[?25hdone\n",
            "  Created wheel for pyperclip: filename=pyperclip-1.8.2-py3-none-any.whl size=11137 sha256=39b9c502c1c1a78e940c3a83da85d3aaa0f447c41332ba0421fba4fe08640a92\n",
            "  Stored in directory: /root/.cache/pip/wheels/9f/18/84/8f69f8b08169c7bae2dde6bd7daf0c19fca8c8e500ee620a28\n",
            "Successfully built pyperclip\n",
            "Installing collected packages: pyperclip, pbr, stevedore, Mako, cmd2, autopage, colorlog, cmaes, cliff, alembic, optuna\n",
            "Successfully installed Mako-1.2.1 alembic-1.8.0 autopage-0.5.1 cliff-3.10.1 cmaes-0.8.2 cmd2-2.4.1 colorlog-6.6.0 optuna-2.10.1 pbr-5.9.0 pyperclip-1.8.2 stevedore-3.5.0\n"
          ]
        }
      ]
    },
    {
      "cell_type": "markdown",
      "source": [
        "# 1 Test: For customize network\n",
        "\n",
        "## 1.1 换成torch"
      ],
      "metadata": {
        "id": "ZeHznkzpv6wf"
      }
    },
    {
      "cell_type": "code",
      "source": [
        "import pandas as pd\n",
        "import matplotlib as mpl\n",
        "import matplotlib.pyplot as plt\n",
        "\n",
        "mpl.rcParams['figure.figsize'] = [10, 8]\n",
        "mpl.rcParams['axes.grid'] = False\n",
        "\n",
        "from gluonts.torch.model.deepar import DeepAREstimator\n",
        "from gluonts.mx.trainer import Trainer\n",
        "\n",
        "import numpy as np\n"
      ],
      "metadata": {
        "colab": {
          "base_uri": "https://localhost:8080/"
        },
        "id": "geCPzQYQv2PI",
        "outputId": "7cd0f751-238e-4beb-9c9c-336fbb935dec"
      },
      "execution_count": null,
      "outputs": [
        {
          "output_type": "stream",
          "name": "stderr",
          "text": [
            "/usr/local/lib/python3.7/dist-packages/gluonts/json.py:102: UserWarning: Using `json`-module for json-handling. Consider installing one of `orjson`, `ujson` to speed up serialization and deserialization.\n",
            "  \"Using `json`-module for json-handling. \"\n"
          ]
        }
      ]
    },
    {
      "cell_type": "code",
      "source": [
        "df = pd.read_csv('https://archive.ics.uci.edu/ml/machine-learning-databases/00374/energydata_complete.csv')\n",
        "df.sample(10)"
      ],
      "metadata": {
        "colab": {
          "base_uri": "https://localhost:8080/",
          "height": 803
        },
        "id": "c-uJhTj_wJ4o",
        "outputId": "aabe3f69-c9c5-4b38-f5c2-6e3ce7b610ef"
      },
      "execution_count": null,
      "outputs": [
        {
          "output_type": "execute_result",
          "data": {
            "text/plain": [
              "                      date  Appliances  lights         T1       RH_1  \\\n",
              "4434   2016-02-11 12:00:00          90      10  19.890000  43.060000   \n",
              "6945   2016-02-28 22:30:00          50       0  20.290000  33.326667   \n",
              "4196   2016-02-09 20:20:00         160      20  23.000000  48.600000   \n",
              "19545  2016-05-26 10:30:00         290       0  23.600000  43.133333   \n",
              "8636   2016-03-11 16:20:00          50       0  21.000000  33.156667   \n",
              "4068   2016-02-08 23:00:00          60      20  23.390000  42.026667   \n",
              "16331  2016-05-04 02:50:00          60       0  22.200000  35.530000   \n",
              "4723   2016-02-13 12:10:00         130       0  19.963333  40.266667   \n",
              "2369   2016-01-28 03:50:00          30       0  19.000000  47.200000   \n",
              "11159  2016-03-29 04:50:00          60       0  22.200000  37.663333   \n",
              "\n",
              "              T2       RH_2         T3       RH_3         T4  ...     T9  \\\n",
              "4434   19.290000  41.230000  20.500000  41.500000  18.700000  ...  18.70   \n",
              "6945   18.426667  33.433333  19.700000  34.790000  18.926667  ...  18.20   \n",
              "4196   22.390000  41.800000  22.600000  44.860000  19.390000  ...  19.10   \n",
              "19545  27.700000  33.554000  25.895000  42.040000  24.200000  ...  22.60   \n",
              "8636   19.426667  33.500000  20.200000  34.223333  20.790000  ...  18.60   \n",
              "4068   22.790000  41.090000  23.790000  43.000000  21.666667  ...  18.89   \n",
              "16331  19.390000  37.966667  23.290000  37.260000  22.200000  ...  20.39   \n",
              "4723   18.260000  40.990000  21.463333  39.700000  18.500000  ...  18.29   \n",
              "2369   18.356667  46.900000  19.790000  45.400000  18.000000  ...  16.89   \n",
              "11159  19.133333  41.900000  23.390000  38.790000  20.290000  ...  20.60   \n",
              "\n",
              "            RH_9      T_out  Press_mm_hg     RH_out  Windspeed  Visibility  \\\n",
              "4434   42.530000   5.600000   749.400000  88.000000   4.000000   20.000000   \n",
              "6945   36.626667   2.200000   760.500000  67.000000   5.500000   40.000000   \n",
              "4196   42.900000   3.400000   737.033333  93.000000   5.333333   40.000000   \n",
              "19545  44.363333  15.400000   757.300000  79.000000   1.000000   60.000000   \n",
              "8636   39.090000   9.466667   764.733333  57.666667   5.000000   65.000000   \n",
              "4068   42.230000   7.000000   744.400000  74.000000  11.000000   29.000000   \n",
              "16331  39.812000   3.583333   766.600000  89.000000   1.000000   40.000000   \n",
              "4723   39.290000   2.916667   734.650000  91.500000   5.000000   64.500000   \n",
              "2369   49.000000   8.416667   759.133333  88.666667   4.333333   28.666667   \n",
              "11159  43.590000   5.650000   747.833333  87.000000   8.666667   40.000000   \n",
              "\n",
              "       Tdewpoint        rv1        rv2  \n",
              "4434    3.800000   6.814561   6.814561  \n",
              "6945   -3.350000  33.142651  33.142651  \n",
              "4196    2.366667  25.621940  25.621940  \n",
              "19545  11.600000  22.412481  22.412481  \n",
              "8636    1.433333  41.048967  41.048967  \n",
              "4068    2.700000  47.367125  47.367125  \n",
              "16331   1.983333   4.637343   4.637343  \n",
              "4723    1.683333  25.997764  25.997764  \n",
              "2369    6.650000  36.102625  36.102625  \n",
              "11159   3.566667  19.099683  19.099683  \n",
              "\n",
              "[10 rows x 29 columns]"
            ],
            "text/html": [
              "\n",
              "  <div id=\"df-85a4937c-cd35-45c2-a08f-c8bdea28ff83\">\n",
              "    <div class=\"colab-df-container\">\n",
              "      <div>\n",
              "<style scoped>\n",
              "    .dataframe tbody tr th:only-of-type {\n",
              "        vertical-align: middle;\n",
              "    }\n",
              "\n",
              "    .dataframe tbody tr th {\n",
              "        vertical-align: top;\n",
              "    }\n",
              "\n",
              "    .dataframe thead th {\n",
              "        text-align: right;\n",
              "    }\n",
              "</style>\n",
              "<table border=\"1\" class=\"dataframe\">\n",
              "  <thead>\n",
              "    <tr style=\"text-align: right;\">\n",
              "      <th></th>\n",
              "      <th>date</th>\n",
              "      <th>Appliances</th>\n",
              "      <th>lights</th>\n",
              "      <th>T1</th>\n",
              "      <th>RH_1</th>\n",
              "      <th>T2</th>\n",
              "      <th>RH_2</th>\n",
              "      <th>T3</th>\n",
              "      <th>RH_3</th>\n",
              "      <th>T4</th>\n",
              "      <th>...</th>\n",
              "      <th>T9</th>\n",
              "      <th>RH_9</th>\n",
              "      <th>T_out</th>\n",
              "      <th>Press_mm_hg</th>\n",
              "      <th>RH_out</th>\n",
              "      <th>Windspeed</th>\n",
              "      <th>Visibility</th>\n",
              "      <th>Tdewpoint</th>\n",
              "      <th>rv1</th>\n",
              "      <th>rv2</th>\n",
              "    </tr>\n",
              "  </thead>\n",
              "  <tbody>\n",
              "    <tr>\n",
              "      <th>4434</th>\n",
              "      <td>2016-02-11 12:00:00</td>\n",
              "      <td>90</td>\n",
              "      <td>10</td>\n",
              "      <td>19.890000</td>\n",
              "      <td>43.060000</td>\n",
              "      <td>19.290000</td>\n",
              "      <td>41.230000</td>\n",
              "      <td>20.500000</td>\n",
              "      <td>41.500000</td>\n",
              "      <td>18.700000</td>\n",
              "      <td>...</td>\n",
              "      <td>18.70</td>\n",
              "      <td>42.530000</td>\n",
              "      <td>5.600000</td>\n",
              "      <td>749.400000</td>\n",
              "      <td>88.000000</td>\n",
              "      <td>4.000000</td>\n",
              "      <td>20.000000</td>\n",
              "      <td>3.800000</td>\n",
              "      <td>6.814561</td>\n",
              "      <td>6.814561</td>\n",
              "    </tr>\n",
              "    <tr>\n",
              "      <th>6945</th>\n",
              "      <td>2016-02-28 22:30:00</td>\n",
              "      <td>50</td>\n",
              "      <td>0</td>\n",
              "      <td>20.290000</td>\n",
              "      <td>33.326667</td>\n",
              "      <td>18.426667</td>\n",
              "      <td>33.433333</td>\n",
              "      <td>19.700000</td>\n",
              "      <td>34.790000</td>\n",
              "      <td>18.926667</td>\n",
              "      <td>...</td>\n",
              "      <td>18.20</td>\n",
              "      <td>36.626667</td>\n",
              "      <td>2.200000</td>\n",
              "      <td>760.500000</td>\n",
              "      <td>67.000000</td>\n",
              "      <td>5.500000</td>\n",
              "      <td>40.000000</td>\n",
              "      <td>-3.350000</td>\n",
              "      <td>33.142651</td>\n",
              "      <td>33.142651</td>\n",
              "    </tr>\n",
              "    <tr>\n",
              "      <th>4196</th>\n",
              "      <td>2016-02-09 20:20:00</td>\n",
              "      <td>160</td>\n",
              "      <td>20</td>\n",
              "      <td>23.000000</td>\n",
              "      <td>48.600000</td>\n",
              "      <td>22.390000</td>\n",
              "      <td>41.800000</td>\n",
              "      <td>22.600000</td>\n",
              "      <td>44.860000</td>\n",
              "      <td>19.390000</td>\n",
              "      <td>...</td>\n",
              "      <td>19.10</td>\n",
              "      <td>42.900000</td>\n",
              "      <td>3.400000</td>\n",
              "      <td>737.033333</td>\n",
              "      <td>93.000000</td>\n",
              "      <td>5.333333</td>\n",
              "      <td>40.000000</td>\n",
              "      <td>2.366667</td>\n",
              "      <td>25.621940</td>\n",
              "      <td>25.621940</td>\n",
              "    </tr>\n",
              "    <tr>\n",
              "      <th>19545</th>\n",
              "      <td>2016-05-26 10:30:00</td>\n",
              "      <td>290</td>\n",
              "      <td>0</td>\n",
              "      <td>23.600000</td>\n",
              "      <td>43.133333</td>\n",
              "      <td>27.700000</td>\n",
              "      <td>33.554000</td>\n",
              "      <td>25.895000</td>\n",
              "      <td>42.040000</td>\n",
              "      <td>24.200000</td>\n",
              "      <td>...</td>\n",
              "      <td>22.60</td>\n",
              "      <td>44.363333</td>\n",
              "      <td>15.400000</td>\n",
              "      <td>757.300000</td>\n",
              "      <td>79.000000</td>\n",
              "      <td>1.000000</td>\n",
              "      <td>60.000000</td>\n",
              "      <td>11.600000</td>\n",
              "      <td>22.412481</td>\n",
              "      <td>22.412481</td>\n",
              "    </tr>\n",
              "    <tr>\n",
              "      <th>8636</th>\n",
              "      <td>2016-03-11 16:20:00</td>\n",
              "      <td>50</td>\n",
              "      <td>0</td>\n",
              "      <td>21.000000</td>\n",
              "      <td>33.156667</td>\n",
              "      <td>19.426667</td>\n",
              "      <td>33.500000</td>\n",
              "      <td>20.200000</td>\n",
              "      <td>34.223333</td>\n",
              "      <td>20.790000</td>\n",
              "      <td>...</td>\n",
              "      <td>18.60</td>\n",
              "      <td>39.090000</td>\n",
              "      <td>9.466667</td>\n",
              "      <td>764.733333</td>\n",
              "      <td>57.666667</td>\n",
              "      <td>5.000000</td>\n",
              "      <td>65.000000</td>\n",
              "      <td>1.433333</td>\n",
              "      <td>41.048967</td>\n",
              "      <td>41.048967</td>\n",
              "    </tr>\n",
              "    <tr>\n",
              "      <th>4068</th>\n",
              "      <td>2016-02-08 23:00:00</td>\n",
              "      <td>60</td>\n",
              "      <td>20</td>\n",
              "      <td>23.390000</td>\n",
              "      <td>42.026667</td>\n",
              "      <td>22.790000</td>\n",
              "      <td>41.090000</td>\n",
              "      <td>23.790000</td>\n",
              "      <td>43.000000</td>\n",
              "      <td>21.666667</td>\n",
              "      <td>...</td>\n",
              "      <td>18.89</td>\n",
              "      <td>42.230000</td>\n",
              "      <td>7.000000</td>\n",
              "      <td>744.400000</td>\n",
              "      <td>74.000000</td>\n",
              "      <td>11.000000</td>\n",
              "      <td>29.000000</td>\n",
              "      <td>2.700000</td>\n",
              "      <td>47.367125</td>\n",
              "      <td>47.367125</td>\n",
              "    </tr>\n",
              "    <tr>\n",
              "      <th>16331</th>\n",
              "      <td>2016-05-04 02:50:00</td>\n",
              "      <td>60</td>\n",
              "      <td>0</td>\n",
              "      <td>22.200000</td>\n",
              "      <td>35.530000</td>\n",
              "      <td>19.390000</td>\n",
              "      <td>37.966667</td>\n",
              "      <td>23.290000</td>\n",
              "      <td>37.260000</td>\n",
              "      <td>22.200000</td>\n",
              "      <td>...</td>\n",
              "      <td>20.39</td>\n",
              "      <td>39.812000</td>\n",
              "      <td>3.583333</td>\n",
              "      <td>766.600000</td>\n",
              "      <td>89.000000</td>\n",
              "      <td>1.000000</td>\n",
              "      <td>40.000000</td>\n",
              "      <td>1.983333</td>\n",
              "      <td>4.637343</td>\n",
              "      <td>4.637343</td>\n",
              "    </tr>\n",
              "    <tr>\n",
              "      <th>4723</th>\n",
              "      <td>2016-02-13 12:10:00</td>\n",
              "      <td>130</td>\n",
              "      <td>0</td>\n",
              "      <td>19.963333</td>\n",
              "      <td>40.266667</td>\n",
              "      <td>18.260000</td>\n",
              "      <td>40.990000</td>\n",
              "      <td>21.463333</td>\n",
              "      <td>39.700000</td>\n",
              "      <td>18.500000</td>\n",
              "      <td>...</td>\n",
              "      <td>18.29</td>\n",
              "      <td>39.290000</td>\n",
              "      <td>2.916667</td>\n",
              "      <td>734.650000</td>\n",
              "      <td>91.500000</td>\n",
              "      <td>5.000000</td>\n",
              "      <td>64.500000</td>\n",
              "      <td>1.683333</td>\n",
              "      <td>25.997764</td>\n",
              "      <td>25.997764</td>\n",
              "    </tr>\n",
              "    <tr>\n",
              "      <th>2369</th>\n",
              "      <td>2016-01-28 03:50:00</td>\n",
              "      <td>30</td>\n",
              "      <td>0</td>\n",
              "      <td>19.000000</td>\n",
              "      <td>47.200000</td>\n",
              "      <td>18.356667</td>\n",
              "      <td>46.900000</td>\n",
              "      <td>19.790000</td>\n",
              "      <td>45.400000</td>\n",
              "      <td>18.000000</td>\n",
              "      <td>...</td>\n",
              "      <td>16.89</td>\n",
              "      <td>49.000000</td>\n",
              "      <td>8.416667</td>\n",
              "      <td>759.133333</td>\n",
              "      <td>88.666667</td>\n",
              "      <td>4.333333</td>\n",
              "      <td>28.666667</td>\n",
              "      <td>6.650000</td>\n",
              "      <td>36.102625</td>\n",
              "      <td>36.102625</td>\n",
              "    </tr>\n",
              "    <tr>\n",
              "      <th>11159</th>\n",
              "      <td>2016-03-29 04:50:00</td>\n",
              "      <td>60</td>\n",
              "      <td>0</td>\n",
              "      <td>22.200000</td>\n",
              "      <td>37.663333</td>\n",
              "      <td>19.133333</td>\n",
              "      <td>41.900000</td>\n",
              "      <td>23.390000</td>\n",
              "      <td>38.790000</td>\n",
              "      <td>20.290000</td>\n",
              "      <td>...</td>\n",
              "      <td>20.60</td>\n",
              "      <td>43.590000</td>\n",
              "      <td>5.650000</td>\n",
              "      <td>747.833333</td>\n",
              "      <td>87.000000</td>\n",
              "      <td>8.666667</td>\n",
              "      <td>40.000000</td>\n",
              "      <td>3.566667</td>\n",
              "      <td>19.099683</td>\n",
              "      <td>19.099683</td>\n",
              "    </tr>\n",
              "  </tbody>\n",
              "</table>\n",
              "<p>10 rows × 29 columns</p>\n",
              "</div>\n",
              "      <button class=\"colab-df-convert\" onclick=\"convertToInteractive('df-85a4937c-cd35-45c2-a08f-c8bdea28ff83')\"\n",
              "              title=\"Convert this dataframe to an interactive table.\"\n",
              "              style=\"display:none;\">\n",
              "        \n",
              "  <svg xmlns=\"http://www.w3.org/2000/svg\" height=\"24px\"viewBox=\"0 0 24 24\"\n",
              "       width=\"24px\">\n",
              "    <path d=\"M0 0h24v24H0V0z\" fill=\"none\"/>\n",
              "    <path d=\"M18.56 5.44l.94 2.06.94-2.06 2.06-.94-2.06-.94-.94-2.06-.94 2.06-2.06.94zm-11 1L8.5 8.5l.94-2.06 2.06-.94-2.06-.94L8.5 2.5l-.94 2.06-2.06.94zm10 10l.94 2.06.94-2.06 2.06-.94-2.06-.94-.94-2.06-.94 2.06-2.06.94z\"/><path d=\"M17.41 7.96l-1.37-1.37c-.4-.4-.92-.59-1.43-.59-.52 0-1.04.2-1.43.59L10.3 9.45l-7.72 7.72c-.78.78-.78 2.05 0 2.83L4 21.41c.39.39.9.59 1.41.59.51 0 1.02-.2 1.41-.59l7.78-7.78 2.81-2.81c.8-.78.8-2.07 0-2.86zM5.41 20L4 18.59l7.72-7.72 1.47 1.35L5.41 20z\"/>\n",
              "  </svg>\n",
              "      </button>\n",
              "      \n",
              "  <style>\n",
              "    .colab-df-container {\n",
              "      display:flex;\n",
              "      flex-wrap:wrap;\n",
              "      gap: 12px;\n",
              "    }\n",
              "\n",
              "    .colab-df-convert {\n",
              "      background-color: #E8F0FE;\n",
              "      border: none;\n",
              "      border-radius: 50%;\n",
              "      cursor: pointer;\n",
              "      display: none;\n",
              "      fill: #1967D2;\n",
              "      height: 32px;\n",
              "      padding: 0 0 0 0;\n",
              "      width: 32px;\n",
              "    }\n",
              "\n",
              "    .colab-df-convert:hover {\n",
              "      background-color: #E2EBFA;\n",
              "      box-shadow: 0px 1px 2px rgba(60, 64, 67, 0.3), 0px 1px 3px 1px rgba(60, 64, 67, 0.15);\n",
              "      fill: #174EA6;\n",
              "    }\n",
              "\n",
              "    [theme=dark] .colab-df-convert {\n",
              "      background-color: #3B4455;\n",
              "      fill: #D2E3FC;\n",
              "    }\n",
              "\n",
              "    [theme=dark] .colab-df-convert:hover {\n",
              "      background-color: #434B5C;\n",
              "      box-shadow: 0px 1px 3px 1px rgba(0, 0, 0, 0.15);\n",
              "      filter: drop-shadow(0px 1px 2px rgba(0, 0, 0, 0.3));\n",
              "      fill: #FFFFFF;\n",
              "    }\n",
              "  </style>\n",
              "\n",
              "      <script>\n",
              "        const buttonEl =\n",
              "          document.querySelector('#df-85a4937c-cd35-45c2-a08f-c8bdea28ff83 button.colab-df-convert');\n",
              "        buttonEl.style.display =\n",
              "          google.colab.kernel.accessAllowed ? 'block' : 'none';\n",
              "\n",
              "        async function convertToInteractive(key) {\n",
              "          const element = document.querySelector('#df-85a4937c-cd35-45c2-a08f-c8bdea28ff83');\n",
              "          const dataTable =\n",
              "            await google.colab.kernel.invokeFunction('convertToInteractive',\n",
              "                                                     [key], {});\n",
              "          if (!dataTable) return;\n",
              "\n",
              "          const docLinkHtml = 'Like what you see? Visit the ' +\n",
              "            '<a target=\"_blank\" href=https://colab.research.google.com/notebooks/data_table.ipynb>data table notebook</a>'\n",
              "            + ' to learn more about interactive tables.';\n",
              "          element.innerHTML = '';\n",
              "          dataTable['output_type'] = 'display_data';\n",
              "          await google.colab.output.renderOutput(dataTable, element);\n",
              "          const docLink = document.createElement('div');\n",
              "          docLink.innerHTML = docLinkHtml;\n",
              "          element.appendChild(docLink);\n",
              "        }\n",
              "      </script>\n",
              "    </div>\n",
              "  </div>\n",
              "  "
            ]
          },
          "metadata": {},
          "execution_count": 4
        }
      ]
    },
    {
      "cell_type": "code",
      "source": [
        "df_input = df[['date','Appliances','T_out','Press_mm_hg','RH_out','Windspeed','Tdewpoint','Visibility']]\n",
        "\n",
        "df_input = df_input.set_index('date')\n",
        "df_input.index = pd.to_datetime(df_input.index)\n",
        "df_input.head()"
      ],
      "metadata": {
        "colab": {
          "base_uri": "https://localhost:8080/",
          "height": 237
        },
        "id": "IzNPdNQOwM3r",
        "outputId": "f0d77aff-7180-4bb1-a7c2-822590d99614"
      },
      "execution_count": null,
      "outputs": [
        {
          "output_type": "execute_result",
          "data": {
            "text/plain": [
              "                     Appliances     T_out  Press_mm_hg  RH_out  Windspeed  \\\n",
              "date                                                                        \n",
              "2016-01-11 17:00:00          60  6.600000        733.5    92.0   7.000000   \n",
              "2016-01-11 17:10:00          60  6.483333        733.6    92.0   6.666667   \n",
              "2016-01-11 17:20:00          50  6.366667        733.7    92.0   6.333333   \n",
              "2016-01-11 17:30:00          50  6.250000        733.8    92.0   6.000000   \n",
              "2016-01-11 17:40:00          60  6.133333        733.9    92.0   5.666667   \n",
              "\n",
              "                     Tdewpoint  Visibility  \n",
              "date                                        \n",
              "2016-01-11 17:00:00        5.3   63.000000  \n",
              "2016-01-11 17:10:00        5.2   59.166667  \n",
              "2016-01-11 17:20:00        5.1   55.333333  \n",
              "2016-01-11 17:30:00        5.0   51.500000  \n",
              "2016-01-11 17:40:00        4.9   47.666667  "
            ],
            "text/html": [
              "\n",
              "  <div id=\"df-fbd7e9d2-a6f7-4d3c-ac00-dab0cc89a1b8\">\n",
              "    <div class=\"colab-df-container\">\n",
              "      <div>\n",
              "<style scoped>\n",
              "    .dataframe tbody tr th:only-of-type {\n",
              "        vertical-align: middle;\n",
              "    }\n",
              "\n",
              "    .dataframe tbody tr th {\n",
              "        vertical-align: top;\n",
              "    }\n",
              "\n",
              "    .dataframe thead th {\n",
              "        text-align: right;\n",
              "    }\n",
              "</style>\n",
              "<table border=\"1\" class=\"dataframe\">\n",
              "  <thead>\n",
              "    <tr style=\"text-align: right;\">\n",
              "      <th></th>\n",
              "      <th>Appliances</th>\n",
              "      <th>T_out</th>\n",
              "      <th>Press_mm_hg</th>\n",
              "      <th>RH_out</th>\n",
              "      <th>Windspeed</th>\n",
              "      <th>Tdewpoint</th>\n",
              "      <th>Visibility</th>\n",
              "    </tr>\n",
              "    <tr>\n",
              "      <th>date</th>\n",
              "      <th></th>\n",
              "      <th></th>\n",
              "      <th></th>\n",
              "      <th></th>\n",
              "      <th></th>\n",
              "      <th></th>\n",
              "      <th></th>\n",
              "    </tr>\n",
              "  </thead>\n",
              "  <tbody>\n",
              "    <tr>\n",
              "      <th>2016-01-11 17:00:00</th>\n",
              "      <td>60</td>\n",
              "      <td>6.600000</td>\n",
              "      <td>733.5</td>\n",
              "      <td>92.0</td>\n",
              "      <td>7.000000</td>\n",
              "      <td>5.3</td>\n",
              "      <td>63.000000</td>\n",
              "    </tr>\n",
              "    <tr>\n",
              "      <th>2016-01-11 17:10:00</th>\n",
              "      <td>60</td>\n",
              "      <td>6.483333</td>\n",
              "      <td>733.6</td>\n",
              "      <td>92.0</td>\n",
              "      <td>6.666667</td>\n",
              "      <td>5.2</td>\n",
              "      <td>59.166667</td>\n",
              "    </tr>\n",
              "    <tr>\n",
              "      <th>2016-01-11 17:20:00</th>\n",
              "      <td>50</td>\n",
              "      <td>6.366667</td>\n",
              "      <td>733.7</td>\n",
              "      <td>92.0</td>\n",
              "      <td>6.333333</td>\n",
              "      <td>5.1</td>\n",
              "      <td>55.333333</td>\n",
              "    </tr>\n",
              "    <tr>\n",
              "      <th>2016-01-11 17:30:00</th>\n",
              "      <td>50</td>\n",
              "      <td>6.250000</td>\n",
              "      <td>733.8</td>\n",
              "      <td>92.0</td>\n",
              "      <td>6.000000</td>\n",
              "      <td>5.0</td>\n",
              "      <td>51.500000</td>\n",
              "    </tr>\n",
              "    <tr>\n",
              "      <th>2016-01-11 17:40:00</th>\n",
              "      <td>60</td>\n",
              "      <td>6.133333</td>\n",
              "      <td>733.9</td>\n",
              "      <td>92.0</td>\n",
              "      <td>5.666667</td>\n",
              "      <td>4.9</td>\n",
              "      <td>47.666667</td>\n",
              "    </tr>\n",
              "  </tbody>\n",
              "</table>\n",
              "</div>\n",
              "      <button class=\"colab-df-convert\" onclick=\"convertToInteractive('df-fbd7e9d2-a6f7-4d3c-ac00-dab0cc89a1b8')\"\n",
              "              title=\"Convert this dataframe to an interactive table.\"\n",
              "              style=\"display:none;\">\n",
              "        \n",
              "  <svg xmlns=\"http://www.w3.org/2000/svg\" height=\"24px\"viewBox=\"0 0 24 24\"\n",
              "       width=\"24px\">\n",
              "    <path d=\"M0 0h24v24H0V0z\" fill=\"none\"/>\n",
              "    <path d=\"M18.56 5.44l.94 2.06.94-2.06 2.06-.94-2.06-.94-.94-2.06-.94 2.06-2.06.94zm-11 1L8.5 8.5l.94-2.06 2.06-.94-2.06-.94L8.5 2.5l-.94 2.06-2.06.94zm10 10l.94 2.06.94-2.06 2.06-.94-2.06-.94-.94-2.06-.94 2.06-2.06.94z\"/><path d=\"M17.41 7.96l-1.37-1.37c-.4-.4-.92-.59-1.43-.59-.52 0-1.04.2-1.43.59L10.3 9.45l-7.72 7.72c-.78.78-.78 2.05 0 2.83L4 21.41c.39.39.9.59 1.41.59.51 0 1.02-.2 1.41-.59l7.78-7.78 2.81-2.81c.8-.78.8-2.07 0-2.86zM5.41 20L4 18.59l7.72-7.72 1.47 1.35L5.41 20z\"/>\n",
              "  </svg>\n",
              "      </button>\n",
              "      \n",
              "  <style>\n",
              "    .colab-df-container {\n",
              "      display:flex;\n",
              "      flex-wrap:wrap;\n",
              "      gap: 12px;\n",
              "    }\n",
              "\n",
              "    .colab-df-convert {\n",
              "      background-color: #E8F0FE;\n",
              "      border: none;\n",
              "      border-radius: 50%;\n",
              "      cursor: pointer;\n",
              "      display: none;\n",
              "      fill: #1967D2;\n",
              "      height: 32px;\n",
              "      padding: 0 0 0 0;\n",
              "      width: 32px;\n",
              "    }\n",
              "\n",
              "    .colab-df-convert:hover {\n",
              "      background-color: #E2EBFA;\n",
              "      box-shadow: 0px 1px 2px rgba(60, 64, 67, 0.3), 0px 1px 3px 1px rgba(60, 64, 67, 0.15);\n",
              "      fill: #174EA6;\n",
              "    }\n",
              "\n",
              "    [theme=dark] .colab-df-convert {\n",
              "      background-color: #3B4455;\n",
              "      fill: #D2E3FC;\n",
              "    }\n",
              "\n",
              "    [theme=dark] .colab-df-convert:hover {\n",
              "      background-color: #434B5C;\n",
              "      box-shadow: 0px 1px 3px 1px rgba(0, 0, 0, 0.15);\n",
              "      filter: drop-shadow(0px 1px 2px rgba(0, 0, 0, 0.3));\n",
              "      fill: #FFFFFF;\n",
              "    }\n",
              "  </style>\n",
              "\n",
              "      <script>\n",
              "        const buttonEl =\n",
              "          document.querySelector('#df-fbd7e9d2-a6f7-4d3c-ac00-dab0cc89a1b8 button.colab-df-convert');\n",
              "        buttonEl.style.display =\n",
              "          google.colab.kernel.accessAllowed ? 'block' : 'none';\n",
              "\n",
              "        async function convertToInteractive(key) {\n",
              "          const element = document.querySelector('#df-fbd7e9d2-a6f7-4d3c-ac00-dab0cc89a1b8');\n",
              "          const dataTable =\n",
              "            await google.colab.kernel.invokeFunction('convertToInteractive',\n",
              "                                                     [key], {});\n",
              "          if (!dataTable) return;\n",
              "\n",
              "          const docLinkHtml = 'Like what you see? Visit the ' +\n",
              "            '<a target=\"_blank\" href=https://colab.research.google.com/notebooks/data_table.ipynb>data table notebook</a>'\n",
              "            + ' to learn more about interactive tables.';\n",
              "          element.innerHTML = '';\n",
              "          dataTable['output_type'] = 'display_data';\n",
              "          await google.colab.output.renderOutput(dataTable, element);\n",
              "          const docLink = document.createElement('div');\n",
              "          docLink.innerHTML = docLinkHtml;\n",
              "          element.appendChild(docLink);\n",
              "        }\n",
              "      </script>\n",
              "    </div>\n",
              "  </div>\n",
              "  "
            ]
          },
          "metadata": {},
          "execution_count": 5
        }
      ]
    },
    {
      "cell_type": "code",
      "source": [
        "df_input.index[0], df_input.index[-1]"
      ],
      "metadata": {
        "colab": {
          "base_uri": "https://localhost:8080/"
        },
        "id": "oFkdX5sjwOy-",
        "outputId": "1186b6ed-42fd-4ffc-a2a8-578fd324577e"
      },
      "execution_count": null,
      "outputs": [
        {
          "output_type": "execute_result",
          "data": {
            "text/plain": [
              "(Timestamp('2016-01-11 17:00:00'), Timestamp('2016-05-27 18:00:00'))"
            ]
          },
          "metadata": {},
          "execution_count": 5
        }
      ]
    },
    {
      "cell_type": "code",
      "source": [
        "type(df_input.index) is pd.core.indexes.datetimes.DatetimeIndex"
      ],
      "metadata": {
        "colab": {
          "base_uri": "https://localhost:8080/"
        },
        "id": "2F68902Ewhbk",
        "outputId": "efe74885-0918-432b-da28-31429eee0bd6"
      },
      "execution_count": null,
      "outputs": [
        {
          "output_type": "execute_result",
          "data": {
            "text/plain": [
              "True"
            ]
          },
          "metadata": {},
          "execution_count": 13
        }
      ]
    },
    {
      "cell_type": "code",
      "source": [
        "df_input.index"
      ],
      "metadata": {
        "colab": {
          "base_uri": "https://localhost:8080/"
        },
        "id": "4mtEwb4ywQR4",
        "outputId": "261c74cd-ea6c-44cd-9409-dc4ae69b14c0"
      },
      "execution_count": null,
      "outputs": [
        {
          "output_type": "execute_result",
          "data": {
            "text/plain": [
              "DatetimeIndex(['2016-01-11 17:00:00', '2016-01-11 17:10:00',\n",
              "               '2016-01-11 17:20:00', '2016-01-11 17:30:00',\n",
              "               '2016-01-11 17:40:00', '2016-01-11 17:50:00',\n",
              "               '2016-01-11 18:00:00', '2016-01-11 18:10:00',\n",
              "               '2016-01-11 18:20:00', '2016-01-11 18:30:00',\n",
              "               ...\n",
              "               '2016-05-27 16:30:00', '2016-05-27 16:40:00',\n",
              "               '2016-05-27 16:50:00', '2016-05-27 17:00:00',\n",
              "               '2016-05-27 17:10:00', '2016-05-27 17:20:00',\n",
              "               '2016-05-27 17:30:00', '2016-05-27 17:40:00',\n",
              "               '2016-05-27 17:50:00', '2016-05-27 18:00:00'],\n",
              "              dtype='datetime64[ns]', name='date', length=19735, freq=None)"
            ]
          },
          "metadata": {},
          "execution_count": 6
        }
      ]
    },
    {
      "cell_type": "code",
      "source": [
        "def check_timr_series(df: pd.DataFrame):\n",
        "  assert type(df_input.index) is pd.core.indexes.datetimes.DatetimeIndex  \n",
        "  print(f'Start should be {df.index[0]} and end should be {df.index[-1]}')\n",
        "  print(f'length should be {pd.date_range(df.index[0],df.index[-1],freq=df.index[1]-df.index[0]).shape[0]}')\n",
        "  print(f'real length is {df_input.index.shape[0]}')\n",
        "  assert pd.date_range(df.index[0],df.index[-1],freq=df.index[1]-df.index[0]).shape[0] == df_input.index.shape[0]\n",
        "  return df.index"
      ],
      "metadata": {
        "id": "hvvm9KYlwRcu"
      },
      "execution_count": null,
      "outputs": []
    },
    {
      "cell_type": "code",
      "source": [
        "10*6*24 "
      ],
      "metadata": {
        "colab": {
          "base_uri": "https://localhost:8080/"
        },
        "id": "Kx7OZtH7xOLd",
        "outputId": "90dc6765-bd28-4714-a32d-8379c6505dc7"
      },
      "execution_count": null,
      "outputs": [
        {
          "output_type": "execute_result",
          "data": {
            "text/plain": [
              "1440"
            ]
          },
          "metadata": {},
          "execution_count": 35
        }
      ]
    },
    {
      "cell_type": "code",
      "source": [
        "train_time = \"2016-05-10 00:00:00\"\n",
        "prediction_length = 144"
      ],
      "metadata": {
        "id": "8QOVAaK_w77r"
      },
      "execution_count": null,
      "outputs": []
    },
    {
      "cell_type": "code",
      "source": [
        "df_input['Appliances'][:train_time]"
      ],
      "metadata": {
        "colab": {
          "base_uri": "https://localhost:8080/"
        },
        "id": "Ujw2cX9TySth",
        "outputId": "dbc96474-02d2-4adc-f517-813917c27eac"
      },
      "execution_count": null,
      "outputs": [
        {
          "output_type": "execute_result",
          "data": {
            "text/plain": [
              "date\n",
              "2016-01-11 17:00:00    60\n",
              "2016-01-11 17:10:00    60\n",
              "2016-01-11 17:20:00    50\n",
              "2016-01-11 17:30:00    50\n",
              "2016-01-11 17:40:00    60\n",
              "                       ..\n",
              "2016-05-09 23:20:00    60\n",
              "2016-05-09 23:30:00    60\n",
              "2016-05-09 23:40:00    50\n",
              "2016-05-09 23:50:00    70\n",
              "2016-05-10 00:00:00    50\n",
              "Name: Appliances, Length: 17179, dtype: int64"
            ]
          },
          "metadata": {},
          "execution_count": 7
        }
      ]
    },
    {
      "cell_type": "code",
      "source": [
        "from gluonts.dataset.common import ListDataset\n",
        "import optuna\n",
        "training_data = ListDataset(\n",
        "    [{\"start\":df_input.index[0], \"target\": df_input['Appliances'][:train_time]}],\n",
        "    freq = \"10min\"\n",
        ")"
      ],
      "metadata": {
        "id": "u9Bea5nZyUZz"
      },
      "execution_count": null,
      "outputs": []
    },
    {
      "cell_type": "code",
      "source": [
        "context_length = 720\n",
        "estimator = DeepAREstimator(freq=\"10min\",\n",
        "                            context_length=context_length,\n",
        "                            prediction_length=prediction_length,\n",
        "                            num_layers=2,\n",
        "                            hidden_size=128,\n",
        "                                        trainer_kwargs={\n",
        "                \"enable_progress_bar\": False,\n",
        "                \"enable_model_summary\": False,\n",
        "                \"max_epochs\": 10,\n",
        "            }                      \n",
        "                  )"
      ],
      "metadata": {
        "id": "WObEeUi54Osr"
      },
      "execution_count": null,
      "outputs": []
    },
    {
      "cell_type": "code",
      "source": [
        "predictor = estimator.train(training_data, cache_data=True)"
      ],
      "metadata": {
        "colab": {
          "base_uri": "https://localhost:8080/"
        },
        "id": "WqnPdNDd4R5P",
        "outputId": "4c62c6a7-fd61-4bfc-d4f2-d39e1c5f51c3"
      },
      "execution_count": null,
      "outputs": [
        {
          "output_type": "stream",
          "name": "stderr",
          "text": [
            "/usr/local/lib/python3.7/dist-packages/pytorch_lightning/utilities/parsing.py:262: UserWarning: Attribute 'model' is an instance of `nn.Module` and is already saved during checkpointing. It is recommended to ignore them using `self.save_hyperparameters(ignore=['model'])`.\n",
            "  f\"Attribute {k!r} is an instance of `nn.Module` and is already saved during checkpointing.\"\n",
            "GPU available: True, used: False\n",
            "TPU available: False, using: 0 TPU cores\n",
            "IPU available: False, using: 0 IPUs\n",
            "HPU available: False, using: 0 HPUs\n",
            "/usr/local/lib/python3.7/dist-packages/pytorch_lightning/trainer/trainer.py:1817: PossibleUserWarning: GPU available but not used. Set `accelerator` and `devices` using `Trainer(accelerator='gpu', devices=1)`.\n",
            "  category=PossibleUserWarning,\n",
            "/usr/local/lib/python3.7/dist-packages/pytorch_lightning/trainer/configuration_validator.py:133: UserWarning: You defined a `validation_step` but have no `val_dataloader`. Skipping val loop.\n",
            "  rank_zero_warn(\"You defined a `validation_step` but have no `val_dataloader`. Skipping val loop.\")\n",
            "Missing logger folder: /content/lightning_logs\n",
            "Epoch 0, global step 50: 'train_loss' reached 5.25369 (best 5.25369), saving model to '/content/lightning_logs/version_0/checkpoints/epoch=0-step=50.ckpt' as top 1\n",
            "Epoch 1, global step 100: 'train_loss' reached 4.87329 (best 4.87329), saving model to '/content/lightning_logs/version_0/checkpoints/epoch=1-step=100.ckpt' as top 1\n",
            "Epoch 2, global step 150: 'train_loss' reached 4.79915 (best 4.79915), saving model to '/content/lightning_logs/version_0/checkpoints/epoch=2-step=150.ckpt' as top 1\n",
            "Epoch 3, global step 200: 'train_loss' reached 4.72546 (best 4.72546), saving model to '/content/lightning_logs/version_0/checkpoints/epoch=3-step=200.ckpt' as top 1\n",
            "Epoch 4, global step 250: 'train_loss' reached 4.67074 (best 4.67074), saving model to '/content/lightning_logs/version_0/checkpoints/epoch=4-step=250.ckpt' as top 1\n",
            "Epoch 5, global step 300: 'train_loss' reached 4.62850 (best 4.62850), saving model to '/content/lightning_logs/version_0/checkpoints/epoch=5-step=300.ckpt' as top 1\n",
            "Epoch 6, global step 350: 'train_loss' reached 4.60030 (best 4.60030), saving model to '/content/lightning_logs/version_0/checkpoints/epoch=6-step=350.ckpt' as top 1\n",
            "Epoch 7, global step 400: 'train_loss' reached 4.51445 (best 4.51445), saving model to '/content/lightning_logs/version_0/checkpoints/epoch=7-step=400.ckpt' as top 1\n",
            "Epoch 8, global step 450: 'train_loss' reached 4.45151 (best 4.45151), saving model to '/content/lightning_logs/version_0/checkpoints/epoch=8-step=450.ckpt' as top 1\n",
            "Epoch 9, global step 500: 'train_loss' reached 4.37548 (best 4.37548), saving model to '/content/lightning_logs/version_0/checkpoints/epoch=9-step=500.ckpt' as top 1\n"
          ]
        }
      ]
    },
    {
      "cell_type": "code",
      "source": [
        "test_data = ListDataset(\n",
        "    [\n",
        "     {\"start\": df_input.index[0], \"target\": df_input.Appliances[:\"2016-05-11 00:00:00\"]},\n",
        "     {\"start\": df_input.index[0], \"target\": df_input.Appliances[:\"2016-05-15 00:00:00\"]}\n",
        "    ],\n",
        "    freq = \"10min\"\n",
        ")"
      ],
      "metadata": {
        "id": "zJHsuE439U7f"
      },
      "execution_count": null,
      "outputs": []
    },
    {
      "cell_type": "code",
      "source": [
        "from gluonts.evaluation.backtest import  make_evaluation_predictions\n",
        "\n",
        "forecast_it, ts_it = make_evaluation_predictions(\n",
        "    dataset = test_data,\n",
        "    predictor = predictor,\n",
        "    num_samples = 100\n",
        ")"
      ],
      "metadata": {
        "id": "KthZnFaz4aBz"
      },
      "execution_count": null,
      "outputs": []
    },
    {
      "cell_type": "code",
      "source": [
        "forecast = list(forecast_it)\n",
        "tss = list(ts_it)"
      ],
      "metadata": {
        "id": "k6CP_fFH9W4H"
      },
      "execution_count": null,
      "outputs": []
    },
    {
      "cell_type": "code",
      "source": [
        "forecast_entry = forecast[0]"
      ],
      "metadata": {
        "id": "lI_maeB79YJV"
      },
      "execution_count": null,
      "outputs": []
    },
    {
      "cell_type": "code",
      "source": [
        "def plot_prob_forecast(ts_entry, forecast_entry):\n",
        "  plot_length = prediction_length\n",
        "  prediction_intervals = (80.0, 95.0)\n",
        "  legend = [\"observations\",\"median prediction\"] + [f\"{k}% prediction interval\" for k in prediction_intervals][::-1]\n",
        "\n",
        "  fig, ax = plt.subplots(1,1,figsize=(10,7))\n",
        "  ts_entry[-plot_length:].plot(ax=ax)\n",
        "  forecast_entry.plot(prediction_intervals=prediction_intervals, color='g')\n",
        "  plt.grid(which=\"both\")\n",
        "  plt.legend(legend, loc=\"upper left\")\n",
        "  plt.show()"
      ],
      "metadata": {
        "id": "nJaq_zyY9aaa"
      },
      "execution_count": null,
      "outputs": []
    },
    {
      "cell_type": "code",
      "source": [
        "plot_prob_forecast(tss[0], forecast[0])\n",
        "plot_prob_forecast(tss[1], forecast[1])"
      ],
      "metadata": {
        "colab": {
          "base_uri": "https://localhost:8080/",
          "height": 863
        },
        "id": "F_tN6Cqy9b0y",
        "outputId": "e54f746e-f6a7-400f-a799-4ea15d33c081"
      },
      "execution_count": null,
      "outputs": [
        {
          "output_type": "display_data",
          "data": {
            "text/plain": [
              "<Figure size 720x504 with 1 Axes>"
            ],
            "image/png": "[encoded data removed]"
          },
          "metadata": {
            "needs_background": "light"
          }
        },
        {
          "output_type": "display_data",
          "data": {
            "text/plain": [
              "<Figure size 720x504 with 1 Axes>"
            ],
            "image/png": "[encoded data removed]"
          },
          "metadata": {
            "needs_background": "light"
          }
        }
      ]
    },
    {
      "cell_type": "code",
      "source": [
        "from gluonts.evaluation import Evaluator\n",
        "evaluator = Evaluator(quantiles=[0.1,0.5, 0.9])\n",
        "agg_metrics, item_metrics = evaluator(iter(tss), iter(forecast), num_series = len(test_data))"
      ],
      "metadata": {
        "colab": {
          "base_uri": "https://localhost:8080/"
        },
        "id": "7-_4EQeZ9Juv",
        "outputId": "df413a88-fd01-453f-fb08-81a9ca192b70"
      },
      "execution_count": null,
      "outputs": [
        {
          "output_type": "stream",
          "name": "stderr",
          "text": [
            "Running evaluation: 100%|██████████| 2/2 [00:00<00:00, 24.11it/s]\n"
          ]
        }
      ]
    },
    {
      "cell_type": "code",
      "source": [
        "\n",
        "item_metrics"
      ],
      "metadata": {
        "colab": {
          "base_uri": "https://localhost:8080/",
          "height": 176
        },
        "id": "mNDpgs1_9jLk",
        "outputId": "f53055e3-b3ed-4dda-b3e6-a7fc7c8c22cd"
      },
      "execution_count": null,
      "outputs": [
        {
          "output_type": "execute_result",
          "data": {
            "text/plain": [
              "   item_id          MSE    abs_error  abs_target_sum  abs_target_mean  \\\n",
              "0      NaN   707.343696  2500.319336          9510.0        66.041667   \n",
              "1      NaN  6492.612847  5321.318359         14350.0        99.652778   \n",
              "\n",
              "   seasonal_error      MASE      MAPE     sMAPE        ND      MSIS  \\\n",
              "0       64.962137  0.267284  0.258313  0.231956  0.262915  1.980685   \n",
              "1       64.259270  0.575070  0.251097  0.315676  0.370824  8.234008   \n",
              "\n",
              "   QuantileLoss[0.1]  Coverage[0.1]  QuantileLoss[0.5]  Coverage[0.5]  \\\n",
              "0        1225.074570       0.236111        2500.319530       0.631944   \n",
              "1        1877.255754       0.000000        5321.318493       0.250000   \n",
              "\n",
              "   QuantileLoss[0.9]  Coverage[0.9]  \n",
              "0        1232.711320       0.930556  \n",
              "1        4637.078813       0.798611  "
            ],
            "text/html": [
              "\n",
              "  <div id=\"df-9b9fa545-a63f-49d7-b16b-6576d5bd4116\">\n",
              "    <div class=\"colab-df-container\">\n",
              "      <div>\n",
              "<style scoped>\n",
              "    .dataframe tbody tr th:only-of-type {\n",
              "        vertical-align: middle;\n",
              "    }\n",
              "\n",
              "    .dataframe tbody tr th {\n",
              "        vertical-align: top;\n",
              "    }\n",
              "\n",
              "    .dataframe thead th {\n",
              "        text-align: right;\n",
              "    }\n",
              "</style>\n",
              "<table border=\"1\" class=\"dataframe\">\n",
              "  <thead>\n",
              "    <tr style=\"text-align: right;\">\n",
              "      <th></th>\n",
              "      <th>item_id</th>\n",
              "      <th>MSE</th>\n",
              "      <th>abs_error</th>\n",
              "      <th>abs_target_sum</th>\n",
              "      <th>abs_target_mean</th>\n",
              "      <th>seasonal_error</th>\n",
              "      <th>MASE</th>\n",
              "      <th>MAPE</th>\n",
              "      <th>sMAPE</th>\n",
              "      <th>ND</th>\n",
              "      <th>MSIS</th>\n",
              "      <th>QuantileLoss[0.1]</th>\n",
              "      <th>Coverage[0.1]</th>\n",
              "      <th>QuantileLoss[0.5]</th>\n",
              "      <th>Coverage[0.5]</th>\n",
              "      <th>QuantileLoss[0.9]</th>\n",
              "      <th>Coverage[0.9]</th>\n",
              "    </tr>\n",
              "  </thead>\n",
              "  <tbody>\n",
              "    <tr>\n",
              "      <th>0</th>\n",
              "      <td>NaN</td>\n",
              "      <td>707.343696</td>\n",
              "      <td>2500.319336</td>\n",
              "      <td>9510.0</td>\n",
              "      <td>66.041667</td>\n",
              "      <td>64.962137</td>\n",
              "      <td>0.267284</td>\n",
              "      <td>0.258313</td>\n",
              "      <td>0.231956</td>\n",
              "      <td>0.262915</td>\n",
              "      <td>1.980685</td>\n",
              "      <td>1225.074570</td>\n",
              "      <td>0.236111</td>\n",
              "      <td>2500.319530</td>\n",
              "      <td>0.631944</td>\n",
              "      <td>1232.711320</td>\n",
              "      <td>0.930556</td>\n",
              "    </tr>\n",
              "    <tr>\n",
              "      <th>1</th>\n",
              "      <td>NaN</td>\n",
              "      <td>6492.612847</td>\n",
              "      <td>5321.318359</td>\n",
              "      <td>14350.0</td>\n",
              "      <td>99.652778</td>\n",
              "      <td>64.259270</td>\n",
              "      <td>0.575070</td>\n",
              "      <td>0.251097</td>\n",
              "      <td>0.315676</td>\n",
              "      <td>0.370824</td>\n",
              "      <td>8.234008</td>\n",
              "      <td>1877.255754</td>\n",
              "      <td>0.000000</td>\n",
              "      <td>5321.318493</td>\n",
              "      <td>0.250000</td>\n",
              "      <td>4637.078813</td>\n",
              "      <td>0.798611</td>\n",
              "    </tr>\n",
              "  </tbody>\n",
              "</table>\n",
              "</div>\n",
              "      <button class=\"colab-df-convert\" onclick=\"convertToInteractive('df-9b9fa545-a63f-49d7-b16b-6576d5bd4116')\"\n",
              "              title=\"Convert this dataframe to an interactive table.\"\n",
              "              style=\"display:none;\">\n",
              "        \n",
              "  <svg xmlns=\"http://www.w3.org/2000/svg\" height=\"24px\"viewBox=\"0 0 24 24\"\n",
              "       width=\"24px\">\n",
              "    <path d=\"M0 0h24v24H0V0z\" fill=\"none\"/>\n",
              "    <path d=\"M18.56 5.44l.94 2.06.94-2.06 2.06-.94-2.06-.94-.94-2.06-.94 2.06-2.06.94zm-11 1L8.5 8.5l.94-2.06 2.06-.94-2.06-.94L8.5 2.5l-.94 2.06-2.06.94zm10 10l.94 2.06.94-2.06 2.06-.94-2.06-.94-.94-2.06-.94 2.06-2.06.94z\"/><path d=\"M17.41 7.96l-1.37-1.37c-.4-.4-.92-.59-1.43-.59-.52 0-1.04.2-1.43.59L10.3 9.45l-7.72 7.72c-.78.78-.78 2.05 0 2.83L4 21.41c.39.39.9.59 1.41.59.51 0 1.02-.2 1.41-.59l7.78-7.78 2.81-2.81c.8-.78.8-2.07 0-2.86zM5.41 20L4 18.59l7.72-7.72 1.47 1.35L5.41 20z\"/>\n",
              "  </svg>\n",
              "      </button>\n",
              "      \n",
              "  <style>\n",
              "    .colab-df-container {\n",
              "      display:flex;\n",
              "      flex-wrap:wrap;\n",
              "      gap: 12px;\n",
              "    }\n",
              "\n",
              "    .colab-df-convert {\n",
              "      background-color: #E8F0FE;\n",
              "      border: none;\n",
              "      border-radius: 50%;\n",
              "      cursor: pointer;\n",
              "      display: none;\n",
              "      fill: #1967D2;\n",
              "      height: 32px;\n",
              "      padding: 0 0 0 0;\n",
              "      width: 32px;\n",
              "    }\n",
              "\n",
              "    .colab-df-convert:hover {\n",
              "      background-color: #E2EBFA;\n",
              "      box-shadow: 0px 1px 2px rgba(60, 64, 67, 0.3), 0px 1px 3px 1px rgba(60, 64, 67, 0.15);\n",
              "      fill: #174EA6;\n",
              "    }\n",
              "\n",
              "    [theme=dark] .colab-df-convert {\n",
              "      background-color: #3B4455;\n",
              "      fill: #D2E3FC;\n",
              "    }\n",
              "\n",
              "    [theme=dark] .colab-df-convert:hover {\n",
              "      background-color: #434B5C;\n",
              "      box-shadow: 0px 1px 3px 1px rgba(0, 0, 0, 0.15);\n",
              "      filter: drop-shadow(0px 1px 2px rgba(0, 0, 0, 0.3));\n",
              "      fill: #FFFFFF;\n",
              "    }\n",
              "  </style>\n",
              "\n",
              "      <script>\n",
              "        const buttonEl =\n",
              "          document.querySelector('#df-9b9fa545-a63f-49d7-b16b-6576d5bd4116 button.colab-df-convert');\n",
              "        buttonEl.style.display =\n",
              "          google.colab.kernel.accessAllowed ? 'block' : 'none';\n",
              "\n",
              "        async function convertToInteractive(key) {\n",
              "          const element = document.querySelector('#df-9b9fa545-a63f-49d7-b16b-6576d5bd4116');\n",
              "          const dataTable =\n",
              "            await google.colab.kernel.invokeFunction('convertToInteractive',\n",
              "                                                     [key], {});\n",
              "          if (!dataTable) return;\n",
              "\n",
              "          const docLinkHtml = 'Like what you see? Visit the ' +\n",
              "            '<a target=\"_blank\" href=https://colab.research.google.com/notebooks/data_table.ipynb>data table notebook</a>'\n",
              "            + ' to learn more about interactive tables.';\n",
              "          element.innerHTML = '';\n",
              "          dataTable['output_type'] = 'display_data';\n",
              "          await google.colab.output.renderOutput(dataTable, element);\n",
              "          const docLink = document.createElement('div');\n",
              "          docLink.innerHTML = docLinkHtml;\n",
              "          element.appendChild(docLink);\n",
              "        }\n",
              "      </script>\n",
              "    </div>\n",
              "  </div>\n",
              "  "
            ]
          },
          "metadata": {},
          "execution_count": 19
        }
      ]
    },
    {
      "cell_type": "code",
      "source": [
        "import json\n",
        "csv_file = \"pred.json\"\n",
        "with open(csv_file, 'w') as writer:\n",
        "    writer.write(json.dumps(agg_metrics, indent=4))"
      ],
      "metadata": {
        "id": "RJqS0QH09ljE"
      },
      "execution_count": null,
      "outputs": []
    },
    {
      "cell_type": "code",
      "source": [
        "training_data"
      ],
      "metadata": {
        "colab": {
          "base_uri": "https://localhost:8080/"
        },
        "id": "y2IdDPKeAX2X",
        "outputId": "4b7420f0-15fe-401c-aeb0-3f79fb8be3f4"
      },
      "execution_count": null,
      "outputs": [
        {
          "output_type": "execute_result",
          "data": {
            "text/plain": [
              "Map(data=[{'start': Period('2016-01-11 17:00', '10T'), 'target': array([60., 60., 50., ..., 50., 70., 50.], dtype=float32)}])"
            ]
          },
          "metadata": {},
          "execution_count": 24
        }
      ]
    },
    {
      "cell_type": "code",
      "source": [
        "test_data"
      ],
      "metadata": {
        "colab": {
          "base_uri": "https://localhost:8080/"
        },
        "id": "uduIWnFYAcTj",
        "outputId": "a912700c-14e7-41dc-88d2-f73bd5184a8d"
      },
      "execution_count": null,
      "outputs": [
        {
          "output_type": "execute_result",
          "data": {
            "text/plain": [
              "Map(data=[{'start': Period('2016-01-11 17:00', '10T'), 'target': array([60., 60., 50., ..., 70., 50., 60.], dtype=float32)}, {'start': Period('2016-01-11 17:00', '10T'), 'target': array([60., 60., 50., ..., 50., 50., 60.], dtype=float32)}])"
            ]
          },
          "metadata": {},
          "execution_count": 25
        }
      ]
    },
    {
      "cell_type": "code",
      "source": [
        "import optuna\n",
        "import torch\n",
        "from gluonts.torch.model.deepar import DeepAREstimator #Here chose torch.model.deepAREstimator\n",
        "from gluonts.mx import Trainer\n",
        "from gluonts.evaluation import Evaluator\n",
        "\n",
        "class DeepARTuningObjective:\n",
        "    def __init__(self, training_data, test_data, prediction_length, freq, metric_type=\"mean_wQuantileLoss\"):\n",
        "        self.training_data = training_data\n",
        "        self.test_data = test_data\n",
        "        self.prediction_length = prediction_length\n",
        "        self.freq = freq\n",
        "        self.metric_type = metric_type\n",
        "\n",
        "        # entry_split = [self.split_entry(entry) for entry in self.dataset]\n",
        "        # self.entry_pasts = [entry[0] for entry in entry_split]\n",
        "        # self.entry_futures = [entry[1] for entry in entry_split]\n",
        "\n",
        "    def get_params(self, trial) -> dict:\n",
        "        return {\n",
        "            \"num_layers\": trial.suggest_int(\"num_layers\", 1, 5),\n",
        "            \"hidden_size\": trial.suggest_int(\"hidden_size\", 10, 50),\n",
        "        }\n",
        "\n",
        "    # def split_entry(self, entry):\n",
        "    #     entry_past = {}\n",
        "    #     for key, value in entry.items():\n",
        "    #         if key == \"target\":\n",
        "    #             entry_past[key] = value[: -self.prediction_length]\n",
        "    #         else:\n",
        "    #             entry_past[key] = value\n",
        "\n",
        "    #     # df = pd.DataFrame(\n",
        "    #     #     entry['target'],\n",
        "    #     #     columns=[entry['item_id']],\n",
        "    #     #     index=pd.period_range(\n",
        "    #     #         start=entry['start'],\n",
        "    #     #         periods=len(entry['target']),\n",
        "    #     #         freq=self.freq\n",
        "    #     #     )\n",
        "    #     # )\n",
        "\n",
        "    #     return entry_past, df[-self.prediction_length:]\n",
        "\n",
        "    def __call__(self, trial):\n",
        "        params = self.get_params(trial)\n",
        "        estimator = DeepAREstimator(\n",
        "            num_layers=params['num_layers'],\n",
        "            hidden_size=params['hidden_size'],\n",
        "            prediction_length=self.prediction_length,\n",
        "            freq=self.freq,\n",
        "            trainer_kwargs={\n",
        "                \"enable_progress_bar\": False,\n",
        "                \"enable_model_summary\": False,\n",
        "                \"max_epochs\": 5,\n",
        "            }\n",
        "        )\n",
        "\n",
        "\n",
        "        predictor = estimator.train(training_data, cache_data=True)\n",
        "        #forecast_it = predictor.predict(test_data)\n",
        "\n",
        "        #forecasts = list(forecast_it)\n",
        "        forecast_it, ts_it = make_evaluation_predictions(\n",
        "        dataset=test_data,  # test dataset\n",
        "        predictor=predictor,  # predictor\n",
        "        num_samples=100) # number of sample paths we want for evaluation)\n",
        "        forecasts = list(forecast_it)\n",
        "        tss = list(ts_it)\n",
        "        evaluator = Evaluator(quantiles=[0.1, 0.5, 0.9])\n",
        "        agg_metrics, item_metrics = evaluator(iter(tss), iter(forecasts))\n",
        "        return agg_metrics[self.metric_type]"
      ],
      "metadata": {
        "id": "P36_53BP2q9j"
      },
      "execution_count": null,
      "outputs": []
    },
    {
      "cell_type": "code",
      "source": [
        "import time\n",
        "start_time = time.time()\n",
        "study = optuna.create_study(direction=\"minimize\")\n",
        "study.optimize(\n",
        "    DeepARTuningObjective(training_data, test_data,prediction_length, \"10min\"),\n",
        "    n_trials=2\n",
        ")\n",
        "\n",
        "print(\"Number of finished trials: {}\".format(len(study.trials)))\n",
        "\n",
        "print(\"Best trial:\")\n",
        "trial = study.best_trial\n",
        "\n",
        "print(\"  Value: {}\".format(trial.value))\n",
        "\n",
        "print(\"  Params: \")\n",
        "for key, value in trial.params.items():\n",
        "    print(\"    {}: {}\".format(key, value))\n",
        "print(time.time() - start_time)"
      ],
      "metadata": {
        "colab": {
          "base_uri": "https://localhost:8080/"
        },
        "id": "h80WjYzB2tPR",
        "outputId": "67f4e160-0cc4-4981-f2af-a60262d6413e"
      },
      "execution_count": null,
      "outputs": [
        {
          "output_type": "stream",
          "name": "stderr",
          "text": [
            "\u001b[32m[I 2022-07-09 08:36:39,049]\u001b[0m A new study created in memory with name: no-name-5ab48c76-993a-44be-8166-6efe177e1af5\u001b[0m\n",
            "/usr/local/lib/python3.7/dist-packages/pytorch_lightning/utilities/parsing.py:262: UserWarning: Attribute 'model' is an instance of `nn.Module` and is already saved during checkpointing. It is recommended to ignore them using `self.save_hyperparameters(ignore=['model'])`.\n",
            "  f\"Attribute {k!r} is an instance of `nn.Module` and is already saved during checkpointing.\"\n",
            "GPU available: True, used: False\n",
            "TPU available: False, using: 0 TPU cores\n",
            "IPU available: False, using: 0 IPUs\n",
            "HPU available: False, using: 0 HPUs\n",
            "/usr/local/lib/python3.7/dist-packages/pytorch_lightning/trainer/trainer.py:1817: PossibleUserWarning: GPU available but not used. Set `accelerator` and `devices` using `Trainer(accelerator='gpu', devices=1)`.\n",
            "  category=PossibleUserWarning,\n",
            "/usr/local/lib/python3.7/dist-packages/pytorch_lightning/trainer/configuration_validator.py:133: UserWarning: You defined a `validation_step` but have no `val_dataloader`. Skipping val loop.\n",
            "  rank_zero_warn(\"You defined a `validation_step` but have no `val_dataloader`. Skipping val loop.\")\n",
            "Epoch 0, global step 50: 'train_loss' reached 5.61426 (best 5.61426), saving model to '/content/lightning_logs/version_9/checkpoints/epoch=0-step=50.ckpt' as top 1\n",
            "Epoch 1, global step 100: 'train_loss' reached 5.14926 (best 5.14926), saving model to '/content/lightning_logs/version_9/checkpoints/epoch=1-step=100.ckpt' as top 1\n",
            "Epoch 2, global step 150: 'train_loss' reached 5.00211 (best 5.00211), saving model to '/content/lightning_logs/version_9/checkpoints/epoch=2-step=150.ckpt' as top 1\n",
            "Epoch 3, global step 200: 'train_loss' reached 4.93863 (best 4.93863), saving model to '/content/lightning_logs/version_9/checkpoints/epoch=3-step=200.ckpt' as top 1\n",
            "Epoch 4, global step 250: 'train_loss' reached 4.89305 (best 4.89305), saving model to '/content/lightning_logs/version_9/checkpoints/epoch=4-step=250.ckpt' as top 1\n",
            "Running evaluation: 2it [00:00, 29.23it/s]\n",
            "\u001b[32m[I 2022-07-09 08:37:58,362]\u001b[0m Trial 0 finished with value: 0.21669371515654026 and parameters: {'num_layers': 4, 'hidden_size': 42}. Best is trial 0 with value: 0.21669371515654026.\u001b[0m\n",
            "/usr/local/lib/python3.7/dist-packages/pytorch_lightning/utilities/parsing.py:262: UserWarning: Attribute 'model' is an instance of `nn.Module` and is already saved during checkpointing. It is recommended to ignore them using `self.save_hyperparameters(ignore=['model'])`.\n",
            "  f\"Attribute {k!r} is an instance of `nn.Module` and is already saved during checkpointing.\"\n",
            "GPU available: True, used: False\n",
            "TPU available: False, using: 0 TPU cores\n",
            "IPU available: False, using: 0 IPUs\n",
            "HPU available: False, using: 0 HPUs\n",
            "/usr/local/lib/python3.7/dist-packages/pytorch_lightning/trainer/trainer.py:1817: PossibleUserWarning: GPU available but not used. Set `accelerator` and `devices` using `Trainer(accelerator='gpu', devices=1)`.\n",
            "  category=PossibleUserWarning,\n",
            "/usr/local/lib/python3.7/dist-packages/pytorch_lightning/trainer/configuration_validator.py:133: UserWarning: You defined a `validation_step` but have no `val_dataloader`. Skipping val loop.\n",
            "  rank_zero_warn(\"You defined a `validation_step` but have no `val_dataloader`. Skipping val loop.\")\n",
            "Epoch 0, global step 50: 'train_loss' reached 5.57673 (best 5.57673), saving model to '/content/lightning_logs/version_10/checkpoints/epoch=0-step=50.ckpt' as top 1\n",
            "Epoch 1, global step 100: 'train_loss' reached 5.21951 (best 5.21951), saving model to '/content/lightning_logs/version_10/checkpoints/epoch=1-step=100.ckpt' as top 1\n",
            "Epoch 2, global step 150: 'train_loss' reached 4.99036 (best 4.99036), saving model to '/content/lightning_logs/version_10/checkpoints/epoch=2-step=150.ckpt' as top 1\n",
            "Epoch 3, global step 200: 'train_loss' reached 4.92133 (best 4.92133), saving model to '/content/lightning_logs/version_10/checkpoints/epoch=3-step=200.ckpt' as top 1\n",
            "Epoch 4, global step 250: 'train_loss' reached 4.85759 (best 4.85759), saving model to '/content/lightning_logs/version_10/checkpoints/epoch=4-step=250.ckpt' as top 1\n",
            "Running evaluation: 2it [00:00, 34.23it/s]\n",
            "\u001b[32m[I 2022-07-09 08:39:05,439]\u001b[0m Trial 1 finished with value: 0.19285458027300603 and parameters: {'num_layers': 4, 'hidden_size': 32}. Best is trial 1 with value: 0.19285458027300603.\u001b[0m\n"
          ]
        },
        {
          "output_type": "stream",
          "name": "stdout",
          "text": [
            "Number of finished trials: 2\n",
            "Best trial:\n",
            "  Value: 0.19285458027300603\n",
            "  Params: \n",
            "    num_layers: 4\n",
            "    hidden_size: 32\n",
            "146.39620900154114\n"
          ]
        }
      ]
    },
    {
      "cell_type": "code",
      "source": [
        "## Re-training the model\n",
        "\n",
        "estimator = DeepAREstimator(\n",
        "    num_layers=trial.params[\"num_layers\"],\n",
        "    hidden_size=trial.params[\"hidden_size\"],\n",
        "    prediction_length=prediction_length,\n",
        "    context_length=100,\n",
        "    freq=\"10min\",\n",
        "    trainer_kwargs={\n",
        "        \"enable_progress_bar\": False,\n",
        "        \"enable_model_summary\": False,\n",
        "        \"max_epochs\": 10,\n",
        "    }\n",
        ")"
      ],
      "metadata": {
        "id": "ugR2ukwayZuM"
      },
      "execution_count": null,
      "outputs": []
    },
    {
      "cell_type": "code",
      "source": [
        "predictor = estimator.train(training_data, cache_data=True)"
      ],
      "metadata": {
        "colab": {
          "base_uri": "https://localhost:8080/"
        },
        "id": "YQcLBTiV0h2x",
        "outputId": "baa6a614-a432-42be-d2ca-ec3056bbf26f"
      },
      "execution_count": null,
      "outputs": [
        {
          "output_type": "stream",
          "name": "stderr",
          "text": [
            "/usr/local/lib/python3.7/dist-packages/pytorch_lightning/utilities/parsing.py:262: UserWarning: Attribute 'model' is an instance of `nn.Module` and is already saved during checkpointing. It is recommended to ignore them using `self.save_hyperparameters(ignore=['model'])`.\n",
            "  f\"Attribute {k!r} is an instance of `nn.Module` and is already saved during checkpointing.\"\n",
            "GPU available: True, used: False\n",
            "TPU available: False, using: 0 TPU cores\n",
            "IPU available: False, using: 0 IPUs\n",
            "HPU available: False, using: 0 HPUs\n",
            "/usr/local/lib/python3.7/dist-packages/pytorch_lightning/trainer/trainer.py:1817: PossibleUserWarning: GPU available but not used. Set `accelerator` and `devices` using `Trainer(accelerator='gpu', devices=1)`.\n",
            "  category=PossibleUserWarning,\n",
            "/usr/local/lib/python3.7/dist-packages/pytorch_lightning/trainer/configuration_validator.py:133: UserWarning: You defined a `validation_step` but have no `val_dataloader`. Skipping val loop.\n",
            "  rank_zero_warn(\"You defined a `validation_step` but have no `val_dataloader`. Skipping val loop.\")\n",
            "Epoch 0, global step 50: 'train_loss' reached 5.83777 (best 5.83777), saving model to '/content/lightning_logs/version_11/checkpoints/epoch=0-step=50.ckpt' as top 1\n",
            "Epoch 1, global step 100: 'train_loss' reached 5.35381 (best 5.35381), saving model to '/content/lightning_logs/version_11/checkpoints/epoch=1-step=100.ckpt' as top 1\n",
            "Epoch 2, global step 150: 'train_loss' reached 5.11727 (best 5.11727), saving model to '/content/lightning_logs/version_11/checkpoints/epoch=2-step=150.ckpt' as top 1\n",
            "Epoch 3, global step 200: 'train_loss' reached 4.98934 (best 4.98934), saving model to '/content/lightning_logs/version_11/checkpoints/epoch=3-step=200.ckpt' as top 1\n",
            "Epoch 4, global step 250: 'train_loss' reached 4.93861 (best 4.93861), saving model to '/content/lightning_logs/version_11/checkpoints/epoch=4-step=250.ckpt' as top 1\n",
            "Epoch 5, global step 300: 'train_loss' reached 4.88389 (best 4.88389), saving model to '/content/lightning_logs/version_11/checkpoints/epoch=5-step=300.ckpt' as top 1\n",
            "Epoch 6, global step 350: 'train_loss' reached 4.86785 (best 4.86785), saving model to '/content/lightning_logs/version_11/checkpoints/epoch=6-step=350.ckpt' as top 1\n",
            "Epoch 7, global step 400: 'train_loss' reached 4.82420 (best 4.82420), saving model to '/content/lightning_logs/version_11/checkpoints/epoch=7-step=400.ckpt' as top 1\n",
            "Epoch 8, global step 450: 'train_loss' reached 4.81002 (best 4.81002), saving model to '/content/lightning_logs/version_11/checkpoints/epoch=8-step=450.ckpt' as top 1\n",
            "Epoch 9, global step 500: 'train_loss' reached 4.80291 (best 4.80291), saving model to '/content/lightning_logs/version_11/checkpoints/epoch=9-step=500.ckpt' as top 1\n"
          ]
        }
      ]
    },
    {
      "cell_type": "code",
      "source": [
        "from gluonts.evaluation import make_evaluation_predictions\n",
        "forecast_it, ts_it = make_evaluation_predictions(\n",
        "    dataset=test_data,\n",
        "    predictor=predictor\n",
        ")"
      ],
      "metadata": {
        "id": "4YP3Xee-Hdom"
      },
      "execution_count": null,
      "outputs": []
    },
    {
      "cell_type": "code",
      "source": [
        "forecasts = list(forecast_it)\n",
        "tss = list(ts_it)"
      ],
      "metadata": {
        "id": "Cmcur00FJKJE"
      },
      "execution_count": null,
      "outputs": []
    },
    {
      "cell_type": "code",
      "source": [
        "def plot_prob_forecasts(ts_entry, forecast_entry):\n",
        "    plot_length = 150\n",
        "    prediction_intervals = (50.0, 90.0)\n",
        "    legend = [\"observations\", \"median prediction\"] + [f\"{k}% prediction interval\" for k in prediction_intervals][::-1]\n",
        "\n",
        "    fig, ax = plt.subplots(1, 1, figsize=(10, 7))\n",
        "    ts_entry[-plot_length:].plot(ax=ax)  # plot the time series\n",
        "    forecast_entry.plot(prediction_intervals=prediction_intervals, color='g')\n",
        "    plt.grid(which=\"both\")\n",
        "    plt.legend(legend, loc=\"upper left\")\n",
        "    plt.show()"
      ],
      "metadata": {
        "id": "VX-9jUBQJLkV"
      },
      "execution_count": null,
      "outputs": []
    },
    {
      "cell_type": "code",
      "source": [
        "plot_prob_forecasts(tss[0], forecasts[0])"
      ],
      "metadata": {
        "colab": {
          "base_uri": "https://localhost:8080/",
          "height": 440
        },
        "id": "qgD2ORx9JMpQ",
        "outputId": "174faab6-2a43-438c-9b2b-df2804497e7e"
      },
      "execution_count": null,
      "outputs": [
        {
          "output_type": "display_data",
          "data": {
            "text/plain": [
              "<Figure size 720x504 with 1 Axes>"
            ],
            "image/png": "[encoded data removed]"
          },
          "metadata": {
            "needs_background": "light"
          }
        }
      ]
    },
    {
      "cell_type": "code",
      "source": [
        "from gluonts.evaluation import Evaluator"
      ],
      "metadata": {
        "id": "VtJU2mSnJNl9"
      },
      "execution_count": null,
      "outputs": []
    },
    {
      "cell_type": "code",
      "source": [
        "evaluator = Evaluator(quantiles=[0.1, 0.5, 0.9])\n",
        "agg_metrics, item_metrics = evaluator(tss, forecasts)"
      ],
      "metadata": {
        "colab": {
          "base_uri": "https://localhost:8080/"
        },
        "id": "ynGkvEcMJQRW",
        "outputId": "5d160e19-5b47-4779-fc29-05d0b0924cb7"
      },
      "execution_count": null,
      "outputs": [
        {
          "output_type": "stream",
          "name": "stderr",
          "text": [
            "Running evaluation: 2it [00:00, 22.27it/s]\n"
          ]
        }
      ]
    },
    {
      "cell_type": "code",
      "source": [
        "\n",
        "print(json.dumps(agg_metrics, indent=4))"
      ],
      "metadata": {
        "colab": {
          "base_uri": "https://localhost:8080/"
        },
        "id": "QSKFA65aJRSr",
        "outputId": "c4f1d0b6-aa6b-4acc-b39e-333ee2971977"
      },
      "execution_count": null,
      "outputs": [
        {
          "output_type": "stream",
          "name": "stdout",
          "text": [
            "{\n",
            "    \"MSE\": 3395.5404188368057,\n",
            "    \"abs_error\": 6149.138671875,\n",
            "    \"abs_target_sum\": 23860.0,\n",
            "    \"abs_target_mean\": 82.84722222222223,\n",
            "    \"seasonal_error\": 64.61070327589803,\n",
            "    \"MASE\": 0.33131195928558915,\n",
            "    \"MAPE\": 0.17770063214831883,\n",
            "    \"sMAPE\": 0.1981136467721727,\n",
            "    \"MSIS\": 5.575227172494883,\n",
            "    \"QuantileLoss[0.1]\": 2688.500619506836,\n",
            "    \"Coverage[0.1]\": 0.006944444444444444,\n",
            "    \"QuantileLoss[0.5]\": 6149.138751983643,\n",
            "    \"Coverage[0.5]\": 0.40625,\n",
            "    \"QuantileLoss[0.9]\": 5661.904768371582,\n",
            "    \"Coverage[0.9]\": 0.9409722222222222,\n",
            "    \"RMSE\": 58.271265807744435,\n",
            "    \"NRMSE\": 0.703358112013009,\n",
            "    \"ND\": 0.25771746319677286,\n",
            "    \"wQuantileLoss[0.1]\": 0.11267814834479614,\n",
            "    \"wQuantileLoss[0.5]\": 0.25771746655421807,\n",
            "    \"wQuantileLoss[0.9]\": 0.2372969307783563,\n",
            "    \"mean_absolute_QuantileLoss\": 4833.1813799540205,\n",
            "    \"mean_wQuantileLoss\": 0.20256418189245684,\n",
            "    \"MAE_Coverage\": 0.07592592592592591,\n",
            "    \"OWA\": NaN\n",
            "}\n"
          ]
        }
      ]
    },
    {
      "cell_type": "markdown",
      "source": [
        "### 实验总结\n",
        "\n",
        "- torch有点麻烦。看看mx能不能改\n",
        "- 调参不如不调参。还是手动吧"
      ],
      "metadata": {
        "id": "rXGFQU7DJdrc"
      }
    },
    {
      "cell_type": "code",
      "source": [
        ""
      ],
      "metadata": {
        "id": "6GU9uzOvJSkn"
      },
      "execution_count": null,
      "outputs": []
    }
  ]
}