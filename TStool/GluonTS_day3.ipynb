{
  "nbformat": 4,
  "nbformat_minor": 0,
  "metadata": {
    "colab": {
      "name": "GluonTS_day3.ipynb",
      "provenance": [],
      "collapsed_sections": [],
      "authorship_tag": "ABX9TyMia5kolDJR9Io73aum6qqO",
      "include_colab_link": true
    },
    "kernelspec": {
      "name": "python3",
      "display_name": "Python 3"
    },
    "language_info": {
      "name": "python"
    },
    "accelerator": "GPU",
    "gpuClass": "standard"
  },
  "cells": [
    {
      "cell_type": "markdown",
      "metadata": {
        "id": "view-in-github",
        "colab_type": "text"
      },
      "source": [
        "<a href=\"https://colab.research.google.com/github/CristinaMarsh/Learning_/blob/main/TStool/GluonTS_day3.ipynb\" target=\"_parent\"><img src=\"https://colab.research.google.com/assets/colab-badge.svg\" alt=\"Open In Colab\"/></a>"
      ]
    },
    {
      "cell_type": "code",
      "execution_count": 1,
      "metadata": {
        "colab": {
          "base_uri": "https://localhost:8080/"
        },
        "id": "115jX6dSWiEx",
        "outputId": "e604f689-1e3a-48ea-ccec-f683e95fd5a6"
      },
      "outputs": [
        {
          "output_type": "stream",
          "name": "stdout",
          "text": [
            "Looking in indexes: https://pypi.org/simple, https://us-python.pkg.dev/colab-wheels/public/simple/\n",
            "Collecting gluonts\n",
            "  Downloading gluonts-0.10.0-py3-none-any.whl (2.5 MB)\n",
            "\u001b[K     |████████████████████████████████| 2.5 MB 8.5 MB/s \n",
            "\u001b[?25hRequirement already satisfied: pandas~=1.0 in /usr/local/lib/python3.7/dist-packages (from gluonts) (1.3.5)\n",
            "Requirement already satisfied: tqdm~=4.23 in /usr/local/lib/python3.7/dist-packages (from gluonts) (4.64.0)\n",
            "Requirement already satisfied: matplotlib~=3.0 in /usr/local/lib/python3.7/dist-packages (from gluonts) (3.2.2)\n",
            "Requirement already satisfied: toolz~=0.10 in /usr/local/lib/python3.7/dist-packages (from gluonts) (0.11.2)\n",
            "Requirement already satisfied: typing-extensions~=4.0 in /usr/local/lib/python3.7/dist-packages (from gluonts) (4.1.1)\n",
            "Requirement already satisfied: numpy~=1.16 in /usr/local/lib/python3.7/dist-packages (from gluonts) (1.21.6)\n",
            "Requirement already satisfied: holidays>=0.9 in /usr/local/lib/python3.7/dist-packages (from gluonts) (0.10.5.2)\n",
            "Requirement already satisfied: pydantic~=1.7 in /usr/local/lib/python3.7/dist-packages (from gluonts) (1.8.2)\n",
            "Requirement already satisfied: hijri-converter in /usr/local/lib/python3.7/dist-packages (from holidays>=0.9->gluonts) (2.2.4)\n",
            "Requirement already satisfied: python-dateutil in /usr/local/lib/python3.7/dist-packages (from holidays>=0.9->gluonts) (2.8.2)\n",
            "Requirement already satisfied: six in /usr/local/lib/python3.7/dist-packages (from holidays>=0.9->gluonts) (1.15.0)\n",
            "Requirement already satisfied: convertdate>=2.3.0 in /usr/local/lib/python3.7/dist-packages (from holidays>=0.9->gluonts) (2.4.0)\n",
            "Requirement already satisfied: korean-lunar-calendar in /usr/local/lib/python3.7/dist-packages (from holidays>=0.9->gluonts) (0.2.1)\n",
            "Requirement already satisfied: pymeeus<=1,>=0.3.13 in /usr/local/lib/python3.7/dist-packages (from convertdate>=2.3.0->holidays>=0.9->gluonts) (0.5.11)\n",
            "Requirement already satisfied: pyparsing!=2.0.4,!=2.1.2,!=2.1.6,>=2.0.1 in /usr/local/lib/python3.7/dist-packages (from matplotlib~=3.0->gluonts) (3.0.9)\n",
            "Requirement already satisfied: kiwisolver>=1.0.1 in /usr/local/lib/python3.7/dist-packages (from matplotlib~=3.0->gluonts) (1.4.3)\n",
            "Requirement already satisfied: cycler>=0.10 in /usr/local/lib/python3.7/dist-packages (from matplotlib~=3.0->gluonts) (0.11.0)\n",
            "Requirement already satisfied: pytz>=2017.3 in /usr/local/lib/python3.7/dist-packages (from pandas~=1.0->gluonts) (2022.1)\n",
            "Installing collected packages: gluonts\n",
            "Successfully installed gluonts-0.10.0\n",
            "Looking in indexes: https://pypi.org/simple, https://us-python.pkg.dev/colab-wheels/public/simple/\n",
            "Collecting mxnet-cu101\n",
            "  Downloading mxnet_cu101-1.9.1-py3-none-manylinux2014_x86_64.whl (360.0 MB)\n",
            "\u001b[K     |████████████████████████████████| 360.0 MB 18 kB/s \n",
            "\u001b[?25hCollecting graphviz<0.9.0,>=0.8.1\n",
            "  Downloading graphviz-0.8.4-py2.py3-none-any.whl (16 kB)\n",
            "Requirement already satisfied: numpy<2.0.0,>1.16.0 in /usr/local/lib/python3.7/dist-packages (from mxnet-cu101) (1.21.6)\n",
            "Requirement already satisfied: requests<3,>=2.20.0 in /usr/local/lib/python3.7/dist-packages (from mxnet-cu101) (2.23.0)\n",
            "Requirement already satisfied: chardet<4,>=3.0.2 in /usr/local/lib/python3.7/dist-packages (from requests<3,>=2.20.0->mxnet-cu101) (3.0.4)\n",
            "Requirement already satisfied: urllib3!=1.25.0,!=1.25.1,<1.26,>=1.21.1 in /usr/local/lib/python3.7/dist-packages (from requests<3,>=2.20.0->mxnet-cu101) (1.24.3)\n",
            "Requirement already satisfied: idna<3,>=2.5 in /usr/local/lib/python3.7/dist-packages (from requests<3,>=2.20.0->mxnet-cu101) (2.10)\n",
            "Requirement already satisfied: certifi>=2017.4.17 in /usr/local/lib/python3.7/dist-packages (from requests<3,>=2.20.0->mxnet-cu101) (2022.6.15)\n",
            "Installing collected packages: graphviz, mxnet-cu101\n",
            "  Attempting uninstall: graphviz\n",
            "    Found existing installation: graphviz 0.10.1\n",
            "    Uninstalling graphviz-0.10.1:\n",
            "      Successfully uninstalled graphviz-0.10.1\n",
            "Successfully installed graphviz-0.8.4 mxnet-cu101-1.9.1\n"
          ]
        }
      ],
      "source": [
        "!pip install gluonts\n",
        "!pip install mxnet-cu101"
      ]
    },
    {
      "cell_type": "markdown",
      "source": [
        "# Case 1: Thanks:\n",
        "https://github.com/andrasfe/ethgas/blob/main/deepar_eth_gas.ipynb"
      ],
      "metadata": {
        "id": "kYbzTbHvahBo"
      }
    },
    {
      "cell_type": "code",
      "source": [
        "!pip install ujson"
      ],
      "metadata": {
        "colab": {
          "base_uri": "https://localhost:8080/"
        },
        "id": "4aV_socNZ1Uv",
        "outputId": "5aa75f1d-9b71-4d14-eaf8-14ef5dd832a5"
      },
      "execution_count": 2,
      "outputs": [
        {
          "output_type": "stream",
          "name": "stdout",
          "text": [
            "Looking in indexes: https://pypi.org/simple, https://us-python.pkg.dev/colab-wheels/public/simple/\n",
            "Collecting ujson\n",
            "  Downloading ujson-5.4.0-cp37-cp37m-manylinux_2_17_x86_64.manylinux2014_x86_64.whl (45 kB)\n",
            "\u001b[K     |████████████████████████████████| 45 kB 2.7 MB/s \n",
            "\u001b[?25hInstalling collected packages: ujson\n",
            "Successfully installed ujson-5.4.0\n"
          ]
        }
      ]
    },
    {
      "cell_type": "code",
      "source": [
        "import json\n",
        "import numpy as np\n",
        "import matplotlib.pyplot as plt\n",
        "from matplotlib.pyplot import figure\n",
        "import pandas as pd\n",
        "from sklearn.metrics import mean_squared_error,mean_absolute_error,r2_score\n",
        "from math import sqrt\n",
        "from sklearn.preprocessing import MinMaxScaler, StandardScaler\n",
        "import shutil\n",
        "from datetime import datetime\n",
        "from datetime import timedelta\n",
        "# !pip uninstall pystan -y\n",
        "# !pip install pystan~=2.14\n",
        "# !pip install fbprophet\n",
        "import warnings\n",
        "warnings.simplefilter(action='ignore',category=FutureWarning)\n",
        "from numpy import mean\n",
        "from numpy import std\n",
        "# !pip install mxnet gluonts ujson\n",
        "from gluonts.model.deepar import DeepAREstimator\n",
        "from gluonts.mx.distribution import ZeroInflatedNegativeBinomialOutput, StudentTOutput #likelihood\n",
        "from gluonts.mx.trainer.learning_rate_scheduler import LearningRateReduction\n",
        "from gluonts.mx.trainer import Trainer\n",
        "from gluonts.mx.trainer.model_averaging import ModelAveraging, SelectNBestSoftmax, SelectNBestMean\n",
        "\n",
        "from gluonts.evaluation import Evaluator\n",
        "from gluonts.model.predictor import Predictor\n",
        "from gluonts.evaluation.backtest import make_evaluation_predictions\n",
        "from gluonts.dataset.common import ListDataset\n",
        "from gluonts.dataset.util import to_pandas\n",
        "import pandas as pd\n",
        "import matplotlib.pyplot as plt\n",
        "import os\n",
        "from pathlib import Path\n",
        "from datetime import datetime, date, time\n",
        "import warnings\n",
        "warnings.simplefilter(action='ignore',category=FutureWarning)"
      ],
      "metadata": {
        "id": "7KHcds2DaJY7"
      },
      "execution_count": 3,
      "outputs": []
    },
    {
      "cell_type": "code",
      "source": [
        "def prepare_crypto_df(file_name):\n",
        "    crypto_price_df = pd.read_csv(file_name, header=0, index_col=1)\n",
        "    crypto_price_df = crypto_price_df[['close']]\n",
        "    crypto_price_df.index.names = ['Date']\n",
        "    crypto_price_df.columns = ['Count']\n",
        "    return crypto_price_df"
      ],
      "metadata": {
        "id": "4ZlskQq2agUq"
      },
      "execution_count": 4,
      "outputs": []
    },
    {
      "cell_type": "code",
      "source": [
        "!git clone https://github.com/andrasfe/ethgas.git"
      ],
      "metadata": {
        "colab": {
          "base_uri": "https://localhost:8080/"
        },
        "id": "YziDKRGxbCQd",
        "outputId": "a000e36e-da3a-4c32-a698-dfd8a47a5bc7"
      },
      "execution_count": 11,
      "outputs": [
        {
          "output_type": "stream",
          "name": "stdout",
          "text": [
            "Cloning into 'ethgas'...\n",
            "remote: Enumerating objects: 53, done.\u001b[K\n",
            "remote: Counting objects: 100% (3/3), done.\u001b[K\n",
            "remote: Compressing objects: 100% (3/3), done.\u001b[K\n",
            "remote: Total 53 (delta 0), reused 2 (delta 0), pack-reused 50\u001b[K\n",
            "Unpacking objects: 100% (53/53), done.\n"
          ]
        }
      ]
    },
    {
      "cell_type": "code",
      "source": [
        "! unzip \"/content/ethgas/data.zip\" -d \"/content/\""
      ],
      "metadata": {
        "colab": {
          "base_uri": "https://localhost:8080/"
        },
        "id": "cgZ2lnBsbKRc",
        "outputId": "9ccace8d-04b3-4f88-ff07-aad6fe2ba467"
      },
      "execution_count": 12,
      "outputs": [
        {
          "output_type": "stream",
          "name": "stdout",
          "text": [
            "Archive:  /content/ethgas/data.zip\n",
            "  inflating: /content/Binance_ETHUSDT_minute.csv  \n",
            "  inflating: /content/Binance_MATICUSDT_minute.csv  \n",
            "  inflating: /content/blocks.csv     \n",
            "  inflating: /content/logs.csv       \n",
            "  inflating: /content/token_transfers.csv  \n",
            "  inflating: /content/traces.csv     \n",
            "  inflating: /content/transactions.csv  \n"
          ]
        }
      ]
    },
    {
      "cell_type": "code",
      "source": [
        "#loading data \n",
        "transactions = pd.read_csv('transactions.csv', header=0, index_col=0)\n",
        "deep_ds = transactions.drop(['Value'], axis=1)\n",
        "transaction_values = transactions.drop(['Price'], axis=1)\n",
        "transaction_values.columns = ['Count']\n",
        "ethprice = prepare_crypto_df('Binance_ETHUSDT_minute.csv')\n",
        "maticprice = prepare_crypto_df('Binance_MATICUSDT_minute.csv')"
      ],
      "metadata": {
        "id": "OdNqcGAXbT6V"
      },
      "execution_count": 32,
      "outputs": []
    },
    {
      "cell_type": "code",
      "source": [
        "# features\n",
        "features = []\n",
        "names = []\n",
        "features.append(ethprice)\n",
        "names.append('ethprice')\n",
        "# features.append(maticprice)\n",
        "# names.append('maticprice')\n",
        "features.append(transaction_values)\n",
        "names.append('transaction_values')\n",
        "features.append(pd.read_csv('blocks.csv', header=0, index_col=0))\n",
        "names.append('blocks')\n",
        "features.append(pd.read_csv('token_transfers.csv', header=0, index_col=0))\n",
        "names.append('token_transfers')\n",
        "features.append(pd.read_csv('traces.csv', header=0, index_col=0))\n",
        "names.append('traces')\n",
        "features.append(pd.read_csv('logs.csv', header=0, index_col=0))\n",
        "names.append('logs')"
      ],
      "metadata": {
        "id": "f_I7DU2Qb-Ti"
      },
      "execution_count": 60,
      "outputs": []
    },
    {
      "cell_type": "code",
      "source": [
        "#!unzip -o data.zip"
      ],
      "metadata": {
        "id": "eX3ppPEGcI9g"
      },
      "execution_count": null,
      "outputs": []
    },
    {
      "cell_type": "code",
      "source": [
        "def normalize_df(df):\n",
        "  return (df - df.min()) / (df.max() - df.min())"
      ],
      "metadata": {
        "id": "e109c4ppcFWa"
      },
      "execution_count": 52,
      "outputs": []
    },
    {
      "cell_type": "code",
      "source": [
        "ENABLE_FEATURES = True\n",
        "RUN_MODEL = False\n",
        "DELTA = 40\n",
        "AGG = 20\n",
        "FREQ = str(AGG) + 'min'"
      ],
      "metadata": {
        "id": "Dd2hxJxKa_KK"
      },
      "execution_count": 17,
      "outputs": []
    },
    {
      "cell_type": "code",
      "source": [
        "deep_ds.head()"
      ],
      "metadata": {
        "colab": {
          "base_uri": "https://localhost:8080/",
          "height": 237
        },
        "id": "CUJ_SW0KcYKB",
        "outputId": "003edcac-3659-49e1-bb49-79d1f0fa4826"
      },
      "execution_count": 19,
      "outputs": [
        {
          "output_type": "execute_result",
          "data": {
            "text/plain": [
              "                            Price\n",
              "Date                             \n",
              "2021-01-01 00:00:00  7.363430e+10\n",
              "2021-01-01 00:01:00  6.615670e+10\n",
              "2021-01-01 00:02:00  6.704984e+10\n",
              "2021-01-01 00:03:00  7.918360e+10\n",
              "2021-01-01 00:04:00  8.656393e+10"
            ],
            "text/html": [
              "\n",
              "  <div id=\"df-8d8bfecd-75e3-4c5d-9d37-de457a27adc5\">\n",
              "    <div class=\"colab-df-container\">\n",
              "      <div>\n",
              "<style scoped>\n",
              "    .dataframe tbody tr th:only-of-type {\n",
              "        vertical-align: middle;\n",
              "    }\n",
              "\n",
              "    .dataframe tbody tr th {\n",
              "        vertical-align: top;\n",
              "    }\n",
              "\n",
              "    .dataframe thead th {\n",
              "        text-align: right;\n",
              "    }\n",
              "</style>\n",
              "<table border=\"1\" class=\"dataframe\">\n",
              "  <thead>\n",
              "    <tr style=\"text-align: right;\">\n",
              "      <th></th>\n",
              "      <th>Price</th>\n",
              "    </tr>\n",
              "    <tr>\n",
              "      <th>Date</th>\n",
              "      <th></th>\n",
              "    </tr>\n",
              "  </thead>\n",
              "  <tbody>\n",
              "    <tr>\n",
              "      <th>2021-01-01 00:00:00</th>\n",
              "      <td>7.363430e+10</td>\n",
              "    </tr>\n",
              "    <tr>\n",
              "      <th>2021-01-01 00:01:00</th>\n",
              "      <td>6.615670e+10</td>\n",
              "    </tr>\n",
              "    <tr>\n",
              "      <th>2021-01-01 00:02:00</th>\n",
              "      <td>6.704984e+10</td>\n",
              "    </tr>\n",
              "    <tr>\n",
              "      <th>2021-01-01 00:03:00</th>\n",
              "      <td>7.918360e+10</td>\n",
              "    </tr>\n",
              "    <tr>\n",
              "      <th>2021-01-01 00:04:00</th>\n",
              "      <td>8.656393e+10</td>\n",
              "    </tr>\n",
              "  </tbody>\n",
              "</table>\n",
              "</div>\n",
              "      <button class=\"colab-df-convert\" onclick=\"convertToInteractive('df-8d8bfecd-75e3-4c5d-9d37-de457a27adc5')\"\n",
              "              title=\"Convert this dataframe to an interactive table.\"\n",
              "              style=\"display:none;\">\n",
              "        \n",
              "  <svg xmlns=\"http://www.w3.org/2000/svg\" height=\"24px\"viewBox=\"0 0 24 24\"\n",
              "       width=\"24px\">\n",
              "    <path d=\"M0 0h24v24H0V0z\" fill=\"none\"/>\n",
              "    <path d=\"M18.56 5.44l.94 2.06.94-2.06 2.06-.94-2.06-.94-.94-2.06-.94 2.06-2.06.94zm-11 1L8.5 8.5l.94-2.06 2.06-.94-2.06-.94L8.5 2.5l-.94 2.06-2.06.94zm10 10l.94 2.06.94-2.06 2.06-.94-2.06-.94-.94-2.06-.94 2.06-2.06.94z\"/><path d=\"M17.41 7.96l-1.37-1.37c-.4-.4-.92-.59-1.43-.59-.52 0-1.04.2-1.43.59L10.3 9.45l-7.72 7.72c-.78.78-.78 2.05 0 2.83L4 21.41c.39.39.9.59 1.41.59.51 0 1.02-.2 1.41-.59l7.78-7.78 2.81-2.81c.8-.78.8-2.07 0-2.86zM5.41 20L4 18.59l7.72-7.72 1.47 1.35L5.41 20z\"/>\n",
              "  </svg>\n",
              "      </button>\n",
              "      \n",
              "  <style>\n",
              "    .colab-df-container {\n",
              "      display:flex;\n",
              "      flex-wrap:wrap;\n",
              "      gap: 12px;\n",
              "    }\n",
              "\n",
              "    .colab-df-convert {\n",
              "      background-color: #E8F0FE;\n",
              "      border: none;\n",
              "      border-radius: 50%;\n",
              "      cursor: pointer;\n",
              "      display: none;\n",
              "      fill: #1967D2;\n",
              "      height: 32px;\n",
              "      padding: 0 0 0 0;\n",
              "      width: 32px;\n",
              "    }\n",
              "\n",
              "    .colab-df-convert:hover {\n",
              "      background-color: #E2EBFA;\n",
              "      box-shadow: 0px 1px 2px rgba(60, 64, 67, 0.3), 0px 1px 3px 1px rgba(60, 64, 67, 0.15);\n",
              "      fill: #174EA6;\n",
              "    }\n",
              "\n",
              "    [theme=dark] .colab-df-convert {\n",
              "      background-color: #3B4455;\n",
              "      fill: #D2E3FC;\n",
              "    }\n",
              "\n",
              "    [theme=dark] .colab-df-convert:hover {\n",
              "      background-color: #434B5C;\n",
              "      box-shadow: 0px 1px 3px 1px rgba(0, 0, 0, 0.15);\n",
              "      filter: drop-shadow(0px 1px 2px rgba(0, 0, 0, 0.3));\n",
              "      fill: #FFFFFF;\n",
              "    }\n",
              "  </style>\n",
              "\n",
              "      <script>\n",
              "        const buttonEl =\n",
              "          document.querySelector('#df-8d8bfecd-75e3-4c5d-9d37-de457a27adc5 button.colab-df-convert');\n",
              "        buttonEl.style.display =\n",
              "          google.colab.kernel.accessAllowed ? 'block' : 'none';\n",
              "\n",
              "        async function convertToInteractive(key) {\n",
              "          const element = document.querySelector('#df-8d8bfecd-75e3-4c5d-9d37-de457a27adc5');\n",
              "          const dataTable =\n",
              "            await google.colab.kernel.invokeFunction('convertToInteractive',\n",
              "                                                     [key], {});\n",
              "          if (!dataTable) return;\n",
              "\n",
              "          const docLinkHtml = 'Like what you see? Visit the ' +\n",
              "            '<a target=\"_blank\" href=https://colab.research.google.com/notebooks/data_table.ipynb>data table notebook</a>'\n",
              "            + ' to learn more about interactive tables.';\n",
              "          element.innerHTML = '';\n",
              "          dataTable['output_type'] = 'display_data';\n",
              "          await google.colab.output.renderOutput(dataTable, element);\n",
              "          const docLink = document.createElement('div');\n",
              "          docLink.innerHTML = docLinkHtml;\n",
              "          element.appendChild(docLink);\n",
              "        }\n",
              "      </script>\n",
              "    </div>\n",
              "  </div>\n",
              "  "
            ]
          },
          "metadata": {},
          "execution_count": 19
        }
      ]
    },
    {
      "cell_type": "code",
      "source": [
        "#in order\n",
        "deep_ds = deep_ds.sort_index()\n",
        "deep_ds.index = pd.to_datetime(deep_ds.index)\n",
        "\n",
        "deep_ds = deep_ds.groupby(pd.Grouper(level='Date', freq=FREQ)).mean()\n",
        "end = deep_ds.index[-1]\n",
        "deep_ds.head()"
      ],
      "metadata": {
        "colab": {
          "base_uri": "https://localhost:8080/",
          "height": 237
        },
        "id": "wNUbUokidEvK",
        "outputId": "9e06b127-8942-47d3-aaa2-5e77768c0bed"
      },
      "execution_count": 34,
      "outputs": [
        {
          "output_type": "execute_result",
          "data": {
            "text/plain": [
              "                            Price\n",
              "Date                             \n",
              "2021-01-01 00:00:00  8.084088e+10\n",
              "2021-01-01 00:20:00  8.024579e+10\n",
              "2021-01-01 00:40:00  7.701433e+10\n",
              "2021-01-01 01:00:00  8.713914e+10\n",
              "2021-01-01 01:20:00  7.425917e+10"
            ],
            "text/html": [
              "\n",
              "  <div id=\"df-71602f0f-4a7c-4cca-af18-cb3fdb6a5d26\">\n",
              "    <div class=\"colab-df-container\">\n",
              "      <div>\n",
              "<style scoped>\n",
              "    .dataframe tbody tr th:only-of-type {\n",
              "        vertical-align: middle;\n",
              "    }\n",
              "\n",
              "    .dataframe tbody tr th {\n",
              "        vertical-align: top;\n",
              "    }\n",
              "\n",
              "    .dataframe thead th {\n",
              "        text-align: right;\n",
              "    }\n",
              "</style>\n",
              "<table border=\"1\" class=\"dataframe\">\n",
              "  <thead>\n",
              "    <tr style=\"text-align: right;\">\n",
              "      <th></th>\n",
              "      <th>Price</th>\n",
              "    </tr>\n",
              "    <tr>\n",
              "      <th>Date</th>\n",
              "      <th></th>\n",
              "    </tr>\n",
              "  </thead>\n",
              "  <tbody>\n",
              "    <tr>\n",
              "      <th>2021-01-01 00:00:00</th>\n",
              "      <td>8.084088e+10</td>\n",
              "    </tr>\n",
              "    <tr>\n",
              "      <th>2021-01-01 00:20:00</th>\n",
              "      <td>8.024579e+10</td>\n",
              "    </tr>\n",
              "    <tr>\n",
              "      <th>2021-01-01 00:40:00</th>\n",
              "      <td>7.701433e+10</td>\n",
              "    </tr>\n",
              "    <tr>\n",
              "      <th>2021-01-01 01:00:00</th>\n",
              "      <td>8.713914e+10</td>\n",
              "    </tr>\n",
              "    <tr>\n",
              "      <th>2021-01-01 01:20:00</th>\n",
              "      <td>7.425917e+10</td>\n",
              "    </tr>\n",
              "  </tbody>\n",
              "</table>\n",
              "</div>\n",
              "      <button class=\"colab-df-convert\" onclick=\"convertToInteractive('df-71602f0f-4a7c-4cca-af18-cb3fdb6a5d26')\"\n",
              "              title=\"Convert this dataframe to an interactive table.\"\n",
              "              style=\"display:none;\">\n",
              "        \n",
              "  <svg xmlns=\"http://www.w3.org/2000/svg\" height=\"24px\"viewBox=\"0 0 24 24\"\n",
              "       width=\"24px\">\n",
              "    <path d=\"M0 0h24v24H0V0z\" fill=\"none\"/>\n",
              "    <path d=\"M18.56 5.44l.94 2.06.94-2.06 2.06-.94-2.06-.94-.94-2.06-.94 2.06-2.06.94zm-11 1L8.5 8.5l.94-2.06 2.06-.94-2.06-.94L8.5 2.5l-.94 2.06-2.06.94zm10 10l.94 2.06.94-2.06 2.06-.94-2.06-.94-.94-2.06-.94 2.06-2.06.94z\"/><path d=\"M17.41 7.96l-1.37-1.37c-.4-.4-.92-.59-1.43-.59-.52 0-1.04.2-1.43.59L10.3 9.45l-7.72 7.72c-.78.78-.78 2.05 0 2.83L4 21.41c.39.39.9.59 1.41.59.51 0 1.02-.2 1.41-.59l7.78-7.78 2.81-2.81c.8-.78.8-2.07 0-2.86zM5.41 20L4 18.59l7.72-7.72 1.47 1.35L5.41 20z\"/>\n",
              "  </svg>\n",
              "      </button>\n",
              "      \n",
              "  <style>\n",
              "    .colab-df-container {\n",
              "      display:flex;\n",
              "      flex-wrap:wrap;\n",
              "      gap: 12px;\n",
              "    }\n",
              "\n",
              "    .colab-df-convert {\n",
              "      background-color: #E8F0FE;\n",
              "      border: none;\n",
              "      border-radius: 50%;\n",
              "      cursor: pointer;\n",
              "      display: none;\n",
              "      fill: #1967D2;\n",
              "      height: 32px;\n",
              "      padding: 0 0 0 0;\n",
              "      width: 32px;\n",
              "    }\n",
              "\n",
              "    .colab-df-convert:hover {\n",
              "      background-color: #E2EBFA;\n",
              "      box-shadow: 0px 1px 2px rgba(60, 64, 67, 0.3), 0px 1px 3px 1px rgba(60, 64, 67, 0.15);\n",
              "      fill: #174EA6;\n",
              "    }\n",
              "\n",
              "    [theme=dark] .colab-df-convert {\n",
              "      background-color: #3B4455;\n",
              "      fill: #D2E3FC;\n",
              "    }\n",
              "\n",
              "    [theme=dark] .colab-df-convert:hover {\n",
              "      background-color: #434B5C;\n",
              "      box-shadow: 0px 1px 3px 1px rgba(0, 0, 0, 0.15);\n",
              "      filter: drop-shadow(0px 1px 2px rgba(0, 0, 0, 0.3));\n",
              "      fill: #FFFFFF;\n",
              "    }\n",
              "  </style>\n",
              "\n",
              "      <script>\n",
              "        const buttonEl =\n",
              "          document.querySelector('#df-71602f0f-4a7c-4cca-af18-cb3fdb6a5d26 button.colab-df-convert');\n",
              "        buttonEl.style.display =\n",
              "          google.colab.kernel.accessAllowed ? 'block' : 'none';\n",
              "\n",
              "        async function convertToInteractive(key) {\n",
              "          const element = document.querySelector('#df-71602f0f-4a7c-4cca-af18-cb3fdb6a5d26');\n",
              "          const dataTable =\n",
              "            await google.colab.kernel.invokeFunction('convertToInteractive',\n",
              "                                                     [key], {});\n",
              "          if (!dataTable) return;\n",
              "\n",
              "          const docLinkHtml = 'Like what you see? Visit the ' +\n",
              "            '<a target=\"_blank\" href=https://colab.research.google.com/notebooks/data_table.ipynb>data table notebook</a>'\n",
              "            + ' to learn more about interactive tables.';\n",
              "          element.innerHTML = '';\n",
              "          dataTable['output_type'] = 'display_data';\n",
              "          await google.colab.output.renderOutput(dataTable, element);\n",
              "          const docLink = document.createElement('div');\n",
              "          docLink.innerHTML = docLinkHtml;\n",
              "          element.appendChild(docLink);\n",
              "        }\n",
              "      </script>\n",
              "    </div>\n",
              "  </div>\n",
              "  "
            ]
          },
          "metadata": {},
          "execution_count": 34
        }
      ]
    },
    {
      "cell_type": "code",
      "source": [
        "test_cnt = int(0.2*deep_ds.shape[0])\n",
        "test_start = deep_ds.shape[0] - test_cnt\n",
        "train_ds = deep_ds[:deep_ds.index[test_start]]"
      ],
      "metadata": {
        "id": "dmiBMeEfeEYS"
      },
      "execution_count": 35,
      "outputs": []
    },
    {
      "cell_type": "code",
      "source": [
        "DELTA*AGG"
      ],
      "metadata": {
        "colab": {
          "base_uri": "https://localhost:8080/"
        },
        "id": "JPbu4yKUfI90",
        "outputId": "ee30fb32-20eb-4482-c0ad-020a649db768"
      },
      "execution_count": 39,
      "outputs": [
        {
          "output_type": "execute_result",
          "data": {
            "text/plain": [
              "800"
            ]
          },
          "metadata": {},
          "execution_count": 39
        }
      ]
    },
    {
      "cell_type": "code",
      "source": [
        "start = deep_ds.index[deep_ds.shape[0]-test_cnt+1]\n",
        "end = deep_ds.index[-1] - timedelta(minutes=DELTA*AGG)\n",
        "test_ds = deep_ds[deep_ds.index[deep_ds.shape[0] - test_cnt + 1]:end]"
      ],
      "metadata": {
        "id": "ux0FT3IReodv"
      },
      "execution_count": 40,
      "outputs": []
    },
    {
      "cell_type": "code",
      "source": [
        "plt.plot(train_ds)\n",
        "plt.plot(test_ds)"
      ],
      "metadata": {
        "colab": {
          "base_uri": "https://localhost:8080/",
          "height": 294
        },
        "id": "aN70mg9FeeXr",
        "outputId": "96885d7c-4814-49fb-b6e5-ecadf8852a7b"
      },
      "execution_count": 46,
      "outputs": [
        {
          "output_type": "execute_result",
          "data": {
            "text/plain": [
              "[<matplotlib.lines.Line2D at 0x7fdc35e73bd0>]"
            ]
          },
          "metadata": {},
          "execution_count": 46
        },
        {
          "output_type": "display_data",
          "data": {
            "text/plain": [
              "<Figure size 432x288 with 1 Axes>"
            ],
            "image/png": "[encoded data removed]"
          },
          "metadata": {
            "needs_background": "light"
          }
        }
      ]
    },
    {
      "cell_type": "code",
      "source": [
        "train_features = []\n",
        "test_features = []\n",
        "\n",
        "def fill_feature(reference_ds, feature):\n",
        "    for date_entry in reference_ds.index:\n",
        "        if not date_entry in feature.index:\n",
        "            feature.loc[date_entry] = 0"
      ],
      "metadata": {
        "id": "IpF476IHfgWT"
      },
      "execution_count": 61,
      "outputs": []
    },
    {
      "cell_type": "code",
      "source": [
        "len(features)"
      ],
      "metadata": {
        "colab": {
          "base_uri": "https://localhost:8080/"
        },
        "id": "je21wd1igM9E",
        "outputId": "987ae085-d6c9-461b-d258-bc5d66caec53"
      },
      "execution_count": 54,
      "outputs": [
        {
          "output_type": "execute_result",
          "data": {
            "text/plain": [
              "6"
            ]
          },
          "metadata": {},
          "execution_count": 54
        }
      ]
    },
    {
      "cell_type": "code",
      "source": [
        "#is a list\n",
        "for i in range(len(features)):\n",
        "    features[i]=features[i].sort_index()\n",
        "    features[i].index = pd.to_datetime(features[i].index)\n",
        "    features[i] = features[i][deep_ds.index[0]:deep_ds.index[-1]]\n",
        "    if features[i].shape[0] != deep_ds.shape[0]:\n",
        "        fill_feature(deep_ds, features[i])\n",
        "\n",
        "    features[i] = features[i].groupby(pd.Grouper(level='Date', freq=FREQ)).mean()\n",
        "    features[i] = features[i][\"Count\"]\n",
        "    features[i] = normalize_df(features[i])\n",
        "    train_features.append(features[i][:deep_ds.index[test_start]])\n",
        "    test_features.append(features[i][features[i].index[deep_ds.shape[0] - test_cnt + 1]:end])   "
      ],
      "metadata": {
        "id": "0V4EWXNIf1Y5"
      },
      "execution_count": 62,
      "outputs": []
    },
    {
      "cell_type": "code",
      "source": [
        "features"
      ],
      "metadata": {
        "colab": {
          "base_uri": "https://localhost:8080/"
        },
        "id": "6XMA1qDhj5zf",
        "outputId": "419b982b-7490-4e51-ec31-2ce7a991c5ad"
      },
      "execution_count": 75,
      "outputs": [
        {
          "output_type": "execute_result",
          "data": {
            "text/plain": [
              "[Date\n",
              " 2021-01-01 00:00:00    0.168706\n",
              " 2021-01-01 00:20:00    0.168250\n",
              " 2021-01-01 00:40:00    0.168709\n",
              " 2021-01-01 01:00:00    0.169715\n",
              " 2021-01-01 01:20:00    0.170718\n",
              "                          ...   \n",
              " 2021-10-18 22:20:00    0.855756\n",
              " 2021-10-18 22:40:00    0.858030\n",
              " 2021-10-18 23:00:00    0.860523\n",
              " 2021-10-18 23:20:00    0.861392\n",
              " 2021-10-18 23:40:00    0.861845\n",
              " Freq: 20T, Name: Count, Length: 20952, dtype: float64, Date\n",
              " 2021-01-01 00:00:00    0.033890\n",
              " 2021-01-01 00:20:00    0.033887\n",
              " 2021-01-01 00:40:00    0.010879\n",
              " 2021-01-01 01:00:00    0.035850\n",
              " 2021-01-01 01:20:00    0.013808\n",
              "                          ...   \n",
              " 2021-10-18 22:20:00    0.013703\n",
              " 2021-10-18 22:40:00    0.006846\n",
              " 2021-10-18 23:00:00    0.010218\n",
              " 2021-10-18 23:20:00    0.021640\n",
              " 2021-10-18 23:40:00    0.219369\n",
              " Freq: 20T, Name: Count, Length: 20952, dtype: float64, Date\n",
              " 2021-01-01 00:00:00    0.224125\n",
              " 2021-01-01 00:20:00    0.182474\n",
              " 2021-01-01 00:40:00    0.197672\n",
              " 2021-01-01 01:00:00    0.207709\n",
              " 2021-01-01 01:20:00    0.210309\n",
              "                          ...   \n",
              " 2021-10-18 22:20:00    0.226510\n",
              " 2021-10-18 22:40:00    0.208582\n",
              " 2021-10-18 23:00:00    0.230302\n",
              " 2021-10-18 23:20:00    0.271303\n",
              " 2021-10-18 23:40:00    0.316571\n",
              " Freq: 20T, Name: Count, Length: 20952, dtype: float64, Date\n",
              " 2021-01-01 00:00:00    0.270189\n",
              " 2021-01-01 00:20:00    0.221983\n",
              " 2021-01-01 00:40:00    0.243331\n",
              " 2021-01-01 01:00:00    0.259470\n",
              " 2021-01-01 01:20:00    0.263346\n",
              "                          ...   \n",
              " 2021-10-18 22:20:00    0.227250\n",
              " 2021-10-18 22:40:00    0.217956\n",
              " 2021-10-18 23:00:00    0.321453\n",
              " 2021-10-18 23:20:00    0.288418\n",
              " 2021-10-18 23:40:00    0.325995\n",
              " Freq: 20T, Name: Count, Length: 20952, dtype: float64, Date\n",
              " 2021-01-01 00:00:00    0.239567\n",
              " 2021-01-01 00:20:00    0.180451\n",
              " 2021-01-01 00:40:00    0.226347\n",
              " 2021-01-01 01:00:00    0.214521\n",
              " 2021-01-01 01:20:00    0.222286\n",
              "                          ...   \n",
              " 2021-10-18 22:20:00    0.240185\n",
              " 2021-10-18 22:40:00    0.245049\n",
              " 2021-10-18 23:00:00    0.252081\n",
              " 2021-10-18 23:20:00    0.315054\n",
              " 2021-10-18 23:40:00    0.386306\n",
              " Freq: 20T, Name: Count, Length: 20952, dtype: float64, Date\n",
              " 2021-01-01 00:00:00    0.372496\n",
              " 2021-01-01 00:20:00    0.289367\n",
              " 2021-01-01 00:40:00    0.311687\n",
              " 2021-01-01 01:00:00    0.313264\n",
              " 2021-01-01 01:20:00    0.299104\n",
              "                          ...   \n",
              " 2021-10-18 22:20:00    0.263706\n",
              " 2021-10-18 22:40:00    0.264020\n",
              " 2021-10-18 23:00:00    0.316919\n",
              " 2021-10-18 23:20:00    0.335584\n",
              " 2021-10-18 23:40:00    0.376569\n",
              " Freq: 20T, Name: Count, Length: 20952, dtype: float64]"
            ]
          },
          "metadata": {},
          "execution_count": 75
        }
      ]
    },
    {
      "cell_type": "code",
      "source": [
        "RANGE = DELTA\n",
        "column_names = ['Gas Price', 'Ξ Price', 'MATIC price', 'Transaction Values', 'Transactions/Block', 'Token Transfers', 'Gas Used']\n",
        "fig, ax = plt.subplots(1, 1, figsize=(12, 8))\n",
        "ns = normalize_df(deep_ds)\n",
        "correlation_df = pd.DataFrame(ns[-RANGE:])\n",
        "correlation_df.columns = [column_names[0]]\n",
        "ns[-RANGE:].plot(ax=ax)\n",
        "for i in range(len(features)):\n",
        "    features[i][-RANGE:].plot(ax=ax)\n",
        "    correlation_df[column_names[i + 1]] = features[i][-RANGE:]\n",
        "\n",
        "# fig.suptitle('Normalized Feature Values', fontsize=20)\n",
        "\n",
        "plt.legend(column_names, loc=\"best\", prop={'size': 10})\n",
        "plt.show()"
      ],
      "metadata": {
        "colab": {
          "base_uri": "https://localhost:8080/",
          "height": 495
        },
        "id": "qZEPTyNmgAyn",
        "outputId": "f3a69dd4-e86d-424c-f0dc-b01aa3f2d2fa"
      },
      "execution_count": 63,
      "outputs": [
        {
          "output_type": "display_data",
          "data": {
            "text/plain": [
              "<Figure size 864x576 with 1 Axes>"
            ],
            "image/png": "[encoded data removed]"
          },
          "metadata": {
            "needs_background": "light"
          }
        }
      ]
    },
    {
      "cell_type": "code",
      "source": [
        "df_corr = correlation_df.corr()\n",
        "df_corr.to_latex('corr.tex', float_format='%.2f')\n",
        "df_corr"
      ],
      "metadata": {
        "colab": {
          "base_uri": "https://localhost:8080/",
          "height": 269
        },
        "id": "8hmBnlrlgux9",
        "outputId": "b66ccef7-e775-404b-ed01-219359dcbab8"
      },
      "execution_count": 64,
      "outputs": [
        {
          "output_type": "execute_result",
          "data": {
            "text/plain": [
              "                    Gas Price   Ξ Price  MATIC price  Transaction Values  \\\n",
              "Gas Price            1.000000 -0.441298    -0.143281           -0.708723   \n",
              "Ξ Price             -0.441298  1.000000     0.081790            0.485708   \n",
              "MATIC price         -0.143281  0.081790     1.000000            0.320767   \n",
              "Transaction Values  -0.708723  0.485708     0.320767            1.000000   \n",
              "Transactions/Block  -0.516904  0.325694     0.224258            0.792918   \n",
              "Token Transfers     -0.708408  0.394839     0.342344            0.855414   \n",
              "Gas Used            -0.773658  0.461708     0.290561            0.924041   \n",
              "\n",
              "                    Transactions/Block  Token Transfers  Gas Used  \n",
              "Gas Price                    -0.516904        -0.708408 -0.773658  \n",
              "Ξ Price                       0.325694         0.394839  0.461708  \n",
              "MATIC price                   0.224258         0.342344  0.290561  \n",
              "Transaction Values            0.792918         0.855414  0.924041  \n",
              "Transactions/Block            1.000000         0.792345  0.881172  \n",
              "Token Transfers               0.792345         1.000000  0.910394  \n",
              "Gas Used                      0.881172         0.910394  1.000000  "
            ],
            "text/html": [
              "\n",
              "  <div id=\"df-1efca863-522e-4477-b545-14a911598581\">\n",
              "    <div class=\"colab-df-container\">\n",
              "      <div>\n",
              "<style scoped>\n",
              "    .dataframe tbody tr th:only-of-type {\n",
              "        vertical-align: middle;\n",
              "    }\n",
              "\n",
              "    .dataframe tbody tr th {\n",
              "        vertical-align: top;\n",
              "    }\n",
              "\n",
              "    .dataframe thead th {\n",
              "        text-align: right;\n",
              "    }\n",
              "</style>\n",
              "<table border=\"1\" class=\"dataframe\">\n",
              "  <thead>\n",
              "    <tr style=\"text-align: right;\">\n",
              "      <th></th>\n",
              "      <th>Gas Price</th>\n",
              "      <th>Ξ Price</th>\n",
              "      <th>MATIC price</th>\n",
              "      <th>Transaction Values</th>\n",
              "      <th>Transactions/Block</th>\n",
              "      <th>Token Transfers</th>\n",
              "      <th>Gas Used</th>\n",
              "    </tr>\n",
              "  </thead>\n",
              "  <tbody>\n",
              "    <tr>\n",
              "      <th>Gas Price</th>\n",
              "      <td>1.000000</td>\n",
              "      <td>-0.441298</td>\n",
              "      <td>-0.143281</td>\n",
              "      <td>-0.708723</td>\n",
              "      <td>-0.516904</td>\n",
              "      <td>-0.708408</td>\n",
              "      <td>-0.773658</td>\n",
              "    </tr>\n",
              "    <tr>\n",
              "      <th>Ξ Price</th>\n",
              "      <td>-0.441298</td>\n",
              "      <td>1.000000</td>\n",
              "      <td>0.081790</td>\n",
              "      <td>0.485708</td>\n",
              "      <td>0.325694</td>\n",
              "      <td>0.394839</td>\n",
              "      <td>0.461708</td>\n",
              "    </tr>\n",
              "    <tr>\n",
              "      <th>MATIC price</th>\n",
              "      <td>-0.143281</td>\n",
              "      <td>0.081790</td>\n",
              "      <td>1.000000</td>\n",
              "      <td>0.320767</td>\n",
              "      <td>0.224258</td>\n",
              "      <td>0.342344</td>\n",
              "      <td>0.290561</td>\n",
              "    </tr>\n",
              "    <tr>\n",
              "      <th>Transaction Values</th>\n",
              "      <td>-0.708723</td>\n",
              "      <td>0.485708</td>\n",
              "      <td>0.320767</td>\n",
              "      <td>1.000000</td>\n",
              "      <td>0.792918</td>\n",
              "      <td>0.855414</td>\n",
              "      <td>0.924041</td>\n",
              "    </tr>\n",
              "    <tr>\n",
              "      <th>Transactions/Block</th>\n",
              "      <td>-0.516904</td>\n",
              "      <td>0.325694</td>\n",
              "      <td>0.224258</td>\n",
              "      <td>0.792918</td>\n",
              "      <td>1.000000</td>\n",
              "      <td>0.792345</td>\n",
              "      <td>0.881172</td>\n",
              "    </tr>\n",
              "    <tr>\n",
              "      <th>Token Transfers</th>\n",
              "      <td>-0.708408</td>\n",
              "      <td>0.394839</td>\n",
              "      <td>0.342344</td>\n",
              "      <td>0.855414</td>\n",
              "      <td>0.792345</td>\n",
              "      <td>1.000000</td>\n",
              "      <td>0.910394</td>\n",
              "    </tr>\n",
              "    <tr>\n",
              "      <th>Gas Used</th>\n",
              "      <td>-0.773658</td>\n",
              "      <td>0.461708</td>\n",
              "      <td>0.290561</td>\n",
              "      <td>0.924041</td>\n",
              "      <td>0.881172</td>\n",
              "      <td>0.910394</td>\n",
              "      <td>1.000000</td>\n",
              "    </tr>\n",
              "  </tbody>\n",
              "</table>\n",
              "</div>\n",
              "      <button class=\"colab-df-convert\" onclick=\"convertToInteractive('df-1efca863-522e-4477-b545-14a911598581')\"\n",
              "              title=\"Convert this dataframe to an interactive table.\"\n",
              "              style=\"display:none;\">\n",
              "        \n",
              "  <svg xmlns=\"http://www.w3.org/2000/svg\" height=\"24px\"viewBox=\"0 0 24 24\"\n",
              "       width=\"24px\">\n",
              "    <path d=\"M0 0h24v24H0V0z\" fill=\"none\"/>\n",
              "    <path d=\"M18.56 5.44l.94 2.06.94-2.06 2.06-.94-2.06-.94-.94-2.06-.94 2.06-2.06.94zm-11 1L8.5 8.5l.94-2.06 2.06-.94-2.06-.94L8.5 2.5l-.94 2.06-2.06.94zm10 10l.94 2.06.94-2.06 2.06-.94-2.06-.94-.94-2.06-.94 2.06-2.06.94z\"/><path d=\"M17.41 7.96l-1.37-1.37c-.4-.4-.92-.59-1.43-.59-.52 0-1.04.2-1.43.59L10.3 9.45l-7.72 7.72c-.78.78-.78 2.05 0 2.83L4 21.41c.39.39.9.59 1.41.59.51 0 1.02-.2 1.41-.59l7.78-7.78 2.81-2.81c.8-.78.8-2.07 0-2.86zM5.41 20L4 18.59l7.72-7.72 1.47 1.35L5.41 20z\"/>\n",
              "  </svg>\n",
              "      </button>\n",
              "      \n",
              "  <style>\n",
              "    .colab-df-container {\n",
              "      display:flex;\n",
              "      flex-wrap:wrap;\n",
              "      gap: 12px;\n",
              "    }\n",
              "\n",
              "    .colab-df-convert {\n",
              "      background-color: #E8F0FE;\n",
              "      border: none;\n",
              "      border-radius: 50%;\n",
              "      cursor: pointer;\n",
              "      display: none;\n",
              "      fill: #1967D2;\n",
              "      height: 32px;\n",
              "      padding: 0 0 0 0;\n",
              "      width: 32px;\n",
              "    }\n",
              "\n",
              "    .colab-df-convert:hover {\n",
              "      background-color: #E2EBFA;\n",
              "      box-shadow: 0px 1px 2px rgba(60, 64, 67, 0.3), 0px 1px 3px 1px rgba(60, 64, 67, 0.15);\n",
              "      fill: #174EA6;\n",
              "    }\n",
              "\n",
              "    [theme=dark] .colab-df-convert {\n",
              "      background-color: #3B4455;\n",
              "      fill: #D2E3FC;\n",
              "    }\n",
              "\n",
              "    [theme=dark] .colab-df-convert:hover {\n",
              "      background-color: #434B5C;\n",
              "      box-shadow: 0px 1px 3px 1px rgba(0, 0, 0, 0.15);\n",
              "      filter: drop-shadow(0px 1px 2px rgba(0, 0, 0, 0.3));\n",
              "      fill: #FFFFFF;\n",
              "    }\n",
              "  </style>\n",
              "\n",
              "      <script>\n",
              "        const buttonEl =\n",
              "          document.querySelector('#df-1efca863-522e-4477-b545-14a911598581 button.colab-df-convert');\n",
              "        buttonEl.style.display =\n",
              "          google.colab.kernel.accessAllowed ? 'block' : 'none';\n",
              "\n",
              "        async function convertToInteractive(key) {\n",
              "          const element = document.querySelector('#df-1efca863-522e-4477-b545-14a911598581');\n",
              "          const dataTable =\n",
              "            await google.colab.kernel.invokeFunction('convertToInteractive',\n",
              "                                                     [key], {});\n",
              "          if (!dataTable) return;\n",
              "\n",
              "          const docLinkHtml = 'Like what you see? Visit the ' +\n",
              "            '<a target=\"_blank\" href=https://colab.research.google.com/notebooks/data_table.ipynb>data table notebook</a>'\n",
              "            + ' to learn more about interactive tables.';\n",
              "          element.innerHTML = '';\n",
              "          dataTable['output_type'] = 'display_data';\n",
              "          await google.colab.output.renderOutput(dataTable, element);\n",
              "          const docLink = document.createElement('div');\n",
              "          docLink.innerHTML = docLinkHtml;\n",
              "          element.appendChild(docLink);\n",
              "        }\n",
              "      </script>\n",
              "    </div>\n",
              "  </div>\n",
              "  "
            ]
          },
          "metadata": {},
          "execution_count": 64
        }
      ]
    },
    {
      "cell_type": "code",
      "source": [
        "plt.figure(figsize=(8,8))\n",
        "plt.matshow(df_corr.abs(), fignum=1)\n",
        "ax = plt.gca()\n",
        "ax.set_xticklabels([column_names] + column_names)\n",
        "ax.set_yticklabels([column_names] + column_names)\n",
        "plt.show()"
      ],
      "metadata": {
        "colab": {
          "base_uri": "https://localhost:8080/",
          "height": 498
        },
        "id": "O0sh0bWRhFKR",
        "outputId": "50d849da-9789-43e6-a978-7d4c996dff14"
      },
      "execution_count": 68,
      "outputs": [
        {
          "output_type": "display_data",
          "data": {
            "text/plain": [
              "<Figure size 576x576 with 1 Axes>"
            ],
            "image/png": "[encoded data removed]"
          },
          "metadata": {
            "needs_background": "light"
          }
        }
      ]
    },
    {
      "cell_type": "markdown",
      "source": [
        "# Model training"
      ],
      "metadata": {
        "id": "b5X6T8xuhgp_"
      }
    },
    {
      "cell_type": "code",
      "source": [
        "dyn_features = [feature for feature in train_features]\n",
        "\n",
        "training_data = ListDataset(\n",
        "    [\n",
        "     {'start':deep_ds.index[0],\n",
        "      'target':train_ds['Price'],\n",
        "      'feat_dynamic_real':dyn_features}\n",
        "    ],freq=FREQ\n",
        ")"
      ],
      "metadata": {
        "id": "CZuCimdthX4m"
      },
      "execution_count": 69,
      "outputs": []
    },
    {
      "cell_type": "code",
      "source": [
        "\n",
        "feature_cnt = len(features) if ENABLE_FEATURES else 0 \n",
        "feature_cnt"
      ],
      "metadata": {
        "colab": {
          "base_uri": "https://localhost:8080/"
        },
        "id": "GlVoTWNNh_nx",
        "outputId": "ff0ae190-8ca9-4f9d-a2bd-98ff2a6be40f"
      },
      "execution_count": 71,
      "outputs": [
        {
          "output_type": "execute_result",
          "data": {
            "text/plain": [
              "6"
            ]
          },
          "metadata": {},
          "execution_count": 71
        }
      ]
    },
    {
      "cell_type": "code",
      "source": [
        "import mxnet as mx\n",
        "model_path = \"./pred_{}_{}_{}/\".format(DELTA, AGG, feature_cnt)\n",
        "RUN_MODEL = True\n",
        "if RUN_MODEL:\n",
        "    callbacks = [\n",
        "        LearningRateReduction(objective=\"min\",\n",
        "                            patience=10,\n",
        "                            base_lr=5e-3,\n",
        "                            decay_factor=0.5,\n",
        "                            ),\n",
        "        ModelAveraging(avg_strategy=SelectNBestMean(num_models=2))\n",
        "    ]\n",
        "\n",
        "    estimator = DeepAREstimator(\n",
        "        freq=FREQ,      \n",
        "        prediction_length=DELTA,\n",
        "        context_length=2*DELTA,\n",
        "        num_layers = 4,\n",
        "        num_cells = 40,\n",
        "        use_feat_dynamic_real = ENABLE_FEATURES,\n",
        "        cell_type='gru',\n",
        "        distr_output=StudentTOutput(),\n",
        "        dropout_rate=0.01,\n",
        "        trainer=Trainer(ctx = mx.context.gpu(),\n",
        "                        epochs=200,\n",
        "                        callbacks=callbacks))\n",
        "\n",
        "    predictor = estimator.train(training_data)\n",
        "    if os.path.exists(model_path):\n",
        "        shutil.rmtree(model_path)\n",
        "    os.mkdir( model_path)\n",
        "    predictor.serialize(Path(model_path))\n",
        "else:\n",
        "    predictor = Predictor.deserialize(Path(model_path))"
      ],
      "metadata": {
        "colab": {
          "base_uri": "https://localhost:8080/"
        },
        "id": "N4AS78J8iG-j",
        "outputId": "4d377444-0812-4e87-c874-cb3185e757c9"
      },
      "execution_count": 81,
      "outputs": [
        {
          "output_type": "stream",
          "name": "stderr",
          "text": [
            "100%|██████████| 50/50 [00:27<00:00,  1.83it/s, epoch=1/200, avg_epoch_loss=25.8]\n",
            "100%|██████████| 50/50 [00:25<00:00,  1.93it/s, epoch=2/200, avg_epoch_loss=25.1]\n",
            "100%|██████████| 50/50 [00:25<00:00,  1.93it/s, epoch=3/200, avg_epoch_loss=24.9]\n",
            "100%|██████████| 50/50 [00:25<00:00,  1.99it/s, epoch=4/200, avg_epoch_loss=24.8]\n",
            "100%|██████████| 50/50 [00:25<00:00,  1.96it/s, epoch=5/200, avg_epoch_loss=24.6]\n",
            "100%|██████████| 50/50 [00:25<00:00,  1.97it/s, epoch=6/200, avg_epoch_loss=24.6]\n",
            "100%|██████████| 50/50 [00:25<00:00,  1.95it/s, epoch=7/200, avg_epoch_loss=24.5]\n",
            "100%|██████████| 50/50 [00:24<00:00,  2.00it/s, epoch=8/200, avg_epoch_loss=24.5]\n",
            "100%|██████████| 50/50 [00:26<00:00,  1.87it/s, epoch=9/200, avg_epoch_loss=24.4]\n",
            "100%|██████████| 50/50 [00:26<00:00,  1.87it/s, epoch=10/200, avg_epoch_loss=24.5]\n",
            "100%|██████████| 50/50 [00:25<00:00,  1.97it/s, epoch=11/200, avg_epoch_loss=24.4]\n",
            "100%|██████████| 50/50 [00:25<00:00,  2.00it/s, epoch=12/200, avg_epoch_loss=24.4]\n",
            "100%|██████████| 50/50 [00:25<00:00,  1.93it/s, epoch=13/200, avg_epoch_loss=24.4]\n",
            "100%|██████████| 50/50 [00:26<00:00,  1.92it/s, epoch=14/200, avg_epoch_loss=24.4]\n",
            "100%|██████████| 50/50 [00:26<00:00,  1.89it/s, epoch=15/200, avg_epoch_loss=24.4]\n",
            "100%|██████████| 50/50 [00:25<00:00,  1.93it/s, epoch=16/200, avg_epoch_loss=24.4]\n",
            "100%|██████████| 50/50 [00:25<00:00,  1.94it/s, epoch=17/200, avg_epoch_loss=24.4]\n",
            "100%|██████████| 50/50 [00:26<00:00,  1.91it/s, epoch=18/200, avg_epoch_loss=24.4]\n",
            "100%|██████████| 50/50 [00:26<00:00,  1.90it/s, epoch=19/200, avg_epoch_loss=24.4]\n",
            "100%|██████████| 50/50 [00:25<00:00,  1.99it/s, epoch=20/200, avg_epoch_loss=24.4]\n",
            "100%|██████████| 50/50 [00:26<00:00,  1.90it/s, epoch=21/200, avg_epoch_loss=24.4]\n",
            "100%|██████████| 50/50 [00:26<00:00,  1.90it/s, epoch=22/200, avg_epoch_loss=24.4]\n",
            "100%|██████████| 50/50 [00:25<00:00,  1.97it/s, epoch=23/200, avg_epoch_loss=24.4]\n",
            "100%|██████████| 50/50 [00:24<00:00,  2.00it/s, epoch=24/200, avg_epoch_loss=24.3]\n",
            "100%|██████████| 50/50 [00:25<00:00,  1.96it/s, epoch=25/200, avg_epoch_loss=24.3]\n",
            "100%|██████████| 50/50 [00:26<00:00,  1.90it/s, epoch=26/200, avg_epoch_loss=24.4]\n",
            "100%|██████████| 50/50 [00:26<00:00,  1.90it/s, epoch=27/200, avg_epoch_loss=24.4]\n",
            "100%|██████████| 50/50 [00:25<00:00,  1.97it/s, epoch=28/200, avg_epoch_loss=24.4]\n",
            "100%|██████████| 50/50 [00:26<00:00,  1.92it/s, epoch=29/200, avg_epoch_loss=24.4]\n",
            "100%|██████████| 50/50 [00:24<00:00,  2.03it/s, epoch=30/200, avg_epoch_loss=24.4]\n",
            "100%|██████████| 50/50 [00:26<00:00,  1.89it/s, epoch=31/200, avg_epoch_loss=24.4]\n",
            "100%|██████████| 50/50 [00:25<00:00,  1.96it/s, epoch=32/200, avg_epoch_loss=24.4]\n",
            "100%|██████████| 50/50 [00:26<00:00,  1.89it/s, epoch=33/200, avg_epoch_loss=24.4]\n",
            "100%|██████████| 50/50 [00:25<00:00,  1.97it/s, epoch=34/200, avg_epoch_loss=24.3]\n",
            "100%|██████████| 50/50 [00:26<00:00,  1.91it/s, epoch=35/200, avg_epoch_loss=24.3]\n",
            "100%|██████████| 50/50 [00:26<00:00,  1.92it/s, epoch=36/200, avg_epoch_loss=24.3]\n",
            "100%|██████████| 50/50 [00:25<00:00,  1.96it/s, epoch=37/200, avg_epoch_loss=24.3]\n",
            "100%|██████████| 50/50 [00:25<00:00,  1.97it/s, epoch=38/200, avg_epoch_loss=24.3]\n",
            "100%|██████████| 50/50 [00:25<00:00,  1.97it/s, epoch=39/200, avg_epoch_loss=24.3]\n",
            "100%|██████████| 50/50 [00:25<00:00,  1.94it/s, epoch=40/200, avg_epoch_loss=24.3]\n",
            "100%|██████████| 50/50 [00:25<00:00,  1.93it/s, epoch=41/200, avg_epoch_loss=24.3]\n",
            "100%|██████████| 50/50 [00:25<00:00,  1.97it/s, epoch=42/200, avg_epoch_loss=24.3]\n",
            "100%|██████████| 50/50 [00:26<00:00,  1.92it/s, epoch=43/200, avg_epoch_loss=24.3]\n",
            "100%|██████████| 50/50 [00:25<00:00,  1.94it/s, epoch=44/200, avg_epoch_loss=24.3]\n",
            "100%|██████████| 50/50 [00:25<00:00,  1.95it/s, epoch=45/200, avg_epoch_loss=24.3]\n",
            "100%|██████████| 50/50 [00:25<00:00,  1.96it/s, epoch=46/200, avg_epoch_loss=24.3]\n",
            "100%|██████████| 50/50 [00:26<00:00,  1.90it/s, epoch=47/200, avg_epoch_loss=24.3]\n",
            "100%|██████████| 50/50 [00:26<00:00,  1.91it/s, epoch=48/200, avg_epoch_loss=24.4]\n",
            "100%|██████████| 50/50 [00:26<00:00,  1.90it/s, epoch=49/200, avg_epoch_loss=24.3]\n",
            "100%|██████████| 50/50 [00:26<00:00,  1.91it/s, epoch=50/200, avg_epoch_loss=24.3]\n",
            "100%|██████████| 50/50 [00:25<00:00,  1.96it/s, epoch=51/200, avg_epoch_loss=24.3]\n",
            "100%|██████████| 50/50 [00:25<00:00,  1.95it/s, epoch=52/200, avg_epoch_loss=24.3]\n",
            "100%|██████████| 50/50 [00:25<00:00,  1.97it/s, epoch=53/200, avg_epoch_loss=24.3]\n",
            "100%|██████████| 50/50 [00:26<00:00,  1.92it/s, epoch=54/200, avg_epoch_loss=24.3]\n",
            "100%|██████████| 50/50 [00:25<00:00,  1.95it/s, epoch=55/200, avg_epoch_loss=24.3]\n",
            "100%|██████████| 50/50 [00:25<00:00,  1.97it/s, epoch=56/200, avg_epoch_loss=24.3]\n",
            "100%|██████████| 50/50 [00:27<00:00,  1.85it/s, epoch=57/200, avg_epoch_loss=24.3]\n",
            "100%|██████████| 50/50 [00:26<00:00,  1.90it/s, epoch=58/200, avg_epoch_loss=24.3]\n",
            "100%|██████████| 50/50 [00:26<00:00,  1.92it/s, epoch=59/200, avg_epoch_loss=24.3]\n",
            "100%|██████████| 50/50 [00:25<00:00,  1.96it/s, epoch=60/200, avg_epoch_loss=24.3]\n",
            "100%|██████████| 50/50 [00:26<00:00,  1.88it/s, epoch=61/200, avg_epoch_loss=24.3]\n",
            "100%|██████████| 50/50 [00:25<00:00,  1.93it/s, epoch=62/200, avg_epoch_loss=24.3]\n",
            "100%|██████████| 50/50 [00:25<00:00,  1.93it/s, epoch=63/200, avg_epoch_loss=24.3]\n",
            "100%|██████████| 50/50 [00:25<00:00,  1.97it/s, epoch=64/200, avg_epoch_loss=24.3]\n",
            "100%|██████████| 50/50 [00:25<00:00,  1.95it/s, epoch=65/200, avg_epoch_loss=24.3]\n",
            "100%|██████████| 50/50 [00:26<00:00,  1.92it/s, epoch=66/200, avg_epoch_loss=24.3]\n",
            "100%|██████████| 50/50 [00:25<00:00,  1.95it/s, epoch=67/200, avg_epoch_loss=24.3]\n",
            "100%|██████████| 50/50 [00:25<00:00,  1.97it/s, epoch=68/200, avg_epoch_loss=24.3]\n",
            "100%|██████████| 50/50 [00:25<00:00,  1.93it/s, epoch=69/200, avg_epoch_loss=24.3]\n",
            "100%|██████████| 50/50 [00:24<00:00,  2.02it/s, epoch=70/200, avg_epoch_loss=24.3]\n",
            "100%|██████████| 50/50 [00:25<00:00,  1.97it/s, epoch=71/200, avg_epoch_loss=24.3]\n",
            "100%|██████████| 50/50 [00:26<00:00,  1.88it/s, epoch=72/200, avg_epoch_loss=24.3]\n",
            "100%|██████████| 50/50 [00:26<00:00,  1.91it/s, epoch=73/200, avg_epoch_loss=24.3]\n",
            "100%|██████████| 50/50 [00:25<00:00,  1.94it/s, epoch=74/200, avg_epoch_loss=24.3]\n",
            "100%|██████████| 50/50 [00:26<00:00,  1.91it/s, epoch=75/200, avg_epoch_loss=24.3]\n",
            "100%|██████████| 50/50 [00:26<00:00,  1.89it/s, epoch=76/200, avg_epoch_loss=24.3]\n",
            "100%|██████████| 50/50 [00:25<00:00,  1.92it/s, epoch=77/200, avg_epoch_loss=24.3]\n",
            "100%|██████████| 50/50 [00:26<00:00,  1.89it/s, epoch=78/200, avg_epoch_loss=24.3]\n",
            "100%|██████████| 50/50 [00:26<00:00,  1.92it/s, epoch=79/200, avg_epoch_loss=24.3]\n",
            "100%|██████████| 50/50 [00:26<00:00,  1.90it/s, epoch=80/200, avg_epoch_loss=24.3]\n",
            "100%|██████████| 50/50 [00:25<00:00,  1.94it/s, epoch=81/200, avg_epoch_loss=24.3]\n",
            "100%|██████████| 50/50 [00:26<00:00,  1.90it/s, epoch=82/200, avg_epoch_loss=24.4]\n",
            "100%|██████████| 50/50 [00:26<00:00,  1.92it/s, epoch=83/200, avg_epoch_loss=24.3]\n",
            "100%|██████████| 50/50 [00:26<00:00,  1.91it/s, epoch=84/200, avg_epoch_loss=24.3]\n",
            "100%|██████████| 50/50 [00:26<00:00,  1.88it/s, epoch=85/200, avg_epoch_loss=24.3]\n",
            "100%|██████████| 50/50 [00:26<00:00,  1.92it/s, epoch=86/200, avg_epoch_loss=24.3]\n",
            "100%|██████████| 50/50 [00:25<00:00,  1.94it/s, epoch=87/200, avg_epoch_loss=24.3]\n",
            "100%|██████████| 50/50 [00:26<00:00,  1.92it/s, epoch=88/200, avg_epoch_loss=24.3]\n",
            "100%|██████████| 50/50 [00:26<00:00,  1.90it/s, epoch=89/200, avg_epoch_loss=24.3]\n",
            "100%|██████████| 50/50 [00:24<00:00,  2.03it/s, epoch=90/200, avg_epoch_loss=24.3]\n",
            "100%|██████████| 50/50 [00:26<00:00,  1.89it/s, epoch=91/200, avg_epoch_loss=24.3]\n",
            "WARNING:root:Serializing RepresentableBlockPredictor instances does not save the prediction network structure in a backwards-compatible manner. Be careful not to use this method in production.\n"
          ]
        },
        {
          "output_type": "stream",
          "name": "stdout",
          "text": [
            "Early stopping based on learning rate scheduler callback (min_lr was reached).\n"
          ]
        }
      ]
    },
    {
      "cell_type": "markdown",
      "source": [
        "## Make prediction"
      ],
      "metadata": {
        "id": "JOXLuQWsvcpp"
      }
    },
    {
      "cell_type": "code",
      "source": [
        "end_date = datetime.combine(date(2021,10,17), time(6,0))\n",
        "start_date = end_date - timedelta(10*AGG*DELTA) \n",
        "test_ds = test_ds[start_date:end_date]['Price']\n",
        "dyn_features = [feature[start_date:end_date] for feature in test_features]"
      ],
      "metadata": {
        "id": "NA3ItJhchWMZ"
      },
      "execution_count": 83,
      "outputs": []
    },
    {
      "cell_type": "code",
      "source": [
        "test_data = ListDataset(\n",
        "    [{\"start\": test_ds.index[0], \"target\": test_ds\n",
        "    ,'feat_dynamic_real': dyn_features\n",
        "    }],\n",
        "    freq = FREQ\n",
        ")"
      ],
      "metadata": {
        "id": "eN1KQVqivBcU"
      },
      "execution_count": 88,
      "outputs": []
    },
    {
      "cell_type": "code",
      "source": [
        "forecast_it, ts_it = make_evaluation_predictions(\n",
        "    dataset=test_data,  # test dataset\n",
        "    predictor=predictor,  # predictor\n",
        "    num_samples=100,  # number of sample paths we want for evaluation\n",
        ")\n",
        "\n",
        "forecasts = list(forecast_it)\n",
        "tss = list(ts_it)"
      ],
      "metadata": {
        "id": "Q2izq6XWu8Z1"
      },
      "execution_count": 89,
      "outputs": []
    },
    {
      "cell_type": "code",
      "source": [
        "image_file = \"pred_{}_{}_{}_{}.jpg\".format(end_date, DELTA, AGG, feature_cnt)\n",
        "\n",
        "def plot_prob_forecasts(ts_entry, forecast_entry, image_file):\n",
        "    plot_length = 80\n",
        "    prediction_intervals = (50.0, 90.0)\n",
        "    legend = [\"observations\", \"median prediction\"] + [f\"{k}% prediction interval\" for k in prediction_intervals][::-1]\n",
        "\n",
        "    fig, ax = plt.subplots(1, 1, figsize=(10, 7))\n",
        "    ts_entry[-plot_length:].plot(ax=ax)  # plot the time series\n",
        "    forecast_entry.plot(prediction_intervals=prediction_intervals, color='g')\n",
        "    plt.grid(which=\"both\")\n",
        "    plt.legend(legend, loc=\"upper left\")\n",
        "    plt.savefig(image_file, dpi=150, bbox_inches='tight')\n",
        "    plt.show()\n",
        "    \n",
        "\n",
        "plot_prob_forecasts(tss[0], forecasts[0], image_file)"
      ],
      "metadata": {
        "colab": {
          "base_uri": "https://localhost:8080/",
          "height": 451
        },
        "id": "BUaxLbIKvfM1",
        "outputId": "8f6a53f5-5c28-4d1c-d400-135186cb0ce0"
      },
      "execution_count": 90,
      "outputs": [
        {
          "output_type": "display_data",
          "data": {
            "text/plain": [
              "<Figure size 720x504 with 1 Axes>"
            ],
            "image/png": "[encoded data removed]"
          },
          "metadata": {
            "needs_background": "light"
          }
        }
      ]
    },
    {
      "cell_type": "code",
      "source": [
        "evaluator = Evaluator(quantiles=[0.1, 0.5, 0.9], ignore_invalid_values=True)\n",
        "agg_metrics, item_metrics = evaluator(iter(tss), iter(forecasts), num_series=1)"
      ],
      "metadata": {
        "colab": {
          "base_uri": "https://localhost:8080/"
        },
        "id": "zp7PGrcCvnGP",
        "outputId": "c4eb2c5c-eaae-4292-cf38-bd7a6de3ce8f"
      },
      "execution_count": 91,
      "outputs": [
        {
          "output_type": "stream",
          "name": "stderr",
          "text": [
            "Running evaluation: 100%|██████████| 1/1 [00:00<00:00,  3.60it/s]\n"
          ]
        }
      ]
    },
    {
      "cell_type": "code",
      "source": [
        "agg_metrics"
      ],
      "metadata": {
        "colab": {
          "base_uri": "https://localhost:8080/"
        },
        "id": "_0N5slWDv6tw",
        "outputId": "7ec5bafd-5b8f-47c9-978e-94e147bc548d"
      },
      "execution_count": 94,
      "outputs": [
        {
          "output_type": "execute_result",
          "data": {
            "text/plain": [
              "{'Coverage[0.1]': 0.025,\n",
              " 'Coverage[0.5]': 0.2,\n",
              " 'Coverage[0.9]': 0.6,\n",
              " 'MAE_Coverage': 0.225,\n",
              " 'MAPE': 0.2222731351852417,\n",
              " 'MASE': 0.4159177991574732,\n",
              " 'MSE': 6.405842422878221e+20,\n",
              " 'MSIS': 2.9593906586762304,\n",
              " 'ND': 0.23091431905456009,\n",
              " 'NRMSE': 0.2916114020303922,\n",
              " 'OWA': nan,\n",
              " 'QuantileLoss[0.1]': 279378350080.0,\n",
              " 'QuantileLoss[0.5]': 801667883008.0,\n",
              " 'QuantileLoss[0.9]': 484502927769.6,\n",
              " 'RMSE': 25309765749.366825,\n",
              " 'abs_error': 801667874816.0,\n",
              " 'abs_target_mean': 86792785100.8,\n",
              " 'abs_target_sum': 3471711404032.0,\n",
              " 'mean_absolute_QuantileLoss': 521849720285.8667,\n",
              " 'mean_wQuantileLoss': 0.15031483310502056,\n",
              " 'sMAPE': 0.2598167896270752,\n",
              " 'seasonal_error': 48186677538.20243,\n",
              " 'wQuantileLoss[0.1]': 0.08047280363095091,\n",
              " 'wQuantileLoss[0.5]': 0.23091432141420323,\n",
              " 'wQuantileLoss[0.9]': 0.13955737426990752}"
            ]
          },
          "metadata": {},
          "execution_count": 94
        }
      ]
    },
    {
      "cell_type": "code",
      "source": [
        "csv_file = \"pred_{}_{}_{}_{}.json\".format(end_date, DELTA, AGG, feature_cnt)\n",
        "with open(csv_file, 'w') as writer:\n",
        "    writer.write(json.dumps(agg_metrics, indent=4))"
      ],
      "metadata": {
        "id": "RuOY808evuKx"
      },
      "execution_count": 92,
      "outputs": []
    },
    {
      "cell_type": "code",
      "source": [
        "print('Last run:', image_file, csv_file)"
      ],
      "metadata": {
        "colab": {
          "base_uri": "https://localhost:8080/"
        },
        "id": "el38kKZSvw3J",
        "outputId": "5a20a18c-65d8-4ca8-aab4-8a5247e77c18"
      },
      "execution_count": 93,
      "outputs": [
        {
          "output_type": "stream",
          "name": "stdout",
          "text": [
            "Last run: pred_2021-10-17 06:00:00_40_20_6.jpg pred_2021-10-17 06:00:00_40_20_6.json\n"
          ]
        }
      ]
    },
    {
      "cell_type": "code",
      "source": [
        ""
      ],
      "metadata": {
        "id": "CKE-CqFdvyDN"
      },
      "execution_count": null,
      "outputs": []
    },
    {
      "cell_type": "code",
      "source": [
        ""
      ],
      "metadata": {
        "id": "_8pHl873vZEi"
      },
      "execution_count": null,
      "outputs": []
    },
    {
      "cell_type": "code",
      "source": [
        ""
      ],
      "metadata": {
        "id": "17B8vAB5ju5I"
      },
      "execution_count": null,
      "outputs": []
    },
    {
      "cell_type": "code",
      "source": [
        ""
      ],
      "metadata": {
        "id": "YmS5eAsEjpLU"
      },
      "execution_count": null,
      "outputs": []
    },
    {
      "cell_type": "code",
      "source": [
        ""
      ],
      "metadata": {
        "id": "T9t-K4vFf5hL"
      },
      "execution_count": null,
      "outputs": []
    },
    {
      "cell_type": "code",
      "source": [
        ""
      ],
      "metadata": {
        "id": "IDNaFX3xf4oq"
      },
      "execution_count": null,
      "outputs": []
    },
    {
      "cell_type": "code",
      "source": [
        ""
      ],
      "metadata": {
        "id": "UyB4PSmyfeiw"
      },
      "execution_count": null,
      "outputs": []
    },
    {
      "cell_type": "code",
      "source": [
        ""
      ],
      "metadata": {
        "id": "CpLICA3yfOme"
      },
      "execution_count": null,
      "outputs": []
    },
    {
      "cell_type": "code",
      "source": [
        ""
      ],
      "metadata": {
        "id": "_EHDd_gTel13"
      },
      "execution_count": null,
      "outputs": []
    },
    {
      "cell_type": "code",
      "source": [
        "te"
      ],
      "metadata": {
        "id": "NkS2o-7Feiuo"
      },
      "execution_count": null,
      "outputs": []
    },
    {
      "cell_type": "code",
      "source": [
        ""
      ],
      "metadata": {
        "id": "m4Z9PX7Qef5H"
      },
      "execution_count": null,
      "outputs": []
    },
    {
      "cell_type": "code",
      "source": [
        ""
      ],
      "metadata": {
        "id": "z4xTiKL_eF7F"
      },
      "execution_count": null,
      "outputs": []
    },
    {
      "cell_type": "code",
      "source": [
        "deep_ds.resample(freq='M')"
      ],
      "metadata": {
        "colab": {
          "base_uri": "https://localhost:8080/",
          "height": 173
        },
        "id": "ZnB0H2JqcizJ",
        "outputId": "f69dd3e8-a46b-47d9-975a-702bc809d8f4"
      },
      "execution_count": 29,
      "outputs": [
        {
          "output_type": "error",
          "ename": "AttributeError",
          "evalue": "ignored",
          "traceback": [
            "\u001b[0;31m---------------------------------------------------------------------------\u001b[0m",
            "\u001b[0;31mAttributeError\u001b[0m                            Traceback (most recent call last)",
            "\u001b[0;32m<ipython-input-29-4367158b979d>\u001b[0m in \u001b[0;36m<module>\u001b[0;34m()\u001b[0m\n\u001b[0;32m----> 1\u001b[0;31m \u001b[0mdeep_ds\u001b[0m\u001b[0;34m.\u001b[0m\u001b[0mresample\u001b[0m\u001b[0;34m(\u001b[0m\u001b[0mfreq\u001b[0m\u001b[0;34m=\u001b[0m\u001b[0;34m'M'\u001b[0m\u001b[0;34m)\u001b[0m\u001b[0;34m\u001b[0m\u001b[0;34m\u001b[0m\u001b[0m\n\u001b[0m",
            "\u001b[0;31mAttributeError\u001b[0m: 'DatetimeIndex' object has no attribute 'resample'"
          ]
        }
      ]
    },
    {
      "cell_type": "code",
      "source": [
        ""
      ],
      "metadata": {
        "id": "oIeCEyVbcamF"
      },
      "execution_count": null,
      "outputs": []
    },
    {
      "cell_type": "markdown",
      "source": [
        ""
      ],
      "metadata": {
        "id": "fHQyON2jYBjQ"
      }
    }
  ]
}