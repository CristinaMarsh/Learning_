{
  "nbformat": 4,
  "nbformat_minor": 0,
  "metadata": {
    "colab": {
      "name": "Custom_gluonts_Day3(3) how to motify the architecture.ipynb",
      "provenance": [],
      "collapsed_sections": [],
      "authorship_tag": "ABX9TyOmPIANsQkhAYX0RRrVBJ+L",
      "include_colab_link": true
    },
    "kernelspec": {
      "name": "python3",
      "display_name": "Python 3"
    },
    "language_info": {
      "name": "python"
    },
    "accelerator": "GPU",
    "gpuClass": "standard"
  },
  "cells": [
    {
      "cell_type": "markdown",
      "metadata": {
        "id": "view-in-github",
        "colab_type": "text"
      },
      "source": [
        "<a href=\"https://colab.research.google.com/github/CristinaMarsh/Learning_/blob/main/TStool/Custom_gluonts_Day3(3)_how_to_motify_the_architecture.ipynb\" target=\"_parent\"><img src=\"https://colab.research.google.com/assets/colab-badge.svg\" alt=\"Open In Colab\"/></a>"
      ]
    },
    {
      "cell_type": "code",
      "execution_count": 2,
      "metadata": {
        "colab": {
          "base_uri": "https://localhost:8080/"
        },
        "id": "423v9Ij9j47D",
        "outputId": "67d813e9-4d2e-4d66-eb69-bfe3555f0f0a"
      },
      "outputs": [
        {
          "output_type": "stream",
          "name": "stdout",
          "text": [
            "Looking in indexes: https://pypi.org/simple, https://us-python.pkg.dev/colab-wheels/public/simple/\n",
            "Collecting gluonts\n",
            "  Downloading gluonts-0.10.0-py3-none-any.whl (2.5 MB)\n",
            "\u001b[K     |████████████████████████████████| 2.5 MB 9.7 MB/s \n",
            "\u001b[?25hRequirement already satisfied: matplotlib~=3.0 in /usr/local/lib/python3.7/dist-packages (from gluonts) (3.2.2)\n",
            "Requirement already satisfied: pydantic~=1.7 in /usr/local/lib/python3.7/dist-packages (from gluonts) (1.8.2)\n",
            "Requirement already satisfied: pandas~=1.0 in /usr/local/lib/python3.7/dist-packages (from gluonts) (1.3.5)\n",
            "Requirement already satisfied: tqdm~=4.23 in /usr/local/lib/python3.7/dist-packages (from gluonts) (4.64.0)\n",
            "Requirement already satisfied: holidays>=0.9 in /usr/local/lib/python3.7/dist-packages (from gluonts) (0.10.5.2)\n",
            "Requirement already satisfied: toolz~=0.10 in /usr/local/lib/python3.7/dist-packages (from gluonts) (0.11.2)\n",
            "Requirement already satisfied: typing-extensions~=4.0 in /usr/local/lib/python3.7/dist-packages (from gluonts) (4.1.1)\n",
            "Requirement already satisfied: numpy~=1.16 in /usr/local/lib/python3.7/dist-packages (from gluonts) (1.21.6)\n",
            "Requirement already satisfied: convertdate>=2.3.0 in /usr/local/lib/python3.7/dist-packages (from holidays>=0.9->gluonts) (2.4.0)\n",
            "Requirement already satisfied: six in /usr/local/lib/python3.7/dist-packages (from holidays>=0.9->gluonts) (1.15.0)\n",
            "Requirement already satisfied: hijri-converter in /usr/local/lib/python3.7/dist-packages (from holidays>=0.9->gluonts) (2.2.4)\n",
            "Requirement already satisfied: python-dateutil in /usr/local/lib/python3.7/dist-packages (from holidays>=0.9->gluonts) (2.8.2)\n",
            "Requirement already satisfied: korean-lunar-calendar in /usr/local/lib/python3.7/dist-packages (from holidays>=0.9->gluonts) (0.2.1)\n",
            "Requirement already satisfied: pymeeus<=1,>=0.3.13 in /usr/local/lib/python3.7/dist-packages (from convertdate>=2.3.0->holidays>=0.9->gluonts) (0.5.11)\n",
            "Requirement already satisfied: pyparsing!=2.0.4,!=2.1.2,!=2.1.6,>=2.0.1 in /usr/local/lib/python3.7/dist-packages (from matplotlib~=3.0->gluonts) (3.0.9)\n",
            "Requirement already satisfied: kiwisolver>=1.0.1 in /usr/local/lib/python3.7/dist-packages (from matplotlib~=3.0->gluonts) (1.4.3)\n",
            "Requirement already satisfied: cycler>=0.10 in /usr/local/lib/python3.7/dist-packages (from matplotlib~=3.0->gluonts) (0.11.0)\n",
            "Requirement already satisfied: pytz>=2017.3 in /usr/local/lib/python3.7/dist-packages (from pandas~=1.0->gluonts) (2022.1)\n",
            "Installing collected packages: gluonts\n",
            "Successfully installed gluonts-0.10.0\n",
            "Looking in indexes: https://pypi.org/simple, https://us-python.pkg.dev/colab-wheels/public/simple/\n",
            "Collecting mxnet-cu101\n",
            "  Downloading mxnet_cu101-1.9.1-py3-none-manylinux2014_x86_64.whl (360.0 MB)\n",
            "\u001b[K     |████████████████████████████████| 360.0 MB 19 kB/s \n",
            "\u001b[?25hRequirement already satisfied: numpy<2.0.0,>1.16.0 in /usr/local/lib/python3.7/dist-packages (from mxnet-cu101) (1.21.6)\n",
            "Requirement already satisfied: requests<3,>=2.20.0 in /usr/local/lib/python3.7/dist-packages (from mxnet-cu101) (2.23.0)\n",
            "Collecting graphviz<0.9.0,>=0.8.1\n",
            "  Downloading graphviz-0.8.4-py2.py3-none-any.whl (16 kB)\n",
            "Requirement already satisfied: urllib3!=1.25.0,!=1.25.1,<1.26,>=1.21.1 in /usr/local/lib/python3.7/dist-packages (from requests<3,>=2.20.0->mxnet-cu101) (1.24.3)\n",
            "Requirement already satisfied: idna<3,>=2.5 in /usr/local/lib/python3.7/dist-packages (from requests<3,>=2.20.0->mxnet-cu101) (2.10)\n",
            "Requirement already satisfied: chardet<4,>=3.0.2 in /usr/local/lib/python3.7/dist-packages (from requests<3,>=2.20.0->mxnet-cu101) (3.0.4)\n",
            "Requirement already satisfied: certifi>=2017.4.17 in /usr/local/lib/python3.7/dist-packages (from requests<3,>=2.20.0->mxnet-cu101) (2022.6.15)\n",
            "Installing collected packages: graphviz, mxnet-cu101\n",
            "  Attempting uninstall: graphviz\n",
            "    Found existing installation: graphviz 0.10.1\n",
            "    Uninstalling graphviz-0.10.1:\n",
            "      Successfully uninstalled graphviz-0.10.1\n",
            "Successfully installed graphviz-0.8.4 mxnet-cu101-1.9.1\n"
          ]
        }
      ],
      "source": [
        "!pip install gluonts\n",
        "!pip install mxnet-cu101"
      ]
    },
    {
      "cell_type": "code",
      "source": [
        "# Thanks https://github.com/iskra3138/GluonTS/blob/master/Custom_DeepFactor_YJ.ipynb\n",
        "\n",
        "\n",
        "from gluonts.dataset.repository.datasets import get_dataset, dataset_recipes\n",
        "#from gluonts.dataset.util import to_pandas\n",
        "\n",
        "# Third-party imports\n",
        "%matplotlib inline\n",
        "import mxnet as mx\n",
        "from mxnet import gluon\n",
        "#import numpy as np\n",
        "#import pandas as pd\n",
        "import matplotlib.pyplot as plt\n",
        "import json\n",
        "#import os"
      ],
      "metadata": {
        "colab": {
          "base_uri": "https://localhost:8080/"
        },
        "id": "_gJHoMb2kVh1",
        "outputId": "9bc93841-301e-4091-fce7-3f7f951194fc"
      },
      "execution_count": 3,
      "outputs": [
        {
          "output_type": "stream",
          "name": "stderr",
          "text": [
            "/usr/local/lib/python3.7/dist-packages/gluonts/json.py:102: UserWarning: Using `json`-module for json-handling. Consider installing one of `orjson`, `ujson` to speed up serialization and deserialization.\n",
            "  \"Using `json`-module for json-handling. \"\n"
          ]
        }
      ]
    },
    {
      "cell_type": "code",
      "source": [
        "dataset = get_dataset('electricity', regenerate=False)"
      ],
      "metadata": {
        "id": "eznfdWAOlF-B"
      },
      "execution_count": 4,
      "outputs": []
    },
    {
      "cell_type": "code",
      "source": [
        "from gluonts.mx.trainer import Trainer\n",
        "from gluonts.evaluation.backtest import make_evaluation_predictions\n",
        "from gluonts.model.deep_factor import DeepFactorEstimator\n",
        "from gluonts.evaluation import Evaluator"
      ],
      "metadata": {
        "id": "XutDDKUjlI_c"
      },
      "execution_count": 9,
      "outputs": []
    },
    {
      "cell_type": "code",
      "source": [
        "#1. A Trainer\n",
        "# https://gluon-ts.mxnet.io/api/gluonts/gluonts.trainer.html\n",
        "deepfactor_trainer=Trainer(\n",
        "    ctx = 'gpu',\n",
        "    epochs=10, # (default: 100).\n",
        "    batch_size=32,# (default: 32).\n",
        "    num_batches_per_epoch=50, # (default: 50).\n",
        "    learning_rate=0.001, # (default:  10^−3 ).\n",
        "    learning_rate_decay_factor=0.5, # (default: 0.5).\n",
        "    patience = 10, # (default: 10).\n",
        "    minimum_learning_rate=5e-05, # (default:  5⋅10^−5 ).\n",
        "    clip_gradient = 10.0, # (default: 10).\n",
        "    weight_decay=1e-08, #  (default  10^−8 ).\n",
        "    init='xavier', #  (default: “xavier”).\n",
        "    hybridize=True, \n",
        "    )"
      ],
      "metadata": {
        "id": "iuifhP-FlhS9"
      },
      "execution_count": 6,
      "outputs": []
    },
    {
      "cell_type": "code",
      "source": [
        "#2. A estimator\n",
        "# change only context_length\n",
        "DF_estimator = DeepFactorEstimator(\n",
        "    freq=dataset.metadata.freq, # Time series frequency\n",
        "    prediction_length=dataset.metadata.prediction_length, # Prediction length.\n",
        "    num_hidden_global=50, # (default: 50).\n",
        "    num_layers_global=1, # (default: 1).\n",
        "    num_factors=10, # (default: 10).\n",
        "    num_hidden_local=5, # (default: 5).\n",
        "    num_layers_local=1, # (default: 1).\n",
        "    cell_type='lstm', # (default: ‘lstm’).\n",
        "    trainer = deepfactor_trainer, # (default: Trainer()).\n",
        "    context_length=168, # (default: None, in which case context_length = prediction_length).\n",
        "    num_parallel_samples=100, # (default: 100).\n",
        "    cardinality=[int(dataset.metadata.feat_static_cat[0].cardinality)], # (default: list([1]).\n",
        "    embedding_dimension=10, # (default: 10).\n",
        "    #distr_output=StudentTOutput(), # (default: StudentTOutput()).\n",
        ")"
      ],
      "metadata": {
        "id": "RGn2DzmQlnDd"
      },
      "execution_count": 7,
      "outputs": []
    },
    {
      "cell_type": "code",
      "source": [
        "#3 A predictor\n",
        "import os\n",
        "import shutil\n",
        "from pathlib import Path\n",
        "model_path = \"./pred\"\n",
        "\n",
        "DF_preditor = DF_estimator.train(dataset.train)\n",
        "if os.path.exists(model_path):\n",
        "    shutil.rmtree(model_path)\n",
        "os.mkdir( model_path)\n",
        "DF_preditor.serialize(Path(model_path))"
      ],
      "metadata": {
        "colab": {
          "base_uri": "https://localhost:8080/"
        },
        "id": "axPDAwn4ltj6",
        "outputId": "f3f9f8bd-17f7-45f9-afa6-496b4059e273"
      },
      "execution_count": 8,
      "outputs": [
        {
          "output_type": "stream",
          "name": "stderr",
          "text": [
            "100%|██████████| 50/50 [00:24<00:00,  2.02it/s, epoch=1/10, avg_epoch_loss=1.36e+8]\n",
            "100%|██████████| 50/50 [00:25<00:00,  1.98it/s, epoch=2/10, avg_epoch_loss=8.03e+7]\n",
            "100%|██████████| 50/50 [00:24<00:00,  2.02it/s, epoch=3/10, avg_epoch_loss=5.85e+7]\n",
            "100%|██████████| 50/50 [00:24<00:00,  2.02it/s, epoch=4/10, avg_epoch_loss=2.74e+7]\n",
            "100%|██████████| 50/50 [00:24<00:00,  2.02it/s, epoch=5/10, avg_epoch_loss=1.2e+7] \n",
            "100%|██████████| 50/50 [00:24<00:00,  2.02it/s, epoch=6/10, avg_epoch_loss=6.57e+6]\n",
            "100%|██████████| 50/50 [00:24<00:00,  2.01it/s, epoch=7/10, avg_epoch_loss=4.15e+6]\n",
            "100%|██████████| 50/50 [00:24<00:00,  2.02it/s, epoch=8/10, avg_epoch_loss=2.91e+6]\n",
            "100%|██████████| 50/50 [00:24<00:00,  2.02it/s, epoch=9/10, avg_epoch_loss=1.68e+6]\n",
            "100%|██████████| 50/50 [00:24<00:00,  2.01it/s, epoch=10/10, avg_epoch_loss=5.93e+5]\n",
            "WARNING:root:Serializing RepresentableBlockPredictor instances does not save the prediction network structure in a backwards-compatible manner. Be careful not to use this method in production.\n"
          ]
        }
      ]
    },
    {
      "cell_type": "code",
      "source": [
        "# Evaluation for all test data\n",
        "forecast_it, ts_it = make_evaluation_predictions(\n",
        "    dataset=dataset.test, \n",
        "    predictor=DF_preditor, \n",
        "    num_samples=100, \n",
        ")\n",
        "\n",
        "forecasts = list(forecast_it)\n",
        "tss = list(ts_it)\n",
        "\n",
        "evaluator = Evaluator(quantiles=[0.1, 0.5, 0.9])"
      ],
      "metadata": {
        "id": "02rCqWifno9k"
      },
      "execution_count": 11,
      "outputs": []
    },
    {
      "cell_type": "code",
      "source": [
        "agg_metrics, item_metrics = evaluator(iter(tss), iter(forecasts), num_series=len(dataset.test))\n",
        "\n",
        "print(json.dumps(agg_metrics, indent=4))"
      ],
      "metadata": {
        "colab": {
          "base_uri": "https://localhost:8080/"
        },
        "id": "DJHlGpOzmdrt",
        "outputId": "309e7f1e-c631-41fd-80b4-c0bcd7e4ff82"
      },
      "execution_count": 12,
      "outputs": [
        {
          "output_type": "stream",
          "name": "stderr",
          "text": [
            "Running evaluation: 100%|██████████| 2247/2247 [00:00<00:00, 32727.72it/s]\n",
            "/usr/local/lib/python3.7/dist-packages/gluonts/evaluation/_base.py:353: RuntimeWarning: divide by zero encountered in float_scalars\n",
            "  float, metrics[\"abs_target_sum\"]\n"
          ]
        },
        {
          "output_type": "stream",
          "name": "stdout",
          "text": [
            "{\n",
            "    \"MSE\": 47901432.450204276,\n",
            "    \"abs_error\": 46742888.489993095,\n",
            "    \"abs_target_sum\": 128632956.0,\n",
            "    \"abs_target_mean\": 2385.272140631954,\n",
            "    \"seasonal_error\": 189.49338196116761,\n",
            "    \"MASE\": 3.3772847055112765,\n",
            "    \"MAPE\": 0.42889130047025065,\n",
            "    \"sMAPE\": 0.3423991491582906,\n",
            "    \"MSIS\": 123.2416490212608,\n",
            "    \"QuantileLoss[0.1]\": 34823777.33014339,\n",
            "    \"Coverage[0.1]\": 0.39704791573950454,\n",
            "    \"QuantileLoss[0.5]\": 46742888.62716517,\n",
            "    \"Coverage[0.5]\": 0.4246958908173861,\n",
            "    \"QuantileLoss[0.9]\": 58067823.314392194,\n",
            "    \"Coverage[0.9]\": 0.4566458982346833,\n",
            "    \"RMSE\": 6921.08607446868,\n",
            "    \"NRMSE\": 2.901591795993143,\n",
            "    \"ND\": 0.36338190416764654,\n",
            "    \"wQuantileLoss[0.1]\": 0.27072204832285274,\n",
            "    \"wQuantileLoss[0.5]\": 0.36338190523403013,\n",
            "    \"wQuantileLoss[0.9]\": 0.45142259899859716,\n",
            "    \"mean_absolute_QuantileLoss\": 46544829.75723358,\n",
            "    \"mean_wQuantileLoss\": 0.36184218418516,\n",
            "    \"MAE_Coverage\": 0.271902042229145,\n",
            "    \"OWA\": NaN\n",
            "}\n"
          ]
        },
        {
          "output_type": "stream",
          "name": "stderr",
          "text": [
            "/usr/local/lib/python3.7/dist-packages/pandas/core/construction.py:759: UserWarning: Warning: converting a masked element to nan.\n",
            "  subarr = np.array(arr, dtype=dtype, copy=copy)\n"
          ]
        }
      ]
    },
    {
      "cell_type": "code",
      "source": [
        "def plot_prob_forecasts(ts_entry, forecast_entry, plot_length=150, prediction_intervals = (10.0, 75.0, 90.0)):\n",
        "    \n",
        "    legend = [\"observations\", \"median prediction\"] + [f\"{k}% prediction interval\" for k in prediction_intervals][::-1]\n",
        "\n",
        "    fig, ax = plt.subplots(1, 1, figsize=(12, 7))\n",
        "    ts_entry[-plot_length:].plot(ax=ax)  # plot the time series\n",
        "    forecast_entry.plot(prediction_intervals=prediction_intervals, color='g')\n",
        "    plt.grid(which=\"both\")\n",
        "    plt.legend(legend, loc=\"upper left\")\n",
        "    plt.show()"
      ],
      "metadata": {
        "id": "SAsvA_j0pecV"
      },
      "execution_count": 15,
      "outputs": []
    },
    {
      "cell_type": "code",
      "source": [
        "for i in range(1):\n",
        "    plot_prob_forecasts(tss[i], forecasts[i], plot_length=dataset.metadata.prediction_length)"
      ],
      "metadata": {
        "colab": {
          "base_uri": "https://localhost:8080/",
          "height": 440
        },
        "id": "P7eBcqSappc-",
        "outputId": "e19f3509-48fc-4413-c246-d0e067c8b867"
      },
      "execution_count": 16,
      "outputs": [
        {
          "output_type": "display_data",
          "data": {
            "text/plain": [
              "<Figure size 864x504 with 1 Axes>"
            ],
            "image/png": "[encoded data removed]"
          },
          "metadata": {
            "needs_background": "light"
          }
        }
      ]
    },
    {
      "cell_type": "code",
      "source": [
        "# 修改\n",
        "\n",
        "# Copyright 2018 Amazon.com, Inc. or its affiliates. All Rights Reserved.\n",
        "#\n",
        "# Licensed under the Apache License, Version 2.0 (the \"License\").\n",
        "# You may not use this file except in compliance with the License.\n",
        "# A copy of the License is located at\n",
        "#\n",
        "#     http://www.apache.org/licenses/LICENSE-2.0\n",
        "#\n",
        "# or in the \"license\" file accompanying this file. This file is distributed\n",
        "# on an \"AS IS\" BASIS, WITHOUT WARRANTIES OR CONDITIONS OF ANY KIND, either\n",
        "# express or implied. See the License for the specific language governing\n",
        "# permissions and limitations under the License.\n",
        "\n",
        "from functools import partial\n",
        "from typing import List, Optional\n",
        "\n",
        "from gluonts import transform\n",
        "from gluonts.core.component import validated\n",
        "from gluonts.dataset.common import Dataset\n",
        "from gluonts.dataset.field_names import FieldName\n",
        "from gluonts.dataset.loader import (\n",
        "    DataLoader,\n",
        "    TrainDataLoader,\n",
        "    ValidationDataLoader,\n",
        ")\n",
        "from gluonts.env import env\n",
        "from gluonts.model.predictor import Predictor\n",
        "from gluonts.mx.batchify import batchify\n",
        "from gluonts.mx.block.feature import FeatureEmbedder\n",
        "from gluonts.mx.distribution import DistributionOutput, StudentTOutput\n",
        "from gluonts.mx.model.estimator import GluonEstimator\n",
        "from gluonts.mx.model.predictor import RepresentableBlockPredictor\n",
        "from gluonts.mx.trainer import Trainer\n",
        "from gluonts.mx.util import get_hybrid_forward_input_names\n",
        "from gluonts.itertools import maybe_len\n",
        "from gluonts.time_feature import time_features_from_frequency_str\n",
        "from gluonts.transform import (\n",
        "    AddTimeFeatures,\n",
        "    AsNumpyArray,\n",
        "    Chain,\n",
        "    SelectFields,\n",
        "    SetFieldIfNotPresent,\n",
        "    TestSplitSampler,\n",
        "    Transformation,\n",
        ")\n",
        "\n",
        "from gluonts.model.deep_factor.RNNModel import RNNModel\n",
        "from gluonts.model.deep_factor._network import (\n",
        "    DeepFactorTrainingNetwork,\n",
        "    DeepFactorPredictionNetwork,\n",
        ")\n",
        "\n",
        "\n",
        "class custom_DeepFactorEstimator(GluonEstimator):\n",
        "    r\"\"\"\n",
        "    DeepFactorEstimator is an implementation of the 2019 ICML paper \"Deep\n",
        "    Factors for Forecasting\" https://arxiv.org/abs/1905.12417.  It uses a\n",
        "    global RNN model to learn patterns across multiple related time series and\n",
        "    an arbitrary local model to model the time series on a per time series\n",
        "    basis.  In the current implementation, the local model is a RNN (DF-RNN).\n",
        "    Parameters\n",
        "    ----------\n",
        "    freq\n",
        "        Time series frequency.\n",
        "    prediction_length\n",
        "        Prediction length.\n",
        "    num_hidden_global\n",
        "        Number of units per hidden layer for the global RNN model\n",
        "        (default: 50).\n",
        "    num_layers_global\n",
        "        Number of hidden layers for the global RNN model (default: 1).\n",
        "    num_factors\n",
        "        Number of global factors (default: 10).\n",
        "    num_hidden_local\n",
        "        Number of units per hidden layer for the local RNN model (default: 5).\n",
        "    num_layers_local\n",
        "        Number of hidden layers for the global local model (default: 1).\n",
        "    cell_type\n",
        "        Type of recurrent cells to use (available: 'lstm' or 'gru';\n",
        "        default: 'lstm').\n",
        "    trainer\n",
        "        Trainer object to be used (default: Trainer()).\n",
        "    context_length\n",
        "        Training length (default: None, in which case context_length =\n",
        "        prediction_length).\n",
        "    num_parallel_samples\n",
        "        Number of evaluation samples per time series to increase parallelism\n",
        "        during inference. This is a model optimization that does not affect the\n",
        "        accuracy (default: 100).\n",
        "    cardinality\n",
        "        List consisting of the number of time series (default: list([1]).\n",
        "    embedding_dimension\n",
        "        Dimension of the embeddings for categorical features (the same\n",
        "        dimension is used for all embeddings, default: 10).\n",
        "    distr_output\n",
        "        Distribution to use to evaluate observations and sample predictions\n",
        "        (default: StudentTOutput()).\n",
        "    batch_size\n",
        "        The size of the batches to be used training and prediction.\n",
        "    \"\"\"\n",
        "\n",
        "    @validated()\n",
        "    def __init__(\n",
        "        self,\n",
        "        freq: str,\n",
        "        prediction_length: int,\n",
        "        num_hidden_global: int = 50,\n",
        "        num_layers_global: int = 1,\n",
        "        num_factors: int = 10,\n",
        "        num_hidden_local: int = 5,\n",
        "        num_layers_local: int = 1,\n",
        "        cell_type: str = \"lstm\",\n",
        "        trainer: Trainer = Trainer(),\n",
        "        context_length: Optional[int] = None,\n",
        "        num_parallel_samples: int = 100,\n",
        "        cardinality: List[int] = list([1]),\n",
        "        embedding_dimension: int = 10,\n",
        "        distr_output: DistributionOutput = StudentTOutput(),\n",
        "        batch_size: int = 32,\n",
        "    ) -> None:\n",
        "        super().__init__(trainer=trainer, batch_size=batch_size)\n",
        "\n",
        "        assert (\n",
        "            prediction_length > 0\n",
        "        ), \"The value of `prediction_length` should be > 0\"\n",
        "        assert (\n",
        "            context_length is None or context_length > 0\n",
        "        ), \"The value of `context_length` should be > 0\"\n",
        "        assert num_layers_global > 0, \"The value of `num_layers` should be > 0\"\n",
        "        assert num_hidden_global > 0, \"The value of `num_hidden` should be > 0\"\n",
        "        assert num_factors > 0, \"The value of `num_factors` should be > 0\"\n",
        "        assert (\n",
        "            num_hidden_local > 0\n",
        "        ), \"The value of `num_hidden_local` should be > 0\"\n",
        "        assert (\n",
        "            num_layers_local > 0\n",
        "        ), \"The value of `num_layers_local` should be > 0\"\n",
        "        assert all(\n",
        "            [c > 0 for c in cardinality]\n",
        "        ), \"Elements of `cardinality` should be > 0\"\n",
        "        assert (\n",
        "            embedding_dimension > 0\n",
        "        ), \"The value of `embedding_dimension` should be > 0\"\n",
        "        assert (\n",
        "            num_parallel_samples > 0\n",
        "        ), \"The value of `num_parallel_samples` should be > 0\"\n",
        "\n",
        "        self.freq = freq\n",
        "        self.context_length = (\n",
        "            context_length if context_length is not None else prediction_length\n",
        "        )\n",
        "        self.prediction_length = prediction_length\n",
        "        self.distr_output = distr_output\n",
        "        self.num_parallel_samples = num_parallel_samples\n",
        "        self.cardinality = cardinality\n",
        "        self.embedding_dimensions = [embedding_dimension for _ in cardinality]\n",
        "\n",
        "        self.global_model = RNNModel(\n",
        "            mode=cell_type,\n",
        "            num_hidden=num_hidden_global,\n",
        "            num_layers=num_layers_global,\n",
        "            num_output=num_factors,\n",
        "        )\n",
        "\n",
        "        # TODO: Allow the local model to be defined as an arbitrary local\n",
        "        # model, e.g. DF-GP and DF-LDS\n",
        "        self.local_model = RNNModel(\n",
        "            mode=cell_type,\n",
        "            num_hidden=num_hidden_local,\n",
        "            num_layers=num_layers_local,\n",
        "            num_output=1,\n",
        "        )\n",
        "\n",
        "    def create_transformation(self) -> Transformation:\n",
        "        return Chain(\n",
        "            trans=[\n",
        "                AsNumpyArray(field=FieldName.TARGET, expected_ndim=1),\n",
        "                AddTimeFeatures(\n",
        "                    start_field=FieldName.START,\n",
        "                    target_field=FieldName.TARGET,\n",
        "                    output_field=FieldName.FEAT_TIME,\n",
        "                    time_features=time_features_from_frequency_str(self.freq),\n",
        "                    pred_length=self.prediction_length,\n",
        "                ),\n",
        "                SetFieldIfNotPresent(\n",
        "                    field=FieldName.FEAT_STATIC_CAT, value=[0.0]\n",
        "                ),\n",
        "                AsNumpyArray(field=FieldName.FEAT_STATIC_CAT, expected_ndim=1),\n",
        "            ]\n",
        "        )\n",
        "\n",
        "    def _create_instance_splitter(self, mode: str):\n",
        "        return transform.InstanceSplitter(\n",
        "            target_field=FieldName.TARGET,\n",
        "            is_pad_field=FieldName.IS_PAD,\n",
        "            start_field=FieldName.START,\n",
        "            forecast_start_field=FieldName.FORECAST_START,\n",
        "            instance_sampler=TestSplitSampler(),\n",
        "            time_series_fields=[FieldName.FEAT_TIME],\n",
        "            past_length=self.context_length,\n",
        "            future_length=self.prediction_length,\n",
        "        )\n",
        "\n",
        "    def create_training_data_loader(\n",
        "        self,\n",
        "        data: Dataset,\n",
        "        **kwargs,\n",
        "    ) -> DataLoader:\n",
        "        input_names = get_hybrid_forward_input_names(DeepFactorTrainingNetwork)\n",
        "        with env._let(max_idle_transforms=maybe_len(data) or 0):\n",
        "            instance_splitter = self._create_instance_splitter(\"training\")\n",
        "        return TrainDataLoader(\n",
        "            dataset=data,\n",
        "            transform=instance_splitter + SelectFields(input_names),\n",
        "            batch_size=self.batch_size,\n",
        "            stack_fn=partial(batchify, ctx=self.trainer.ctx, dtype=self.dtype),\n",
        "            **kwargs,\n",
        "        )\n",
        "\n",
        "    def create_validation_data_loader(\n",
        "        self,\n",
        "        data: Dataset,\n",
        "        **kwargs,\n",
        "    ) -> DataLoader:\n",
        "        input_names = get_hybrid_forward_input_names(DeepFactorTrainingNetwork)\n",
        "        with env._let(max_idle_transforms=maybe_len(data) or 0):\n",
        "            instance_splitter = self._create_instance_splitter(\"validation\")\n",
        "        return ValidationDataLoader(\n",
        "            dataset=data,\n",
        "            transform=instance_splitter + SelectFields(input_names),\n",
        "            batch_size=self.batch_size,\n",
        "            stack_fn=partial(batchify, ctx=self.trainer.ctx, dtype=self.dtype),\n",
        "        )\n",
        "\n",
        "    def create_training_network(self) -> DeepFactorTrainingNetwork:\n",
        "        return DeepFactorTrainingNetwork(\n",
        "            embedder=FeatureEmbedder(\n",
        "                cardinalities=self.cardinality,\n",
        "                embedding_dims=self.embedding_dimensions,\n",
        "            ),\n",
        "            global_model=self.global_model,\n",
        "            local_model=self.local_model,\n",
        "        )\n",
        "\n",
        "    def create_predictor(\n",
        "        self,\n",
        "        transformation: Transformation,\n",
        "        trained_network: DeepFactorTrainingNetwork,\n",
        "    ) -> Predictor:\n",
        "        prediction_splitter = self._create_instance_splitter(\"test\")\n",
        "\n",
        "        prediction_net = DeepFactorPredictionNetwork(\n",
        "            embedder=trained_network.embedder,\n",
        "            global_model=trained_network.global_model,\n",
        "            local_model=trained_network.local_model,\n",
        "            prediction_len=self.prediction_length,\n",
        "            num_parallel_samples=self.num_parallel_samples,\n",
        "            params=trained_network.collect_params(),\n",
        "        )\n",
        "\n",
        "        return RepresentableBlockPredictor(\n",
        "            input_transform=transformation + prediction_splitter,\n",
        "            prediction_net=prediction_net,\n",
        "            batch_size=self.batch_size,\n",
        "            prediction_length=self.prediction_length,\n",
        "            ctx=self.trainer.ctx,\n",
        "        )"
      ],
      "metadata": {
        "id": "BVr4QvfSqkcp"
      },
      "execution_count": 22,
      "outputs": []
    },
    {
      "cell_type": "code",
      "source": [
        "# https://gluon-ts.mxnet.io/api/gluonts/gluonts.model.deep_factor.html\n",
        "DF_estimator = custom_DeepFactorEstimator(\n",
        "    freq=dataset.metadata.freq, # Time series frequency\n",
        "    prediction_length=dataset.metadata.prediction_length, # Prediction length.\n",
        "    num_hidden_global=50, # (default: 50).\n",
        "    num_layers_global=1, # (default: 1).\n",
        "    num_factors=10, # (default: 10).\n",
        "    num_hidden_local=5, # (default: 5).\n",
        "    num_layers_local=1, # (default: 1).\n",
        "    cell_type='lstm', # (default: ‘lstm’).\n",
        "    trainer = deepfactor_trainer, # (default: Trainer()).\n",
        "    context_length=168, # (default: None, in which case context_length = prediction_length).\n",
        "    num_parallel_samples=100, # (default: 100).\n",
        "    cardinality=[int(dataset.metadata.feat_static_cat[0].cardinality)], # (default: list([1]).\n",
        "    embedding_dimension=10, # (default: 10).\n",
        "    #distr_output=StudentTOutput(), # (default: StudentTOutput()).\n",
        ")"
      ],
      "metadata": {
        "id": "hg7Ab1rRqw1i"
      },
      "execution_count": 23,
      "outputs": []
    },
    {
      "cell_type": "code",
      "source": [
        "DF_predictor = DF_estimator.train(dataset.train)\n",
        "# improve"
      ],
      "metadata": {
        "colab": {
          "base_uri": "https://localhost:8080/"
        },
        "id": "8PGradJaqCaY",
        "outputId": "edb58c97-2446-4459-8c9d-ea2ea4cfe361"
      },
      "execution_count": 24,
      "outputs": [
        {
          "output_type": "stream",
          "name": "stderr",
          "text": [
            "100%|██████████| 50/50 [00:24<00:00,  2.04it/s, epoch=1/10, avg_epoch_loss=1.23e+8]\n",
            "100%|██████████| 50/50 [00:25<00:00,  1.95it/s, epoch=2/10, avg_epoch_loss=6.11e+7]\n",
            "100%|██████████| 50/50 [00:24<00:00,  2.03it/s, epoch=3/10, avg_epoch_loss=3.19e+7]\n",
            "100%|██████████| 50/50 [00:24<00:00,  2.04it/s, epoch=4/10, avg_epoch_loss=1.16e+7]\n",
            "100%|██████████| 50/50 [00:24<00:00,  2.03it/s, epoch=5/10, avg_epoch_loss=5.97e+6]\n",
            "100%|██████████| 50/50 [00:26<00:00,  1.87it/s, epoch=6/10, avg_epoch_loss=3.72e+6]\n",
            "100%|██████████| 50/50 [00:24<00:00,  2.03it/s, epoch=7/10, avg_epoch_loss=2.24e+6]\n",
            "100%|██████████| 50/50 [00:25<00:00,  1.98it/s, epoch=8/10, avg_epoch_loss=8e+5]   \n",
            "100%|██████████| 50/50 [00:24<00:00,  2.03it/s, epoch=9/10, avg_epoch_loss=6.04e+5]\n",
            "100%|██████████| 50/50 [00:24<00:00,  2.03it/s, epoch=10/10, avg_epoch_loss=4.85e+5]\n"
          ]
        }
      ]
    },
    {
      "cell_type": "code",
      "source": [
        "# Evaluation for all test data\n",
        "forecast_it, ts_it = make_evaluation_predictions(\n",
        "    dataset=dataset.test, \n",
        "    predictor=DF_predictor, \n",
        "    num_samples=100, \n",
        ")\n",
        "\n",
        "forecasts = list(forecast_it)\n",
        "tss = list(ts_it)\n",
        "\n",
        "evaluator = Evaluator(quantiles=[0.1, 0.5, 0.9])\n",
        "agg_metrics, item_metrics = evaluator(iter(tss), iter(forecasts), num_series=len(dataset.test))\n",
        "\n",
        "print(json.dumps(agg_metrics, indent=4))"
      ],
      "metadata": {
        "colab": {
          "base_uri": "https://localhost:8080/"
        },
        "id": "HxepXxjdrOxM",
        "outputId": "994bf87d-094c-4dd8-b03a-337687550d7f"
      },
      "execution_count": 25,
      "outputs": [
        {
          "output_type": "stream",
          "name": "stderr",
          "text": [
            "Running evaluation: 100%|██████████| 2247/2247 [00:00<00:00, 28697.49it/s]\n",
            "/usr/local/lib/python3.7/dist-packages/gluonts/evaluation/_base.py:353: RuntimeWarning: divide by zero encountered in float_scalars\n",
            "  float, metrics[\"abs_target_sum\"]\n"
          ]
        },
        {
          "output_type": "stream",
          "name": "stdout",
          "text": [
            "{\n",
            "    \"MSE\": 49908790.887982406,\n",
            "    \"abs_error\": 47600552.14626694,\n",
            "    \"abs_target_sum\": 128632956.0,\n",
            "    \"abs_target_mean\": 2385.272140631954,\n",
            "    \"seasonal_error\": 189.49338196116761,\n",
            "    \"MASE\": 3.3860095131290113,\n",
            "    \"MAPE\": 0.41516170012069536,\n",
            "    \"sMAPE\": 0.3427603599305783,\n",
            "    \"MSIS\": 123.99430669699711,\n",
            "    \"QuantileLoss[0.1]\": 33187447.248841744,\n",
            "    \"Coverage[0.1]\": 0.3909101023587005,\n",
            "    \"QuantileLoss[0.5]\": 47600551.84650176,\n",
            "    \"Coverage[0.5]\": 0.42349058003263607,\n",
            "    \"QuantileLoss[0.9]\": 61415228.17308751,\n",
            "    \"Coverage[0.9]\": 0.45601542797804473,\n",
            "    \"RMSE\": 7064.6154097716035,\n",
            "    \"NRMSE\": 2.9617649447328493,\n",
            "    \"ND\": 0.37004943077158964,\n",
            "    \"wQuantileLoss[0.1]\": 0.2580011241352624,\n",
            "    \"wQuantileLoss[0.5]\": 0.3700494284411979,\n",
            "    \"wQuantileLoss[0.9]\": 0.4774455169411446,\n",
            "    \"mean_absolute_QuantileLoss\": 47401075.75614367,\n",
            "    \"mean_wQuantileLoss\": 0.3684986898392017,\n",
            "    \"MAE_Coverage\": 0.2704680314493399,\n",
            "    \"OWA\": NaN\n",
            "}\n"
          ]
        },
        {
          "output_type": "stream",
          "name": "stderr",
          "text": [
            "/usr/local/lib/python3.7/dist-packages/pandas/core/construction.py:759: UserWarning: Warning: converting a masked element to nan.\n",
            "  subarr = np.array(arr, dtype=dtype, copy=copy)\n"
          ]
        }
      ]
    },
    {
      "cell_type": "code",
      "source": [
        "for i in range(1):\n",
        "    plot_prob_forecasts(tss[i], forecasts[i], plot_length=dataset.metadata.prediction_length)"
      ],
      "metadata": {
        "colab": {
          "base_uri": "https://localhost:8080/",
          "height": 440
        },
        "id": "8HvQynf1sbAE",
        "outputId": "e515f9e2-02e8-4874-a39c-dafbca5f0991"
      },
      "execution_count": 26,
      "outputs": [
        {
          "output_type": "display_data",
          "data": {
            "text/plain": [
              "<Figure size 864x504 with 1 Axes>"
            ],
            "image/png": "[encoded data removed]"
          },
          "metadata": {
            "needs_background": "light"
          }
        }
      ]
    },
    {
      "cell_type": "markdown",
      "source": [
        "# gluonTS_lagged_value_share.ipynb"
      ],
      "metadata": {
        "id": "cNgf0UQCtKjy"
      }
    },
    {
      "cell_type": "code",
      "source": [
        "from pandas.tseries.frequencies import to_offset\n",
        "import numpy as np"
      ],
      "metadata": {
        "id": "DE5o-vM-s6In"
      },
      "execution_count": 27,
      "outputs": []
    },
    {
      "cell_type": "code",
      "source": [
        "def _make_lags(middle: int, delta: int) -> np.ndarray:\n",
        "    \"\"\"\n",
        "    Create a set of lags around a middle point including +/- delta\n",
        "    \"\"\"\n",
        "    return np.arange(middle - delta, middle + delta + 1).tolist()"
      ],
      "metadata": {
        "id": "3EmMWRettMmz"
      },
      "execution_count": 28,
      "outputs": []
    },
    {
      "cell_type": "code",
      "source": [
        "# Lags are target values at the same `season` (+/- delta) but in the previous cycle.\n",
        "def _make_lags_for_minute(multiple, num_cycles=3):\n",
        "    # We use previous ``num_cycles`` hours to generate lags\n",
        "    return [\n",
        "        _make_lags(k * 60 // multiple, 2) for k in range(1, num_cycles + 1)\n",
        "    ]\n",
        "\n",
        "def _make_lags_for_hour(multiple, num_cycles=7):\n",
        "    # We use previous ``num_cycles`` days to generate lags\n",
        "    return [\n",
        "        _make_lags(k * 24 // multiple, 1) for k in range(1, num_cycles + 1)\n",
        "    ]\n",
        "\n",
        "def _make_lags_for_day(multiple, num_cycles=4):\n",
        "    # We use previous ``num_cycles`` weeks to generate lags\n",
        "    # We use the last month (in addition to 4 weeks) to generate lag.\n",
        "    return [\n",
        "        _make_lags(k * 7 // multiple, 1) for k in range(1, num_cycles + 1)\n",
        "    ] + [_make_lags(30 // multiple, 1)]\n",
        "\n",
        "def _make_lags_for_week(multiple, num_cycles=3):\n",
        "    # We use previous ``num_cycles`` years to generate lags\n",
        "    # Additionally, we use previous 4, 8, 12 weeks\n",
        "    return [\n",
        "        _make_lags(k * 52 // multiple, 1) for k in range(1, num_cycles + 1)\n",
        "    ] + [[4 // multiple, 8 // multiple, 12 // multiple]]\n",
        "\n",
        "def _make_lags_for_month(multiple, num_cycles=3):\n",
        "    # We use previous ``num_cycles`` years to generate lags\n",
        "    return [\n",
        "        _make_lags(k * 12 // multiple, 1) for k in range(1, num_cycles + 1)\n",
        "    ]"
      ],
      "metadata": {
        "id": "KdG4dFbrtOR6"
      },
      "execution_count": 29,
      "outputs": []
    },
    {
      "cell_type": "code",
      "source": [
        "freq_str = '5min'"
      ],
      "metadata": {
        "id": "zsI4HeBYtQK6"
      },
      "execution_count": 30,
      "outputs": []
    },
    {
      "cell_type": "code",
      "source": [
        "# multiple, granularity = get_granularity(freq_str)\n",
        "offset = to_offset(freq_str)# pandas 함수, to_offset('5min') -> <5 * Minutes>"
      ],
      "metadata": {
        "id": "Qnup0EI1tRj_"
      },
      "execution_count": 31,
      "outputs": []
    },
    {
      "cell_type": "code",
      "source": [
        "lags = (\n",
        "            _make_lags_for_minute(offset.n)\n",
        "            + _make_lags_for_hour(offset.n / 60.0)\n",
        "            + _make_lags_for_day(offset.n / (60.0 * 24))\n",
        "            + _make_lags_for_week(offset.n / (60.0 * 24 * 7))\n",
        "        )"
      ],
      "metadata": {
        "id": "vNUGwH9etSu4"
      },
      "execution_count": 32,
      "outputs": []
    },
    {
      "cell_type": "code",
      "source": [
        "lags"
      ],
      "metadata": {
        "colab": {
          "base_uri": "https://localhost:8080/"
        },
        "id": "6lTfK5RStUB2",
        "outputId": "2de01fc8-873c-4fa6-a6cd-001d99df9ccd"
      },
      "execution_count": 33,
      "outputs": [
        {
          "output_type": "execute_result",
          "data": {
            "text/plain": [
              "[[10, 11, 12, 13, 14],\n",
              " [22, 23, 24, 25, 26],\n",
              " [34, 35, 36, 37, 38],\n",
              " [287.0, 288.0, 289.0],\n",
              " [575.0, 576.0, 577.0],\n",
              " [863.0, 864.0, 865.0],\n",
              " [1151.0, 1152.0, 1153.0],\n",
              " [1439.0, 1440.0, 1441.0],\n",
              " [1727.0, 1728.0, 1729.0],\n",
              " [2015.0, 2016.0, 2017.0],\n",
              " [2015.0, 2016.0, 2017.0],\n",
              " [4031.0, 4032.0, 4033.0],\n",
              " [6047.0, 6048.0, 6049.0],\n",
              " [8063.0, 8064.0, 8065.0],\n",
              " [8639.0, 8640.0, 8641.0],\n",
              " [104831.0, 104832.0, 104833.0],\n",
              " [209663.0, 209664.0, 209665.0],\n",
              " [314495.0, 314496.0, 314497.0],\n",
              " [8064.0, 16128.0, 24192.0]]"
            ]
          },
          "metadata": {},
          "execution_count": 33
        }
      ]
    },
    {
      "cell_type": "code",
      "source": [
        "def _make_lags_for_minute(multiple, num_cycles=3):\n",
        "    # We use previous ``num_cycles`` hours to generate lags\n",
        "    return [\n",
        "        _make_lags(k * 60 // multiple, 2) for k in range(1, num_cycles + 1)\n",
        "    ]\n",
        "\n",
        "print (offset.n) \n",
        "print ([(k * 60 // offset.n, 2) for k in range(1, 3 + 1)])\n",
        "print ()\n",
        "\n",
        "print (_make_lags_for_minute(offset.n)) "
      ],
      "metadata": {
        "colab": {
          "base_uri": "https://localhost:8080/"
        },
        "id": "RezYkFPItXps",
        "outputId": "21c0e61f-7a96-459f-e027-f3fa747bf0e9"
      },
      "execution_count": 34,
      "outputs": [
        {
          "output_type": "stream",
          "name": "stdout",
          "text": [
            "5\n",
            "[(12, 2), (24, 2), (36, 2)]\n",
            "\n",
            "[[10, 11, 12, 13, 14], [22, 23, 24, 25, 26], [34, 35, 36, 37, 38]]\n"
          ]
        }
      ]
    },
    {
      "cell_type": "code",
      "source": [
        "def _make_lags_for_hour(multiple, num_cycles=7):\n",
        "    # We use previous ``num_cycles`` days to generate lags\n",
        "    return [\n",
        "        _make_lags(k * 24 // multiple, 1) for k in range(1, num_cycles + 1)\n",
        "    ]\n",
        "multiple = offset.n / 60.0 #(h)\n",
        "num_cycles=7\n",
        "print (multiple)\n",
        "print ([(k * 24 // multiple, 1) for k in range(1, num_cycles + 1)])\n",
        "print ([((k * 5 * 24 // multiple)/(60*24)  , 1) for k in range(1, num_cycles + 1)])\n",
        "_make_lags_for_hour(offset.n / 60.0) "
      ],
      "metadata": {
        "colab": {
          "base_uri": "https://localhost:8080/"
        },
        "id": "QLlXmnZ4tZTy",
        "outputId": "541a88ad-a241-4374-f638-13329600cc7d"
      },
      "execution_count": 35,
      "outputs": [
        {
          "output_type": "stream",
          "name": "stdout",
          "text": [
            "0.08333333333333333\n",
            "[(288.0, 1), (576.0, 1), (864.0, 1), (1152.0, 1), (1440.0, 1), (1728.0, 1), (2016.0, 1)]\n",
            "[(1.0, 1), (2.0, 1), (3.0, 1), (4.0, 1), (5.0, 1), (6.0, 1), (7.0, 1)]\n"
          ]
        },
        {
          "output_type": "execute_result",
          "data": {
            "text/plain": [
              "[[287.0, 288.0, 289.0],\n",
              " [575.0, 576.0, 577.0],\n",
              " [863.0, 864.0, 865.0],\n",
              " [1151.0, 1152.0, 1153.0],\n",
              " [1439.0, 1440.0, 1441.0],\n",
              " [1727.0, 1728.0, 1729.0],\n",
              " [2015.0, 2016.0, 2017.0]]"
            ]
          },
          "metadata": {},
          "execution_count": 35
        }
      ]
    },
    {
      "cell_type": "code",
      "source": [
        "def _make_lags_for_day(multiple, num_cycles=4):\n",
        "    # We use previous ``num_cycles`` weeks to generate lags\n",
        "    # We use the last month (in addition to 4 weeks) to generate lag.\n",
        "    return [\n",
        "        _make_lags(k * 7 // multiple, 1) for k in range(1, num_cycles + 1)\n",
        "    ] + [_make_lags(30 // multiple, 1)]\n",
        "\n",
        "multiple = offset.n / (60.0 * 24)\n",
        "num_cycles=4\n",
        "print (multiple)\n",
        "print ([(k * 7 // multiple, 1) for k in range(1, num_cycles + 1)])   \n",
        "\n",
        "_make_lags_for_day(offset.n / (60.0 * 24))"
      ],
      "metadata": {
        "colab": {
          "base_uri": "https://localhost:8080/"
        },
        "id": "5HEp5sXAtdYP",
        "outputId": "d27a09f7-ae6c-4d1b-cc27-1efcf5603576"
      },
      "execution_count": 36,
      "outputs": [
        {
          "output_type": "stream",
          "name": "stdout",
          "text": [
            "0.003472222222222222\n",
            "[(2016.0, 1), (4032.0, 1), (6048.0, 1), (8064.0, 1)]\n"
          ]
        },
        {
          "output_type": "execute_result",
          "data": {
            "text/plain": [
              "[[2015.0, 2016.0, 2017.0],\n",
              " [4031.0, 4032.0, 4033.0],\n",
              " [6047.0, 6048.0, 6049.0],\n",
              " [8063.0, 8064.0, 8065.0],\n",
              " [8639.0, 8640.0, 8641.0]]"
            ]
          },
          "metadata": {},
          "execution_count": 36
        }
      ]
    },
    {
      "cell_type": "code",
      "source": [
        "def _make_lags_for_week(multiple, num_cycles=3):\n",
        "    # We use previous ``num_cycles`` years to generate lags\n",
        "    # Additionally, we use previous 4, 8, 12 weeks\n",
        "    return [\n",
        "        _make_lags(k * 52 // multiple, 1) for k in range(1, num_cycles + 1)\n",
        "    ] + [[4 // multiple, 8 // multiple, 12 // multiple]]\n",
        "\n",
        "multiple = offset.n / (60.0 * 24 * 7)\n",
        "num_cycles=3\n",
        "print (multiple)\n",
        "print ([(k * 52 // multiple, 1) for k in range(1, num_cycles + 1)])  \n",
        "\n",
        "_make_lags_for_week(offset.n / (60.0 * 24 * 7))"
      ],
      "metadata": {
        "colab": {
          "base_uri": "https://localhost:8080/"
        },
        "id": "YSCXgbA6tg2X",
        "outputId": "128a9ea0-7e62-485a-ee19-4cebd16ea683"
      },
      "execution_count": 37,
      "outputs": [
        {
          "output_type": "stream",
          "name": "stdout",
          "text": [
            "0.000496031746031746\n",
            "[(104832.0, 1), (209664.0, 1), (314496.0, 1)]\n"
          ]
        },
        {
          "output_type": "execute_result",
          "data": {
            "text/plain": [
              "[[104831.0, 104832.0, 104833.0],\n",
              " [209663.0, 209664.0, 209665.0],\n",
              " [314495.0, 314496.0, 314497.0],\n",
              " [8064.0, 16128.0, 24192.0]]"
            ]
          },
          "metadata": {},
          "execution_count": 37
        }
      ]
    },
    {
      "cell_type": "code",
      "source": [
        "#get_lagged_subseuences\n",
        "\n",
        "\n",
        "# https://github.com/iskra3138/GluonTS/blob/master/gluonTS_lagged_value_share.ipynb"
      ],
      "metadata": {
        "id": "v1YVIgDwtjUC"
      },
      "execution_count": null,
      "outputs": []
    }
  ]
}