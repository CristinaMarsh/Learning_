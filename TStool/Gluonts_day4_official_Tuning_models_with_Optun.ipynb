{
  "nbformat": 4,
  "nbformat_minor": 0,
  "metadata": {
    "colab": {
      "name": "Gluonts_day4_official_Tuning models with Optun.ipynb",
      "provenance": [],
      "authorship_tag": "ABX9TyOq8zoFKeZhgc3uKCJuXbzk",
      "include_colab_link": true
    },
    "kernelspec": {
      "name": "python3",
      "display_name": "Python 3"
    },
    "language_info": {
      "name": "python"
    }
  },
  "cells": [
    {
      "cell_type": "markdown",
      "metadata": {
        "id": "view-in-github",
        "colab_type": "text"
      },
      "source": [
        "<a href=\"https://colab.research.google.com/github/CristinaMarsh/Learning_/blob/main/TStool/Gluonts_day4_official_Tuning_models_with_Optun.ipynb\" target=\"_parent\"><img src=\"https://colab.research.google.com/assets/colab-badge.svg\" alt=\"Open In Colab\"/></a>"
      ]
    },
    {
      "cell_type": "code",
      "execution_count": 1,
      "metadata": {
        "colab": {
          "base_uri": "https://localhost:8080/"
        },
        "id": "YfLnXeuIdxMW",
        "outputId": "f746a693-15a4-4a50-b347-0200d20fd3e0"
      },
      "outputs": [
        {
          "output_type": "stream",
          "name": "stdout",
          "text": [
            "Looking in indexes: https://pypi.org/simple, https://us-python.pkg.dev/colab-wheels/public/simple/\n",
            "Collecting gluonts\n",
            "  Downloading gluonts-0.10.0-py3-none-any.whl (2.5 MB)\n",
            "\u001b[K     |████████████████████████████████| 2.5 MB 16.9 MB/s \n",
            "\u001b[?25hRequirement already satisfied: toolz~=0.10 in /usr/local/lib/python3.7/dist-packages (from gluonts) (0.11.2)\n",
            "Requirement already satisfied: tqdm~=4.23 in /usr/local/lib/python3.7/dist-packages (from gluonts) (4.64.0)\n",
            "Requirement already satisfied: pydantic~=1.7 in /usr/local/lib/python3.7/dist-packages (from gluonts) (1.8.2)\n",
            "Requirement already satisfied: matplotlib~=3.0 in /usr/local/lib/python3.7/dist-packages (from gluonts) (3.2.2)\n",
            "Requirement already satisfied: typing-extensions~=4.0 in /usr/local/lib/python3.7/dist-packages (from gluonts) (4.1.1)\n",
            "Requirement already satisfied: holidays>=0.9 in /usr/local/lib/python3.7/dist-packages (from gluonts) (0.10.5.2)\n",
            "Requirement already satisfied: pandas~=1.0 in /usr/local/lib/python3.7/dist-packages (from gluonts) (1.3.5)\n",
            "Requirement already satisfied: numpy~=1.16 in /usr/local/lib/python3.7/dist-packages (from gluonts) (1.21.6)\n",
            "Requirement already satisfied: convertdate>=2.3.0 in /usr/local/lib/python3.7/dist-packages (from holidays>=0.9->gluonts) (2.4.0)\n",
            "Requirement already satisfied: hijri-converter in /usr/local/lib/python3.7/dist-packages (from holidays>=0.9->gluonts) (2.2.4)\n",
            "Requirement already satisfied: python-dateutil in /usr/local/lib/python3.7/dist-packages (from holidays>=0.9->gluonts) (2.8.2)\n",
            "Requirement already satisfied: six in /usr/local/lib/python3.7/dist-packages (from holidays>=0.9->gluonts) (1.15.0)\n",
            "Requirement already satisfied: korean-lunar-calendar in /usr/local/lib/python3.7/dist-packages (from holidays>=0.9->gluonts) (0.2.1)\n",
            "Requirement already satisfied: pymeeus<=1,>=0.3.13 in /usr/local/lib/python3.7/dist-packages (from convertdate>=2.3.0->holidays>=0.9->gluonts) (0.5.11)\n",
            "Requirement already satisfied: cycler>=0.10 in /usr/local/lib/python3.7/dist-packages (from matplotlib~=3.0->gluonts) (0.11.0)\n",
            "Requirement already satisfied: kiwisolver>=1.0.1 in /usr/local/lib/python3.7/dist-packages (from matplotlib~=3.0->gluonts) (1.4.3)\n",
            "Requirement already satisfied: pyparsing!=2.0.4,!=2.1.2,!=2.1.6,>=2.0.1 in /usr/local/lib/python3.7/dist-packages (from matplotlib~=3.0->gluonts) (3.0.9)\n",
            "Requirement already satisfied: pytz>=2017.3 in /usr/local/lib/python3.7/dist-packages (from pandas~=1.0->gluonts) (2022.1)\n",
            "Installing collected packages: gluonts\n",
            "Successfully installed gluonts-0.10.0\n",
            "Looking in indexes: https://pypi.org/simple, https://us-python.pkg.dev/colab-wheels/public/simple/\n",
            "Collecting mxnet-cu101\n",
            "  Downloading mxnet_cu101-1.9.1-py3-none-manylinux2014_x86_64.whl (360.0 MB)\n",
            "\u001b[K     |████████████████████████████████| 360.0 MB 16 kB/s \n",
            "\u001b[?25hCollecting graphviz<0.9.0,>=0.8.1\n",
            "  Downloading graphviz-0.8.4-py2.py3-none-any.whl (16 kB)\n",
            "Requirement already satisfied: requests<3,>=2.20.0 in /usr/local/lib/python3.7/dist-packages (from mxnet-cu101) (2.23.0)\n",
            "Requirement already satisfied: numpy<2.0.0,>1.16.0 in /usr/local/lib/python3.7/dist-packages (from mxnet-cu101) (1.21.6)\n",
            "Requirement already satisfied: chardet<4,>=3.0.2 in /usr/local/lib/python3.7/dist-packages (from requests<3,>=2.20.0->mxnet-cu101) (3.0.4)\n",
            "Requirement already satisfied: idna<3,>=2.5 in /usr/local/lib/python3.7/dist-packages (from requests<3,>=2.20.0->mxnet-cu101) (2.10)\n",
            "Requirement already satisfied: urllib3!=1.25.0,!=1.25.1,<1.26,>=1.21.1 in /usr/local/lib/python3.7/dist-packages (from requests<3,>=2.20.0->mxnet-cu101) (1.24.3)\n",
            "Requirement already satisfied: certifi>=2017.4.17 in /usr/local/lib/python3.7/dist-packages (from requests<3,>=2.20.0->mxnet-cu101) (2022.6.15)\n",
            "Installing collected packages: graphviz, mxnet-cu101\n",
            "  Attempting uninstall: graphviz\n",
            "    Found existing installation: graphviz 0.10.1\n",
            "    Uninstalling graphviz-0.10.1:\n",
            "      Successfully uninstalled graphviz-0.10.1\n",
            "Successfully installed graphviz-0.8.4 mxnet-cu101-1.9.1\n"
          ]
        }
      ],
      "source": [
        "!pip install gluonts\n",
        "!pip install mxnet-cu101"
      ]
    },
    {
      "cell_type": "code",
      "source": [
        "import mxnet as mx\n",
        "from mxnet import gluon\n",
        "import numpy as np\n",
        "import pandas as pd\n",
        "import matplotlib.pyplot as plt\n",
        "import json"
      ],
      "metadata": {
        "id": "WyEkyKGMeGaG"
      },
      "execution_count": 1,
      "outputs": []
    },
    {
      "cell_type": "code",
      "source": [
        "from gluonts.dataset.repository.datasets import get_dataset, dataset_recipes\n",
        "from gluonts.dataset.util import to_pandas"
      ],
      "metadata": {
        "colab": {
          "base_uri": "https://localhost:8080/"
        },
        "id": "2YvPX9Z9eWT6",
        "outputId": "3b882c4a-df8f-4a9e-bdb8-5e4bce1b02c7"
      },
      "execution_count": 2,
      "outputs": [
        {
          "output_type": "stream",
          "name": "stderr",
          "text": [
            "/usr/local/lib/python3.7/dist-packages/gluonts/json.py:102: UserWarning: Using `json`-module for json-handling. Consider installing one of `orjson`, `ujson` to speed up serialization and deserialization.\n",
            "  \"Using `json`-module for json-handling. \"\n"
          ]
        }
      ]
    },
    {
      "cell_type": "code",
      "source": [
        "print(f\"Available datasets: {list(dataset_recipes.keys())}\")"
      ],
      "metadata": {
        "colab": {
          "base_uri": "https://localhost:8080/"
        },
        "id": "1YJVwgzwehGD",
        "outputId": "19e47ecd-3966-4eb3-f177-2f8e4d9b54f4"
      },
      "execution_count": 3,
      "outputs": [
        {
          "output_type": "stream",
          "name": "stdout",
          "text": [
            "Available datasets: ['constant', 'exchange_rate', 'solar-energy', 'electricity', 'traffic', 'exchange_rate_nips', 'electricity_nips', 'traffic_nips', 'solar_nips', 'wiki-rolling_nips', 'taxi_30min', 'kaggle_web_traffic_with_missing', 'kaggle_web_traffic_without_missing', 'kaggle_web_traffic_weekly', 'm1_yearly', 'm1_quarterly', 'm1_monthly', 'nn5_daily_with_missing', 'nn5_daily_without_missing', 'nn5_weekly', 'tourism_monthly', 'tourism_quarterly', 'tourism_yearly', 'cif_2016', 'london_smart_meters_without_missing', 'wind_farms_without_missing', 'car_parts_without_missing', 'dominick', 'fred_md', 'pedestrian_counts', 'hospital', 'covid_deaths', 'kdd_cup_2018_without_missing', 'weather', 'm3_monthly', 'm3_quarterly', 'm3_yearly', 'm3_other', 'm4_hourly', 'm4_daily', 'm4_weekly', 'm4_monthly', 'm4_quarterly', 'm4_yearly', 'm5', 'uber_tlc_daily', 'uber_tlc_hourly', 'airpassengers']\n"
          ]
        }
      ]
    },
    {
      "cell_type": "code",
      "source": [
        "dataset = get_dataset(\"m4_hourly\")"
      ],
      "metadata": {
        "id": "WuH4R399eZzs"
      },
      "execution_count": 4,
      "outputs": []
    },
    {
      "cell_type": "code",
      "source": [
        "print(f\"Recommended prediction horizon: {dataset.metadata.prediction_length}\")\n",
        "print(f\"Frequency of the time series: {dataset.metadata.freq}\")"
      ],
      "metadata": {
        "colab": {
          "base_uri": "https://localhost:8080/"
        },
        "id": "VGqeQcD2eeMy",
        "outputId": "ff4f768d-f1db-4215-a3fb-ecc4a6606dbf"
      },
      "execution_count": 5,
      "outputs": [
        {
          "output_type": "stream",
          "name": "stdout",
          "text": [
            "Recommended prediction horizon: 48\n",
            "Frequency of the time series: H\n"
          ]
        }
      ]
    },
    {
      "cell_type": "code",
      "source": [
        "dataset"
      ],
      "metadata": {
        "colab": {
          "base_uri": "https://localhost:8080/"
        },
        "id": "7cMuGodGevzx",
        "outputId": "769a6a74-9556-4344-c0bf-265ab9ef9be9"
      },
      "execution_count": 6,
      "outputs": [
        {
          "output_type": "execute_result",
          "data": {
            "text/plain": [
              "TrainDatasets(metadata=MetaData(freq='H', target=None, feat_static_cat=[CategoricalFeatureInfo(name='feat_static_cat_0', cardinality='414')], feat_static_real=[], feat_dynamic_real=[], feat_dynamic_cat=[], prediction_length=48), train=DatasetCollection(datasets=[Map(data=JsonLinesFile(path=PosixPath('/root/.mxnet/gluon-ts/datasets/m4_hourly/train/data.json.gz')))], interleave=False), test=DatasetCollection(datasets=[Map(data=JsonLinesFile(path=PosixPath('/root/.mxnet/gluon-ts/datasets/m4_hourly/test/data.json.gz')))], interleave=False))"
            ]
          },
          "metadata": {},
          "execution_count": 6
        }
      ]
    },
    {
      "cell_type": "code",
      "source": [
        "to_pandas(next(iter(dataset.train)))"
      ],
      "metadata": {
        "colab": {
          "base_uri": "https://localhost:8080/"
        },
        "id": "SdJQkHH2ellg",
        "outputId": "99c15340-5f54-4b62-81fd-50cd36ea4ab7"
      },
      "execution_count": 9,
      "outputs": [
        {
          "output_type": "execute_result",
          "data": {
            "text/plain": [
              "1750-01-01 00:00    605.0\n",
              "1750-01-01 01:00    586.0\n",
              "1750-01-01 02:00    586.0\n",
              "1750-01-01 03:00    559.0\n",
              "1750-01-01 04:00    511.0\n",
              "                    ...  \n",
              "1750-01-29 23:00    790.0\n",
              "1750-01-30 00:00    784.0\n",
              "1750-01-30 01:00    752.0\n",
              "1750-01-30 02:00    739.0\n",
              "1750-01-30 03:00    684.0\n",
              "Freq: H, Length: 700, dtype: float32"
            ]
          },
          "metadata": {},
          "execution_count": 9
        }
      ]
    },
    {
      "cell_type": "code",
      "source": [
        "to_pandas(next(iter(dataset.train)))[:14 * 24].plot()\n",
        "plt.grid(which=\"both\")\n",
        "plt.legend([\"train series\"], loc=\"upper left\")\n",
        "plt.show()"
      ],
      "metadata": {
        "colab": {
          "base_uri": "https://localhost:8080/",
          "height": 289
        },
        "id": "oQwnHPTMe0BP",
        "outputId": "1536f355-a1f4-47ca-8f06-5a62d8593acc"
      },
      "execution_count": 7,
      "outputs": [
        {
          "output_type": "display_data",
          "data": {
            "text/plain": [
              "<Figure size 432x288 with 1 Axes>"
            ],
            "image/png": "[encoded data removed]"
          },
          "metadata": {
            "needs_background": "light"
          }
        }
      ]
    },
    {
      "cell_type": "code",
      "source": [
        "! pip install optuna"
      ],
      "metadata": {
        "colab": {
          "base_uri": "https://localhost:8080/"
        },
        "id": "wCt9hahBe-wO",
        "outputId": "28c1acbf-802a-4698-a8a4-e303c5824183"
      },
      "execution_count": 12,
      "outputs": [
        {
          "output_type": "stream",
          "name": "stdout",
          "text": [
            "Looking in indexes: https://pypi.org/simple, https://us-python.pkg.dev/colab-wheels/public/simple/\n",
            "Collecting optuna\n",
            "  Downloading optuna-2.10.1-py3-none-any.whl (308 kB)\n",
            "\u001b[K     |████████████████████████████████| 308 kB 17.9 MB/s \n",
            "\u001b[?25hRequirement already satisfied: sqlalchemy>=1.1.0 in /usr/local/lib/python3.7/dist-packages (from optuna) (1.4.37)\n",
            "Requirement already satisfied: numpy in /usr/local/lib/python3.7/dist-packages (from optuna) (1.21.6)\n",
            "Collecting cmaes>=0.8.2\n",
            "  Downloading cmaes-0.8.2-py3-none-any.whl (15 kB)\n",
            "Collecting alembic\n",
            "  Downloading alembic-1.8.0-py3-none-any.whl (209 kB)\n",
            "\u001b[K     |████████████████████████████████| 209 kB 43.5 MB/s \n",
            "\u001b[?25hRequirement already satisfied: tqdm in /usr/local/lib/python3.7/dist-packages (from optuna) (4.64.0)\n",
            "Collecting cliff\n",
            "  Downloading cliff-3.10.1-py3-none-any.whl (81 kB)\n",
            "\u001b[K     |████████████████████████████████| 81 kB 8.5 MB/s \n",
            "\u001b[?25hCollecting colorlog\n",
            "  Downloading colorlog-6.6.0-py2.py3-none-any.whl (11 kB)\n",
            "Requirement already satisfied: packaging>=20.0 in /usr/local/lib/python3.7/dist-packages (from optuna) (21.3)\n",
            "Requirement already satisfied: PyYAML in /usr/local/lib/python3.7/dist-packages (from optuna) (3.13)\n",
            "Requirement already satisfied: scipy!=1.4.0 in /usr/local/lib/python3.7/dist-packages (from optuna) (1.4.1)\n",
            "Requirement already satisfied: pyparsing!=3.0.5,>=2.0.2 in /usr/local/lib/python3.7/dist-packages (from packaging>=20.0->optuna) (3.0.9)\n",
            "Requirement already satisfied: greenlet!=0.4.17 in /usr/local/lib/python3.7/dist-packages (from sqlalchemy>=1.1.0->optuna) (1.1.2)\n",
            "Requirement already satisfied: importlib-metadata in /usr/local/lib/python3.7/dist-packages (from sqlalchemy>=1.1.0->optuna) (4.11.4)\n",
            "Requirement already satisfied: importlib-resources in /usr/local/lib/python3.7/dist-packages (from alembic->optuna) (5.7.1)\n",
            "Collecting Mako\n",
            "  Downloading Mako-1.2.1-py3-none-any.whl (78 kB)\n",
            "\u001b[K     |████████████████████████████████| 78 kB 6.1 MB/s \n",
            "\u001b[?25hCollecting cmd2>=1.0.0\n",
            "  Downloading cmd2-2.4.1-py3-none-any.whl (146 kB)\n",
            "\u001b[K     |████████████████████████████████| 146 kB 4.4 MB/s \n",
            "\u001b[?25hRequirement already satisfied: PrettyTable>=0.7.2 in /usr/local/lib/python3.7/dist-packages (from cliff->optuna) (3.3.0)\n",
            "Collecting autopage>=0.4.0\n",
            "  Downloading autopage-0.5.1-py3-none-any.whl (29 kB)\n",
            "Collecting pbr!=2.1.0,>=2.0.0\n",
            "  Downloading pbr-5.9.0-py2.py3-none-any.whl (112 kB)\n",
            "\u001b[K     |████████████████████████████████| 112 kB 42.6 MB/s \n",
            "\u001b[?25hCollecting stevedore>=2.0.1\n",
            "  Downloading stevedore-3.5.0-py3-none-any.whl (49 kB)\n",
            "\u001b[K     |████████████████████████████████| 49 kB 5.0 MB/s \n",
            "\u001b[?25hRequirement already satisfied: typing-extensions in /usr/local/lib/python3.7/dist-packages (from cmd2>=1.0.0->cliff->optuna) (4.1.1)\n",
            "Requirement already satisfied: attrs>=16.3.0 in /usr/local/lib/python3.7/dist-packages (from cmd2>=1.0.0->cliff->optuna) (21.4.0)\n",
            "Requirement already satisfied: wcwidth>=0.1.7 in /usr/local/lib/python3.7/dist-packages (from cmd2>=1.0.0->cliff->optuna) (0.2.5)\n",
            "Collecting pyperclip>=1.6\n",
            "  Downloading pyperclip-1.8.2.tar.gz (20 kB)\n",
            "Requirement already satisfied: zipp>=0.5 in /usr/local/lib/python3.7/dist-packages (from importlib-metadata->sqlalchemy>=1.1.0->optuna) (3.8.0)\n",
            "Requirement already satisfied: MarkupSafe>=0.9.2 in /usr/local/lib/python3.7/dist-packages (from Mako->alembic->optuna) (2.0.1)\n",
            "Building wheels for collected packages: pyperclip\n",
            "  Building wheel for pyperclip (setup.py) ... \u001b[?25l\u001b[?25hdone\n",
            "  Created wheel for pyperclip: filename=pyperclip-1.8.2-py3-none-any.whl size=11137 sha256=8d496a0ffc15812e6d229ea78cc494369122a35dafb8bb52b9fd2455fa06a62c\n",
            "  Stored in directory: /root/.cache/pip/wheels/9f/18/84/8f69f8b08169c7bae2dde6bd7daf0c19fca8c8e500ee620a28\n",
            "Successfully built pyperclip\n",
            "Installing collected packages: pyperclip, pbr, stevedore, Mako, cmd2, autopage, colorlog, cmaes, cliff, alembic, optuna\n",
            "Successfully installed Mako-1.2.1 alembic-1.8.0 autopage-0.5.1 cliff-3.10.1 cmaes-0.8.2 cmd2-2.4.1 colorlog-6.6.0 optuna-2.10.1 pbr-5.9.0 pyperclip-1.8.2 stevedore-3.5.0\n"
          ]
        }
      ]
    },
    {
      "cell_type": "code",
      "source": [
        "!pip install pytorch_lightning"
      ],
      "metadata": {
        "colab": {
          "base_uri": "https://localhost:8080/",
          "height": 1000
        },
        "id": "cv7CJEYRfH5R",
        "outputId": "cdef3611-b8d5-42f3-c1b6-be0588ac8f53"
      },
      "execution_count": 14,
      "outputs": [
        {
          "output_type": "stream",
          "name": "stdout",
          "text": [
            "Looking in indexes: https://pypi.org/simple, https://us-python.pkg.dev/colab-wheels/public/simple/\n",
            "Collecting pytorch_lightning\n",
            "  Downloading pytorch_lightning-1.6.4-py3-none-any.whl (585 kB)\n",
            "\u001b[K     |████████████████████████████████| 585 kB 18.2 MB/s \n",
            "\u001b[?25hRequirement already satisfied: protobuf<=3.20.1 in /usr/local/lib/python3.7/dist-packages (from pytorch_lightning) (3.17.3)\n",
            "Collecting fsspec[http]!=2021.06.0,>=2021.05.0\n",
            "  Downloading fsspec-2022.5.0-py3-none-any.whl (140 kB)\n",
            "\u001b[K     |████████████████████████████████| 140 kB 47.5 MB/s \n",
            "\u001b[?25hRequirement already satisfied: numpy>=1.17.2 in /usr/local/lib/python3.7/dist-packages (from pytorch_lightning) (1.21.6)\n",
            "Requirement already satisfied: tensorboard>=2.2.0 in /usr/local/lib/python3.7/dist-packages (from pytorch_lightning) (2.8.0)\n",
            "Requirement already satisfied: typing-extensions>=4.0.0 in /usr/local/lib/python3.7/dist-packages (from pytorch_lightning) (4.1.1)\n",
            "Requirement already satisfied: packaging>=17.0 in /usr/local/lib/python3.7/dist-packages (from pytorch_lightning) (21.3)\n",
            "Requirement already satisfied: torch>=1.8.* in /usr/local/lib/python3.7/dist-packages (from pytorch_lightning) (1.11.0+cu113)\n",
            "Requirement already satisfied: tqdm>=4.57.0 in /usr/local/lib/python3.7/dist-packages (from pytorch_lightning) (4.64.0)\n",
            "Collecting torchmetrics>=0.4.1\n",
            "  Downloading torchmetrics-0.9.2-py3-none-any.whl (419 kB)\n",
            "\u001b[K     |████████████████████████████████| 419 kB 43.2 MB/s \n",
            "\u001b[?25hCollecting PyYAML>=5.4\n",
            "  Downloading PyYAML-6.0-cp37-cp37m-manylinux_2_5_x86_64.manylinux1_x86_64.manylinux_2_12_x86_64.manylinux2010_x86_64.whl (596 kB)\n",
            "\u001b[K     |████████████████████████████████| 596 kB 38.8 MB/s \n",
            "\u001b[?25hCollecting pyDeprecate>=0.3.1\n",
            "  Downloading pyDeprecate-0.3.2-py3-none-any.whl (10 kB)\n",
            "Requirement already satisfied: requests in /usr/local/lib/python3.7/dist-packages (from fsspec[http]!=2021.06.0,>=2021.05.0->pytorch_lightning) (2.23.0)\n",
            "Collecting aiohttp\n",
            "  Downloading aiohttp-3.8.1-cp37-cp37m-manylinux_2_5_x86_64.manylinux1_x86_64.manylinux_2_12_x86_64.manylinux2010_x86_64.whl (1.1 MB)\n",
            "\u001b[K     |████████████████████████████████| 1.1 MB 48.7 MB/s \n",
            "\u001b[?25hRequirement already satisfied: pyparsing!=3.0.5,>=2.0.2 in /usr/local/lib/python3.7/dist-packages (from packaging>=17.0->pytorch_lightning) (3.0.9)\n",
            "Requirement already satisfied: six>=1.9 in /usr/local/lib/python3.7/dist-packages (from protobuf<=3.20.1->pytorch_lightning) (1.15.0)\n",
            "Requirement already satisfied: google-auth<3,>=1.6.3 in /usr/local/lib/python3.7/dist-packages (from tensorboard>=2.2.0->pytorch_lightning) (1.35.0)\n",
            "Requirement already satisfied: absl-py>=0.4 in /usr/local/lib/python3.7/dist-packages (from tensorboard>=2.2.0->pytorch_lightning) (1.1.0)\n",
            "Requirement already satisfied: tensorboard-plugin-wit>=1.6.0 in /usr/local/lib/python3.7/dist-packages (from tensorboard>=2.2.0->pytorch_lightning) (1.8.1)\n",
            "Requirement already satisfied: setuptools>=41.0.0 in /usr/local/lib/python3.7/dist-packages (from tensorboard>=2.2.0->pytorch_lightning) (57.4.0)\n",
            "Requirement already satisfied: google-auth-oauthlib<0.5,>=0.4.1 in /usr/local/lib/python3.7/dist-packages (from tensorboard>=2.2.0->pytorch_lightning) (0.4.6)\n",
            "Requirement already satisfied: werkzeug>=0.11.15 in /usr/local/lib/python3.7/dist-packages (from tensorboard>=2.2.0->pytorch_lightning) (1.0.1)\n",
            "Requirement already satisfied: grpcio>=1.24.3 in /usr/local/lib/python3.7/dist-packages (from tensorboard>=2.2.0->pytorch_lightning) (1.46.3)\n",
            "Requirement already satisfied: wheel>=0.26 in /usr/local/lib/python3.7/dist-packages (from tensorboard>=2.2.0->pytorch_lightning) (0.37.1)\n",
            "Requirement already satisfied: tensorboard-data-server<0.7.0,>=0.6.0 in /usr/local/lib/python3.7/dist-packages (from tensorboard>=2.2.0->pytorch_lightning) (0.6.1)\n",
            "Requirement already satisfied: markdown>=2.6.8 in /usr/local/lib/python3.7/dist-packages (from tensorboard>=2.2.0->pytorch_lightning) (3.3.7)\n",
            "Requirement already satisfied: cachetools<5.0,>=2.0.0 in /usr/local/lib/python3.7/dist-packages (from google-auth<3,>=1.6.3->tensorboard>=2.2.0->pytorch_lightning) (4.2.4)\n",
            "Requirement already satisfied: rsa<5,>=3.1.4 in /usr/local/lib/python3.7/dist-packages (from google-auth<3,>=1.6.3->tensorboard>=2.2.0->pytorch_lightning) (4.8)\n",
            "Requirement already satisfied: pyasn1-modules>=0.2.1 in /usr/local/lib/python3.7/dist-packages (from google-auth<3,>=1.6.3->tensorboard>=2.2.0->pytorch_lightning) (0.2.8)\n",
            "Requirement already satisfied: requests-oauthlib>=0.7.0 in /usr/local/lib/python3.7/dist-packages (from google-auth-oauthlib<0.5,>=0.4.1->tensorboard>=2.2.0->pytorch_lightning) (1.3.1)\n",
            "Requirement already satisfied: importlib-metadata>=4.4 in /usr/local/lib/python3.7/dist-packages (from markdown>=2.6.8->tensorboard>=2.2.0->pytorch_lightning) (4.11.4)\n",
            "Requirement already satisfied: zipp>=0.5 in /usr/local/lib/python3.7/dist-packages (from importlib-metadata>=4.4->markdown>=2.6.8->tensorboard>=2.2.0->pytorch_lightning) (3.8.0)\n",
            "Requirement already satisfied: pyasn1<0.5.0,>=0.4.6 in /usr/local/lib/python3.7/dist-packages (from pyasn1-modules>=0.2.1->google-auth<3,>=1.6.3->tensorboard>=2.2.0->pytorch_lightning) (0.4.8)\n",
            "Requirement already satisfied: certifi>=2017.4.17 in /usr/local/lib/python3.7/dist-packages (from requests->fsspec[http]!=2021.06.0,>=2021.05.0->pytorch_lightning) (2022.6.15)\n",
            "Requirement already satisfied: chardet<4,>=3.0.2 in /usr/local/lib/python3.7/dist-packages (from requests->fsspec[http]!=2021.06.0,>=2021.05.0->pytorch_lightning) (3.0.4)\n",
            "Requirement already satisfied: idna<3,>=2.5 in /usr/local/lib/python3.7/dist-packages (from requests->fsspec[http]!=2021.06.0,>=2021.05.0->pytorch_lightning) (2.10)\n",
            "Requirement already satisfied: urllib3!=1.25.0,!=1.25.1,<1.26,>=1.21.1 in /usr/local/lib/python3.7/dist-packages (from requests->fsspec[http]!=2021.06.0,>=2021.05.0->pytorch_lightning) (1.24.3)\n",
            "Requirement already satisfied: oauthlib>=3.0.0 in /usr/local/lib/python3.7/dist-packages (from requests-oauthlib>=0.7.0->google-auth-oauthlib<0.5,>=0.4.1->tensorboard>=2.2.0->pytorch_lightning) (3.2.0)\n",
            "Collecting frozenlist>=1.1.1\n",
            "  Downloading frozenlist-1.3.0-cp37-cp37m-manylinux_2_5_x86_64.manylinux1_x86_64.manylinux_2_17_x86_64.manylinux2014_x86_64.whl (144 kB)\n",
            "\u001b[K     |████████████████████████████████| 144 kB 59.8 MB/s \n",
            "\u001b[?25hCollecting async-timeout<5.0,>=4.0.0a3\n",
            "  Downloading async_timeout-4.0.2-py3-none-any.whl (5.8 kB)\n",
            "Collecting multidict<7.0,>=4.5\n",
            "  Downloading multidict-6.0.2-cp37-cp37m-manylinux_2_17_x86_64.manylinux2014_x86_64.whl (94 kB)\n",
            "\u001b[K     |████████████████████████████████| 94 kB 3.5 MB/s \n",
            "\u001b[?25hRequirement already satisfied: charset-normalizer<3.0,>=2.0 in /usr/local/lib/python3.7/dist-packages (from aiohttp->fsspec[http]!=2021.06.0,>=2021.05.0->pytorch_lightning) (2.1.0)\n",
            "Requirement already satisfied: attrs>=17.3.0 in /usr/local/lib/python3.7/dist-packages (from aiohttp->fsspec[http]!=2021.06.0,>=2021.05.0->pytorch_lightning) (21.4.0)\n",
            "Collecting asynctest==0.13.0\n",
            "  Downloading asynctest-0.13.0-py3-none-any.whl (26 kB)\n",
            "Collecting aiosignal>=1.1.2\n",
            "  Downloading aiosignal-1.2.0-py3-none-any.whl (8.2 kB)\n",
            "Collecting yarl<2.0,>=1.0\n",
            "  Downloading yarl-1.7.2-cp37-cp37m-manylinux_2_5_x86_64.manylinux1_x86_64.manylinux_2_12_x86_64.manylinux2010_x86_64.whl (271 kB)\n",
            "\u001b[K     |████████████████████████████████| 271 kB 72.0 MB/s \n",
            "\u001b[?25hInstalling collected packages: multidict, frozenlist, yarl, asynctest, async-timeout, aiosignal, fsspec, aiohttp, torchmetrics, PyYAML, pyDeprecate, pytorch-lightning\n",
            "  Attempting uninstall: PyYAML\n",
            "    Found existing installation: PyYAML 3.13\n",
            "    Uninstalling PyYAML-3.13:\n",
            "      Successfully uninstalled PyYAML-3.13\n",
            "Successfully installed PyYAML-6.0 aiohttp-3.8.1 aiosignal-1.2.0 async-timeout-4.0.2 asynctest-0.13.0 frozenlist-1.3.0 fsspec-2022.5.0 multidict-6.0.2 pyDeprecate-0.3.2 pytorch-lightning-1.6.4 torchmetrics-0.9.2 yarl-1.7.2\n"
          ]
        },
        {
          "output_type": "display_data",
          "data": {
            "application/vnd.colab-display-data+json": {
              "pip_warning": {
                "packages": [
                  "yaml"
                ]
              }
            }
          },
          "metadata": {}
        }
      ]
    },
    {
      "cell_type": "markdown",
      "source": [
        "# Tuning parameters of DeepAR estimator"
      ],
      "metadata": {
        "id": "Hs5Qt9e2e4dl"
      }
    },
    {
      "cell_type": "code",
      "source": [
        "import optuna\n",
        "import torch\n",
        "from gluonts.torch.model.deepar import DeepAREstimator #Here chose torch.model.deepAREstimator\n",
        "from gluonts.mx import Trainer\n",
        "from gluonts.evaluation import Evaluator"
      ],
      "metadata": {
        "id": "PVFCJbc9e2Q4"
      },
      "execution_count": 8,
      "outputs": []
    },
    {
      "cell_type": "code",
      "source": [
        "class DeepARTuningObjective:\n",
        "    def __init__(self, dataset, prediction_length, freq, metric_type=\"mean_wQuantileLoss\"):\n",
        "        self.dataset = dataset\n",
        "        self.prediction_length = prediction_length\n",
        "        self.freq = freq\n",
        "        self.metric_type = metric_type\n",
        "\n",
        "        entry_split = [self.split_entry(entry) for entry in self.dataset]\n",
        "        self.entry_pasts = [entry[0] for entry in entry_split]\n",
        "        self.entry_futures = [entry[1] for entry in entry_split]\n",
        "\n",
        "    def get_params(self, trial) -> dict:\n",
        "        return {\n",
        "            \"num_layers\": trial.suggest_int(\"num_layers\", 1, 5),\n",
        "            \"hidden_size\": trial.suggest_int(\"hidden_size\", 10, 50),\n",
        "        }\n",
        "\n",
        "    def split_entry(self, entry):\n",
        "        entry_past = {}\n",
        "        for key, value in entry.items():\n",
        "            if key == \"target\":\n",
        "                entry_past[key] = value[: -self.prediction_length]\n",
        "            else:\n",
        "                entry_past[key] = value\n",
        "\n",
        "        df = pd.DataFrame(\n",
        "            entry['target'],\n",
        "            columns=[entry['item_id']],\n",
        "            index=pd.period_range(\n",
        "                start=entry['start'],\n",
        "                periods=len(entry['target']),\n",
        "                freq=self.freq\n",
        "            )\n",
        "        )\n",
        "\n",
        "        return entry_past, df[-self.prediction_length:]\n",
        "\n",
        "    def __call__(self, trial):\n",
        "        params = self.get_params(trial)\n",
        "        estimator = DeepAREstimator(\n",
        "            num_layers=params['num_layers'],\n",
        "            hidden_size=params['hidden_size'],\n",
        "            prediction_length=self.prediction_length,\n",
        "            freq=self.freq,\n",
        "            trainer_kwargs={\n",
        "                \"enable_progress_bar\": False,\n",
        "                \"enable_model_summary\": False,\n",
        "                \"max_epochs\": 10,\n",
        "            }\n",
        "        )\n",
        "\n",
        "\n",
        "        predictor = estimator.train(self.entry_pasts, cache_data=True)\n",
        "        forecast_it = predictor.predict(self.entry_pasts)\n",
        "\n",
        "        forecasts = list(forecast_it)\n",
        "\n",
        "        evaluator = Evaluator(quantiles=[0.1, 0.5, 0.9])\n",
        "        agg_metrics, item_metrics = evaluator(self.entry_futures, forecasts, num_series=len(self.dataset))\n",
        "        return agg_metrics[self.metric_type]"
      ],
      "metadata": {
        "id": "tC2C_4gLe9ty"
      },
      "execution_count": 10,
      "outputs": []
    },
    {
      "cell_type": "code",
      "source": [
        "dataset.train"
      ],
      "metadata": {
        "colab": {
          "base_uri": "https://localhost:8080/"
        },
        "id": "VTcxmCPZk1cp",
        "outputId": "9b06d49f-9a4f-4aec-95f6-ed97d63c9073"
      },
      "execution_count": 13,
      "outputs": [
        {
          "output_type": "execute_result",
          "data": {
            "text/plain": [
              "DatasetCollection(datasets=[Map(data=JsonLinesFile(path=PosixPath('/root/.mxnet/gluon-ts/datasets/m4_hourly/train/data.json.gz')))], interleave=False)"
            ]
          },
          "metadata": {},
          "execution_count": 13
        }
      ]
    },
    {
      "cell_type": "code",
      "source": [
        "next(iter(dataset.train))"
      ],
      "metadata": {
        "colab": {
          "base_uri": "https://localhost:8080/"
        },
        "id": "UlzbMXivkt55",
        "outputId": "94f5adc9-1a91-449d-992d-b1ecb4fd415d"
      },
      "execution_count": 12,
      "outputs": [
        {
          "output_type": "execute_result",
          "data": {
            "text/plain": [
              "{'feat_static_cat': array([0], dtype=int32),\n",
              " 'item_id': 0,\n",
              " 'start': Period('1750-01-01 00:00', 'H'),\n",
              " 'target': array([605., 586., 586., 559., 511., 443., 422., 395., 382., 370., 383.,\n",
              "        397., 420., 455., 493., 554., 610., 666., 715., 755., 778., 794.,\n",
              "        806., 808., 776., 723., 709., 660., 585., 527., 462., 437., 413.,\n",
              "        407., 404., 420., 441., 471., 526., 571., 612., 635., 613., 608.,\n",
              "        614., 637., 669., 683., 687., 660., 661., 632., 573., 521., 481.,\n",
              "        452., 447., 425., 427., 441., 438., 472., 528., 596., 661., 708.,\n",
              "        754., 781., 808., 819., 820., 801., 770., 717., 697., 655., 607.,\n",
              "        552., 512., 475., 452., 436., 429., 433., 430., 472., 536., 611.,\n",
              "        662., 705., 707., 718., 733., 741., 737., 710., 647., 593., 564.,\n",
              "        528., 507., 466., 428., 396., 382., 371., 374., 372., 373., 406.,\n",
              "        451., 480., 487., 487., 494., 505., 519., 535., 560., 570., 551.,\n",
              "        541., 552., 521., 477., 426., 395., 370., 357., 349., 362., 374.,\n",
              "        402., 427., 456., 500., 558., 608., 661., 704., 736., 763., 782.,\n",
              "        782., 775., 730., 716., 657., 590., 518., 469., 438., 418., 406.,\n",
              "        405., 418., 440., 467., 526., 588., 660., 713., 767., 800., 828.,\n",
              "        837., 851., 836., 813., 776., 753., 695., 620., 542., 494., 459.,\n",
              "        439., 417., 423., 429., 450., 482., 539., 613., 677., 736., 777.,\n",
              "        820., 828., 838., 824., 805., 774., 736., 718., 666., 601., 532.,\n",
              "        485., 449., 427., 415., 418., 438., 445., 487., 535., 598., 669.,\n",
              "        730., 776., 801., 824., 826., 819., 802., 771., 740., 722., 676.,\n",
              "        603., 546., 488., 458., 438., 421., 419., 426., 450., 487., 550.,\n",
              "        612., 683., 739., 785., 818., 837., 847., 848., 834., 810., 764.,\n",
              "        746., 698., 634., 584., 519., 490., 463., 446., 439., 436., 442.,\n",
              "        483., 566., 643., 723., 773., 822., 849., 865., 881., 882., 872.,\n",
              "        840., 797., 773., 724., 661., 593., 547., 512., 484., 463., 452.,\n",
              "        442., 447., 506., 598., 692., 756., 804., 836., 866., 886., 890.,\n",
              "        878., 863., 830., 770., 756., 704., 629., 566., 518., 484., 461.,\n",
              "        450., 446., 467., 485., 525., 585., 670., 747., 805., 839., 857.,\n",
              "        844., 834., 828., 834., 815., 781., 762., 710., 641., 571., 527.,\n",
              "        498., 475., 466., 472., 478., 506., 542., 594., 661., 728., 786.,\n",
              "        828., 846., 854., 852., 862., 859., 853., 815., 802., 749., 679.,\n",
              "        604., 569., 529., 513., 500., 495., 511., 525., 557., 605., 676.,\n",
              "        737., 791., 837., 856., 886., 901., 916., 905., 871., 823., 798.,\n",
              "        738., 666., 593., 553., 515., 494., 487., 482., 498., 515., 540.,\n",
              "        584., 633., 705., 754., 801., 833., 863., 872., 867., 845., 819.,\n",
              "        787., 762., 717., 651., 575., 537., 500., 470., 457., 465., 467.,\n",
              "        488., 525., 581., 654., 732., 789., 826., 852., 870., 859., 853.,\n",
              "        820., 789., 741., 731., 683., 620., 566., 514., 478., 462., 435.,\n",
              "        432., 434., 441., 483., 563., 644., 729., 798., 847., 874., 890.,\n",
              "        908., 902., 895., 860., 815., 792., 732., 672., 605., 554., 517.,\n",
              "        492., 473., 452., 458., 452., 506., 607., 691., 761., 820., 860.,\n",
              "        867., 852., 820., 768., 729., 689., 661., 652., 612., 559., 503.,\n",
              "        468., 441., 423., 412., 424., 441., 460., 494., 548., 609., 694.,\n",
              "        758., 817., 863., 881., 900., 909., 900., 875., 830., 812., 758.,\n",
              "        688., 607., 570., 536., 504., 487., 495., 503., 521., 554., 612.,\n",
              "        680., 753., 817., 863., 889., 883., 867., 840., 810., 779., 744.,\n",
              "        722., 668., 613., 550., 509., 481., 460., 458., 456., 474., 488.,\n",
              "        527., 583., 652., 723., 796., 846., 877., 881., 884., 857., 835.,\n",
              "        809., 766., 755., 703., 635., 577., 533., 504., 485., 473., 474.,\n",
              "        494., 507., 545., 599., 672., 740., 790., 823., 822., 817., 801.,\n",
              "        792., 775., 735., 723., 699., 658., 598., 547., 503., 474., 459.,\n",
              "        450., 450., 469., 488., 520., 566., 640., 705., 762., 808., 838.,\n",
              "        820., 784., 753., 739., 720., 690., 678., 634., 587., 537., 492.,\n",
              "        464., 443., 427., 424., 430., 424., 473., 537., 616., 684., 761.,\n",
              "        793., 826., 833., 835., 838., 823., 795., 750., 739., 679., 622.,\n",
              "        558., 513., 476., 449., 437., 422., 423., 415., 475., 553., 624.,\n",
              "        680., 720., 769., 805., 828., 836., 849., 844., 808., 757., 730.,\n",
              "        670., 594., 528., 474., 447., 423., 412., 413., 431., 449., 489.,\n",
              "        544., 610., 696., 765., 813., 851., 872., 883., 899., 897., 871.,\n",
              "        831., 813., 749., 664., 550., 544., 505., 483., 469., 466., 487.,\n",
              "        492., 531., 583., 659., 743., 811., 863., 898., 914., 920., 926.,\n",
              "        919., 887., 862., 829., 769., 691., 618., 563., 529., 504., 489.,\n",
              "        487., 508., 513., 555., 606., 676., 761., 837., 878., 890., 879.,\n",
              "        847., 820., 790., 784., 752., 739., 684.], dtype=float32)}"
            ]
          },
          "metadata": {},
          "execution_count": 12
        }
      ]
    },
    {
      "cell_type": "code",
      "source": [
        "import time\n",
        "start_time = time.time()\n",
        "study = optuna.create_study(direction=\"minimize\")\n",
        "study.optimize(\n",
        "    DeepARTuningObjective(dataset.train, dataset.metadata.prediction_length, dataset.metadata.freq),\n",
        "    n_trials=5\n",
        ")\n",
        "\n",
        "print(\"Number of finished trials: {}\".format(len(study.trials)))\n",
        "\n",
        "print(\"Best trial:\")\n",
        "trial = study.best_trial\n",
        "\n",
        "print(\"  Value: {}\".format(trial.value))\n",
        "\n",
        "print(\"  Params: \")\n",
        "for key, value in trial.params.items():\n",
        "    print(\"    {}: {}\".format(key, value))\n",
        "print(time.time() - start_time)"
      ],
      "metadata": {
        "colab": {
          "base_uri": "https://localhost:8080/"
        },
        "id": "vLcn9t-KkAD1",
        "outputId": "53365176-d097-449f-8ac1-478b49dd1fd8"
      },
      "execution_count": 14,
      "outputs": [
        {
          "output_type": "stream",
          "name": "stderr",
          "text": [
            "\u001b[32m[I 2022-07-07 21:33:56,862]\u001b[0m A new study created in memory with name: no-name-e9e43ea9-09ca-46a0-bd37-f35cd40149bb\u001b[0m\n",
            "/usr/local/lib/python3.7/dist-packages/pytorch_lightning/utilities/parsing.py:262: UserWarning: Attribute 'model' is an instance of `nn.Module` and is already saved during checkpointing. It is recommended to ignore them using `self.save_hyperparameters(ignore=['model'])`.\n",
            "  f\"Attribute {k!r} is an instance of `nn.Module` and is already saved during checkpointing.\"\n",
            "INFO:pytorch_lightning.utilities.rank_zero:GPU available: False, used: False\n",
            "INFO:pytorch_lightning.utilities.rank_zero:TPU available: False, using: 0 TPU cores\n",
            "INFO:pytorch_lightning.utilities.rank_zero:IPU available: False, using: 0 IPUs\n",
            "INFO:pytorch_lightning.utilities.rank_zero:HPU available: False, using: 0 HPUs\n",
            "/usr/local/lib/python3.7/dist-packages/pytorch_lightning/trainer/configuration_validator.py:133: UserWarning: You defined a `validation_step` but have no `val_dataloader`. Skipping val loop.\n",
            "  rank_zero_warn(\"You defined a `validation_step` but have no `val_dataloader`. Skipping val loop.\")\n",
            "INFO:pytorch_lightning.utilities.rank_zero:Epoch 0, global step 50: 'train_loss' reached 5.96218 (best 5.96218), saving model to '/content/lightning_logs/version_1/checkpoints/epoch=0-step=50.ckpt' as top 1\n",
            "INFO:pytorch_lightning.utilities.rank_zero:Epoch 1, global step 100: 'train_loss' reached 5.51173 (best 5.51173), saving model to '/content/lightning_logs/version_1/checkpoints/epoch=1-step=100.ckpt' as top 1\n",
            "INFO:pytorch_lightning.utilities.rank_zero:Epoch 2, global step 150: 'train_loss' reached 5.28154 (best 5.28154), saving model to '/content/lightning_logs/version_1/checkpoints/epoch=2-step=150.ckpt' as top 1\n",
            "INFO:pytorch_lightning.utilities.rank_zero:Epoch 3, global step 200: 'train_loss' reached 5.00832 (best 5.00832), saving model to '/content/lightning_logs/version_1/checkpoints/epoch=3-step=200.ckpt' as top 1\n",
            "INFO:pytorch_lightning.utilities.rank_zero:Epoch 4, global step 250: 'train_loss' reached 4.80764 (best 4.80764), saving model to '/content/lightning_logs/version_1/checkpoints/epoch=4-step=250.ckpt' as top 1\n",
            "INFO:pytorch_lightning.utilities.rank_zero:Epoch 5, global step 300: 'train_loss' reached 4.46011 (best 4.46011), saving model to '/content/lightning_logs/version_1/checkpoints/epoch=5-step=300.ckpt' as top 1\n",
            "INFO:pytorch_lightning.utilities.rank_zero:Epoch 6, global step 350: 'train_loss' was not in top 1\n",
            "INFO:pytorch_lightning.utilities.rank_zero:Epoch 7, global step 400: 'train_loss' was not in top 1\n",
            "INFO:pytorch_lightning.utilities.rank_zero:Epoch 8, global step 450: 'train_loss' was not in top 1\n",
            "INFO:pytorch_lightning.utilities.rank_zero:Epoch 9, global step 500: 'train_loss' was not in top 1\n",
            "Running evaluation: 100%|██████████| 414/414 [00:00<00:00, 9650.06it/s]/usr/local/lib/python3.7/dist-packages/gluonts/evaluation/metrics.py:105: RuntimeWarning: divide by zero encountered in true_divide\n",
            "  return np.mean(np.abs(target - forecast)) / seasonal_error\n",
            "/usr/local/lib/python3.7/dist-packages/gluonts/evaluation/metrics.py:105: RuntimeWarning: divide by zero encountered in true_divide\n",
            "  return np.mean(np.abs(target - forecast)) / seasonal_error\n",
            "/usr/local/lib/python3.7/dist-packages/gluonts/evaluation/metrics.py:154: RuntimeWarning: divide by zero encountered in true_divide\n",
            "  return numerator / seasonal_error\n",
            "/usr/local/lib/python3.7/dist-packages/gluonts/evaluation/metrics.py:154: RuntimeWarning: divide by zero encountered in true_divide\n",
            "  return numerator / seasonal_error\n",
            "\n",
            "/usr/local/lib/python3.7/dist-packages/pandas/core/construction.py:759: UserWarning: Warning: converting a masked element to nan.\n",
            "  subarr = np.array(arr, dtype=dtype, copy=copy)\n",
            "\u001b[32m[I 2022-07-07 21:34:57,663]\u001b[0m Trial 0 finished with value: 0.07137713685781844 and parameters: {'num_layers': 3, 'hidden_size': 21}. Best is trial 0 with value: 0.07137713685781844.\u001b[0m\n",
            "/usr/local/lib/python3.7/dist-packages/pytorch_lightning/utilities/parsing.py:262: UserWarning: Attribute 'model' is an instance of `nn.Module` and is already saved during checkpointing. It is recommended to ignore them using `self.save_hyperparameters(ignore=['model'])`.\n",
            "  f\"Attribute {k!r} is an instance of `nn.Module` and is already saved during checkpointing.\"\n",
            "INFO:pytorch_lightning.utilities.rank_zero:GPU available: False, used: False\n",
            "INFO:pytorch_lightning.utilities.rank_zero:TPU available: False, using: 0 TPU cores\n",
            "INFO:pytorch_lightning.utilities.rank_zero:IPU available: False, using: 0 IPUs\n",
            "INFO:pytorch_lightning.utilities.rank_zero:HPU available: False, using: 0 HPUs\n",
            "/usr/local/lib/python3.7/dist-packages/pytorch_lightning/trainer/configuration_validator.py:133: UserWarning: You defined a `validation_step` but have no `val_dataloader`. Skipping val loop.\n",
            "  rank_zero_warn(\"You defined a `validation_step` but have no `val_dataloader`. Skipping val loop.\")\n",
            "INFO:pytorch_lightning.utilities.rank_zero:Epoch 0, global step 50: 'train_loss' reached 6.07395 (best 6.07395), saving model to '/content/lightning_logs/version_2/checkpoints/epoch=0-step=50.ckpt' as top 1\n",
            "INFO:pytorch_lightning.utilities.rank_zero:Epoch 1, global step 100: 'train_loss' reached 5.59215 (best 5.59215), saving model to '/content/lightning_logs/version_2/checkpoints/epoch=1-step=100.ckpt' as top 1\n",
            "INFO:pytorch_lightning.utilities.rank_zero:Epoch 2, global step 150: 'train_loss' reached 5.35470 (best 5.35470), saving model to '/content/lightning_logs/version_2/checkpoints/epoch=2-step=150.ckpt' as top 1\n",
            "INFO:pytorch_lightning.utilities.rank_zero:Epoch 3, global step 200: 'train_loss' reached 5.05452 (best 5.05452), saving model to '/content/lightning_logs/version_2/checkpoints/epoch=3-step=200.ckpt' as top 1\n",
            "INFO:pytorch_lightning.utilities.rank_zero:Epoch 4, global step 250: 'train_loss' reached 5.01692 (best 5.01692), saving model to '/content/lightning_logs/version_2/checkpoints/epoch=4-step=250.ckpt' as top 1\n",
            "INFO:pytorch_lightning.utilities.rank_zero:Epoch 5, global step 300: 'train_loss' reached 4.93221 (best 4.93221), saving model to '/content/lightning_logs/version_2/checkpoints/epoch=5-step=300.ckpt' as top 1\n",
            "INFO:pytorch_lightning.utilities.rank_zero:Epoch 6, global step 350: 'train_loss' reached 4.92951 (best 4.92951), saving model to '/content/lightning_logs/version_2/checkpoints/epoch=6-step=350.ckpt' as top 1\n",
            "INFO:pytorch_lightning.utilities.rank_zero:Epoch 7, global step 400: 'train_loss' reached 4.69156 (best 4.69156), saving model to '/content/lightning_logs/version_2/checkpoints/epoch=7-step=400.ckpt' as top 1\n",
            "INFO:pytorch_lightning.utilities.rank_zero:Epoch 8, global step 450: 'train_loss' was not in top 1\n",
            "INFO:pytorch_lightning.utilities.rank_zero:Epoch 9, global step 500: 'train_loss' reached 4.68928 (best 4.68928), saving model to '/content/lightning_logs/version_2/checkpoints/epoch=9-step=500.ckpt' as top 1\n",
            "Running evaluation: 100%|██████████| 414/414 [00:00<00:00, 11018.17it/s]/usr/local/lib/python3.7/dist-packages/gluonts/evaluation/metrics.py:105: RuntimeWarning: divide by zero encountered in true_divide\n",
            "  return np.mean(np.abs(target - forecast)) / seasonal_error\n",
            "/usr/local/lib/python3.7/dist-packages/gluonts/evaluation/metrics.py:154: RuntimeWarning: divide by zero encountered in true_divide\n",
            "  return numerator / seasonal_error\n",
            "/usr/local/lib/python3.7/dist-packages/gluonts/evaluation/metrics.py:105: RuntimeWarning: divide by zero encountered in true_divide\n",
            "  return np.mean(np.abs(target - forecast)) / seasonal_error\n",
            "/usr/local/lib/python3.7/dist-packages/gluonts/evaluation/metrics.py:154: RuntimeWarning: divide by zero encountered in true_divide\n",
            "  return numerator / seasonal_error\n",
            "\n",
            "/usr/local/lib/python3.7/dist-packages/pandas/core/construction.py:759: UserWarning: Warning: converting a masked element to nan.\n",
            "  subarr = np.array(arr, dtype=dtype, copy=copy)\n",
            "\u001b[32m[I 2022-07-07 21:36:04,305]\u001b[0m Trial 1 finished with value: 0.06253481808904748 and parameters: {'num_layers': 4, 'hidden_size': 18}. Best is trial 1 with value: 0.06253481808904748.\u001b[0m\n",
            "/usr/local/lib/python3.7/dist-packages/pytorch_lightning/utilities/parsing.py:262: UserWarning: Attribute 'model' is an instance of `nn.Module` and is already saved during checkpointing. It is recommended to ignore them using `self.save_hyperparameters(ignore=['model'])`.\n",
            "  f\"Attribute {k!r} is an instance of `nn.Module` and is already saved during checkpointing.\"\n",
            "INFO:pytorch_lightning.utilities.rank_zero:GPU available: False, used: False\n",
            "INFO:pytorch_lightning.utilities.rank_zero:TPU available: False, using: 0 TPU cores\n",
            "INFO:pytorch_lightning.utilities.rank_zero:IPU available: False, using: 0 IPUs\n",
            "INFO:pytorch_lightning.utilities.rank_zero:HPU available: False, using: 0 HPUs\n",
            "/usr/local/lib/python3.7/dist-packages/pytorch_lightning/trainer/configuration_validator.py:133: UserWarning: You defined a `validation_step` but have no `val_dataloader`. Skipping val loop.\n",
            "  rank_zero_warn(\"You defined a `validation_step` but have no `val_dataloader`. Skipping val loop.\")\n",
            "INFO:pytorch_lightning.utilities.rank_zero:Epoch 0, global step 50: 'train_loss' reached 5.71073 (best 5.71073), saving model to '/content/lightning_logs/version_3/checkpoints/epoch=0-step=50.ckpt' as top 1\n",
            "INFO:pytorch_lightning.utilities.rank_zero:Epoch 1, global step 100: 'train_loss' reached 5.56699 (best 5.56699), saving model to '/content/lightning_logs/version_3/checkpoints/epoch=1-step=100.ckpt' as top 1\n",
            "INFO:pytorch_lightning.utilities.rank_zero:Epoch 2, global step 150: 'train_loss' reached 5.15717 (best 5.15717), saving model to '/content/lightning_logs/version_3/checkpoints/epoch=2-step=150.ckpt' as top 1\n",
            "INFO:pytorch_lightning.utilities.rank_zero:Epoch 3, global step 200: 'train_loss' reached 4.79370 (best 4.79370), saving model to '/content/lightning_logs/version_3/checkpoints/epoch=3-step=200.ckpt' as top 1\n",
            "INFO:pytorch_lightning.utilities.rank_zero:Epoch 4, global step 250: 'train_loss' was not in top 1\n",
            "INFO:pytorch_lightning.utilities.rank_zero:Epoch 5, global step 300: 'train_loss' reached 4.70556 (best 4.70556), saving model to '/content/lightning_logs/version_3/checkpoints/epoch=5-step=300.ckpt' as top 1\n",
            "INFO:pytorch_lightning.utilities.rank_zero:Epoch 6, global step 350: 'train_loss' reached 4.65053 (best 4.65053), saving model to '/content/lightning_logs/version_3/checkpoints/epoch=6-step=350.ckpt' as top 1\n",
            "INFO:pytorch_lightning.utilities.rank_zero:Epoch 7, global step 400: 'train_loss' reached 4.56285 (best 4.56285), saving model to '/content/lightning_logs/version_3/checkpoints/epoch=7-step=400.ckpt' as top 1\n",
            "INFO:pytorch_lightning.utilities.rank_zero:Epoch 8, global step 450: 'train_loss' was not in top 1\n",
            "INFO:pytorch_lightning.utilities.rank_zero:Epoch 9, global step 500: 'train_loss' reached 4.38244 (best 4.38244), saving model to '/content/lightning_logs/version_3/checkpoints/epoch=9-step=500.ckpt' as top 1\n",
            "Running evaluation: 100%|██████████| 414/414 [00:00<00:00, 10355.57it/s]/usr/local/lib/python3.7/dist-packages/gluonts/evaluation/metrics.py:105: RuntimeWarning: divide by zero encountered in true_divide\n",
            "  return np.mean(np.abs(target - forecast)) / seasonal_error\n",
            "/usr/local/lib/python3.7/dist-packages/gluonts/evaluation/metrics.py:154: RuntimeWarning: divide by zero encountered in true_divide\n",
            "  return numerator / seasonal_error\n",
            "/usr/local/lib/python3.7/dist-packages/gluonts/evaluation/metrics.py:105: RuntimeWarning: divide by zero encountered in true_divide\n",
            "  return np.mean(np.abs(target - forecast)) / seasonal_error\n",
            "/usr/local/lib/python3.7/dist-packages/gluonts/evaluation/metrics.py:154: RuntimeWarning: divide by zero encountered in true_divide\n",
            "  return numerator / seasonal_error\n",
            "\n",
            "/usr/local/lib/python3.7/dist-packages/pandas/core/construction.py:759: UserWarning: Warning: converting a masked element to nan.\n",
            "  subarr = np.array(arr, dtype=dtype, copy=copy)\n",
            "\u001b[32m[I 2022-07-07 21:37:48,692]\u001b[0m Trial 2 finished with value: 0.049934732952207274 and parameters: {'num_layers': 4, 'hidden_size': 50}. Best is trial 2 with value: 0.049934732952207274.\u001b[0m\n",
            "/usr/local/lib/python3.7/dist-packages/pytorch_lightning/utilities/parsing.py:262: UserWarning: Attribute 'model' is an instance of `nn.Module` and is already saved during checkpointing. It is recommended to ignore them using `self.save_hyperparameters(ignore=['model'])`.\n",
            "  f\"Attribute {k!r} is an instance of `nn.Module` and is already saved during checkpointing.\"\n",
            "INFO:pytorch_lightning.utilities.rank_zero:GPU available: False, used: False\n",
            "INFO:pytorch_lightning.utilities.rank_zero:TPU available: False, using: 0 TPU cores\n",
            "INFO:pytorch_lightning.utilities.rank_zero:IPU available: False, using: 0 IPUs\n",
            "INFO:pytorch_lightning.utilities.rank_zero:HPU available: False, using: 0 HPUs\n",
            "/usr/local/lib/python3.7/dist-packages/pytorch_lightning/trainer/configuration_validator.py:133: UserWarning: You defined a `validation_step` but have no `val_dataloader`. Skipping val loop.\n",
            "  rank_zero_warn(\"You defined a `validation_step` but have no `val_dataloader`. Skipping val loop.\")\n",
            "INFO:pytorch_lightning.utilities.rank_zero:Epoch 0, global step 50: 'train_loss' reached 6.30894 (best 6.30894), saving model to '/content/lightning_logs/version_4/checkpoints/epoch=0-step=50.ckpt' as top 1\n",
            "INFO:pytorch_lightning.utilities.rank_zero:Epoch 1, global step 100: 'train_loss' reached 5.63599 (best 5.63599), saving model to '/content/lightning_logs/version_4/checkpoints/epoch=1-step=100.ckpt' as top 1\n",
            "INFO:pytorch_lightning.utilities.rank_zero:Epoch 2, global step 150: 'train_loss' reached 5.40855 (best 5.40855), saving model to '/content/lightning_logs/version_4/checkpoints/epoch=2-step=150.ckpt' as top 1\n",
            "INFO:pytorch_lightning.utilities.rank_zero:Epoch 3, global step 200: 'train_loss' was not in top 1\n",
            "INFO:pytorch_lightning.utilities.rank_zero:Epoch 4, global step 250: 'train_loss' reached 5.25662 (best 5.25662), saving model to '/content/lightning_logs/version_4/checkpoints/epoch=4-step=250.ckpt' as top 1\n",
            "INFO:pytorch_lightning.utilities.rank_zero:Epoch 5, global step 300: 'train_loss' reached 4.96428 (best 4.96428), saving model to '/content/lightning_logs/version_4/checkpoints/epoch=5-step=300.ckpt' as top 1\n",
            "INFO:pytorch_lightning.utilities.rank_zero:Epoch 6, global step 350: 'train_loss' was not in top 1\n",
            "INFO:pytorch_lightning.utilities.rank_zero:Epoch 7, global step 400: 'train_loss' was not in top 1\n",
            "INFO:pytorch_lightning.utilities.rank_zero:Epoch 8, global step 450: 'train_loss' was not in top 1\n",
            "INFO:pytorch_lightning.utilities.rank_zero:Epoch 9, global step 500: 'train_loss' reached 4.56167 (best 4.56167), saving model to '/content/lightning_logs/version_4/checkpoints/epoch=9-step=500.ckpt' as top 1\n",
            "Running evaluation: 100%|██████████| 414/414 [00:00<00:00, 10588.51it/s]/usr/local/lib/python3.7/dist-packages/gluonts/evaluation/metrics.py:105: RuntimeWarning: divide by zero encountered in true_divide\n",
            "  return np.mean(np.abs(target - forecast)) / seasonal_error\n",
            "/usr/local/lib/python3.7/dist-packages/gluonts/evaluation/metrics.py:105: RuntimeWarning: divide by zero encountered in true_divide\n",
            "  return np.mean(np.abs(target - forecast)) / seasonal_error\n",
            "/usr/local/lib/python3.7/dist-packages/gluonts/evaluation/metrics.py:154: RuntimeWarning: divide by zero encountered in true_divide\n",
            "  return numerator / seasonal_error\n",
            "/usr/local/lib/python3.7/dist-packages/gluonts/evaluation/metrics.py:154: RuntimeWarning: divide by zero encountered in true_divide\n",
            "  return numerator / seasonal_error\n",
            "\n",
            "/usr/local/lib/python3.7/dist-packages/pandas/core/construction.py:759: UserWarning: Warning: converting a masked element to nan.\n",
            "  subarr = np.array(arr, dtype=dtype, copy=copy)\n",
            "\u001b[32m[I 2022-07-07 21:38:55,766]\u001b[0m Trial 3 finished with value: 0.07306459051489501 and parameters: {'num_layers': 4, 'hidden_size': 13}. Best is trial 2 with value: 0.049934732952207274.\u001b[0m\n",
            "/usr/local/lib/python3.7/dist-packages/pytorch_lightning/utilities/parsing.py:262: UserWarning: Attribute 'model' is an instance of `nn.Module` and is already saved during checkpointing. It is recommended to ignore them using `self.save_hyperparameters(ignore=['model'])`.\n",
            "  f\"Attribute {k!r} is an instance of `nn.Module` and is already saved during checkpointing.\"\n",
            "INFO:pytorch_lightning.utilities.rank_zero:GPU available: False, used: False\n",
            "INFO:pytorch_lightning.utilities.rank_zero:TPU available: False, using: 0 TPU cores\n",
            "INFO:pytorch_lightning.utilities.rank_zero:IPU available: False, using: 0 IPUs\n",
            "INFO:pytorch_lightning.utilities.rank_zero:HPU available: False, using: 0 HPUs\n",
            "/usr/local/lib/python3.7/dist-packages/pytorch_lightning/trainer/configuration_validator.py:133: UserWarning: You defined a `validation_step` but have no `val_dataloader`. Skipping val loop.\n",
            "  rank_zero_warn(\"You defined a `validation_step` but have no `val_dataloader`. Skipping val loop.\")\n",
            "INFO:pytorch_lightning.utilities.rank_zero:Epoch 0, global step 50: 'train_loss' reached 6.55855 (best 6.55855), saving model to '/content/lightning_logs/version_5/checkpoints/epoch=0-step=50.ckpt' as top 1\n",
            "INFO:pytorch_lightning.utilities.rank_zero:Epoch 1, global step 100: 'train_loss' reached 5.67933 (best 5.67933), saving model to '/content/lightning_logs/version_5/checkpoints/epoch=1-step=100.ckpt' as top 1\n",
            "INFO:pytorch_lightning.utilities.rank_zero:Epoch 2, global step 150: 'train_loss' reached 5.36979 (best 5.36979), saving model to '/content/lightning_logs/version_5/checkpoints/epoch=2-step=150.ckpt' as top 1\n",
            "INFO:pytorch_lightning.utilities.rank_zero:Epoch 3, global step 200: 'train_loss' reached 5.17555 (best 5.17555), saving model to '/content/lightning_logs/version_5/checkpoints/epoch=3-step=200.ckpt' as top 1\n",
            "INFO:pytorch_lightning.utilities.rank_zero:Epoch 4, global step 250: 'train_loss' reached 5.17363 (best 5.17363), saving model to '/content/lightning_logs/version_5/checkpoints/epoch=4-step=250.ckpt' as top 1\n",
            "INFO:pytorch_lightning.utilities.rank_zero:Epoch 5, global step 300: 'train_loss' reached 5.13930 (best 5.13930), saving model to '/content/lightning_logs/version_5/checkpoints/epoch=5-step=300.ckpt' as top 1\n",
            "INFO:pytorch_lightning.utilities.rank_zero:Epoch 6, global step 350: 'train_loss' reached 4.80686 (best 4.80686), saving model to '/content/lightning_logs/version_5/checkpoints/epoch=6-step=350.ckpt' as top 1\n",
            "INFO:pytorch_lightning.utilities.rank_zero:Epoch 7, global step 400: 'train_loss' reached 4.77534 (best 4.77534), saving model to '/content/lightning_logs/version_5/checkpoints/epoch=7-step=400.ckpt' as top 1\n",
            "INFO:pytorch_lightning.utilities.rank_zero:Epoch 8, global step 450: 'train_loss' reached 4.72649 (best 4.72649), saving model to '/content/lightning_logs/version_5/checkpoints/epoch=8-step=450.ckpt' as top 1\n",
            "INFO:pytorch_lightning.utilities.rank_zero:Epoch 9, global step 500: 'train_loss' was not in top 1\n",
            "Running evaluation: 100%|██████████| 414/414 [00:00<00:00, 8862.70it/s]/usr/local/lib/python3.7/dist-packages/gluonts/evaluation/metrics.py:105: RuntimeWarning: divide by zero encountered in true_divide\n",
            "  return np.mean(np.abs(target - forecast)) / seasonal_error\n",
            "/usr/local/lib/python3.7/dist-packages/gluonts/evaluation/metrics.py:105: RuntimeWarning: divide by zero encountered in true_divide\n",
            "  return np.mean(np.abs(target - forecast)) / seasonal_error\n",
            "/usr/local/lib/python3.7/dist-packages/gluonts/evaluation/metrics.py:154: RuntimeWarning: divide by zero encountered in true_divide\n",
            "  return numerator / seasonal_error\n",
            "/usr/local/lib/python3.7/dist-packages/gluonts/evaluation/metrics.py:154: RuntimeWarning: divide by zero encountered in true_divide\n",
            "  return numerator / seasonal_error\n",
            "\n",
            "/usr/local/lib/python3.7/dist-packages/pandas/core/construction.py:759: UserWarning: Warning: converting a masked element to nan.\n",
            "  subarr = np.array(arr, dtype=dtype, copy=copy)\n",
            "\u001b[32m[I 2022-07-07 21:39:49,234]\u001b[0m Trial 4 finished with value: 0.05254804899762434 and parameters: {'num_layers': 3, 'hidden_size': 12}. Best is trial 2 with value: 0.049934732952207274.\u001b[0m\n"
          ]
        },
        {
          "output_type": "stream",
          "name": "stdout",
          "text": [
            "Number of finished trials: 5\n",
            "Best trial:\n",
            "  Value: 0.049934732952207274\n",
            "  Params: \n",
            "    num_layers: 4\n",
            "    hidden_size: 50\n",
            "352.378821849823\n"
          ]
        }
      ]
    },
    {
      "cell_type": "markdown",
      "source": [
        "## Re-training the model\n",
        "After getting the best hyperparameters by optuna, you can set them into the DeepAR estimator to re-train the model on the whole training subset we consider here."
      ],
      "metadata": {
        "id": "EunlxoHZm72P"
      }
    },
    {
      "cell_type": "code",
      "source": [
        "estimator = DeepAREstimator(\n",
        "    num_layers=trial.params[\"num_layers\"],\n",
        "    hidden_size=trial.params[\"hidden_size\"],\n",
        "    prediction_length=dataset.metadata.prediction_length,\n",
        "    context_length=100,\n",
        "    freq=dataset.metadata.freq,\n",
        "    trainer_kwargs={\n",
        "        \"enable_progress_bar\": False,\n",
        "        \"enable_model_summary\": False,\n",
        "        \"max_epochs\": 10,\n",
        "    }\n",
        ")"
      ],
      "metadata": {
        "id": "hzmEXzbuld2p"
      },
      "execution_count": 15,
      "outputs": []
    },
    {
      "cell_type": "markdown",
      "source": [
        "After specifying our estimator with all the necessary hyperparameters we can train it using our training dataset train_subset by invoking the train method of the estimator. The training algorithm returns a fitted model (or a Predictor in GluonTS parlance) that can be used to obtain forecasts."
      ],
      "metadata": {
        "id": "aDyZbBF9nBno"
      }
    },
    {
      "cell_type": "code",
      "source": [
        "predictor = estimator.train(dataset.train, cache_data=True)"
      ],
      "metadata": {
        "colab": {
          "base_uri": "https://localhost:8080/"
        },
        "id": "6iw3tayjm-XX",
        "outputId": "20225136-5448-4d4c-cfba-cfce4364b76d"
      },
      "execution_count": 16,
      "outputs": [
        {
          "output_type": "stream",
          "name": "stderr",
          "text": [
            "/usr/local/lib/python3.7/dist-packages/pytorch_lightning/utilities/parsing.py:262: UserWarning: Attribute 'model' is an instance of `nn.Module` and is already saved during checkpointing. It is recommended to ignore them using `self.save_hyperparameters(ignore=['model'])`.\n",
            "  f\"Attribute {k!r} is an instance of `nn.Module` and is already saved during checkpointing.\"\n",
            "INFO:pytorch_lightning.utilities.rank_zero:GPU available: False, used: False\n",
            "INFO:pytorch_lightning.utilities.rank_zero:TPU available: False, using: 0 TPU cores\n",
            "INFO:pytorch_lightning.utilities.rank_zero:IPU available: False, using: 0 IPUs\n",
            "INFO:pytorch_lightning.utilities.rank_zero:HPU available: False, using: 0 HPUs\n",
            "/usr/local/lib/python3.7/dist-packages/pytorch_lightning/trainer/configuration_validator.py:133: UserWarning: You defined a `validation_step` but have no `val_dataloader`. Skipping val loop.\n",
            "  rank_zero_warn(\"You defined a `validation_step` but have no `val_dataloader`. Skipping val loop.\")\n",
            "INFO:pytorch_lightning.utilities.rank_zero:Epoch 0, global step 50: 'train_loss' reached 5.80048 (best 5.80048), saving model to '/content/lightning_logs/version_6/checkpoints/epoch=0-step=50.ckpt' as top 1\n",
            "INFO:pytorch_lightning.utilities.rank_zero:Epoch 1, global step 100: 'train_loss' reached 5.57520 (best 5.57520), saving model to '/content/lightning_logs/version_6/checkpoints/epoch=1-step=100.ckpt' as top 1\n",
            "INFO:pytorch_lightning.utilities.rank_zero:Epoch 2, global step 150: 'train_loss' reached 4.98633 (best 4.98633), saving model to '/content/lightning_logs/version_6/checkpoints/epoch=2-step=150.ckpt' as top 1\n",
            "INFO:pytorch_lightning.utilities.rank_zero:Epoch 3, global step 200: 'train_loss' reached 4.77211 (best 4.77211), saving model to '/content/lightning_logs/version_6/checkpoints/epoch=3-step=200.ckpt' as top 1\n",
            "INFO:pytorch_lightning.utilities.rank_zero:Epoch 4, global step 250: 'train_loss' was not in top 1\n",
            "INFO:pytorch_lightning.utilities.rank_zero:Epoch 5, global step 300: 'train_loss' reached 4.66121 (best 4.66121), saving model to '/content/lightning_logs/version_6/checkpoints/epoch=5-step=300.ckpt' as top 1\n",
            "INFO:pytorch_lightning.utilities.rank_zero:Epoch 6, global step 350: 'train_loss' was not in top 1\n",
            "INFO:pytorch_lightning.utilities.rank_zero:Epoch 7, global step 400: 'train_loss' reached 4.19566 (best 4.19566), saving model to '/content/lightning_logs/version_6/checkpoints/epoch=7-step=400.ckpt' as top 1\n",
            "INFO:pytorch_lightning.utilities.rank_zero:Epoch 8, global step 450: 'train_loss' was not in top 1\n",
            "INFO:pytorch_lightning.utilities.rank_zero:Epoch 9, global step 500: 'train_loss' reached 4.16652 (best 4.16652), saving model to '/content/lightning_logs/version_6/checkpoints/epoch=9-step=500.ckpt' as top 1\n"
          ]
        }
      ]
    },
    {
      "cell_type": "markdown",
      "source": [
        "## Visualize and evaluate forecasts\n",
        "With a predictor in hand, we can now predict the last window of the test dataset and evaluate our model’s performance.\n",
        "\n",
        "GluonTS comes with the make_evaluation_predictions function that automates the process of prediction and model evaluation. Roughly, this function performs the following steps:\n",
        "\n",
        "- Removes the final window of length prediction_length of the test dataset that we want to predict移除我们要预测的测试数据集的最后一个长度为prediction_length的窗口\n",
        "- The estimator uses the remaining data to predict (in the form of sample paths) the “future” window that was just removed估算器使用剩余的数据来预测（以样本路径的形式）刚刚删除的 \"未来 \"窗口\n",
        "\n",
        "- The forecasts are returned, together with ground truth values for the same time range (as python generator objects)预测结果与同一时间范围内的基础真实值一起返回（作为python生成器对象）。"
      ],
      "metadata": {
        "id": "WPadpdtvnIWw"
      }
    },
    {
      "cell_type": "code",
      "source": [
        "from gluonts.evaluation import make_evaluation_predictions\n",
        "forecast_it, ts_it = make_evaluation_predictions(\n",
        "    dataset=dataset.test,\n",
        "    predictor=predictor\n",
        ")"
      ],
      "metadata": {
        "id": "FEE_poilnEQY"
      },
      "execution_count": 19,
      "outputs": []
    },
    {
      "cell_type": "code",
      "source": [
        "forecasts = list(forecast_it)\n",
        "tss = list(ts_it)"
      ],
      "metadata": {
        "id": "Suk3yb4QoPE8"
      },
      "execution_count": 20,
      "outputs": []
    },
    {
      "cell_type": "code",
      "source": [
        "def plot_prob_forecasts(ts_entry, forecast_entry):\n",
        "    plot_length = 150\n",
        "    prediction_intervals = (50.0, 90.0)\n",
        "    legend = [\"observations\", \"median prediction\"] + [f\"{k}% prediction interval\" for k in prediction_intervals][::-1]\n",
        "\n",
        "    fig, ax = plt.subplots(1, 1, figsize=(10, 7))\n",
        "    ts_entry[-plot_length:].plot(ax=ax)  # plot the time series\n",
        "    forecast_entry.plot(prediction_intervals=prediction_intervals, color='g')\n",
        "    plt.grid(which=\"both\")\n",
        "    plt.legend(legend, loc=\"upper left\")\n",
        "    plt.show()"
      ],
      "metadata": {
        "id": "W6bDzCdRoQ2I"
      },
      "execution_count": 21,
      "outputs": []
    },
    {
      "cell_type": "code",
      "source": [
        "plot_prob_forecasts(tss[0], forecasts[0])"
      ],
      "metadata": {
        "colab": {
          "base_uri": "https://localhost:8080/",
          "height": 452
        },
        "id": "S-bZb2tRkmdx",
        "outputId": "dcf8d354-1bc3-46d1-8f33-2753feaad1b7"
      },
      "execution_count": 22,
      "outputs": [
        {
          "output_type": "display_data",
          "data": {
            "text/plain": [
              "<Figure size 720x504 with 1 Axes>"
            ],
            "image/png": "[encoded data removed]"
          },
          "metadata": {
            "needs_background": "light"
          }
        }
      ]
    },
    {
      "cell_type": "markdown",
      "source": [
        "## Quantitative\n",
        "We can also evaluate the quality of our forecasts numerically. In GluonTS, the Evaluator class can compute aggregate performance metrics, as well as metrics per time series (which can be useful for analyzing performance across heterogeneous time series)."
      ],
      "metadata": {
        "id": "7uEv4m8Fo6dr"
      }
    },
    {
      "cell_type": "code",
      "source": [
        "from gluonts.evaluation import Evaluator"
      ],
      "metadata": {
        "id": "dxCz3_iqoz3G"
      },
      "execution_count": 23,
      "outputs": []
    },
    {
      "cell_type": "code",
      "source": [
        "evaluator = Evaluator(quantiles=[0.1, 0.5, 0.9])\n",
        "agg_metrics, item_metrics = evaluator(tss, forecasts)\n"
      ],
      "metadata": {
        "colab": {
          "base_uri": "https://localhost:8080/"
        },
        "id": "GJcTdRPio3aY",
        "outputId": "f9170117-bcee-432c-8c24-83413489e885"
      },
      "execution_count": 24,
      "outputs": [
        {
          "output_type": "stream",
          "name": "stderr",
          "text": [
            "Running evaluation: 414it [00:00, 10771.90it/s]\n"
          ]
        }
      ]
    },
    {
      "cell_type": "code",
      "source": [
        "print(json.dumps(agg_metrics, indent=4))"
      ],
      "metadata": {
        "colab": {
          "base_uri": "https://localhost:8080/"
        },
        "id": "0kPEgw1epDb6",
        "outputId": "65e8700a-ea5f-48df-f475-35b6194a83f0"
      },
      "execution_count": 25,
      "outputs": [
        {
          "output_type": "stream",
          "name": "stdout",
          "text": [
            "{\n",
            "    \"MSE\": 4951328.627908117,\n",
            "    \"abs_error\": 9306642.709573746,\n",
            "    \"abs_target_sum\": 145558863.59960938,\n",
            "    \"abs_target_mean\": 7324.822041043146,\n",
            "    \"seasonal_error\": 336.9046924038305,\n",
            "    \"MASE\": 4.175822464810799,\n",
            "    \"MAPE\": 0.19722115488995867,\n",
            "    \"sMAPE\": 0.16208421747873564,\n",
            "    \"MSIS\": 27.69610063288209,\n",
            "    \"QuantileLoss[0.1]\": 4589631.002118968,\n",
            "    \"Coverage[0.1]\": 0.1674718196457327,\n",
            "    \"QuantileLoss[0.5]\": 9306642.858373642,\n",
            "    \"Coverage[0.5]\": 0.6825181159420289,\n",
            "    \"QuantileLoss[0.9]\": 4267563.337557029,\n",
            "    \"Coverage[0.9]\": 0.8816425120772947,\n",
            "    \"RMSE\": 2225.1581130131217,\n",
            "    \"NRMSE\": 0.3037832319399573,\n",
            "    \"ND\": 0.06393731360237634,\n",
            "    \"wQuantileLoss[0.1]\": 0.031531099437157775,\n",
            "    \"wQuantileLoss[0.5]\": 0.06393731462464246,\n",
            "    \"wQuantileLoss[0.9]\": 0.02931847111211221,\n",
            "    \"mean_absolute_QuantileLoss\": 6054612.3993498795,\n",
            "    \"mean_wQuantileLoss\": 0.041595628391304144,\n",
            "    \"MAE_Coverage\": 0.08944914117015564,\n",
            "    \"OWA\": NaN\n",
            "}\n"
          ]
        }
      ]
    },
    {
      "cell_type": "code",
      "source": [
        "item_metrics.head()"
      ],
      "metadata": {
        "colab": {
          "base_uri": "https://localhost:8080/",
          "height": 270
        },
        "id": "5YCtDCAGpFgK",
        "outputId": "1e58b8d9-8e53-4231-928d-28f7f020c057"
      },
      "execution_count": 26,
      "outputs": [
        {
          "output_type": "execute_result",
          "data": {
            "text/plain": [
              "   item_id            MSE     abs_error  abs_target_sum  abs_target_mean  \\\n",
              "0      0.0    1754.649902   1771.133789         31644.0       659.250000   \n",
              "1      1.0  273928.270833  24805.832031        124149.0      2586.437500   \n",
              "2      2.0   49424.302083   8367.559570         65030.0      1354.791667   \n",
              "3      3.0  208089.645833  17559.128906        235783.0      4912.145833   \n",
              "4      4.0   47106.937500   7359.845215        131088.0      2731.000000   \n",
              "\n",
              "   seasonal_error      MASE      MAPE     sMAPE        ND       MSIS  \\\n",
              "0       42.371302  0.870840  0.060458  0.058184  0.055971   4.859754   \n",
              "1      165.107988  3.130001  0.215038  0.192020  0.199807  30.052289   \n",
              "2       78.889053  2.209738  0.114465  0.124510  0.128672  34.737868   \n",
              "3      258.982249  1.412511  0.079156  0.075438  0.074472   8.012938   \n",
              "4      200.494083  0.764761  0.048226  0.049698  0.056144   4.341211   \n",
              "\n",
              "   QuantileLoss[0.1]  Coverage[0.1]  QuantileLoss[0.5]  Coverage[0.5]  \\\n",
              "0         518.780579       0.333333        1771.133728       0.895833   \n",
              "1       24338.397900       0.937500       24805.832031       1.000000   \n",
              "2        2372.536182       0.000000        8367.559875       0.125000   \n",
              "3       11868.152441       0.291667       17559.130127       0.708333   \n",
              "4        2848.810962       0.000000        7359.845093       0.375000   \n",
              "\n",
              "   QuantileLoss[0.9]  Coverage[0.9]  \n",
              "0         825.809888       1.000000  \n",
              "1        7113.391064       1.000000  \n",
              "2        9540.901050       0.375000  \n",
              "3        7346.347559       0.895833  \n",
              "4        5409.664893       0.729167  "
            ],
            "text/html": [
              "\n",
              "  <div id=\"df-b1115e0f-af28-4082-9c33-d0122440abf8\">\n",
              "    <div class=\"colab-df-container\">\n",
              "      <div>\n",
              "<style scoped>\n",
              "    .dataframe tbody tr th:only-of-type {\n",
              "        vertical-align: middle;\n",
              "    }\n",
              "\n",
              "    .dataframe tbody tr th {\n",
              "        vertical-align: top;\n",
              "    }\n",
              "\n",
              "    .dataframe thead th {\n",
              "        text-align: right;\n",
              "    }\n",
              "</style>\n",
              "<table border=\"1\" class=\"dataframe\">\n",
              "  <thead>\n",
              "    <tr style=\"text-align: right;\">\n",
              "      <th></th>\n",
              "      <th>item_id</th>\n",
              "      <th>MSE</th>\n",
              "      <th>abs_error</th>\n",
              "      <th>abs_target_sum</th>\n",
              "      <th>abs_target_mean</th>\n",
              "      <th>seasonal_error</th>\n",
              "      <th>MASE</th>\n",
              "      <th>MAPE</th>\n",
              "      <th>sMAPE</th>\n",
              "      <th>ND</th>\n",
              "      <th>MSIS</th>\n",
              "      <th>QuantileLoss[0.1]</th>\n",
              "      <th>Coverage[0.1]</th>\n",
              "      <th>QuantileLoss[0.5]</th>\n",
              "      <th>Coverage[0.5]</th>\n",
              "      <th>QuantileLoss[0.9]</th>\n",
              "      <th>Coverage[0.9]</th>\n",
              "    </tr>\n",
              "  </thead>\n",
              "  <tbody>\n",
              "    <tr>\n",
              "      <th>0</th>\n",
              "      <td>0.0</td>\n",
              "      <td>1754.649902</td>\n",
              "      <td>1771.133789</td>\n",
              "      <td>31644.0</td>\n",
              "      <td>659.250000</td>\n",
              "      <td>42.371302</td>\n",
              "      <td>0.870840</td>\n",
              "      <td>0.060458</td>\n",
              "      <td>0.058184</td>\n",
              "      <td>0.055971</td>\n",
              "      <td>4.859754</td>\n",
              "      <td>518.780579</td>\n",
              "      <td>0.333333</td>\n",
              "      <td>1771.133728</td>\n",
              "      <td>0.895833</td>\n",
              "      <td>825.809888</td>\n",
              "      <td>1.000000</td>\n",
              "    </tr>\n",
              "    <tr>\n",
              "      <th>1</th>\n",
              "      <td>1.0</td>\n",
              "      <td>273928.270833</td>\n",
              "      <td>24805.832031</td>\n",
              "      <td>124149.0</td>\n",
              "      <td>2586.437500</td>\n",
              "      <td>165.107988</td>\n",
              "      <td>3.130001</td>\n",
              "      <td>0.215038</td>\n",
              "      <td>0.192020</td>\n",
              "      <td>0.199807</td>\n",
              "      <td>30.052289</td>\n",
              "      <td>24338.397900</td>\n",
              "      <td>0.937500</td>\n",
              "      <td>24805.832031</td>\n",
              "      <td>1.000000</td>\n",
              "      <td>7113.391064</td>\n",
              "      <td>1.000000</td>\n",
              "    </tr>\n",
              "    <tr>\n",
              "      <th>2</th>\n",
              "      <td>2.0</td>\n",
              "      <td>49424.302083</td>\n",
              "      <td>8367.559570</td>\n",
              "      <td>65030.0</td>\n",
              "      <td>1354.791667</td>\n",
              "      <td>78.889053</td>\n",
              "      <td>2.209738</td>\n",
              "      <td>0.114465</td>\n",
              "      <td>0.124510</td>\n",
              "      <td>0.128672</td>\n",
              "      <td>34.737868</td>\n",
              "      <td>2372.536182</td>\n",
              "      <td>0.000000</td>\n",
              "      <td>8367.559875</td>\n",
              "      <td>0.125000</td>\n",
              "      <td>9540.901050</td>\n",
              "      <td>0.375000</td>\n",
              "    </tr>\n",
              "    <tr>\n",
              "      <th>3</th>\n",
              "      <td>3.0</td>\n",
              "      <td>208089.645833</td>\n",
              "      <td>17559.128906</td>\n",
              "      <td>235783.0</td>\n",
              "      <td>4912.145833</td>\n",
              "      <td>258.982249</td>\n",
              "      <td>1.412511</td>\n",
              "      <td>0.079156</td>\n",
              "      <td>0.075438</td>\n",
              "      <td>0.074472</td>\n",
              "      <td>8.012938</td>\n",
              "      <td>11868.152441</td>\n",
              "      <td>0.291667</td>\n",
              "      <td>17559.130127</td>\n",
              "      <td>0.708333</td>\n",
              "      <td>7346.347559</td>\n",
              "      <td>0.895833</td>\n",
              "    </tr>\n",
              "    <tr>\n",
              "      <th>4</th>\n",
              "      <td>4.0</td>\n",
              "      <td>47106.937500</td>\n",
              "      <td>7359.845215</td>\n",
              "      <td>131088.0</td>\n",
              "      <td>2731.000000</td>\n",
              "      <td>200.494083</td>\n",
              "      <td>0.764761</td>\n",
              "      <td>0.048226</td>\n",
              "      <td>0.049698</td>\n",
              "      <td>0.056144</td>\n",
              "      <td>4.341211</td>\n",
              "      <td>2848.810962</td>\n",
              "      <td>0.000000</td>\n",
              "      <td>7359.845093</td>\n",
              "      <td>0.375000</td>\n",
              "      <td>5409.664893</td>\n",
              "      <td>0.729167</td>\n",
              "    </tr>\n",
              "  </tbody>\n",
              "</table>\n",
              "</div>\n",
              "      <button class=\"colab-df-convert\" onclick=\"convertToInteractive('df-b1115e0f-af28-4082-9c33-d0122440abf8')\"\n",
              "              title=\"Convert this dataframe to an interactive table.\"\n",
              "              style=\"display:none;\">\n",
              "        \n",
              "  <svg xmlns=\"http://www.w3.org/2000/svg\" height=\"24px\"viewBox=\"0 0 24 24\"\n",
              "       width=\"24px\">\n",
              "    <path d=\"M0 0h24v24H0V0z\" fill=\"none\"/>\n",
              "    <path d=\"M18.56 5.44l.94 2.06.94-2.06 2.06-.94-2.06-.94-.94-2.06-.94 2.06-2.06.94zm-11 1L8.5 8.5l.94-2.06 2.06-.94-2.06-.94L8.5 2.5l-.94 2.06-2.06.94zm10 10l.94 2.06.94-2.06 2.06-.94-2.06-.94-.94-2.06-.94 2.06-2.06.94z\"/><path d=\"M17.41 7.96l-1.37-1.37c-.4-.4-.92-.59-1.43-.59-.52 0-1.04.2-1.43.59L10.3 9.45l-7.72 7.72c-.78.78-.78 2.05 0 2.83L4 21.41c.39.39.9.59 1.41.59.51 0 1.02-.2 1.41-.59l7.78-7.78 2.81-2.81c.8-.78.8-2.07 0-2.86zM5.41 20L4 18.59l7.72-7.72 1.47 1.35L5.41 20z\"/>\n",
              "  </svg>\n",
              "      </button>\n",
              "      \n",
              "  <style>\n",
              "    .colab-df-container {\n",
              "      display:flex;\n",
              "      flex-wrap:wrap;\n",
              "      gap: 12px;\n",
              "    }\n",
              "\n",
              "    .colab-df-convert {\n",
              "      background-color: #E8F0FE;\n",
              "      border: none;\n",
              "      border-radius: 50%;\n",
              "      cursor: pointer;\n",
              "      display: none;\n",
              "      fill: #1967D2;\n",
              "      height: 32px;\n",
              "      padding: 0 0 0 0;\n",
              "      width: 32px;\n",
              "    }\n",
              "\n",
              "    .colab-df-convert:hover {\n",
              "      background-color: #E2EBFA;\n",
              "      box-shadow: 0px 1px 2px rgba(60, 64, 67, 0.3), 0px 1px 3px 1px rgba(60, 64, 67, 0.15);\n",
              "      fill: #174EA6;\n",
              "    }\n",
              "\n",
              "    [theme=dark] .colab-df-convert {\n",
              "      background-color: #3B4455;\n",
              "      fill: #D2E3FC;\n",
              "    }\n",
              "\n",
              "    [theme=dark] .colab-df-convert:hover {\n",
              "      background-color: #434B5C;\n",
              "      box-shadow: 0px 1px 3px 1px rgba(0, 0, 0, 0.15);\n",
              "      filter: drop-shadow(0px 1px 2px rgba(0, 0, 0, 0.3));\n",
              "      fill: #FFFFFF;\n",
              "    }\n",
              "  </style>\n",
              "\n",
              "      <script>\n",
              "        const buttonEl =\n",
              "          document.querySelector('#df-b1115e0f-af28-4082-9c33-d0122440abf8 button.colab-df-convert');\n",
              "        buttonEl.style.display =\n",
              "          google.colab.kernel.accessAllowed ? 'block' : 'none';\n",
              "\n",
              "        async function convertToInteractive(key) {\n",
              "          const element = document.querySelector('#df-b1115e0f-af28-4082-9c33-d0122440abf8');\n",
              "          const dataTable =\n",
              "            await google.colab.kernel.invokeFunction('convertToInteractive',\n",
              "                                                     [key], {});\n",
              "          if (!dataTable) return;\n",
              "\n",
              "          const docLinkHtml = 'Like what you see? Visit the ' +\n",
              "            '<a target=\"_blank\" href=https://colab.research.google.com/notebooks/data_table.ipynb>data table notebook</a>'\n",
              "            + ' to learn more about interactive tables.';\n",
              "          element.innerHTML = '';\n",
              "          dataTable['output_type'] = 'display_data';\n",
              "          await google.colab.output.renderOutput(dataTable, element);\n",
              "          const docLink = document.createElement('div');\n",
              "          docLink.innerHTML = docLinkHtml;\n",
              "          element.appendChild(docLink);\n",
              "        }\n",
              "      </script>\n",
              "    </div>\n",
              "  </div>\n",
              "  "
            ]
          },
          "metadata": {},
          "execution_count": 26
        }
      ]
    },
    {
      "cell_type": "code",
      "source": [
        "item_metrics.plot(x='sMAPE', y='MASE', kind='scatter')\n",
        "plt.grid(which=\"both\")\n",
        "plt.show()"
      ],
      "metadata": {
        "colab": {
          "base_uri": "https://localhost:8080/",
          "height": 279
        },
        "id": "ytCusvQzpG6B",
        "outputId": "e055c22f-809c-4a13-a422-83b637af572b"
      },
      "execution_count": 27,
      "outputs": [
        {
          "output_type": "display_data",
          "data": {
            "text/plain": [
              "<Figure size 432x288 with 1 Axes>"
            ],
            "image/png": "[encoded data removed]"
          },
          "metadata": {
            "needs_background": "light"
          }
        }
      ]
    },
    {
      "cell_type": "code",
      "source": [
        ""
      ],
      "metadata": {
        "id": "6j0rE2BvpIkk"
      },
      "execution_count": null,
      "outputs": []
    }
  ]
}