{
  "nbformat": 4,
  "nbformat_minor": 0,
  "metadata": {
    "colab": {
      "name": "VAE_for_generate.ipynb",
      "provenance": [],
      "collapsed_sections": [],
      "authorship_tag": "ABX9TyOBnsPxPEOBHVTDfECSHPS+",
      "include_colab_link": true
    },
    "kernelspec": {
      "name": "python3",
      "display_name": "Python 3"
    },
    "language_info": {
      "name": "python"
    },
    "accelerator": "GPU",
    "gpuClass": "standard"
  },
  "cells": [
    {
      "cell_type": "markdown",
      "metadata": {
        "id": "view-in-github",
        "colab_type": "text"
      },
      "source": [
        "<a href=\"https://colab.research.google.com/github/CristinaMarsh/Learning_/blob/main/Experiment/VAE_for_generate.ipynb\" target=\"_parent\"><img src=\"https://colab.research.google.com/assets/colab-badge.svg\" alt=\"Open In Colab\"/></a>"
      ]
    },
    {
      "cell_type": "code",
      "execution_count": 1,
      "metadata": {
        "colab": {
          "base_uri": "https://localhost:8080/"
        },
        "id": "y5-V9JmPLGF0",
        "outputId": "db1d5c2f-8e74-4d59-cc71-b2dd8f1f03b4"
      },
      "outputs": [
        {
          "output_type": "stream",
          "name": "stdout",
          "text": [
            "Cloning into 'AugmentTS'...\n",
            "remote: Enumerating objects: 159, done.\u001b[K\n",
            "remote: Counting objects: 100% (159/159), done.\u001b[K\n",
            "remote: Compressing objects: 100% (122/122), done.\u001b[K\n",
            "remote: Total 159 (delta 81), reused 74 (delta 29), pack-reused 0\u001b[K\n",
            "Receiving objects: 100% (159/159), 402.59 KiB | 3.53 MiB/s, done.\n",
            "Resolving deltas: 100% (81/81), done.\n"
          ]
        }
      ],
      "source": [
        "! git clone https://github.com/DrSasanBarak/AugmentTS.git"
      ]
    },
    {
      "cell_type": "code",
      "source": [
        "%cd AugmentTS/"
      ],
      "metadata": {
        "colab": {
          "base_uri": "https://localhost:8080/"
        },
        "id": "alwH9hviLJCs",
        "outputId": "e064db16-c0b5-44f4-8e2c-5e25b36cd511"
      },
      "execution_count": 2,
      "outputs": [
        {
          "output_type": "stream",
          "name": "stdout",
          "text": [
            "/content/AugmentTS\n"
          ]
        }
      ]
    },
    {
      "cell_type": "code",
      "source": [
        "pip install ."
      ],
      "metadata": {
        "colab": {
          "base_uri": "https://localhost:8080/"
        },
        "id": "U9sRbhkcLNsc",
        "outputId": "39675359-22d1-4b0b-fb4c-731a6e6ad5dc"
      },
      "execution_count": 4,
      "outputs": [
        {
          "output_type": "stream",
          "name": "stdout",
          "text": [
            "Looking in indexes: https://pypi.org/simple, https://us-python.pkg.dev/colab-wheels/public/simple/\n",
            "Processing /content/AugmentTS\n",
            "\u001b[33m  DEPRECATION: A future pip version will change local packages to be built in-place without first copying to a temporary directory. We recommend you use --use-feature=in-tree-build to test your packages with this new behavior before it becomes the default.\n",
            "   pip 21.3 will remove support for this functionality. You can find discussion regarding this at https://github.com/pypa/pip/issues/7555.\u001b[0m\n",
            "Requirement already satisfied: tensorflow>=2.0.0 in /usr/local/lib/python3.7/dist-packages (from AugmentTS==0.1.0) (2.8.2+zzzcolab20220629235552)\n",
            "Requirement already satisfied: keras in /usr/local/lib/python3.7/dist-packages (from AugmentTS==0.1.0) (2.8.0)\n",
            "Collecting tensorflow_addons\n",
            "  Downloading tensorflow_addons-0.17.1-cp37-cp37m-manylinux_2_17_x86_64.manylinux2014_x86_64.whl (1.1 MB)\n",
            "\u001b[K     |████████████████████████████████| 1.1 MB 14.1 MB/s \n",
            "\u001b[?25hCollecting sktime>=0.7.0\n",
            "  Downloading sktime-0.12.1-py3-none-any.whl (6.8 MB)\n",
            "\u001b[K     |████████████████████████████████| 6.8 MB 48.4 MB/s \n",
            "\u001b[?25hRequirement already satisfied: scipy<1.9.0 in /usr/local/lib/python3.7/dist-packages (from sktime>=0.7.0->AugmentTS==0.1.0) (1.7.3)\n",
            "Requirement already satisfied: numpy<1.22,>=1.21.0 in /usr/local/lib/python3.7/dist-packages (from sktime>=0.7.0->AugmentTS==0.1.0) (1.21.6)\n",
            "Collecting numba>=0.53\n",
            "  Downloading numba-0.55.2-cp37-cp37m-manylinux2014_x86_64.manylinux_2_17_x86_64.whl (3.3 MB)\n",
            "\u001b[K     |████████████████████████████████| 3.3 MB 57.3 MB/s \n",
            "\u001b[?25hCollecting statsmodels>=0.12.1\n",
            "  Downloading statsmodels-0.13.2-cp37-cp37m-manylinux_2_17_x86_64.manylinux2014_x86_64.whl (9.8 MB)\n",
            "\u001b[K     |████████████████████████████████| 9.8 MB 37.3 MB/s \n",
            "\u001b[?25hCollecting deprecated>=1.2.13\n",
            "  Downloading Deprecated-1.2.13-py2.py3-none-any.whl (9.6 kB)\n",
            "Requirement already satisfied: pandas<1.5.0,>=1.1.0 in /usr/local/lib/python3.7/dist-packages (from sktime>=0.7.0->AugmentTS==0.1.0) (1.3.5)\n",
            "Requirement already satisfied: scikit-learn<1.2.0,>=0.24.0 in /usr/local/lib/python3.7/dist-packages (from sktime>=0.7.0->AugmentTS==0.1.0) (1.0.2)\n",
            "Requirement already satisfied: wrapt<2,>=1.10 in /usr/local/lib/python3.7/dist-packages (from deprecated>=1.2.13->sktime>=0.7.0->AugmentTS==0.1.0) (1.14.1)\n",
            "Collecting llvmlite<0.39,>=0.38.0rc1\n",
            "  Downloading llvmlite-0.38.1-cp37-cp37m-manylinux_2_17_x86_64.manylinux2014_x86_64.whl (34.5 MB)\n",
            "\u001b[K     |████████████████████████████████| 34.5 MB 1.2 MB/s \n",
            "\u001b[?25hRequirement already satisfied: setuptools in /usr/local/lib/python3.7/dist-packages (from numba>=0.53->sktime>=0.7.0->AugmentTS==0.1.0) (57.4.0)\n",
            "Requirement already satisfied: pytz>=2017.3 in /usr/local/lib/python3.7/dist-packages (from pandas<1.5.0,>=1.1.0->sktime>=0.7.0->AugmentTS==0.1.0) (2022.1)\n",
            "Requirement already satisfied: python-dateutil>=2.7.3 in /usr/local/lib/python3.7/dist-packages (from pandas<1.5.0,>=1.1.0->sktime>=0.7.0->AugmentTS==0.1.0) (2.8.2)\n",
            "Requirement already satisfied: six>=1.5 in /usr/local/lib/python3.7/dist-packages (from python-dateutil>=2.7.3->pandas<1.5.0,>=1.1.0->sktime>=0.7.0->AugmentTS==0.1.0) (1.15.0)\n",
            "Requirement already satisfied: threadpoolctl>=2.0.0 in /usr/local/lib/python3.7/dist-packages (from scikit-learn<1.2.0,>=0.24.0->sktime>=0.7.0->AugmentTS==0.1.0) (3.1.0)\n",
            "Requirement already satisfied: joblib>=0.11 in /usr/local/lib/python3.7/dist-packages (from scikit-learn<1.2.0,>=0.24.0->sktime>=0.7.0->AugmentTS==0.1.0) (1.1.0)\n",
            "Requirement already satisfied: patsy>=0.5.2 in /usr/local/lib/python3.7/dist-packages (from statsmodels>=0.12.1->sktime>=0.7.0->AugmentTS==0.1.0) (0.5.2)\n",
            "Requirement already satisfied: packaging>=21.3 in /usr/local/lib/python3.7/dist-packages (from statsmodels>=0.12.1->sktime>=0.7.0->AugmentTS==0.1.0) (21.3)\n",
            "Requirement already satisfied: pyparsing!=3.0.5,>=2.0.2 in /usr/local/lib/python3.7/dist-packages (from packaging>=21.3->statsmodels>=0.12.1->sktime>=0.7.0->AugmentTS==0.1.0) (3.0.9)\n",
            "Requirement already satisfied: libclang>=9.0.1 in /usr/local/lib/python3.7/dist-packages (from tensorflow>=2.0.0->AugmentTS==0.1.0) (14.0.1)\n",
            "Requirement already satisfied: google-pasta>=0.1.1 in /usr/local/lib/python3.7/dist-packages (from tensorflow>=2.0.0->AugmentTS==0.1.0) (0.2.0)\n",
            "Requirement already satisfied: keras-preprocessing>=1.1.1 in /usr/local/lib/python3.7/dist-packages (from tensorflow>=2.0.0->AugmentTS==0.1.0) (1.1.2)\n",
            "Requirement already satisfied: termcolor>=1.1.0 in /usr/local/lib/python3.7/dist-packages (from tensorflow>=2.0.0->AugmentTS==0.1.0) (1.1.0)\n",
            "Requirement already satisfied: astunparse>=1.6.0 in /usr/local/lib/python3.7/dist-packages (from tensorflow>=2.0.0->AugmentTS==0.1.0) (1.6.3)\n",
            "Requirement already satisfied: protobuf<3.20,>=3.9.2 in /usr/local/lib/python3.7/dist-packages (from tensorflow>=2.0.0->AugmentTS==0.1.0) (3.17.3)\n",
            "Requirement already satisfied: grpcio<2.0,>=1.24.3 in /usr/local/lib/python3.7/dist-packages (from tensorflow>=2.0.0->AugmentTS==0.1.0) (1.47.0)\n",
            "Requirement already satisfied: h5py>=2.9.0 in /usr/local/lib/python3.7/dist-packages (from tensorflow>=2.0.0->AugmentTS==0.1.0) (3.1.0)\n",
            "Requirement already satisfied: opt-einsum>=2.3.2 in /usr/local/lib/python3.7/dist-packages (from tensorflow>=2.0.0->AugmentTS==0.1.0) (3.3.0)\n",
            "Requirement already satisfied: absl-py>=0.4.0 in /usr/local/lib/python3.7/dist-packages (from tensorflow>=2.0.0->AugmentTS==0.1.0) (1.1.0)\n",
            "Requirement already satisfied: tensorflow-estimator<2.9,>=2.8 in /usr/local/lib/python3.7/dist-packages (from tensorflow>=2.0.0->AugmentTS==0.1.0) (2.8.0)\n",
            "Requirement already satisfied: flatbuffers>=1.12 in /usr/local/lib/python3.7/dist-packages (from tensorflow>=2.0.0->AugmentTS==0.1.0) (2.0)\n",
            "Requirement already satisfied: tensorboard<2.9,>=2.8 in /usr/local/lib/python3.7/dist-packages (from tensorflow>=2.0.0->AugmentTS==0.1.0) (2.8.0)\n",
            "Requirement already satisfied: typing-extensions>=3.6.6 in /usr/local/lib/python3.7/dist-packages (from tensorflow>=2.0.0->AugmentTS==0.1.0) (4.1.1)\n",
            "Requirement already satisfied: tensorflow-io-gcs-filesystem>=0.23.1 in /usr/local/lib/python3.7/dist-packages (from tensorflow>=2.0.0->AugmentTS==0.1.0) (0.26.0)\n",
            "Requirement already satisfied: gast>=0.2.1 in /usr/local/lib/python3.7/dist-packages (from tensorflow>=2.0.0->AugmentTS==0.1.0) (0.5.3)\n",
            "Requirement already satisfied: wheel<1.0,>=0.23.0 in /usr/local/lib/python3.7/dist-packages (from astunparse>=1.6.0->tensorflow>=2.0.0->AugmentTS==0.1.0) (0.37.1)\n",
            "Requirement already satisfied: cached-property in /usr/local/lib/python3.7/dist-packages (from h5py>=2.9.0->tensorflow>=2.0.0->AugmentTS==0.1.0) (1.5.2)\n",
            "Requirement already satisfied: requests<3,>=2.21.0 in /usr/local/lib/python3.7/dist-packages (from tensorboard<2.9,>=2.8->tensorflow>=2.0.0->AugmentTS==0.1.0) (2.23.0)\n",
            "Requirement already satisfied: google-auth<3,>=1.6.3 in /usr/local/lib/python3.7/dist-packages (from tensorboard<2.9,>=2.8->tensorflow>=2.0.0->AugmentTS==0.1.0) (1.35.0)\n",
            "Requirement already satisfied: werkzeug>=0.11.15 in /usr/local/lib/python3.7/dist-packages (from tensorboard<2.9,>=2.8->tensorflow>=2.0.0->AugmentTS==0.1.0) (1.0.1)\n",
            "Requirement already satisfied: google-auth-oauthlib<0.5,>=0.4.1 in /usr/local/lib/python3.7/dist-packages (from tensorboard<2.9,>=2.8->tensorflow>=2.0.0->AugmentTS==0.1.0) (0.4.6)\n",
            "Requirement already satisfied: tensorboard-data-server<0.7.0,>=0.6.0 in /usr/local/lib/python3.7/dist-packages (from tensorboard<2.9,>=2.8->tensorflow>=2.0.0->AugmentTS==0.1.0) (0.6.1)\n",
            "Requirement already satisfied: tensorboard-plugin-wit>=1.6.0 in /usr/local/lib/python3.7/dist-packages (from tensorboard<2.9,>=2.8->tensorflow>=2.0.0->AugmentTS==0.1.0) (1.8.1)\n",
            "Requirement already satisfied: markdown>=2.6.8 in /usr/local/lib/python3.7/dist-packages (from tensorboard<2.9,>=2.8->tensorflow>=2.0.0->AugmentTS==0.1.0) (3.3.7)\n",
            "Requirement already satisfied: cachetools<5.0,>=2.0.0 in /usr/local/lib/python3.7/dist-packages (from google-auth<3,>=1.6.3->tensorboard<2.9,>=2.8->tensorflow>=2.0.0->AugmentTS==0.1.0) (4.2.4)\n",
            "Requirement already satisfied: pyasn1-modules>=0.2.1 in /usr/local/lib/python3.7/dist-packages (from google-auth<3,>=1.6.3->tensorboard<2.9,>=2.8->tensorflow>=2.0.0->AugmentTS==0.1.0) (0.2.8)\n",
            "Requirement already satisfied: rsa<5,>=3.1.4 in /usr/local/lib/python3.7/dist-packages (from google-auth<3,>=1.6.3->tensorboard<2.9,>=2.8->tensorflow>=2.0.0->AugmentTS==0.1.0) (4.8)\n",
            "Requirement already satisfied: requests-oauthlib>=0.7.0 in /usr/local/lib/python3.7/dist-packages (from google-auth-oauthlib<0.5,>=0.4.1->tensorboard<2.9,>=2.8->tensorflow>=2.0.0->AugmentTS==0.1.0) (1.3.1)\n",
            "Requirement already satisfied: importlib-metadata>=4.4 in /usr/local/lib/python3.7/dist-packages (from markdown>=2.6.8->tensorboard<2.9,>=2.8->tensorflow>=2.0.0->AugmentTS==0.1.0) (4.12.0)\n",
            "Requirement already satisfied: zipp>=0.5 in /usr/local/lib/python3.7/dist-packages (from importlib-metadata>=4.4->markdown>=2.6.8->tensorboard<2.9,>=2.8->tensorflow>=2.0.0->AugmentTS==0.1.0) (3.8.0)\n",
            "Requirement already satisfied: pyasn1<0.5.0,>=0.4.6 in /usr/local/lib/python3.7/dist-packages (from pyasn1-modules>=0.2.1->google-auth<3,>=1.6.3->tensorboard<2.9,>=2.8->tensorflow>=2.0.0->AugmentTS==0.1.0) (0.4.8)\n",
            "Requirement already satisfied: idna<3,>=2.5 in /usr/local/lib/python3.7/dist-packages (from requests<3,>=2.21.0->tensorboard<2.9,>=2.8->tensorflow>=2.0.0->AugmentTS==0.1.0) (2.10)\n",
            "Requirement already satisfied: certifi>=2017.4.17 in /usr/local/lib/python3.7/dist-packages (from requests<3,>=2.21.0->tensorboard<2.9,>=2.8->tensorflow>=2.0.0->AugmentTS==0.1.0) (2022.6.15)\n",
            "Requirement already satisfied: chardet<4,>=3.0.2 in /usr/local/lib/python3.7/dist-packages (from requests<3,>=2.21.0->tensorboard<2.9,>=2.8->tensorflow>=2.0.0->AugmentTS==0.1.0) (3.0.4)\n",
            "Requirement already satisfied: urllib3!=1.25.0,!=1.25.1,<1.26,>=1.21.1 in /usr/local/lib/python3.7/dist-packages (from requests<3,>=2.21.0->tensorboard<2.9,>=2.8->tensorflow>=2.0.0->AugmentTS==0.1.0) (1.24.3)\n",
            "Requirement already satisfied: oauthlib>=3.0.0 in /usr/local/lib/python3.7/dist-packages (from requests-oauthlib>=0.7.0->google-auth-oauthlib<0.5,>=0.4.1->tensorboard<2.9,>=2.8->tensorflow>=2.0.0->AugmentTS==0.1.0) (3.2.0)\n",
            "Requirement already satisfied: typeguard>=2.7 in /usr/local/lib/python3.7/dist-packages (from tensorflow_addons->AugmentTS==0.1.0) (2.7.1)\n",
            "Building wheels for collected packages: AugmentTS\n",
            "  Building wheel for AugmentTS (setup.py) ... \u001b[?25l\u001b[?25hdone\n",
            "  Created wheel for AugmentTS: filename=AugmentTS-0.1.0-py3-none-any.whl size=389462 sha256=ddd5a8d6317e45ebbb9af82418b0912b29047ae90c1143654c6549b9533a526c\n",
            "  Stored in directory: /tmp/pip-ephem-wheel-cache-7u850b77/wheels/49/ac/db/96231f63bc3cdc78b28c10e9672b4b4209a6a8e95ddd9a74a0\n",
            "Successfully built AugmentTS\n",
            "Installing collected packages: llvmlite, statsmodels, numba, deprecated, tensorflow-addons, sktime, AugmentTS\n",
            "  Attempting uninstall: llvmlite\n",
            "    Found existing installation: llvmlite 0.34.0\n",
            "    Uninstalling llvmlite-0.34.0:\n",
            "      Successfully uninstalled llvmlite-0.34.0\n",
            "  Attempting uninstall: statsmodels\n",
            "    Found existing installation: statsmodels 0.10.2\n",
            "    Uninstalling statsmodels-0.10.2:\n",
            "      Successfully uninstalled statsmodels-0.10.2\n",
            "  Attempting uninstall: numba\n",
            "    Found existing installation: numba 0.51.2\n",
            "    Uninstalling numba-0.51.2:\n",
            "      Successfully uninstalled numba-0.51.2\n",
            "Successfully installed AugmentTS-0.1.0 deprecated-1.2.13 llvmlite-0.38.1 numba-0.55.2 sktime-0.12.1 statsmodels-0.13.2 tensorflow-addons-0.17.1\n"
          ]
        }
      ]
    },
    {
      "cell_type": "code",
      "source": [
        "from augmentts.augmenters.vae import LSTMVAE, VAEAugmenter"
      ],
      "metadata": {
        "id": "VVpL1VwKLQR6"
      },
      "execution_count": 5,
      "outputs": []
    },
    {
      "cell_type": "code",
      "source": [
        "# create a variational autoencoder\n",
        "vae = LSTMVAE(series_len=100)\n",
        "# create an augmenter\n",
        "augmenter = VAEAugmenter(vae)"
      ],
      "metadata": {
        "id": "6em6ertULXMy"
      },
      "execution_count": 8,
      "outputs": []
    },
    {
      "cell_type": "code",
      "source": [
        "import torch\n"
      ],
      "metadata": {
        "id": "I22rL_fpLbKh"
      },
      "execution_count": 9,
      "outputs": []
    },
    {
      "cell_type": "code",
      "source": [
        "from augmentts.forecasters.deep import LSTMCNNForecaster\n",
        "from augmentts.utils import prepare_ts\n",
        "import numpy as np\n",
        "\n",
        "# creating a random dataset\n",
        "ts = np.random.rand(100, 10)\n",
        "# preparing data for rolling window regression\n",
        "X, y = prepare_ts(ts, 8, 4)"
      ],
      "metadata": {
        "id": "gnKqdLMDLjbr"
      },
      "execution_count": 10,
      "outputs": []
    },
    {
      "cell_type": "code",
      "source": [
        "from augmentts.datasets import NN5Dataset\n",
        "\n",
        "nn5 = NN5Dataset()\n",
        "original_data = nn5.load()"
      ],
      "metadata": {
        "id": "DC0Kv2TmLnwV"
      },
      "execution_count": 14,
      "outputs": []
    },
    {
      "cell_type": "code",
      "source": [
        "original_data.shape"
      ],
      "metadata": {
        "colab": {
          "base_uri": "https://localhost:8080/"
        },
        "id": "OjThY7IfL_md",
        "outputId": "799df67e-52a4-4338-df44-4436e62ca607"
      },
      "execution_count": 16,
      "outputs": [
        {
          "output_type": "execute_result",
          "data": {
            "text/plain": [
              "(111, 1, 791)"
            ]
          },
          "metadata": {},
          "execution_count": 16
        }
      ]
    },
    {
      "cell_type": "code",
      "source": [
        "from augmentts.augmenters.vae import LSTMVAE, VAEAugmenter\n",
        "\n",
        "vae = LSTMVAE(series_len=original_data.shape[2], latent_dim=2)\n",
        "augmenter = VAEAugmenter(vae)\n",
        "augmenter.fit(original_data, epochs=100, batch_size=32)"
      ],
      "metadata": {
        "colab": {
          "base_uri": "https://localhost:8080/"
        },
        "id": "Jr50hF4gMBO-",
        "outputId": "3a0c6eca-dd47-461e-bd9e-a1759891dbd2"
      },
      "execution_count": 17,
      "outputs": [
        {
          "output_type": "stream",
          "name": "stdout",
          "text": [
            "Epoch 1/100\n",
            "4/4 [==============================] - 5s 68ms/step - loss: 12327.7641 - reconstruction_loss: 11862.9111 - kl_loss: 2.5936e-06\n",
            "Epoch 2/100\n",
            "4/4 [==============================] - 0s 66ms/step - loss: 12754.6080 - reconstruction_loss: 11857.0264 - kl_loss: 1.8596e-05\n",
            "Epoch 3/100\n",
            "4/4 [==============================] - 0s 66ms/step - loss: 13055.7826 - reconstruction_loss: 11846.3613 - kl_loss: 7.2798e-05\n",
            "Epoch 4/100\n",
            "4/4 [==============================] - 0s 68ms/step - loss: 12986.3135 - reconstruction_loss: 11823.7461 - kl_loss: 2.0976e-04\n",
            "Epoch 5/100\n",
            "4/4 [==============================] - 0s 68ms/step - loss: 13123.6129 - reconstruction_loss: 11768.1055 - kl_loss: 4.7945e-04\n",
            "Epoch 6/100\n",
            "4/4 [==============================] - 0s 64ms/step - loss: 12557.9613 - reconstruction_loss: 11637.9941 - kl_loss: 9.0334e-04\n",
            "Epoch 7/100\n",
            "4/4 [==============================] - 0s 65ms/step - loss: 12153.7625 - reconstruction_loss: 11344.7578 - kl_loss: 0.0015\n",
            "Epoch 8/100\n",
            "4/4 [==============================] - 0s 65ms/step - loss: 11918.7863 - reconstruction_loss: 10757.8535 - kl_loss: 0.0021\n",
            "Epoch 9/100\n",
            "4/4 [==============================] - 0s 64ms/step - loss: 11271.6523 - reconstruction_loss: 9744.0498 - kl_loss: 0.0027\n",
            "Epoch 10/100\n",
            "4/4 [==============================] - 0s 63ms/step - loss: 9412.8943 - reconstruction_loss: 8340.9102 - kl_loss: 0.0032\n",
            "Epoch 11/100\n",
            "4/4 [==============================] - 0s 62ms/step - loss: 7785.7793 - reconstruction_loss: 6837.8242 - kl_loss: 0.0038\n",
            "Epoch 12/100\n",
            "4/4 [==============================] - 0s 62ms/step - loss: 6006.2383 - reconstruction_loss: 5531.9507 - kl_loss: 0.0042\n",
            "Epoch 13/100\n",
            "4/4 [==============================] - 0s 60ms/step - loss: 5242.0228 - reconstruction_loss: 4581.8408 - kl_loss: 0.0046\n",
            "Epoch 14/100\n",
            "4/4 [==============================] - 0s 65ms/step - loss: 4348.6347 - reconstruction_loss: 3904.0308 - kl_loss: 0.0049\n",
            "Epoch 15/100\n",
            "4/4 [==============================] - 0s 62ms/step - loss: 3794.4596 - reconstruction_loss: 3441.0691 - kl_loss: 0.0052\n",
            "Epoch 16/100\n",
            "4/4 [==============================] - 0s 64ms/step - loss: 3415.3263 - reconstruction_loss: 3093.3484 - kl_loss: 0.0054\n",
            "Epoch 17/100\n",
            "4/4 [==============================] - 0s 59ms/step - loss: 3223.3000 - reconstruction_loss: 2838.8594 - kl_loss: 0.0056\n",
            "Epoch 18/100\n",
            "4/4 [==============================] - 0s 62ms/step - loss: 2978.0538 - reconstruction_loss: 2631.3267 - kl_loss: 0.0057\n",
            "Epoch 19/100\n",
            "4/4 [==============================] - 0s 60ms/step - loss: 2579.2435 - reconstruction_loss: 2457.6699 - kl_loss: 0.0057\n",
            "Epoch 20/100\n",
            "4/4 [==============================] - 0s 62ms/step - loss: 2362.8144 - reconstruction_loss: 2314.9695 - kl_loss: 0.0058\n",
            "Epoch 21/100\n",
            "4/4 [==============================] - 0s 65ms/step - loss: 2572.5354 - reconstruction_loss: 2208.6897 - kl_loss: 0.0058\n",
            "Epoch 22/100\n",
            "4/4 [==============================] - 0s 61ms/step - loss: 2456.8488 - reconstruction_loss: 2114.5676 - kl_loss: 0.0059\n",
            "Epoch 23/100\n",
            "4/4 [==============================] - 0s 63ms/step - loss: 2183.9454 - reconstruction_loss: 2032.7188 - kl_loss: 0.0059\n",
            "Epoch 24/100\n",
            "4/4 [==============================] - 0s 63ms/step - loss: 1959.2646 - reconstruction_loss: 1967.1697 - kl_loss: 0.0059\n",
            "Epoch 25/100\n",
            "4/4 [==============================] - 0s 63ms/step - loss: 1967.9344 - reconstruction_loss: 1914.6274 - kl_loss: 0.0059\n",
            "Epoch 26/100\n",
            "4/4 [==============================] - 0s 62ms/step - loss: 1885.6418 - reconstruction_loss: 1871.5780 - kl_loss: 0.0060\n",
            "Epoch 27/100\n",
            "4/4 [==============================] - 0s 61ms/step - loss: 1774.9683 - reconstruction_loss: 1833.4785 - kl_loss: 0.0060\n",
            "Epoch 28/100\n",
            "4/4 [==============================] - 0s 60ms/step - loss: 2060.5885 - reconstruction_loss: 1804.3065 - kl_loss: 0.0060\n",
            "Epoch 29/100\n",
            "4/4 [==============================] - 0s 63ms/step - loss: 1959.6868 - reconstruction_loss: 1780.5979 - kl_loss: 0.0060\n",
            "Epoch 30/100\n",
            "4/4 [==============================] - 0s 62ms/step - loss: 2036.0571 - reconstruction_loss: 1759.9645 - kl_loss: 0.0060\n",
            "Epoch 31/100\n",
            "4/4 [==============================] - 0s 62ms/step - loss: 1933.4288 - reconstruction_loss: 1741.0216 - kl_loss: 0.0060\n",
            "Epoch 32/100\n",
            "4/4 [==============================] - 0s 62ms/step - loss: 2015.5553 - reconstruction_loss: 1726.8420 - kl_loss: 0.0060\n",
            "Epoch 33/100\n",
            "4/4 [==============================] - 0s 63ms/step - loss: 1734.8888 - reconstruction_loss: 1713.5992 - kl_loss: 0.0060\n",
            "Epoch 34/100\n",
            "4/4 [==============================] - 0s 61ms/step - loss: 1837.0747 - reconstruction_loss: 1703.9357 - kl_loss: 0.0060\n",
            "Epoch 35/100\n",
            "4/4 [==============================] - 0s 62ms/step - loss: 1772.5228 - reconstruction_loss: 1695.5144 - kl_loss: 0.0060\n",
            "Epoch 36/100\n",
            "4/4 [==============================] - 0s 61ms/step - loss: 1927.2462 - reconstruction_loss: 1688.8450 - kl_loss: 0.0060\n",
            "Epoch 37/100\n",
            "4/4 [==============================] - 0s 64ms/step - loss: 2030.0276 - reconstruction_loss: 1683.8362 - kl_loss: 0.0060\n",
            "Epoch 38/100\n",
            "4/4 [==============================] - 0s 61ms/step - loss: 2036.4771 - reconstruction_loss: 1679.1951 - kl_loss: 0.0060\n",
            "Epoch 39/100\n",
            "4/4 [==============================] - 0s 64ms/step - loss: 1755.0566 - reconstruction_loss: 1673.6660 - kl_loss: 0.0060\n",
            "Epoch 40/100\n",
            "4/4 [==============================] - 0s 62ms/step - loss: 1737.9169 - reconstruction_loss: 1670.9348 - kl_loss: 0.0060\n",
            "Epoch 41/100\n",
            "4/4 [==============================] - 0s 65ms/step - loss: 1927.6537 - reconstruction_loss: 1668.6393 - kl_loss: 0.0060\n",
            "Epoch 42/100\n",
            "4/4 [==============================] - 0s 62ms/step - loss: 1682.1938 - reconstruction_loss: 1666.4276 - kl_loss: 0.0060\n",
            "Epoch 43/100\n",
            "4/4 [==============================] - 0s 64ms/step - loss: 1858.5178 - reconstruction_loss: 1663.9248 - kl_loss: 0.0060\n",
            "Epoch 44/100\n",
            "4/4 [==============================] - 0s 67ms/step - loss: 1789.4391 - reconstruction_loss: 1662.5217 - kl_loss: 0.0060\n",
            "Epoch 45/100\n",
            "4/4 [==============================] - 0s 62ms/step - loss: 1650.6340 - reconstruction_loss: 1660.7915 - kl_loss: 0.0060\n",
            "Epoch 46/100\n",
            "4/4 [==============================] - 0s 61ms/step - loss: 2017.1200 - reconstruction_loss: 1660.4023 - kl_loss: 0.0060\n",
            "Epoch 47/100\n",
            "4/4 [==============================] - 0s 62ms/step - loss: 1739.1921 - reconstruction_loss: 1658.9084 - kl_loss: 0.0060\n",
            "Epoch 48/100\n",
            "4/4 [==============================] - 0s 61ms/step - loss: 1984.3704 - reconstruction_loss: 1658.3992 - kl_loss: 0.0060\n",
            "Epoch 49/100\n",
            "4/4 [==============================] - 0s 63ms/step - loss: 1705.7036 - reconstruction_loss: 1657.5167 - kl_loss: 0.0060\n",
            "Epoch 50/100\n",
            "4/4 [==============================] - 0s 60ms/step - loss: 1951.0131 - reconstruction_loss: 1657.1484 - kl_loss: 0.0060\n",
            "Epoch 51/100\n",
            "4/4 [==============================] - 0s 62ms/step - loss: 1786.1749 - reconstruction_loss: 1656.6534 - kl_loss: 0.0060\n",
            "Epoch 52/100\n",
            "4/4 [==============================] - 0s 59ms/step - loss: 1952.6430 - reconstruction_loss: 1656.7299 - kl_loss: 0.0060\n",
            "Epoch 53/100\n",
            "4/4 [==============================] - 0s 60ms/step - loss: 1761.9639 - reconstruction_loss: 1656.0024 - kl_loss: 0.0060\n",
            "Epoch 54/100\n",
            "4/4 [==============================] - 0s 61ms/step - loss: 1906.1199 - reconstruction_loss: 1655.6708 - kl_loss: 0.0060\n",
            "Epoch 55/100\n",
            "4/4 [==============================] - 0s 65ms/step - loss: 1895.4049 - reconstruction_loss: 1655.7625 - kl_loss: 0.0060\n",
            "Epoch 56/100\n",
            "4/4 [==============================] - 0s 65ms/step - loss: 1908.2649 - reconstruction_loss: 1655.5022 - kl_loss: 0.0060\n",
            "Epoch 57/100\n",
            "4/4 [==============================] - 0s 64ms/step - loss: 1741.1474 - reconstruction_loss: 1655.5203 - kl_loss: 0.0060\n",
            "Epoch 58/100\n",
            "4/4 [==============================] - 0s 63ms/step - loss: 1918.1989 - reconstruction_loss: 1654.8756 - kl_loss: 0.0060\n",
            "Epoch 59/100\n",
            "4/4 [==============================] - 0s 68ms/step - loss: 1919.6548 - reconstruction_loss: 1654.7797 - kl_loss: 0.0060\n",
            "Epoch 60/100\n",
            "4/4 [==============================] - 0s 60ms/step - loss: 1762.3476 - reconstruction_loss: 1654.6445 - kl_loss: 0.0060\n",
            "Epoch 61/100\n",
            "4/4 [==============================] - 0s 66ms/step - loss: 1788.6521 - reconstruction_loss: 1654.6317 - kl_loss: 0.0060\n",
            "Epoch 62/100\n",
            "4/4 [==============================] - 0s 60ms/step - loss: 1788.0548 - reconstruction_loss: 1654.8020 - kl_loss: 0.0060\n",
            "Epoch 63/100\n",
            "4/4 [==============================] - 0s 63ms/step - loss: 1806.6980 - reconstruction_loss: 1654.8298 - kl_loss: 0.0060\n",
            "Epoch 64/100\n",
            "4/4 [==============================] - 0s 65ms/step - loss: 1775.8348 - reconstruction_loss: 1654.7933 - kl_loss: 0.0060\n",
            "Epoch 65/100\n",
            "4/4 [==============================] - 0s 61ms/step - loss: 1656.3515 - reconstruction_loss: 1655.2416 - kl_loss: 0.0060\n",
            "Epoch 66/100\n",
            "4/4 [==============================] - 0s 61ms/step - loss: 1809.0434 - reconstruction_loss: 1654.4751 - kl_loss: 0.0060\n",
            "Epoch 67/100\n",
            "4/4 [==============================] - 0s 65ms/step - loss: 1874.6218 - reconstruction_loss: 1655.8743 - kl_loss: 0.0060\n",
            "Epoch 68/100\n",
            "4/4 [==============================] - 0s 60ms/step - loss: 1862.1655 - reconstruction_loss: 1654.7319 - kl_loss: 0.0060\n",
            "Epoch 69/100\n",
            "4/4 [==============================] - 0s 62ms/step - loss: 1914.7951 - reconstruction_loss: 1654.6250 - kl_loss: 0.0060\n",
            "Epoch 70/100\n",
            "4/4 [==============================] - 0s 62ms/step - loss: 1927.7431 - reconstruction_loss: 1655.1027 - kl_loss: 0.0060\n",
            "Epoch 71/100\n",
            "4/4 [==============================] - 0s 68ms/step - loss: 1758.0737 - reconstruction_loss: 1654.4709 - kl_loss: 0.0060\n",
            "Epoch 72/100\n",
            "4/4 [==============================] - 0s 62ms/step - loss: 1758.2878 - reconstruction_loss: 1654.3649 - kl_loss: 0.0060\n",
            "Epoch 73/100\n",
            "4/4 [==============================] - 0s 63ms/step - loss: 1889.8120 - reconstruction_loss: 1654.2874 - kl_loss: 0.0060\n",
            "Epoch 74/100\n",
            "4/4 [==============================] - 0s 62ms/step - loss: 1906.9507 - reconstruction_loss: 1654.3269 - kl_loss: 0.0060\n",
            "Epoch 75/100\n",
            "4/4 [==============================] - 0s 62ms/step - loss: 1757.6629 - reconstruction_loss: 1654.2815 - kl_loss: 0.0060\n",
            "Epoch 76/100\n",
            "4/4 [==============================] - 0s 60ms/step - loss: 1768.7510 - reconstruction_loss: 1654.3851 - kl_loss: 0.0060\n",
            "Epoch 77/100\n",
            "4/4 [==============================] - 0s 62ms/step - loss: 1963.5680 - reconstruction_loss: 1654.4031 - kl_loss: 0.0060\n",
            "Epoch 78/100\n",
            "4/4 [==============================] - 0s 64ms/step - loss: 1889.1587 - reconstruction_loss: 1654.8958 - kl_loss: 0.0060\n",
            "Epoch 79/100\n",
            "4/4 [==============================] - 0s 63ms/step - loss: 1884.3693 - reconstruction_loss: 1654.1947 - kl_loss: 0.0060\n",
            "Epoch 80/100\n",
            "4/4 [==============================] - 0s 62ms/step - loss: 1855.4803 - reconstruction_loss: 1654.4940 - kl_loss: 0.0060\n",
            "Epoch 81/100\n",
            "4/4 [==============================] - 0s 63ms/step - loss: 1752.7800 - reconstruction_loss: 1654.1151 - kl_loss: 0.0060\n",
            "Epoch 82/100\n",
            "4/4 [==============================] - 0s 63ms/step - loss: 1751.4615 - reconstruction_loss: 1654.5251 - kl_loss: 0.0060\n",
            "Epoch 83/100\n",
            "4/4 [==============================] - 0s 62ms/step - loss: 1828.0263 - reconstruction_loss: 1654.1057 - kl_loss: 0.0060\n",
            "Epoch 84/100\n",
            "4/4 [==============================] - 0s 62ms/step - loss: 1859.8085 - reconstruction_loss: 1654.3711 - kl_loss: 0.0060\n",
            "Epoch 85/100\n",
            "4/4 [==============================] - 0s 62ms/step - loss: 1799.9269 - reconstruction_loss: 1654.1395 - kl_loss: 0.0060\n",
            "Epoch 86/100\n",
            "4/4 [==============================] - 0s 63ms/step - loss: 1759.5023 - reconstruction_loss: 1654.1147 - kl_loss: 0.0060\n",
            "Epoch 87/100\n",
            "4/4 [==============================] - 0s 64ms/step - loss: 1801.6707 - reconstruction_loss: 1654.5261 - kl_loss: 0.0060\n",
            "Epoch 88/100\n",
            "4/4 [==============================] - 0s 61ms/step - loss: 1786.4464 - reconstruction_loss: 1654.1536 - kl_loss: 0.0060\n",
            "Epoch 89/100\n",
            "4/4 [==============================] - 0s 62ms/step - loss: 1948.3344 - reconstruction_loss: 1654.2671 - kl_loss: 0.0060\n",
            "Epoch 90/100\n",
            "4/4 [==============================] - 0s 63ms/step - loss: 1834.8846 - reconstruction_loss: 1654.3032 - kl_loss: 0.0060\n",
            "Epoch 91/100\n",
            "4/4 [==============================] - 0s 60ms/step - loss: 1622.2491 - reconstruction_loss: 1654.6681 - kl_loss: 0.0060\n",
            "Epoch 92/100\n",
            "4/4 [==============================] - 0s 61ms/step - loss: 1869.4486 - reconstruction_loss: 1654.6100 - kl_loss: 0.0060\n",
            "Epoch 93/100\n",
            "4/4 [==============================] - 0s 62ms/step - loss: 1779.8765 - reconstruction_loss: 1654.5112 - kl_loss: 0.0060\n",
            "Epoch 94/100\n",
            "4/4 [==============================] - 0s 67ms/step - loss: 1812.5167 - reconstruction_loss: 1654.5991 - kl_loss: 0.0060\n",
            "Epoch 95/100\n",
            "4/4 [==============================] - 0s 68ms/step - loss: 1906.7965 - reconstruction_loss: 1654.2412 - kl_loss: 0.0060\n",
            "Epoch 96/100\n",
            "4/4 [==============================] - 0s 61ms/step - loss: 1770.9308 - reconstruction_loss: 1654.3221 - kl_loss: 0.0060\n",
            "Epoch 97/100\n",
            "4/4 [==============================] - 0s 61ms/step - loss: 1857.7028 - reconstruction_loss: 1654.1304 - kl_loss: 0.0060\n",
            "Epoch 98/100\n",
            "4/4 [==============================] - 0s 64ms/step - loss: 1627.3169 - reconstruction_loss: 1654.8472 - kl_loss: 0.0060\n",
            "Epoch 99/100\n",
            "4/4 [==============================] - 0s 63ms/step - loss: 1939.4700 - reconstruction_loss: 1653.9774 - kl_loss: 0.0060\n",
            "Epoch 100/100\n",
            "4/4 [==============================] - 0s 59ms/step - loss: 1828.2248 - reconstruction_loss: 1654.2729 - kl_loss: 0.0060\n"
          ]
        },
        {
          "output_type": "execute_result",
          "data": {
            "text/plain": [
              "<keras.callbacks.History at 0x7fdca00540d0>"
            ]
          },
          "metadata": {},
          "execution_count": 17
        }
      ]
    },
    {
      "cell_type": "code",
      "source": [
        "augmenter.sample(X=original_data).shape"
      ],
      "metadata": {
        "colab": {
          "base_uri": "https://localhost:8080/"
        },
        "id": "zyBajRW8MEpB",
        "outputId": "905db0c0-6ff5-4605-8e96-0b77fb17d6e4"
      },
      "execution_count": 19,
      "outputs": [
        {
          "output_type": "execute_result",
          "data": {
            "text/plain": [
              "TensorShape([111, 1, 791])"
            ]
          },
          "metadata": {},
          "execution_count": 19
        }
      ]
    },
    {
      "cell_type": "code",
      "source": [
        "y.shape"
      ],
      "metadata": {
        "colab": {
          "base_uri": "https://localhost:8080/"
        },
        "id": "dFgrQLUaLo9e",
        "outputId": "6d021520-4965-4ae9-9084-7e50b7095edc"
      },
      "execution_count": 13,
      "outputs": [
        {
          "output_type": "execute_result",
          "data": {
            "text/plain": [
              "(89, 4, 10)"
            ]
          },
          "metadata": {},
          "execution_count": 13
        }
      ]
    },
    {
      "cell_type": "code",
      "source": [
        "augmenter.sample(n=1000).shape"
      ],
      "metadata": {
        "colab": {
          "base_uri": "https://localhost:8080/"
        },
        "id": "sZ6x1c0fLdDO",
        "outputId": "f8914d4e-6de8-4ec8-df85-90cd6b4e7f4d"
      },
      "execution_count": 21,
      "outputs": [
        {
          "output_type": "execute_result",
          "data": {
            "text/plain": [
              "TensorShape([1000, 1, 791])"
            ]
          },
          "metadata": {},
          "execution_count": 21
        }
      ]
    },
    {
      "cell_type": "code",
      "source": [
        ""
      ],
      "metadata": {
        "id": "or8EdPAlMszJ"
      },
      "execution_count": null,
      "outputs": []
    },
    {
      "cell_type": "code",
      "source": [
        ""
      ],
      "metadata": {
        "id": "OLVMl_zmLQSi"
      },
      "execution_count": null,
      "outputs": []
    },
    {
      "cell_type": "code",
      "source": [
        ""
      ],
      "metadata": {
        "id": "JXaZ60FdLPDT"
      },
      "execution_count": null,
      "outputs": []
    }
  ]
}