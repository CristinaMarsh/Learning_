{
  "nbformat": 4,
  "nbformat_minor": 0,
  "metadata": {
    "colab": {
      "name": "Pytorch code collection.ipynb",
      "provenance": [],
      "collapsed_sections": [],
      "authorship_tag": "ABX9TyNmOqwZFxG0kZzRCjvhpUg8",
      "include_colab_link": true
    },
    "kernelspec": {
      "name": "python3",
      "display_name": "Python 3"
    },
    "language_info": {
      "name": "python"
    }
  },
  "cells": [
    {
      "cell_type": "markdown",
      "metadata": {
        "id": "view-in-github",
        "colab_type": "text"
      },
      "source": [
        "<a href=\"https://colab.research.google.com/github/CristinaMarsh/Learning_/blob/main/Daily%20Practice/Pytorch_code_collection.ipynb\" target=\"_parent\"><img src=\"https://colab.research.google.com/assets/colab-badge.svg\" alt=\"Open In Colab\"/></a>"
      ]
    },
    {
      "cell_type": "code",
      "execution_count": 1,
      "metadata": {
        "id": "X4jaC8Pt7vOa"
      },
      "outputs": [],
      "source": [
        "import torch\n",
        "import torch.nn as nn"
      ]
    },
    {
      "cell_type": "markdown",
      "source": [
        "# operation\n",
        "\n",
        "## torch.triu\n",
        "\n",
        "https://pytorch.org/docs/stable/generated/torch.triu.html\n",
        "\n",
        "\n",
        "torch.triu (input, diagonal $=0, *$, out=None) $\\rightarrow$ Tensor\n",
        "\n",
        "- input (Tensor) – the input tensor\n",
        "- diagonal (int, optional) – the diagonal to consider\n",
        "- out (Tensor, optional) – the output tensor\n",
        "- 如果diagonal为空，输入矩阵保留主对角线与主对角线以上的元素；\n",
        "- 如果diagonal为正数n，输入矩阵保留主对角线与主对角线以上除去n行的元素；\n",
        "- 如果diagonal为负数-n，输入矩阵保留主对角线与主对角线以上与主对角线下方h行对角线的元素；\n"
      ],
      "metadata": {
        "id": "CwB9HWVTs1D4"
      }
    },
    {
      "cell_type": "code",
      "source": [
        "a = torch.randn(4,4)\n",
        "\n",
        "dig_a0 = torch.triu(a, diagonal=0)\n",
        "print(dig_a0)\n",
        "dig_apos = torch.triu(a, diagonal=1)\n",
        "print(dig_apos)\n",
        "dig_aneg = torch.triu(a, diagonal=-1)\n",
        "print(dig_aneg)"
      ],
      "metadata": {
        "colab": {
          "base_uri": "https://localhost:8080/"
        },
        "id": "m_VrX--wsurf",
        "outputId": "c3b846fd-ba4b-4c4f-bf79-c3d41d89215f"
      },
      "execution_count": 3,
      "outputs": [
        {
          "output_type": "stream",
          "name": "stdout",
          "text": [
            "tensor([[ 0.0507, -1.1710, -0.2697,  0.0324],\n",
            "        [ 0.0000,  0.3586, -0.8233, -0.0704],\n",
            "        [ 0.0000,  0.0000, -1.0652,  0.4921],\n",
            "        [ 0.0000,  0.0000,  0.0000, -1.6045]])\n",
            "tensor([[ 0.0000, -1.1710, -0.2697,  0.0324],\n",
            "        [ 0.0000,  0.0000, -0.8233, -0.0704],\n",
            "        [ 0.0000,  0.0000,  0.0000,  0.4921],\n",
            "        [ 0.0000,  0.0000,  0.0000,  0.0000]])\n",
            "tensor([[ 0.0507, -1.1710, -0.2697,  0.0324],\n",
            "        [ 1.0722,  0.3586, -0.8233, -0.0704],\n",
            "        [ 0.0000, -0.1811, -1.0652,  0.4921],\n",
            "        [ 0.0000,  0.0000,  0.1005, -1.6045]])\n"
          ]
        }
      ]
    },
    {
      "cell_type": "code",
      "source": [
        ""
      ],
      "metadata": {
        "id": "3GMoNxNztvOT"
      },
      "execution_count": null,
      "outputs": []
    },
    {
      "cell_type": "code",
      "source": [
        ""
      ],
      "metadata": {
        "id": "jT0o_gITtJ9g"
      },
      "execution_count": null,
      "outputs": []
    },
    {
      "cell_type": "markdown",
      "source": [
        "# nn\n",
        "\n",
        "## torch.conv1d\n",
        "\n",
        "torch.nn.Conv1d(in_channels, out_channels, kernel_size, stride=1, padding=0, dilation=1, groups=1, bias=True, padding_mode='zeros', device=None, dtype=None)\n",
        "\n",
        "Applies a 1D convolution over an input signal composed of several input planes.\n",
        "In the simplest case, the output value of the layer with input size $\\left(N, C_{\\text {in }}, L\\right)$ and output $\\left(N, C_{\\text {out }}, L_{\\text {out }}\\right)$ can be precisely described as:\n",
        "\n",
        "Parameters\n",
        "- in_channels (int) - Number of channels in the input image\n",
        "- out_channels (int) - Number of channels produced by the convolution\n",
        "- kernel_size (int or tuple) - Size of the convolving kernel\n",
        "- stride (int or tuple, optional) - Stride of the convolution. Default: 1\n",
        "- padding (int, tuple or str, optional) - Padding added to both sides of the input. Default: 0\n",
        "- padding_mode (string, optional) - 'zeros', 'reflect', 'replicate' or 'circular'. Default:\n",
        "'zeros'\n",
        "- dilation (int or tuple, optional) - Spacing between kernel elements. Default: 1\n",
        "- groups (int, optional) - Number of blocked connections from input channels to output channels.\n",
        "Default: 1\n",
        "- bias (bool, optional) - If True , adds a learnable bias to the output. Default: True\n",
        "\n",
        "Shape:\n",
        "- Input: $\\left(N, C_{i n}, L_{i n}\\right)$ or $\\left(C_{i n}, L_{i n}\\right)$\n",
        "- Output: $\\left(N, C_{\\text {out }}, L_{\\text {out }}\\right)$ or $\\left(C_{o u t}, L_{\\text {out }}\\right)$, where\n",
        "$$\n",
        "L_{o u t}=\\left\\lfloor\\frac{L_{i n}+2 \\times \\text { padding }-\\text { dilation } \\times(\\text { kernel_size }-1)-1}{\\text { stride }}+1\\right\\rfloor\n",
        "$$"
      ],
      "metadata": {
        "id": "xSHSJCmysl66"
      }
    },
    {
      "cell_type": "code",
      "source": [
        "def N_out_cal(L_in, padding, dilation, kernel_size, stride):\n",
        "    \n",
        "    Lout = (L_in + 2 * padding - dilation * (kernel_size - 1) -1) / stride + 1 \n",
        "    return Lout"
      ],
      "metadata": {
        "id": "dtR7k1M8uQD-"
      },
      "execution_count": 4,
      "outputs": []
    },
    {
      "cell_type": "code",
      "source": [
        "#In time series, pred, and Lout?\n",
        "conv1 = nn.Conv1d(16, 1, 3, stride=2) # (Feature, outputchannel, kernel_size = 1)\n",
        "input = torch.randn(20, 16, 50) #(B, Cin(Feature), Lin(T))\n",
        "output = conv1(input) #output Tensor with shape torch.Size([20, 1, 24]) (B, ?, ?)"
      ],
      "metadata": {
        "id": "GPiW9kv5u91-"
      },
      "execution_count": 5,
      "outputs": []
    },
    {
      "cell_type": "code",
      "source": [
        "L_in, padding, dilation, kernel_size, stride = 50, 0, 1, 3, 2\n",
        "N_out_cal(L_in, padding, dilation, kernel_size, stride)"
      ],
      "metadata": {
        "colab": {
          "base_uri": "https://localhost:8080/"
        },
        "id": "bfcsmZZVxWJH",
        "outputId": "c8ff1f21-f4c1-4ea2-c5a0-b2648df93c5b"
      },
      "execution_count": 6,
      "outputs": [
        {
          "output_type": "execute_result",
          "data": {
            "text/plain": [
              "24.5"
            ]
          },
          "metadata": {},
          "execution_count": 6
        }
      ]
    },
    {
      "cell_type": "code",
      "source": [
        ""
      ],
      "metadata": {
        "id": "iN-G1UmLxs3n"
      },
      "execution_count": null,
      "outputs": []
    },
    {
      "cell_type": "markdown",
      "source": [
        "# Tools\n",
        "\n",
        "## Shape check"
      ],
      "metadata": {
        "id": "kLyUXommyDXu"
      }
    },
    {
      "cell_type": "code",
      "source": [
        "! pip install torchsummary"
      ],
      "metadata": {
        "colab": {
          "base_uri": "https://localhost:8080/"
        },
        "id": "zN6LEB8IyG7u",
        "outputId": "0cee3514-8312-456c-b129-71ad5813376f"
      },
      "execution_count": 9,
      "outputs": [
        {
          "output_type": "stream",
          "name": "stdout",
          "text": [
            "Looking in indexes: https://pypi.org/simple, https://us-python.pkg.dev/colab-wheels/public/simple/\n",
            "Requirement already satisfied: torchsummary in /usr/local/lib/python3.7/dist-packages (1.5.1)\n"
          ]
        }
      ]
    },
    {
      "cell_type": "code",
      "source": [
        "from torchvision import models\n",
        "from torchsummary import summary\n",
        "\n",
        "vgg = models.vgg16()\n",
        "summary(vgg, (3, 224, 224))"
      ],
      "metadata": {
        "colab": {
          "base_uri": "https://localhost:8080/"
        },
        "id": "yM48HpTQyI4F",
        "outputId": "3a19e28a-fc24-4519-a2da-814b55211cb7"
      },
      "execution_count": 10,
      "outputs": [
        {
          "output_type": "stream",
          "name": "stdout",
          "text": [
            "----------------------------------------------------------------\n",
            "        Layer (type)               Output Shape         Param #\n",
            "================================================================\n",
            "            Conv2d-1         [-1, 64, 224, 224]           1,792\n",
            "              ReLU-2         [-1, 64, 224, 224]               0\n",
            "            Conv2d-3         [-1, 64, 224, 224]          36,928\n",
            "              ReLU-4         [-1, 64, 224, 224]               0\n",
            "         MaxPool2d-5         [-1, 64, 112, 112]               0\n",
            "            Conv2d-6        [-1, 128, 112, 112]          73,856\n",
            "              ReLU-7        [-1, 128, 112, 112]               0\n",
            "            Conv2d-8        [-1, 128, 112, 112]         147,584\n",
            "              ReLU-9        [-1, 128, 112, 112]               0\n",
            "        MaxPool2d-10          [-1, 128, 56, 56]               0\n",
            "           Conv2d-11          [-1, 256, 56, 56]         295,168\n",
            "             ReLU-12          [-1, 256, 56, 56]               0\n",
            "           Conv2d-13          [-1, 256, 56, 56]         590,080\n",
            "             ReLU-14          [-1, 256, 56, 56]               0\n",
            "           Conv2d-15          [-1, 256, 56, 56]         590,080\n",
            "             ReLU-16          [-1, 256, 56, 56]               0\n",
            "        MaxPool2d-17          [-1, 256, 28, 28]               0\n",
            "           Conv2d-18          [-1, 512, 28, 28]       1,180,160\n",
            "             ReLU-19          [-1, 512, 28, 28]               0\n",
            "           Conv2d-20          [-1, 512, 28, 28]       2,359,808\n",
            "             ReLU-21          [-1, 512, 28, 28]               0\n",
            "           Conv2d-22          [-1, 512, 28, 28]       2,359,808\n",
            "             ReLU-23          [-1, 512, 28, 28]               0\n",
            "        MaxPool2d-24          [-1, 512, 14, 14]               0\n",
            "           Conv2d-25          [-1, 512, 14, 14]       2,359,808\n",
            "             ReLU-26          [-1, 512, 14, 14]               0\n",
            "           Conv2d-27          [-1, 512, 14, 14]       2,359,808\n",
            "             ReLU-28          [-1, 512, 14, 14]               0\n",
            "           Conv2d-29          [-1, 512, 14, 14]       2,359,808\n",
            "             ReLU-30          [-1, 512, 14, 14]               0\n",
            "        MaxPool2d-31            [-1, 512, 7, 7]               0\n",
            "AdaptiveAvgPool2d-32            [-1, 512, 7, 7]               0\n",
            "           Linear-33                 [-1, 4096]     102,764,544\n",
            "             ReLU-34                 [-1, 4096]               0\n",
            "          Dropout-35                 [-1, 4096]               0\n",
            "           Linear-36                 [-1, 4096]      16,781,312\n",
            "             ReLU-37                 [-1, 4096]               0\n",
            "          Dropout-38                 [-1, 4096]               0\n",
            "           Linear-39                 [-1, 1000]       4,097,000\n",
            "================================================================\n",
            "Total params: 138,357,544\n",
            "Trainable params: 138,357,544\n",
            "Non-trainable params: 0\n",
            "----------------------------------------------------------------\n",
            "Input size (MB): 0.57\n",
            "Forward/backward pass size (MB): 218.78\n",
            "Params size (MB): 527.79\n",
            "Estimated Total Size (MB): 747.15\n",
            "----------------------------------------------------------------\n"
          ]
        }
      ]
    },
    {
      "cell_type": "code",
      "source": [
        ""
      ],
      "metadata": {
        "id": "gMnEvMUTyLuD"
      },
      "execution_count": null,
      "outputs": []
    }
  ]
}