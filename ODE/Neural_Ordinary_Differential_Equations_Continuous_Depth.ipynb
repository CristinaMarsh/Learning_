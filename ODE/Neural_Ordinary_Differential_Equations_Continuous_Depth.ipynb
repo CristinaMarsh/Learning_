{
  "nbformat": 4,
  "nbformat_minor": 0,
  "metadata": {
    "colab": {
      "provenance": [],
      "authorship_tag": "ABX9TyOl7s0KRFx1k3V+jMs5P771",
      "include_colab_link": true
    },
    "kernelspec": {
      "name": "python3",
      "display_name": "Python 3"
    },
    "language_info": {
      "name": "python"
    }
  },
  "cells": [
    {
      "cell_type": "markdown",
      "metadata": {
        "id": "view-in-github",
        "colab_type": "text"
      },
      "source": [
        "<a href=\"https://colab.research.google.com/github/CristinaMarsh/Learning_/blob/main/ODE/Neural_Ordinary_Differential_Equations_Continuous_Depth.ipynb\" target=\"_parent\"><img src=\"https://colab.research.google.com/assets/colab-badge.svg\" alt=\"Open In Colab\"/></a>"
      ]
    },
    {
      "cell_type": "code",
      "source": [
        "# https://amirabbasasadi.github.io/deeplearning/2022/01/15/neural-ode-pytorch.html"
      ],
      "metadata": {
        "id": "O0JQ00FrPAvT"
      },
      "execution_count": null,
      "outputs": []
    },
    {
      "cell_type": "markdown",
      "source": [
        "# Introduction\n",
        "Neural Ordinary Differential Equations allow you to define neural networks with continuous depth. Apart from theoretically being interesting, using such models you can define continuous time series models for forecasting or interpolation or continuous normalizing flows.\n",
        "\n",
        "\n",
        "# Initial Value Problems and Numerical Solutions\n",
        "\n",
        "As you may already know an initial value problem is defined as follows.\n",
        "Given a function $f(t, y)$ and an initial value $y_0$, find a function $y$ which satisfies the differential equation:\n",
        "$$\n",
        "\\frac{d y}{d t}=f(t, y)\n",
        "$$\n",
        "And further satisfying the initial condiotion $y(0)=y_0$.\n",
        "The difficulty of solving such initial value problems depends on the RHS of the above equation $f(t, y)$. In most cases, there is no analytical method to solve it and it can only be solved if $f(t, y)$ has specific forms. However, there are some numerical methods for approximating the solution $y$.\n",
        "Perhaps the simplest numerical approach to solve an ODE is to use the Euler method. The idea is simple. a differential equation describes changes in the value of a function. So starting with the initial value $y_0$ we can construct a solution step-by-step as in each step $t_n$ the equation tells us how to change the current value $y_n$ to compute the next value $y_{n+1}$. Using Taylor expansion we can derive the following update:\n",
        "$$\n",
        "y_{n+1}=y_n+m f\\left(t_n, y_n\\right)\n",
        "$$\n",
        "Where $m$ is the step size. Smaller step sizes give a more accurate approximation. As an example consider the initial value problem:\n",
        "$$\n",
        "\\frac{d y}{d t}=-y\n",
        "$$\n",
        "with the initial condition $y(0)=1$. In this case the exact solution is $y=e^{-t}$. But Let's try to approximate it using the Euler method over the interval $[0,5]$ :\n",
        "\n"
      ],
      "metadata": {
        "id": "SymzdDvwPQkQ"
      }
    },
    {
      "cell_type": "code",
      "source": [
        "import numpy as np\n",
        "def f(t,y):\n",
        "  return -y\n",
        "\n",
        "step = 0.2\n",
        "steps = np.linspace(0,5,num=int(5/step))\n",
        "\n",
        "y_app = np.zeros_like(steps)\n",
        "\n",
        "y_app[0] = 1\n",
        "\n",
        "for n in range(len(steps) - 1):\n",
        "  y_app[n+1] = y_app[n] + step * f(steps[n], y_app[n])"
      ],
      "metadata": {
        "id": "tpLjw1TVPiYx"
      },
      "execution_count": 5,
      "outputs": []
    },
    {
      "cell_type": "code",
      "source": [
        "def exact_solution(t):\n",
        "  return np.exp(-t)"
      ],
      "metadata": {
        "id": "ktghFUjMROlA"
      },
      "execution_count": 10,
      "outputs": []
    },
    {
      "cell_type": "code",
      "source": [
        "exact_solution(steps)"
      ],
      "metadata": {
        "colab": {
          "base_uri": "https://localhost:8080/"
        },
        "id": "uIdf82t6R30T",
        "outputId": "87966199-ad78-4253-88f1-1081df421542"
      },
      "execution_count": 11,
      "outputs": [
        {
          "output_type": "execute_result",
          "data": {
            "text/plain": [
              "array([1.        , 0.81193635, 0.65924063, 0.53526143, 0.43459821,\n",
              "       0.35286608, 0.2865048 , 0.23262366, 0.1888756 , 0.15335497,\n",
              "       0.12451447, 0.10109782, 0.082085  , 0.06664779, 0.05411377,\n",
              "       0.04393693, 0.03567399, 0.02896501, 0.02351775, 0.01909491,\n",
              "       0.01550385, 0.01258814, 0.01022077, 0.00829861, 0.00673795])"
            ]
          },
          "metadata": {},
          "execution_count": 11
        }
      ]
    },
    {
      "cell_type": "code",
      "source": [
        "import matplotlib.pyplot as plt\n",
        "%matplotlib inline\n",
        "import pandas as pd\n",
        "\n",
        "\n",
        "plt.plot(pd.Series(y_app),label='Euler')\n",
        "plt.plot(pd.Series(exact_solution(steps)),label='Exact')\n",
        "plt.legend()"
      ],
      "metadata": {
        "colab": {
          "base_uri": "https://localhost:8080/",
          "height": 283
        },
        "id": "vAZxij3gQboT",
        "outputId": "e9303f91-5632-4c1c-c59d-571c2b83961c"
      },
      "execution_count": 14,
      "outputs": [
        {
          "output_type": "execute_result",
          "data": {
            "text/plain": [
              "<matplotlib.legend.Legend at 0x7fc14b8b9700>"
            ]
          },
          "metadata": {},
          "execution_count": 14
        },
        {
          "output_type": "display_data",
          "data": {
            "text/plain": [
              "<Figure size 432x288 with 1 Axes>"
            ],
            "image/png": "[encoded data removed]"
          },
          "metadata": {
            "needs_background": "light"
          }
        }
      ]
    },
    {
      "cell_type": "markdown",
      "source": [
        "People use more accurate techniques to integrate ODEs like Runge-Kutta. Some methods even use adaptive step sizes. You can use scipy package to solve initial value problems. For example to solve the same problem we can use a variant of the Runge-Kutta methods:"
      ],
      "metadata": {
        "id": "LfVYlN5KSJji"
      }
    },
    {
      "cell_type": "code",
      "source": [
        "from scipy.integrate import solve_ivp\n",
        "\n",
        "\n",
        "solution = solve_ivp(f, (0, 5.0), y0=[1.0], method='RK45', t_eval=steps)\n"
      ],
      "metadata": {
        "id": "-IAERyqCSG7z"
      },
      "execution_count": 15,
      "outputs": []
    },
    {
      "cell_type": "code",
      "source": [
        "solution.y[0]"
      ],
      "metadata": {
        "colab": {
          "base_uri": "https://localhost:8080/"
        },
        "id": "KQm0Njx4SiJC",
        "outputId": "1209157a-c237-42e8-b90a-2d4f8694b0e3"
      },
      "execution_count": 24,
      "outputs": [
        {
          "output_type": "execute_result",
          "data": {
            "text/plain": [
              "array([1.        , 0.81183381, 0.65882102, 0.53488608, 0.43461972,\n",
              "       0.35312571, 0.28662893, 0.23267187, 0.18898503, 0.15353684,\n",
              "       0.12463679, 0.10116554, 0.08215982, 0.0667531 , 0.05419796,\n",
              "       0.0439892 , 0.03571978, 0.02902091, 0.02356756, 0.01912804,\n",
              "       0.01552995, 0.01261653, 0.0102481 , 0.00832073, 0.00675601])"
            ]
          },
          "metadata": {},
          "execution_count": 24
        }
      ]
    },
    {
      "cell_type": "code",
      "source": [
        "plt.plot(pd.Series(solution.y[0]),label='RK45')\n",
        "plt.plot(pd.Series(exact_solution(steps)),label='Exact')\n",
        "plt.legend()"
      ],
      "metadata": {
        "colab": {
          "base_uri": "https://localhost:8080/",
          "height": 283
        },
        "id": "4G-bFNnRSZvY",
        "outputId": "d777c1c5-8f0c-43b7-e859-ecc0e0da7e8b"
      },
      "execution_count": 25,
      "outputs": [
        {
          "output_type": "execute_result",
          "data": {
            "text/plain": [
              "<matplotlib.legend.Legend at 0x7fc145439e80>"
            ]
          },
          "metadata": {},
          "execution_count": 25
        },
        {
          "output_type": "display_data",
          "data": {
            "text/plain": [
              "<Figure size 432x288 with 1 Axes>"
            ],
            "image/png": "[encoded data removed]"
          },
          "metadata": {
            "needs_background": "light"
          }
        }
      ]
    },
    {
      "cell_type": "markdown",
      "source": [
        "## Neural ODE\n",
        "Now consider a simple recurrent neural network. In such networks, we apply a sequence of transformations on a hidden state. For the sake of simplicity suppose in each layer we apply a simple nonlinear transformation $f$ parameterized by a vector of parameters $\\theta$ which might be time-dependent so let's call it $\\theta_t$ where $t$ denotes the time step. So we begin with an initial hidden state $h_0$ and update it according to the following iteration for a number of steps $T$ :\n",
        "$$\n",
        "h_{t+1}=h_t+f\\left(h_t, \\theta_t\\right)\n",
        "$$\n",
        "Now If you look closely, This update is very similar to what we did in the Euler method to solve an initial value problem. It seems the RNN is trying to solve an initial value problem, so by making the step size smaller and smaller and increasing the number of layers in the limit to infinity we have:\n",
        "$$\n",
        "\\frac{d \\mathbf{h}(\\mathbf{t})}{d t}=f(\\mathbf{h}(t), t, \\theta)\n",
        "$$\n",
        "Here $f$ is a neural network parameterized by $\\theta$. Now we can define $h(T)$ as the output of this network which is called Neural Ordinary Differential Equation a parameterized differential equation.\n",
        "\n",
        "## How to train a Neural ODE?\n",
        "After defining Neural ODE the main question is How to train it? To find a proper parameter vector $\\theta$ which minimizes a loss function $L$, we need to compute the gradient of the loss function. Obviously, we have to compute $h(T)$ as we have defined it as the output of the network. Since this is a differential equation we can compute $h(T)$ by solving as initial value problem using a numerical solver like the Euler method. Don't forget we have to compute the gradient of some loss functions which depends on $h(T)$. But can we differentiate through an ODE solver? Recall what we did in the Euler method once again, anything we did was differentiable so it seems differentiating through an ODE solver is straightforward and can be done using automatic differentiation systems like Autograd in PyTorch. However, a great advantages of Neural ODE is that we can perform this gradient computation much more efficiently.\n",
        "## Adjoint Sensitivity Method\n",
        "One of the problems associated with deep neural networks is the cost of gradient computation which increases as we add more layers to the model, Interestingly it turns out in the case of Neural ODE we can do this with constant memory using a method called Adjoint Sensitivity. Adjoint methods are a family of gradient computation methods applicable to certain problems.\n",
        "\n",
        "\n",
        "As we have seen in the Euler method, the solver approximates the solution step-by-step. Let's use $z(t)$ to denote the output(state) of the solver at time step $t$. Instead of directly computing the gradient of the loss function $L$ we may define:\n",
        "$$\n",
        "\\mathbf{a}(t)=\\frac{\\partial L}{\\partial \\mathbf{z}(t)}\n",
        "$$\n",
        "Here $\\mathbf{a}(t)$ is called the adjoint. adjoint is obviously a function of time and as its definition suggests is the sensitivity of loss to a change in the value of state $\\mathbf{z}(t)$. The dynamics of adjoint is described by a differential equation:\n",
        "$$\n",
        "\\frac{d \\mathbf{a}(t)}{d t}=-\\mathbf{a}(t)^T \\frac{\\partial f(\\mathbf{z}(t), t, \\theta)}{\\partial \\mathbf{z}}\n",
        "$$\n",
        "Using both values of $\\mathbf{a}(t)$ and $\\mathbf{z}(t)$ the gradient of $L$ can be computed as follows using an ODE solver:\n",
        "$$\n",
        "\\frac{d L}{d \\theta}=-\\int_{t_1}^{t_0} \\mathbf{a}(t)^T \\frac{\\partial f(\\mathbf{z}(t), t, \\theta)}{\\partial \\theta} d t\n",
        "$$\n",
        "Where $\\left[t_0, t_1\\right]$ is the interval of time steps over which we approximate the ODE solution.\n",
        "\n",
        "## Solving Initial Value Problems using torchdiffeq\n",
        "The paper of Neural ODE comes with a python package called torchdiffeq to make gradient computation using the adjoint method easier. Install the package using pip:"
      ],
      "metadata": {
        "id": "bWXETA94TewK"
      }
    },
    {
      "cell_type": "code",
      "source": [
        "%pip install torchdiffeq"
      ],
      "metadata": {
        "colab": {
          "base_uri": "https://localhost:8080/"
        },
        "id": "LJOQHx_vSf1x",
        "outputId": "d87a4f7b-206a-48dd-caca-2310464aed57"
      },
      "execution_count": 26,
      "outputs": [
        {
          "output_type": "stream",
          "name": "stdout",
          "text": [
            "Looking in indexes: https://pypi.org/simple, https://us-python.pkg.dev/colab-wheels/public/simple/\n",
            "Collecting torchdiffeq\n",
            "  Downloading torchdiffeq-0.2.3-py3-none-any.whl (31 kB)\n",
            "Requirement already satisfied: torch>=1.3.0 in /usr/local/lib/python3.8/dist-packages (from torchdiffeq) (1.13.1+cu116)\n",
            "Requirement already satisfied: scipy>=1.4.0 in /usr/local/lib/python3.8/dist-packages (from torchdiffeq) (1.7.3)\n",
            "Requirement already satisfied: numpy<1.23.0,>=1.16.5 in /usr/local/lib/python3.8/dist-packages (from scipy>=1.4.0->torchdiffeq) (1.22.4)\n",
            "Requirement already satisfied: typing-extensions in /usr/local/lib/python3.8/dist-packages (from torch>=1.3.0->torchdiffeq) (4.5.0)\n",
            "Installing collected packages: torchdiffeq\n",
            "Successfully installed torchdiffeq-0.2.3\n"
          ]
        }
      ]
    },
    {
      "cell_type": "markdown",
      "source": [
        "Let’s see how to use it to solve an initial value problem. consider the same problem discussed earlier. Just like before you need to define f(t,y)\n",
        " but now we define it as a PyTorch module:"
      ],
      "metadata": {
        "id": "9YCuc-juHpeN"
      }
    },
    {
      "cell_type": "code",
      "source": [
        "import torch\n",
        "import torch.nn as nn\n",
        "\n",
        "class F(nn.Module):\n",
        "    def forward(self, t, y):\n",
        "        return -y"
      ],
      "metadata": {
        "id": "SyQL8EiKURCF"
      },
      "execution_count": 30,
      "outputs": []
    },
    {
      "cell_type": "code",
      "source": [
        "from torchdiffeq import odeint_adjoint as odeint\n",
        "# creating f(t,y)"
      ],
      "metadata": {
        "id": "SloYM2GPJDqd"
      },
      "execution_count": 28,
      "outputs": []
    },
    {
      "cell_type": "code",
      "source": [
        "func = F()\n",
        "\n",
        "t = torch.linspace(0,5.0,25)\n",
        "y0 = torch.tensor([[1.0]])\n",
        "\n",
        "#solving the IVP\n",
        "\n",
        "y_app = odeint(func, y0, t)"
      ],
      "metadata": {
        "id": "X5JQ__A6JQNP"
      },
      "execution_count": 31,
      "outputs": []
    },
    {
      "cell_type": "code",
      "source": [
        "y_app.numpy().ravel()"
      ],
      "metadata": {
        "colab": {
          "base_uri": "https://localhost:8080/"
        },
        "id": "4wn7I1wVJlCU",
        "outputId": "f452b734-f8f5-498f-f6bb-6603c17c7e33"
      },
      "execution_count": 47,
      "outputs": [
        {
          "output_type": "execute_result",
          "data": {
            "text/plain": [
              "array([1.        , 0.8119368 , 0.65924066, 0.5352614 , 0.4345981 ,\n",
              "       0.3528661 , 0.28650483, 0.23262385, 0.18887563, 0.15335499,\n",
              "       0.12451458, 0.1010979 , 0.08208501, 0.06664781, 0.05411381,\n",
              "       0.04393695, 0.03567399, 0.02896501, 0.02351775, 0.01909492,\n",
              "       0.01550386, 0.01258815, 0.01022077, 0.00829861, 0.00673796],\n",
              "      dtype=float32)"
            ]
          },
          "metadata": {},
          "execution_count": 47
        }
      ]
    },
    {
      "cell_type": "code",
      "source": [
        "plt.plot(pd.Series(exact_solution(steps)),label='Exact')\n",
        "plt.plot(pd.Series(y_app.numpy().ravel()),label='NeuralODE')"
      ],
      "metadata": {
        "colab": {
          "base_uri": "https://localhost:8080/",
          "height": 283
        },
        "id": "PVNapik8JrKd",
        "outputId": "0aea911b-c613-4a0d-baff-1fb06147d3ab"
      },
      "execution_count": 48,
      "outputs": [
        {
          "output_type": "execute_result",
          "data": {
            "text/plain": [
              "[<matplotlib.lines.Line2D at 0x7fc0cc482700>]"
            ]
          },
          "metadata": {},
          "execution_count": 48
        },
        {
          "output_type": "display_data",
          "data": {
            "text/plain": [
              "<Figure size 432x288 with 1 Axes>"
            ],
            "image/png": "[encoded data removed]"
          },
          "metadata": {
            "needs_background": "light"
          }
        }
      ]
    },
    {
      "cell_type": "markdown",
      "source": [
        "Although everything seems just like scipy but now we are free to define f(t,y)\n",
        " using a neural network. for example:"
      ],
      "metadata": {
        "id": "FUf8AEN8NWNc"
      }
    },
    {
      "cell_type": "code",
      "source": [
        "class F(nn.Module):\n",
        "  def __init__(self):\n",
        "    super().__init__()\n",
        "\n",
        "    self.net = nn.Sequential(nn.Linear(1,8),\n",
        "                             nn.Tanh(),\n",
        "                             nn.Linear(8,1))\n",
        "\n",
        "  def forward(self, t, y):\n",
        "\n",
        "      return self.net(y) * t"
      ],
      "metadata": {
        "id": "dMMITiz_NSEV"
      },
      "execution_count": 53,
      "outputs": []
    },
    {
      "cell_type": "code",
      "source": [
        "#In this case, solving the problem is the same as before:\n",
        "\n",
        "func = F()\n",
        "t = torch.linspace(0, 5.0, 5)\n",
        "y0 = torch.tensor([-1.2])\n",
        "y_app = odeint(func, y0, t)"
      ],
      "metadata": {
        "id": "CggHVQoDNw42"
      },
      "execution_count": 54,
      "outputs": []
    },
    {
      "cell_type": "code",
      "source": [
        "y_app"
      ],
      "metadata": {
        "colab": {
          "base_uri": "https://localhost:8080/"
        },
        "id": "PsU6RYnbOTMZ",
        "outputId": "8c2d69dc-ad87-4d4f-e48f-3ac7344b2cd1"
      },
      "execution_count": 55,
      "outputs": [
        {
          "output_type": "execute_result",
          "data": {
            "text/plain": [
              "tensor([[-1.2000],\n",
              "        [-1.1845],\n",
              "        [-1.1524],\n",
              "        [-1.1273],\n",
              "        [-1.1160]], grad_fn=<OdeintAdjointMethodBackward>)"
            ]
          },
          "metadata": {},
          "execution_count": 55
        }
      ]
    },
    {
      "cell_type": "markdown",
      "source": [
        "# A Continuous Time Series Autoencoder\n",
        "\n",
        "\n",
        "## Problem Definition\n",
        "In this section we are going to see how to use Neural ODE to design a continuous time series autoencoder model. Such a model can be useful for time series interpolation, representation learning, or forcasting. Let’s create a synthetic time series with irregular observations. TimeSynth is a lightweight python library for generating different types of time series data. First, install it using pip:"
      ],
      "metadata": {
        "id": "8308XTirOiO-"
      }
    },
    {
      "cell_type": "code",
      "source": [
        "! pip install git+https://github.com/TimeSynth/TimeSynth.git"
      ],
      "metadata": {
        "colab": {
          "base_uri": "https://localhost:8080/"
        },
        "id": "axhJl89mOhhe",
        "outputId": "3ca79df5-ce3f-4d81-bfa8-6559d1b451c6"
      },
      "execution_count": 56,
      "outputs": [
        {
          "output_type": "stream",
          "name": "stdout",
          "text": [
            "Looking in indexes: https://pypi.org/simple, https://us-python.pkg.dev/colab-wheels/public/simple/\n",
            "Collecting git+https://github.com/TimeSynth/TimeSynth.git\n",
            "  Cloning https://github.com/TimeSynth/TimeSynth.git to /tmp/pip-req-build-adn23f6h\n",
            "  Running command git clone --filter=blob:none --quiet https://github.com/TimeSynth/TimeSynth.git /tmp/pip-req-build-adn23f6h\n",
            "  Resolved https://github.com/TimeSynth/TimeSynth.git to commit e50cdb9015d415adf46a4eae161a087c5c378564\n",
            "  Preparing metadata (setup.py) ... \u001b[?25l\u001b[?25hdone\n",
            "Requirement already satisfied: numpy in /usr/local/lib/python3.8/dist-packages (from timesynth==0.2.4) (1.22.4)\n",
            "Requirement already satisfied: scipy in /usr/local/lib/python3.8/dist-packages (from timesynth==0.2.4) (1.7.3)\n",
            "Requirement already satisfied: sympy in /usr/local/lib/python3.8/dist-packages (from timesynth==0.2.4) (1.7.1)\n",
            "Collecting symengine>=0.4\n",
            "  Downloading symengine-0.9.2-cp38-cp38-manylinux2010_x86_64.whl (37.5 MB)\n",
            "\u001b[2K     \u001b[90m━━━━━━━━━━━━━━━━━━━━━━━━━━━━━━━━━━━━━━━━\u001b[0m \u001b[32m37.5/37.5 MB\u001b[0m \u001b[31m30.3 MB/s\u001b[0m eta \u001b[36m0:00:00\u001b[0m\n",
            "\u001b[?25hCollecting jitcdde==1.4\n",
            "  Downloading jitcdde-1.4.0.tar.gz (136 kB)\n",
            "\u001b[2K     \u001b[90m━━━━━━━━━━━━━━━━━━━━━━━━━━━━━━━━━━━━━━\u001b[0m \u001b[32m136.2/136.2 KB\u001b[0m \u001b[31m15.2 MB/s\u001b[0m eta \u001b[36m0:00:00\u001b[0m\n",
            "\u001b[?25h  Preparing metadata (setup.py) ... \u001b[?25l\u001b[?25hdone\n",
            "Collecting jitcxde_common==1.4.1\n",
            "  Downloading jitcxde_common-1.4.1.tar.gz (22 kB)\n",
            "  Preparing metadata (setup.py) ... \u001b[?25l\u001b[?25hdone\n",
            "Requirement already satisfied: jinja2 in /usr/local/lib/python3.8/dist-packages (from jitcxde_common==1.4.1->timesynth==0.2.4) (2.11.3)\n",
            "Requirement already satisfied: setuptools in /usr/local/lib/python3.8/dist-packages (from jitcxde_common==1.4.1->timesynth==0.2.4) (57.4.0)\n",
            "Requirement already satisfied: mpmath>=0.19 in /usr/local/lib/python3.8/dist-packages (from sympy->timesynth==0.2.4) (1.2.1)\n",
            "Requirement already satisfied: MarkupSafe>=0.23 in /usr/local/lib/python3.8/dist-packages (from jinja2->jitcxde_common==1.4.1->timesynth==0.2.4) (2.0.1)\n",
            "Building wheels for collected packages: timesynth, jitcdde, jitcxde_common\n",
            "  Building wheel for timesynth (setup.py) ... \u001b[?25l\u001b[?25hdone\n",
            "  Created wheel for timesynth: filename=timesynth-0.2.4-py3-none-any.whl size=15445 sha256=7d174ab78cf9fa02a041d37ab286fb334b2e069d943c68875288a6c8069c561f\n",
            "  Stored in directory: /tmp/pip-ephem-wheel-cache-9hn_bs2w/wheels/d9/4a/9f/40a659e6b9971caed86881bf0de621bef68b3f5d61b4f9d3ee\n",
            "  Building wheel for jitcdde (setup.py) ... \u001b[?25l\u001b[?25hdone\n",
            "  Created wheel for jitcdde: filename=jitcdde-1.4.0-py3-none-any.whl size=30671 sha256=9bf38734290767a67425bcd95aa3740a8f43494414a9908df0ffd07695b2eea9\n",
            "  Stored in directory: /root/.cache/pip/wheels/c1/58/70/ae51394acc9757707a51cb500efed79554e672e05d0d757199\n",
            "  Building wheel for jitcxde_common (setup.py) ... \u001b[?25l\u001b[?25hdone\n",
            "  Created wheel for jitcxde_common: filename=jitcxde_common-1.4.1-py3-none-any.whl size=14957 sha256=443b3d42cea3767d921f2cc4f6fe4b371e600181468d7aecce1c225edf742863\n",
            "  Stored in directory: /root/.cache/pip/wheels/50/f6/d4/41c32b94ad836f824750f548f722e9480e5cc214e9e86700b9\n",
            "Successfully built timesynth jitcdde jitcxde_common\n",
            "Installing collected packages: symengine, jitcxde_common, jitcdde, timesynth\n",
            "Successfully installed jitcdde-1.4.0 jitcxde_common-1.4.1 symengine-0.9.2 timesynth-0.2.4\n"
          ]
        }
      ]
    },
    {
      "cell_type": "code",
      "source": [
        "import timesynth as ts\n",
        "\n",
        "# Initializing a Gaussian Process signal with a Matern kernel\n",
        "signal_process = ts.signals.GaussianProcess(kernel='Matern')\n",
        "# Initializing Gaussian noise\n",
        "white_noise = ts.noise.GaussianNoise(std=0.1)\n",
        "# Initializing TimeSeries class with the signal and noise objects\n",
        "timeseries = ts.TimeSeries(signal_process, noise_generator=white_noise)"
      ],
      "metadata": {
        "id": "zLJg3BIIOq55"
      },
      "execution_count": 57,
      "outputs": []
    },
    {
      "cell_type": "code",
      "source": [
        "# time steps to sample the time series\n",
        "samples = np.sort(np.random.uniform(0,5,60))\n",
        "# sampling the time series\n",
        "# sampling the time series\n",
        "series, signal, noise = timeseries.sample(samples)"
      ],
      "metadata": {
        "id": "bwETazkhO51z"
      },
      "execution_count": 58,
      "outputs": []
    },
    {
      "cell_type": "code",
      "source": [
        "plt.plot(samples, series)"
      ],
      "metadata": {
        "colab": {
          "base_uri": "https://localhost:8080/",
          "height": 287
        },
        "id": "fcq2k1TDPMIS",
        "outputId": "55e3f652-82b0-450d-cb63-ab8e9f2fe4e1"
      },
      "execution_count": 59,
      "outputs": [
        {
          "output_type": "execute_result",
          "data": {
            "text/plain": [
              "[<matplotlib.lines.Line2D at 0x7fc0cc57bdf0>]"
            ]
          },
          "metadata": {},
          "execution_count": 59
        },
        {
          "output_type": "display_data",
          "data": {
            "text/plain": [
              "<Figure size 432x288 with 1 Axes>"
            ],
            "image/png": "[encoded data removed]"
          },
          "metadata": {
            "needs_background": "light"
          }
        }
      ]
    },
    {
      "cell_type": "code",
      "source": [
        "plt.plot(samples, signal, label='signal')\n",
        "plt.plot(samples, noise, label='noise')\n",
        "plt.legend()"
      ],
      "metadata": {
        "colab": {
          "base_uri": "https://localhost:8080/",
          "height": 283
        },
        "id": "nAxTR-PdPQi5",
        "outputId": "68dcd066-ee23-454e-be4d-cb6413c6794d"
      },
      "execution_count": 60,
      "outputs": [
        {
          "output_type": "execute_result",
          "data": {
            "text/plain": [
              "<matplotlib.legend.Legend at 0x7fc0c7fbdf40>"
            ]
          },
          "metadata": {},
          "execution_count": 60
        },
        {
          "output_type": "display_data",
          "data": {
            "text/plain": [
              "<Figure size 432x288 with 1 Axes>"
            ],
            "image/png": "[encoded data removed]"
          },
          "metadata": {
            "needs_background": "light"
          }
        }
      ]
    },
    {
      "cell_type": "markdown",
      "source": [
        "So far we have a time series with irregular observations. Using a continuous time autoencoder we can interpolate arbitrary time points and use them for forecasting. There are many other applications for a continuous autoencoder like denoising, forecasting, …\n",
        "\n",
        "## Model Specification\n",
        "The overall architecture of the autoencoder has been shown in the figure below:\n",
        "An encoder network will encode the series to produce a latent vector z0\n",
        ". This latent vector can be used as the initial condition of the Neural ODE. By solving the Neural ODE we can obtain the latent representation of each time steps zt0,zt1,…,ztn\n",
        ". You may ask why the ODE should generate the latent points? The reason is in this case we will be able to sample the encoded series in arbitrary time points.\n",
        "\n",
        "\n",
        "Neural ODE is responsible to model the dynamics of the latent space. Encoders usually describe the latent space itself. But in this model we first describe the dynamics of latent space and then generate the latent space by solving the Neural ODE. The Neural ODE is as follows:"
      ],
      "metadata": {
        "id": "5ay_iVxIPeqv"
      }
    },
    {
      "cell_type": "code",
      "source": [
        "class Encoder_ODE(nn.Module):\n",
        "  def __init__(self, latent_dim):\n",
        "    super().__init__()\n",
        "\n",
        "    self.latent_dim = latent_dim\n",
        "    self.net = nn.Sequential(nn.Linear(self.latent_dim+1, self.latent_dim),\n",
        "                             nn.CELU(),\n",
        "                             nn.Linear(self.latent_dim, self.latent_dim))\n",
        "   \n",
        "    self.omega = nn.Parameter(torch.rand((1,)))\n",
        "    \n",
        "  def forward(self, t, y):\n",
        "    # handling seasonality\n",
        "    time = torch.sin(self.omega*t.view(1, 1))\n",
        "    combined = torch.cat([time, y], dim=1)\n",
        "    return self.net(combined)"
      ],
      "metadata": {
        "id": "PXBmHwa0PVAe"
      },
      "execution_count": 61,
      "outputs": []
    },
    {
      "cell_type": "markdown",
      "source": [
        "For decoding the latent values we can define a simple MLP which acts on each latent time point zi\n",
        " separately. This way it is easier to generate the series in arbitrary points after training the Autoencoder."
      ],
      "metadata": {
        "id": "GUYUKZGCQXox"
      }
    },
    {
      "cell_type": "code",
      "source": [
        "class AE(nn.Module):\n",
        "  def __init__(self, latent_dim):\n",
        "    super().__init__()\n",
        "\n",
        "    self.latent_dim = latent_dim\n",
        "    self.ode = Encoder_ODE(self.latent_dim)\n",
        "    self.lstm_encoder = nn.LSTM(1, self.latent_dim, batch_first=True)\n",
        "    self.fc_decoder = nn.Sequential(nn.Linear(self.latent_dim, self.latent_dim),\n",
        "                                    nn.Tanh(),\n",
        "                                    nn.Linear(self.latent_dim, 1))\n",
        "  \n",
        "  def forward(self, t, y):\n",
        "    # zero initialized hidden vector\n",
        "    (h0, c0) = (torch.zeros(1, 1, self.latent_dim),\n",
        "                torch.zeros(1, 1, self.latent_dim))\n",
        "    # encoding the time series\n",
        "    _, (h, c) = self.lstm_encoder(y.view(1, -1, 1), (h0, c0))\n",
        "\n",
        "    # using the last hidden value as the initial condition for solving ODE \n",
        "    z0 = h[0]\n",
        "    # generating the latent points by solving ODE\n",
        "    z = odeint(self.ode, z0, t_train).squeeze()\n",
        "    y_decoded = self.fc_decoder(z)\n",
        "    return y_decoded"
      ],
      "metadata": {
        "id": "S0I7WZs5QVGm"
      },
      "execution_count": 62,
      "outputs": []
    },
    {
      "cell_type": "code",
      "source": [
        "t_train = torch.from_numpy(samples).float()\n",
        "y_train = torch.from_numpy(series).float()"
      ],
      "metadata": {
        "id": "qO49dVCwRJvM"
      },
      "execution_count": 63,
      "outputs": []
    },
    {
      "cell_type": "code",
      "source": [
        "import torch.optim as optim\n",
        "model = AE(latent_dim=3)\n",
        "optimizer = optim.Adam(model.parameters(), lr=0.002)\n",
        "criterion = nn.MSELoss()"
      ],
      "metadata": {
        "id": "q8b73fjGROnU"
      },
      "execution_count": 64,
      "outputs": []
    },
    {
      "cell_type": "code",
      "source": [
        "loss_track = []\n",
        "epochs = 300\n",
        "for epoch in range(epochs):\n",
        "\n",
        "    optimizer.zero_grad()\n",
        "    y_decoded = model(t_train,y_train)\n",
        "    train_loss = criterion(y_decoded.squeeze(), y_train)\n",
        "\n",
        "    train_loss.backward()\n",
        "\n",
        "    optimizer.step()\n",
        "\n",
        "    loss_track.append(train_loss.item())"
      ],
      "metadata": {
        "id": "du4GW_iURTPo"
      },
      "execution_count": 65,
      "outputs": []
    },
    {
      "cell_type": "code",
      "source": [
        "pd.Series(loss_track).plot()"
      ],
      "metadata": {
        "colab": {
          "base_uri": "https://localhost:8080/",
          "height": 283
        },
        "id": "VyqeHkdRSDPH",
        "outputId": "52dbccbf-8832-4d5d-b19a-5b5e975c191a"
      },
      "execution_count": 68,
      "outputs": [
        {
          "output_type": "execute_result",
          "data": {
            "text/plain": [
              "<AxesSubplot:>"
            ]
          },
          "metadata": {},
          "execution_count": 68
        },
        {
          "output_type": "display_data",
          "data": {
            "text/plain": [
              "<Figure size 432x288 with 1 Axes>"
            ],
            "image/png": "[encoded data removed]"
          },
          "metadata": {
            "needs_background": "light"
          }
        }
      ]
    },
    {
      "cell_type": "code",
      "source": [
        "pd.Series(y_decoded.detach().numpy().ravel()).plot()\n",
        "pd.Series(signal).plot()"
      ],
      "metadata": {
        "colab": {
          "base_uri": "https://localhost:8080/",
          "height": 283
        },
        "id": "YluftFY0TTAZ",
        "outputId": "001fa61d-df1c-4144-94d1-d449e578db56"
      },
      "execution_count": 82,
      "outputs": [
        {
          "output_type": "execute_result",
          "data": {
            "text/plain": [
              "<AxesSubplot:>"
            ]
          },
          "metadata": {},
          "execution_count": 82
        },
        {
          "output_type": "display_data",
          "data": {
            "text/plain": [
              "<Figure size 432x288 with 1 Axes>"
            ],
            "image/png": "[encoded data removed]"
          },
          "metadata": {
            "needs_background": "light"
          }
        }
      ]
    }
  ]
}