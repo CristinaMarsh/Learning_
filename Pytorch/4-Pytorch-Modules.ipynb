{
  "cells": [
    {
      "cell_type": "markdown",
      "metadata": {
        "id": "TVCMF2CySz3n"
      },
      "source": [
        "Pytorch Neural Network Modules\n",
        "==============================\n",
        "\n",
        "Pytorch uses the `torch.nn.Module` class to represent a neural network.\n",
        "\n",
        "A `Module` is just a **callable** function that can be:\n",
        "\n",
        " * **Parameterized** by trainable `Parameter` tensors that the module can list out.\n",
        " * **Composed** out of children `Module`s that contribute parameters.\n",
        " * **Saved and Loaded** by listing named parameters and other attribute buffers.\n",
        "\n",
        "Pytorch comes with several built-in elementary network modules, like a generic single-layer `Linear` network, or a generic `Sequential` composition of other networks, but of course you can write your own `Module` subclasses by just defining `Parameter` attributes and using them to implement a computation.\n",
        "\n",
        "To see how every `Module` manages its own portion of responsibilities of all the network duties above, we first look at how to use the built-in `Linear` and `Sequential` modules."
      ]
    },
    {
      "cell_type": "markdown",
      "metadata": {
        "id": "qIUYHY8pSz3p"
      },
      "source": [
        "Using torch.nn.Linear as a Neural Network\n",
        "=========================================\n",
        "\n",
        "The linear layer is not just a good starting example: it is the fundmental workhorse of all neural networks, so as simple as it is, it is worth examining carefully.\n",
        "\n",
        "`torch.nn.Linear` implements the function `y = Ax + b`, which takes m-dimensional input `x` and produces n-dimensional output `y`, by multiplying by the n &times; m matrix `A` (whose specific values are called the `weight`) and adding n-dimensional vector `b` (whose values are called the `bias`).  We can make a Linear network with 3d input and 2d output just like this:"
      ]
    },
    {
      "cell_type": "code",
      "execution_count": 1,
      "metadata": {
        "id": "_dvHPVGbSz3q",
        "outputId": "80743254-f250-401c-ae0a-0cc615bf8b36",
        "colab": {
          "base_uri": "https://localhost:8080/"
        }
      },
      "outputs": [
        {
          "output_type": "stream",
          "name": "stdout",
          "text": [
            "Linear(in_features=3, out_features=2, bias=True)\n"
          ]
        }
      ],
      "source": [
        "import torch\n",
        "net = torch.nn.Linear(3, 2) #w_jk: j=2,k=3, b_j=2\n",
        "\n",
        "print(net)"
      ]
    },
    {
      "cell_type": "markdown",
      "metadata": {
        "id": "mYcN8IyhSz3r"
      },
      "source": [
        "Like any Module, our little network can be run as a function.  As expected, when we give it 3-d vector as input, we get a 2-d vector as output."
      ]
    },
    {
      "cell_type": "code",
      "execution_count": 2,
      "metadata": {
        "id": "t9IZQKizSz3r",
        "outputId": "fcdd2ec3-9f8d-4b4f-c097-593d69ea0543",
        "colab": {
          "base_uri": "https://localhost:8080/"
        }
      },
      "outputs": [
        {
          "output_type": "execute_result",
          "data": {
            "text/plain": [
              "tensor([[-0.0816,  0.3389]], grad_fn=<AddmmBackward0>)"
            ]
          },
          "metadata": {},
          "execution_count": 2
        }
      ],
      "source": [
        "net(torch.tensor([[1.0, 0.0, 0.0]]))"
      ]
    },
    {
      "cell_type": "markdown",
      "metadata": {
        "id": "I_uj1n8vSz3r"
      },
      "source": [
        "**Batchwise processing is assumed in pytorch networks.** Notice the double nesting in the vector data above.  This is needed because our `Linear`  network is slightly different from a plain matrix-vector multiplication. By convention, pytorch `Module`s are set up to process data in batches, so to give it a single 3-d vector, instead of passing just a vector, we have passed it a singleton batch containing one vector.\n",
        "\n",
        "We can instead send in several inputs - here we provide four vectors as inputs.  The network then gives us four vectors as outputs:"
      ]
    },
    {
      "cell_type": "code",
      "execution_count": 3,
      "metadata": {
        "id": "r3r2un-USz3r",
        "outputId": "a6d9897f-af71-40ed-d745-ab4955ad8c06",
        "colab": {
          "base_uri": "https://localhost:8080/"
        }
      },
      "outputs": [
        {
          "output_type": "execute_result",
          "data": {
            "text/plain": [
              "tensor([[-0.0816,  0.3389],\n",
              "        [ 0.5536,  0.4153],\n",
              "        [ 0.3486,  0.2476],\n",
              "        [ 0.3790,  0.1323]], grad_fn=<AddmmBackward0>)"
            ]
          },
          "metadata": {},
          "execution_count": 3
        }
      ],
      "source": [
        "x_batch = torch.tensor([\n",
        "    [1.0, 0. , 0. ],\n",
        "    [0. , 1.0, 0. ],\n",
        "    [0. , 0. , 1.0],\n",
        "    [0. , 0. , 0. ],\n",
        "])\n",
        "net(x_batch) #torch.Size([4, 2])"
      ]
    },
    {
      "cell_type": "code",
      "source": [
        "net(x_batch).shape"
      ],
      "metadata": {
        "id": "o3DAqJ9ETSPV",
        "outputId": "9b406859-ee35-49e9-bb61-f04a803260ef",
        "colab": {
          "base_uri": "https://localhost:8080/"
        }
      },
      "execution_count": 5,
      "outputs": [
        {
          "output_type": "execute_result",
          "data": {
            "text/plain": [
              "torch.Size([4, 2])"
            ]
          },
          "metadata": {},
          "execution_count": 5
        }
      ]
    },
    {
      "cell_type": "markdown",
      "metadata": {
        "id": "WJTtjc47Sz3s"
      },
      "source": [
        "**Parameters are randomly initializated by default.** What strange function is this Linear layer computing?  By default pytorch has initialized the weights and bias randomly.  We can look at these random parameters directly:"
      ]
    },
    {
      "cell_type": "code",
      "execution_count": 6,
      "metadata": {
        "id": "IZbcmMMUSz3s",
        "outputId": "3a5458b0-00a4-4096-a12a-ec1109d37b24",
        "colab": {
          "base_uri": "https://localhost:8080/"
        }
      },
      "outputs": [
        {
          "output_type": "stream",
          "name": "stdout",
          "text": [
            "weight is Parameter containing:\n",
            "tensor([[-0.4605,  0.1746, -0.0303],\n",
            "        [ 0.2066,  0.2830,  0.1153]], requires_grad=True)\n",
            "bias is Parameter containing:\n",
            "tensor([0.3790, 0.1323], requires_grad=True)\n"
          ]
        }
      ],
      "source": [
        "print('weight is', net.weight) #weight 2,3\n",
        "print('bias is', net.bias) #2"
      ]
    },
    {
      "cell_type": "markdown",
      "metadata": {
        "id": "j3Y1Dj1YSz3t"
      },
      "source": [
        "### Exercise\n",
        "\n",
        "1. Set the `bias` of the network to the zero vector.\n",
        "2. Examine the numerical results of `net(x_batch)`.  Do the answers match the parameters as you would expect?\n",
        "\n",
        "**Hint**: although `x.zero_()` or `x[:] = 0.0` can zero a vector in place, since the network parameters are all `requires_grad=True`, you will need to put things in a `with torch.no_grad()` block to temporarily disable autograd before changing the values."
      ]
    },
    {
      "cell_type": "code",
      "source": [
        "import torch\n",
        "net = torch.nn.Linear(3, 2) #w_jk: j=2,k=3, b_j=2\n",
        "x_batch = torch.tensor([\n",
        "    [1.0, 0. , 0. ],\n",
        "    [0. , 1.0, 0. ],\n",
        "    [0. , 0. , 1.0],\n",
        "    [0. , 0. , 0. ],\n",
        "])\n",
        "net(x_batch) #torch.Size([4, 2])\n",
        "print(net.bias)\n",
        "print(net(x_batch))\n",
        "with torch.no_grad():\n",
        "  if net.bias is not None:\n",
        "     net.bias.data.fill_(0)\n",
        "print(net.bias)\n",
        "print(net(x_batch))"
      ],
      "metadata": {
        "id": "kzKlmPJqTwdx",
        "outputId": "ad2e6d40-5bdf-405d-d212-48d7d310499b",
        "colab": {
          "base_uri": "https://localhost:8080/"
        }
      },
      "execution_count": 11,
      "outputs": [
        {
          "output_type": "stream",
          "name": "stdout",
          "text": [
            "Parameter containing:\n",
            "tensor([0.4885, 0.4603], requires_grad=True)\n",
            "tensor([[0.1420, 1.0203],\n",
            "        [0.6608, 0.4003],\n",
            "        [0.8292, 0.4038],\n",
            "        [0.4885, 0.4603]], grad_fn=<AddmmBackward0>)\n",
            "Parameter containing:\n",
            "tensor([0., 0.], requires_grad=True)\n",
            "tensor([[-0.3465,  0.5600],\n",
            "        [ 0.1723, -0.0599],\n",
            "        [ 0.3408, -0.0565],\n",
            "        [ 0.0000,  0.0000]], grad_fn=<AddmmBackward0>)\n"
          ]
        }
      ]
    },
    {
      "cell_type": "code",
      "source": [
        "import torch\n",
        "import torch.nn as nn\n",
        "net = torch.nn.Linear(3, 2) #w_jk: j=2,k=3, b_j=2\n",
        "x_batch = torch.tensor([\n",
        "    [1.0, 0. , 0. ],\n",
        "    [0. , 1.0, 0. ],\n",
        "    [0. , 0. , 1.0],\n",
        "    [0. , 0. , 0. ],\n",
        "])\n",
        "\n",
        "net(x_batch) #torch.Size([4, 2])\n",
        "print(net.bias)\n",
        "print(net(x_batch))\n",
        "\n",
        "def init_weights(m):\n",
        "    if type(m) == nn.Linear:\n",
        "        m.bias.data.fill_(0)\n",
        "\n",
        "net2 = torch.nn.Linear(3, 2) \n",
        "\n",
        "with torch.no_grad():\n",
        "  net2.apply(init_weights)\n",
        "print(net2.bias)\n",
        "print(net2(x_batch))"
      ],
      "metadata": {
        "id": "_hLxAMI4VWIw",
        "outputId": "f6f46a1a-722a-4efc-fc0b-ef2af4a83a24",
        "colab": {
          "base_uri": "https://localhost:8080/"
        }
      },
      "execution_count": 12,
      "outputs": [
        {
          "output_type": "stream",
          "name": "stdout",
          "text": [
            "Parameter containing:\n",
            "tensor([-0.3315, -0.2568], requires_grad=True)\n",
            "tensor([[ 0.2257, -0.7853],\n",
            "        [-0.7335, -0.4135],\n",
            "        [-0.4794, -0.0331],\n",
            "        [-0.3315, -0.2568]], grad_fn=<AddmmBackward0>)\n",
            "Parameter containing:\n",
            "tensor([0., 0.], requires_grad=True)\n",
            "tensor([[ 0.1303, -0.4370],\n",
            "        [ 0.2925, -0.4988],\n",
            "        [-0.4513,  0.0864],\n",
            "        [ 0.0000,  0.0000]], grad_fn=<AddmmBackward0>)\n"
          ]
        }
      ]
    },
    {
      "cell_type": "markdown",
      "metadata": {
        "id": "g_aO1k_NSz3t"
      },
      "source": [
        "**Parameters are set up for autograd and optimization, and can be listed out.**  Above you can see that both the weight and the bias are trainable parameters, because they both have the `Parameter` type.  The tensors also both marked as `requires_grad=True`, which means they are marked to participate in autograd and optimization for training.\n",
        "\n",
        "These are the only two trainable parameters of the network.  To check this, we can list all parameters by name, using `net.named_parameters()`."
      ]
    },
    {
      "cell_type": "code",
      "execution_count": 13,
      "metadata": {
        "id": "pNioFqmDSz3u",
        "outputId": "07928487-3263-4f4e-9df3-fd669eb732aa",
        "colab": {
          "base_uri": "https://localhost:8080/"
        }
      },
      "outputs": [
        {
          "output_type": "stream",
          "name": "stdout",
          "text": [
            "weight = Parameter containing:\n",
            "tensor([[ 0.5572, -0.4019, -0.1479],\n",
            "        [-0.5285, -0.1567,  0.2237]], requires_grad=True)\n",
            "\n",
            "bias = Parameter containing:\n",
            "tensor([-0.3315, -0.2568], requires_grad=True)\n",
            "\n"
          ]
        }
      ],
      "source": [
        "for name, param in net.named_parameters():\n",
        "    print(f'{name} = {param}\\n')"
      ]
    },
    {
      "cell_type": "markdown",
      "metadata": {
        "id": "xDePGExpSz3u"
      },
      "source": [
        "**A Module can be saved by saving its state_dict.**   `net.state_dict()` is similar to `net.named_parameters()` but it returns a detached reference to the data (that is, `requires_grad=False`) so the data can be saved directly.  Also, for more complicated modules, `state_dict()` may include other non-trainable attributes that are needed to save the network's state."
      ]
    },
    {
      "cell_type": "code",
      "source": [
        "for k, v in net.state_dict().items():\n",
        "  print(f'{k}: {v.type()}{tuple(v.shape)}')"
      ],
      "metadata": {
        "id": "0sSxUdi4WgmW",
        "outputId": "30767918-5f45-4a1b-91ec-b9d36f10f8b0",
        "colab": {
          "base_uri": "https://localhost:8080/"
        }
      },
      "execution_count": 14,
      "outputs": [
        {
          "output_type": "stream",
          "name": "stdout",
          "text": [
            "weight: torch.FloatTensor(2, 3)\n",
            "bias: torch.FloatTensor(2,)\n"
          ]
        }
      ]
    },
    {
      "cell_type": "code",
      "source": [
        "import os\n",
        "os.makedirs('checkpoints',exist_ok=True)\n",
        "torch.save(net.state_dict(),'checkpoints/linear.pth')"
      ],
      "metadata": {
        "id": "eP0qHm1dWpbw"
      },
      "execution_count": 15,
      "outputs": []
    },
    {
      "cell_type": "code",
      "execution_count": null,
      "metadata": {
        "id": "C89jN2j-Sz3u"
      },
      "outputs": [],
      "source": [
        "for k, v in net.state_dict().items():\n",
        "    print(f'{k}: {v.type()}{tuple(v.shape)}')\n",
        "\n",
        "import os\n",
        "os.makedirs('checkpoints', exist_ok=True)\n",
        "torch.save(net.state_dict(), 'checkpoints/linear.pth')"
      ]
    },
    {
      "cell_type": "markdown",
      "metadata": {
        "id": "Vn4nh4s_Sz3u"
      },
      "source": [
        "**load_state_dict() can be used to reload a saved Module.**  Pytorch also comes with convenient `torch.save` and `torch.load` functions for saving state dicts to files."
      ]
    },
    {
      "cell_type": "code",
      "source": [
        "net.load_state_dict(torch.load('checkpoints/linear.pth'))"
      ],
      "metadata": {
        "id": "tAalwYFPW3x3",
        "outputId": "2ea9426e-5e6a-4282-e777-4cf617275119",
        "colab": {
          "base_uri": "https://localhost:8080/"
        }
      },
      "execution_count": 16,
      "outputs": [
        {
          "output_type": "execute_result",
          "data": {
            "text/plain": [
              "<All keys matched successfully>"
            ]
          },
          "metadata": {},
          "execution_count": 16
        }
      ]
    },
    {
      "cell_type": "code",
      "source": [
        "x_test = torch.randn(3,4,3) #B,R,H\n",
        "net(x_test)"
      ],
      "metadata": {
        "id": "NOEc87-oW-he",
        "outputId": "64a5d242-1ec8-42c5-c1a6-f269903b672e",
        "colab": {
          "base_uri": "https://localhost:8080/"
        }
      },
      "execution_count": 20,
      "outputs": [
        {
          "output_type": "execute_result",
          "data": {
            "text/plain": [
              "tensor([[[-0.2687, -0.4624],\n",
              "         [-0.2834, -0.6083],\n",
              "         [-0.6254, -0.4111],\n",
              "         [-0.4063, -0.4953]],\n",
              "\n",
              "        [[ 0.6110,  0.2157],\n",
              "         [ 0.1583, -0.4359],\n",
              "         [ 0.1252, -0.9168],\n",
              "         [-0.0621, -0.2090]],\n",
              "\n",
              "        [[-1.3330, -0.2428],\n",
              "         [ 0.3440, -0.8172],\n",
              "         [-0.4049, -0.4013],\n",
              "         [-0.6940,  0.2796]]], grad_fn=<AddBackward0>)"
            ]
          },
          "metadata": {},
          "execution_count": 20
        }
      ]
    },
    {
      "cell_type": "code",
      "execution_count": null,
      "metadata": {
        "id": "nEjpm-kJSz3u"
      },
      "outputs": [],
      "source": [
        "# Then later, to remember the state\n",
        "net.load_state_dict(torch.load('checkpoints/linear.pth'))"
      ]
    },
    {
      "cell_type": "code",
      "source": [
        "for k, v in net.state_dict().items():\n",
        "    print(f'{k}: {v.type()}{tuple(v.shape)}')"
      ],
      "metadata": {
        "id": "k9AaDKTKYNZU",
        "outputId": "9e4259f5-32a7-426a-945e-883797aefd26",
        "colab": {
          "base_uri": "https://localhost:8080/"
        }
      },
      "execution_count": 30,
      "outputs": [
        {
          "output_type": "stream",
          "name": "stdout",
          "text": [
            "weight: torch.FloatTensor(2, 3)\n",
            "bias: torch.FloatTensor(2,)\n"
          ]
        }
      ]
    },
    {
      "cell_type": "code",
      "source": [
        "net.state_dict()['bias']"
      ],
      "metadata": {
        "id": "w8uUUm3GYcLR",
        "outputId": "edecd316-b38e-45bb-a82b-964963ec5957",
        "colab": {
          "base_uri": "https://localhost:8080/"
        }
      },
      "execution_count": 32,
      "outputs": [
        {
          "output_type": "execute_result",
          "data": {
            "text/plain": [
              "tensor([-0.3315, -0.2568])"
            ]
          },
          "metadata": {},
          "execution_count": 32
        }
      ]
    },
    {
      "cell_type": "code",
      "source": [
        "torch.load('checkpoints/linear.pth')"
      ],
      "metadata": {
        "id": "p0S-J6mBYxnJ",
        "outputId": "7fc095c4-62be-42c2-cabe-6578d00cad77",
        "colab": {
          "base_uri": "https://localhost:8080/"
        }
      },
      "execution_count": 36,
      "outputs": [
        {
          "output_type": "execute_result",
          "data": {
            "text/plain": [
              "OrderedDict([('weight', tensor([[ 0.5572, -0.4019, -0.1479],\n",
              "                      [-0.5285, -0.1567,  0.2237]])),\n",
              "             ('bias', tensor([-0.3315, -0.2568]))])"
            ]
          },
          "metadata": {},
          "execution_count": 36
        }
      ]
    },
    {
      "cell_type": "markdown",
      "metadata": {
        "id": "rpMn93XKSz3v"
      },
      "source": [
        "### Exercise:\n",
        "\n",
        "1. Define a linear layer **without** bias, as in `net2 = torch.nn.Linear(3, 2, bias=False)`.\n",
        "2. Load the previously saved state dict in 'checkpoints/linear.pth' into this new layer, ignoring the saved bias.\n",
        "\n",
        "Loading trained parameters from one network into a different network with a changed architecture is a more common trick than you might imagine.  It is the core technique of *transfer learning*.\n",
        "\n",
        "**Hint**: you can get pytorch to do this in a couple ways.  One way is to manually change the dictionary keys, in this case deleting the `bias` parameter from the state dict after loading it from the file and before passing it to `net2.load_state_dict`.  The other way is to try the `strict=False` option on load_state_dict, which will print a warning about the mismatch but proceed anyway.\n"
      ]
    },
    {
      "cell_type": "code",
      "source": [
        "net2 = torch.nn.Linear(3,2,bias=False)\n",
        "\n",
        "loaded_state = torch.load('checkpoints/linear.pth')\n",
        "\n",
        "loaded_state['bias']\n",
        "\n"
      ],
      "metadata": {
        "id": "kCCINd5tXXQf",
        "outputId": "af8a37c7-ecff-4b5c-9ea1-b56d57dbc470",
        "colab": {
          "base_uri": "https://localhost:8080/"
        }
      },
      "execution_count": 38,
      "outputs": [
        {
          "output_type": "execute_result",
          "data": {
            "text/plain": [
              "tensor([-0.3315, -0.2568])"
            ]
          },
          "metadata": {},
          "execution_count": 38
        }
      ]
    },
    {
      "cell_type": "code",
      "source": [
        "print(net2.bias)"
      ],
      "metadata": {
        "id": "V-q_SkEta-qa",
        "outputId": "05d9ef4e-ab0b-4f58-a472-90148db26fab",
        "colab": {
          "base_uri": "https://localhost:8080/"
        }
      },
      "execution_count": 56,
      "outputs": [
        {
          "output_type": "stream",
          "name": "stdout",
          "text": [
            "None\n"
          ]
        }
      ]
    },
    {
      "cell_type": "code",
      "source": [
        "list(torch.load('checkpoints/linear.pth').items())[1:]"
      ],
      "metadata": {
        "id": "7YDbhNhTaKrG",
        "outputId": "0c5af99e-021a-4b5a-835a-e6955026ddaf",
        "colab": {
          "base_uri": "https://localhost:8080/"
        }
      },
      "execution_count": 51,
      "outputs": [
        {
          "output_type": "execute_result",
          "data": {
            "text/plain": [
              "[('bias', tensor([-0.3315, -0.2568]))]"
            ]
          },
          "metadata": {},
          "execution_count": 51
        }
      ]
    },
    {
      "cell_type": "code",
      "source": [
        "dict(list(torch.load('checkpoints/linear.pth').items())[1:])"
      ],
      "metadata": {
        "id": "XgHCC3ynaTwo",
        "outputId": "e2c65709-4165-457c-a6a4-ee8da7943580",
        "colab": {
          "base_uri": "https://localhost:8080/"
        }
      },
      "execution_count": 57,
      "outputs": [
        {
          "output_type": "execute_result",
          "data": {
            "text/plain": [
              "{'bias': tensor([-0.3315, -0.2568])}"
            ]
          },
          "metadata": {},
          "execution_count": 57
        }
      ]
    },
    {
      "cell_type": "code",
      "source": [
        "net2.load_state_dict(dict(list(torch.load('checkpoints/linear.pth').items())[1:]),strict=False)"
      ],
      "metadata": {
        "id": "VCPHMpO0ZHjx",
        "outputId": "37ff1f0a-efbf-43f8-c13d-44401d7299f9",
        "colab": {
          "base_uri": "https://localhost:8080/"
        }
      },
      "execution_count": 58,
      "outputs": [
        {
          "output_type": "execute_result",
          "data": {
            "text/plain": [
              "_IncompatibleKeys(missing_keys=['weight'], unexpected_keys=['bias'])"
            ]
          },
          "metadata": {},
          "execution_count": 58
        }
      ]
    },
    {
      "cell_type": "code",
      "source": [
        "net2.state_dict().items()"
      ],
      "metadata": {
        "id": "jOTMD-GcbllP",
        "outputId": "ef864c6b-2b4c-42de-d33f-776e8ddac49e",
        "colab": {
          "base_uri": "https://localhost:8080/"
        }
      },
      "execution_count": 61,
      "outputs": [
        {
          "output_type": "execute_result",
          "data": {
            "text/plain": [
              "odict_items([('weight', tensor([[-0.1084, -0.0433,  0.0067],\n",
              "        [ 0.4024,  0.0827, -0.1389]]))])"
            ]
          },
          "metadata": {},
          "execution_count": 61
        }
      ]
    },
    {
      "cell_type": "markdown",
      "metadata": {
        "id": "avtiPuDZSz3v"
      },
      "source": [
        "Training Example: Optimizing a Linear Layer\n",
        "-------------------------------------------\n",
        "\n",
        "To train a network we need to come up with a score for how close we are to the goal.  This scalar number is called the **objective** or the **loss**.\n",
        "\n",
        "For example, suppose we would like this network to always output `[1, 1]` regardless of input.  Then a reasonable loss would be the mean squared distance to `[1, 1]`, computed like this:"
      ]
    },
    {
      "cell_type": "code",
      "execution_count": 62,
      "metadata": {
        "id": "Yv4R9XsFSz3v",
        "outputId": "c9a0bd3a-2f22-4d11-f112-d1b42216e875",
        "colab": {
          "base_uri": "https://localhost:8080/"
        }
      },
      "outputs": [
        {
          "output_type": "stream",
          "name": "stdout",
          "text": [
            "loss is 3.8496155738830566\n"
          ]
        }
      ],
      "source": [
        "y_batch = net(x_batch)\n",
        "loss = ((y_batch - torch.tensor([[1.0, 1.0]])) ** 2).sum(1).mean()\n",
        "print(f'loss is {loss}')"
      ]
    },
    {
      "cell_type": "markdown",
      "metadata": {
        "id": "tbzcdRZZSz3v"
      },
      "source": [
        "We can use autograd get gradients to see how small changes in every parameter would impact the loss."
      ]
    },
    {
      "cell_type": "code",
      "execution_count": 63,
      "metadata": {
        "id": "1k7l52xZSz3w",
        "outputId": "847dad24-71ad-42fa-ca0f-52c0df245e3a",
        "colab": {
          "base_uri": "https://localhost:8080/"
        }
      },
      "outputs": [
        {
          "output_type": "stream",
          "name": "stdout",
          "text": [
            "weight is Parameter containing:\n",
            "tensor([[ 0.5572, -0.4019, -0.1479],\n",
            "        [-0.5285, -0.1567,  0.2237]], requires_grad=True) and grad is:\n",
            "tensor([[-0.3872, -0.8667, -0.7397],\n",
            "        [-0.8927, -0.7067, -0.5165]])\n",
            "\n",
            "bias is Parameter containing:\n",
            "tensor([-0.3315, -0.2568], requires_grad=True) and grad is:\n",
            "tensor([-2.6594, -2.7444])\n",
            "\n"
          ]
        }
      ],
      "source": [
        "loss.backward()\n",
        "print(f'weight is {net.weight} and grad is:\\n{net.weight.grad}\\n')\n",
        "print(f'bias is {net.bias} and grad is:\\n{net.bias.grad}\\n')"
      ]
    },
    {
      "cell_type": "markdown",
      "metadata": {
        "id": "h0rulDIySz3w"
      },
      "source": [
        "**Simple gradient descent can be done directly.**  To improve our layer, we can use simple gradient descent with a learning rate of 0.01.  That is, we can adjust each parameter by subtracting 0.01 times the gradient.  If we do this repeatedly, we should get closer to our objective.\n",
        "\n",
        "Any time we directly update the network parameters, we need to temporarily disable the autograd machinery using `with torch.no_grad()`."
      ]
    },
    {
      "cell_type": "code",
      "source": [
        "#When you forget zero_grad, you will obtain:\n",
        "\n",
        "\n",
        "net = torch.nn.Linear(3, 2)\n",
        "log = []\n",
        "def loss_fn(pred,target):\n",
        "  return ((pred - target) ** 2).sum(1).mean()\n",
        "\n",
        "target = torch.tensor([[1.0, 1.0]])\n",
        "net_ = torch.nn.Linear(3, 2)\n",
        "log = []\n",
        "for _ in range(10000):\n",
        "  y_batch = net_(x_batch)\n",
        "  #loss = loss_fn(y_batch,target)\n",
        "  loss = ((y_batch - torch.tensor([[1.0, 1.0]])) ** 2).sum(1).mean()\n",
        "  log.append(loss.item())\n",
        "  loss.backward() #Dont forget\n",
        "  with torch.no_grad():\n",
        "    for p in net_.parameters():\n",
        "      p[...] -= 0.01 * p.grad\n",
        "print(f'weight is {net_.weight}\\n')\n",
        "print(f'bias is {net_.bias}\\n')\n",
        "\n",
        "\n",
        "import matplotlib.pyplot as plt\n",
        "plt.ylabel('loss')\n",
        "plt.xlabel('iteration')\n",
        "plt.plot(log)"
      ],
      "metadata": {
        "id": "timwVXJocZOY",
        "outputId": "1d95c1d4-a93f-415c-9a0e-57c62419f8a7",
        "colab": {
          "base_uri": "https://localhost:8080/",
          "height": 423
        }
      },
      "execution_count": 74,
      "outputs": [
        {
          "output_type": "stream",
          "name": "stdout",
          "text": [
            "weight is Parameter containing:\n",
            "tensor([[-0.0734, -0.4057,  0.0937],\n",
            "        [ 0.2986,  0.1483, -0.0385]], requires_grad=True)\n",
            "\n",
            "bias is Parameter containing:\n",
            "tensor([1.7357, 2.0950], requires_grad=True)\n",
            "\n"
          ]
        },
        {
          "output_type": "execute_result",
          "data": {
            "text/plain": [
              "[<matplotlib.lines.Line2D at 0x7f2b52082690>]"
            ]
          },
          "metadata": {},
          "execution_count": 74
        },
        {
          "output_type": "display_data",
          "data": {
            "text/plain": [
              "<Figure size 432x288 with 1 Axes>"
            ],
            "image/png": "[encoded data removed]"
          },
          "metadata": {
            "needs_background": "light"
          }
        }
      ]
    },
    {
      "cell_type": "code",
      "source": [
        "net = torch.nn.Linear(3, 2)\n",
        "log = []\n",
        "def loss_fn(pred,target):\n",
        "  return ((pred - target) ** 2).sum(1).mean()\n",
        "\n",
        "target = torch.tensor([[1.0, 1.0]])\n",
        "net_ = torch.nn.Linear(3, 2)\n",
        "log = []\n",
        "for _ in range(10000):\n",
        "  y_batch = net_(x_batch)\n",
        "  loss = loss_fn(y_batch,target)\n",
        "  log.append(loss.item())\n",
        "  net_.zero_grad()\n",
        "  loss.backward() #Dont forget\n",
        "  with torch.no_grad():\n",
        "    for p in net_.parameters():\n",
        "      p[...] -= 0.01 * p.grad\n",
        "print(f'weight is {net_.weight}\\n')\n",
        "print(f'bias is {net_.bias}\\n')\n",
        "\n",
        "\n",
        "import matplotlib.pyplot as plt\n",
        "plt.ylabel('loss')\n",
        "plt.xlabel('iteration')\n",
        "plt.plot(log)"
      ],
      "metadata": {
        "id": "DvWdIwRgdfqk",
        "outputId": "4b7e79a2-e82b-47d6-b68e-91c1aa1a91eb",
        "colab": {
          "base_uri": "https://localhost:8080/",
          "height": 423
        }
      },
      "execution_count": 75,
      "outputs": [
        {
          "output_type": "stream",
          "name": "stdout",
          "text": [
            "weight is Parameter containing:\n",
            "tensor([[7.7653e-06, 7.7658e-06, 7.7653e-06],\n",
            "        [8.1995e-06, 8.1995e-06, 8.1995e-06]], requires_grad=True)\n",
            "\n",
            "bias is Parameter containing:\n",
            "tensor([1.0000, 1.0000], requires_grad=True)\n",
            "\n"
          ]
        },
        {
          "output_type": "execute_result",
          "data": {
            "text/plain": [
              "[<matplotlib.lines.Line2D at 0x7f2b5204fb50>]"
            ]
          },
          "metadata": {},
          "execution_count": 75
        },
        {
          "output_type": "display_data",
          "data": {
            "text/plain": [
              "<Figure size 432x288 with 1 Axes>"
            ],
            "image/png": "[encoded data removed]"
          },
          "metadata": {
            "needs_background": "light"
          }
        }
      ]
    },
    {
      "cell_type": "code",
      "execution_count": 77,
      "metadata": {
        "id": "nKKUy_MxSz3w",
        "outputId": "a2d09e60-12ba-47e8-cd04-6b58966c291d",
        "colab": {
          "base_uri": "https://localhost:8080/",
          "height": 423
        }
      },
      "outputs": [
        {
          "output_type": "stream",
          "name": "stdout",
          "text": [
            "weight is Parameter containing:\n",
            "tensor([[ 1.2414e-05,  1.2414e-05,  1.2414e-05],\n",
            "        [-1.3143e-05, -1.3143e-05, -1.3143e-05]], requires_grad=True)\n",
            "\n",
            "bias is Parameter containing:\n",
            "tensor([1.0000, 1.0000], requires_grad=True)\n",
            "\n"
          ]
        },
        {
          "output_type": "execute_result",
          "data": {
            "text/plain": [
              "[<matplotlib.lines.Line2D at 0x7f2b51fe5450>]"
            ]
          },
          "metadata": {},
          "execution_count": 77
        },
        {
          "output_type": "display_data",
          "data": {
            "text/plain": [
              "<Figure size 432x288 with 1 Axes>"
            ],
            "image/png": "[encoded data removed]"
          },
          "metadata": {
            "needs_background": "light"
          }
        }
      ],
      "source": [
        "net = torch.nn.Linear(3, 2)\n",
        "log = []\n",
        "for _ in range(10000):\n",
        "  y_batch = net(x_batch)\n",
        "  loss = ((y_batch - torch.tensor([[1.0, 1.0]])) ** 2).sum(1).mean()\n",
        "  log.append(loss.item())\n",
        "  net.zero_grad()\n",
        "  loss.backward()\n",
        "  with torch.no_grad():\n",
        "      for p in net.parameters():\n",
        "          p[...] -= 0.01 * p.grad\n",
        "print(f'weight is {net.weight}\\n')\n",
        "print(f'bias is {net.bias}\\n')\n",
        "\n",
        "%matplotlib inline\n",
        "import matplotlib.pyplot as plt\n",
        "plt.ylabel('loss')\n",
        "plt.xlabel('iteration')\n",
        "plt.plot(log)"
      ]
    },
    {
      "cell_type": "markdown",
      "metadata": {
        "id": "-tLiuM6oSz3w"
      },
      "source": [
        "### Exercise\n",
        "\n",
        "1. Use `plt.yscale('log')` to plot the loss on a log scale.\n",
        "2. Look directly at `net.bias` and use subtraction to see how far it is from (1,1)."
      ]
    },
    {
      "cell_type": "code",
      "source": [
        "plt.plot(log)\n",
        "plt.yscale('log')"
      ],
      "metadata": {
        "id": "xto3i558fLe-",
        "outputId": "11ca1712-7d68-4a59-a279-925e1fde6deb",
        "colab": {
          "base_uri": "https://localhost:8080/",
          "height": 265
        }
      },
      "execution_count": 78,
      "outputs": [
        {
          "output_type": "display_data",
          "data": {
            "text/plain": [
              "<Figure size 432x288 with 1 Axes>"
            ],
            "image/png": "[encoded data removed]"
          },
          "metadata": {
            "needs_background": "light"
          }
        }
      ]
    },
    {
      "cell_type": "code",
      "source": [
        "net.bias"
      ],
      "metadata": {
        "id": "Rgje0urxfUAF",
        "outputId": "249ece4e-c9b9-4812-b44b-ef441958199e",
        "colab": {
          "base_uri": "https://localhost:8080/"
        }
      },
      "execution_count": 79,
      "outputs": [
        {
          "output_type": "execute_result",
          "data": {
            "text/plain": [
              "Parameter containing:\n",
              "tensor([1.0000, 1.0000], requires_grad=True)"
            ]
          },
          "metadata": {},
          "execution_count": 79
        }
      ]
    },
    {
      "cell_type": "markdown",
      "metadata": {
        "id": "InvQG0z7Sz3w"
      },
      "source": [
        "Voila, we have trained a simple neural network to our desired objective of outputting a constant ones vector.  After a few thousand updates, the weight has a near-zero matrix, and the bias becomes `[1.0, 1.0]`, as desired.\n",
        "\n",
        "**A realistic training loop would run on the GPU using bigger batches of randomized input and a prepackaged optimization algorithm.**\n",
        "\n",
        "Below we create a newly randomized `Linear` net instance, and train it on the GPU using the Adam optimizer fo 1000 iterations."
      ]
    },
    {
      "cell_type": "code",
      "source": [
        "#Christina\n",
        "from torch.optim import Adam\n",
        "\n",
        "net = torch.nn.Linear(3,2)\n",
        "optimizer = Adam(net.parameters(),lr=0.01)\n",
        "\n",
        "def loss_fn(pred,target):\n",
        "  return ((pred - target) ** 2).sum(1).mean()\n",
        "\n",
        "net.cuda()\n",
        "target = torch.tensor([[1.0, 1.0]], device='cuda') \n",
        "\n",
        "log = []\n",
        "for _ in range(10000):\n",
        "  x_batch = x_batch.cuda()\n",
        "  y_batch = net(x_batch)\n",
        "  loss = loss_fn(y_batch,target)\n",
        "  log.append(loss.item())\n",
        "  net.zero_grad()\n",
        "  loss.backward()\n",
        "  optimizer.step()\n",
        "\n",
        "print(f'weight is {net.weight}\\n')\n",
        "print(f'bias is {net.bias}\\n')\n",
        "\n",
        "%matplotlib inline\n",
        "import matplotlib.pyplot as plt\n",
        "plt.ylabel('loss')\n",
        "plt.xlabel('iteration')\n",
        "plt.plot(log)"
      ],
      "metadata": {
        "id": "Gt4CGCdifkQa",
        "outputId": "6db39b0d-1fda-4b8c-ef97-a144b4f4c248",
        "colab": {
          "base_uri": "https://localhost:8080/",
          "height": 441
        }
      },
      "execution_count": 81,
      "outputs": [
        {
          "output_type": "stream",
          "name": "stdout",
          "text": [
            "weight is Parameter containing:\n",
            "tensor([[-6.8852e-06, -4.0115e-06, -3.5393e-05],\n",
            "        [-6.3345e-10, -2.1324e-08,  7.7398e-08]], device='cuda:0',\n",
            "       requires_grad=True)\n",
            "\n",
            "bias is Parameter containing:\n",
            "tensor([1.0000, 1.0000], device='cuda:0', requires_grad=True)\n",
            "\n"
          ]
        },
        {
          "output_type": "execute_result",
          "data": {
            "text/plain": [
              "[<matplotlib.lines.Line2D at 0x7f2b51dc5e10>]"
            ]
          },
          "metadata": {},
          "execution_count": 81
        },
        {
          "output_type": "display_data",
          "data": {
            "text/plain": [
              "<Figure size 432x288 with 1 Axes>"
            ],
            "image/png": "[encoded data removed]"
          },
          "metadata": {
            "needs_background": "light"
          }
        }
      ]
    },
    {
      "cell_type": "code",
      "execution_count": 82,
      "metadata": {
        "id": "K7WEZrUjSz3w",
        "outputId": "aadcddf7-9111-4466-e8a6-06bcb8d9c18b",
        "colab": {
          "base_uri": "https://localhost:8080/",
          "height": 441
        }
      },
      "outputs": [
        {
          "output_type": "stream",
          "name": "stdout",
          "text": [
            "weight is Parameter containing:\n",
            "tensor([[ 2.2402e-08,  2.1155e-09,  2.4036e-08],\n",
            "        [ 2.0352e-08, -1.2696e-09,  2.4593e-08]], device='cuda:0',\n",
            "       requires_grad=True)\n",
            "\n",
            "bias is Parameter containing:\n",
            "tensor([1.0000, 1.0000], device='cuda:0', requires_grad=True)\n",
            "\n"
          ]
        },
        {
          "output_type": "execute_result",
          "data": {
            "text/plain": [
              "[<matplotlib.lines.Line2D at 0x7f2b51f39850>]"
            ]
          },
          "metadata": {},
          "execution_count": 82
        },
        {
          "output_type": "display_data",
          "data": {
            "text/plain": [
              "<Figure size 432x288 with 1 Axes>"
            ],
            "image/png": "[encoded data removed]"
          },
          "metadata": {
            "needs_background": "light"
          }
        }
      ],
      "source": [
        "from torch.optim import Adam\n",
        "net = torch.nn.Linear(3, 2)\n",
        "optimizer = Adam(net.parameters(), lr=0.01)\n",
        "# Move the network, target value, and training inputs to the GPU\n",
        "net.cuda()\n",
        "target = torch.tensor([[1.0, 1.0]], device='cuda') \n",
        "log = []\n",
        "for _ in range(1000):\n",
        "    y_batch = net(torch.randn(100, 3, device='cuda'))\n",
        "    loss = ((y_batch - target) ** 2).sum(1).mean()\n",
        "    log.append(loss.item())\n",
        "    net.zero_grad()\n",
        "    loss.backward()\n",
        "    optimizer.step()\n",
        "print(f'weight is {net.weight}\\n')\n",
        "print(f'bias is {net.bias}\\n')\n",
        "\n",
        "%matplotlib inline\n",
        "import matplotlib.pyplot as plt\n",
        "plt.ylabel('loss')\n",
        "plt.xlabel('iteration')\n",
        "plt.plot(log)"
      ]
    },
    {
      "cell_type": "markdown",
      "metadata": {
        "id": "3VZPtq8zSz3w"
      },
      "source": [
        "### Exercise\n",
        "\n",
        "1. Again, use `plt.yscale('log')` to plot the loss on a log scale.\n",
        "2. Look directly at `net.bias` and use subtraction to see how far it is from (1,1)."
      ]
    },
    {
      "cell_type": "code",
      "source": [
        "grid = torch.stack([\n",
        "    torch.linspace(-2, 2, 100)[None, :].expand(100, 100),\n",
        "    torch.linspace(2, -2, 100)[:, None].expand(100, 100),\n",
        "])#([2, 100, 100])\n",
        "\n",
        "a, b = grid\n",
        "print(a)\n",
        "print(b)\n",
        "print(a.shape)\n",
        "print(b.shape)"
      ],
      "metadata": {
        "id": "Wh-s24LRhNUH",
        "outputId": "2af9815d-7d24-429c-bc05-c33c6a657e8e",
        "colab": {
          "base_uri": "https://localhost:8080/"
        }
      },
      "execution_count": 86,
      "outputs": [
        {
          "output_type": "stream",
          "name": "stdout",
          "text": [
            "tensor([[-2.0000, -1.9596, -1.9192,  ...,  1.9192,  1.9596,  2.0000],\n",
            "        [-2.0000, -1.9596, -1.9192,  ...,  1.9192,  1.9596,  2.0000],\n",
            "        [-2.0000, -1.9596, -1.9192,  ...,  1.9192,  1.9596,  2.0000],\n",
            "        ...,\n",
            "        [-2.0000, -1.9596, -1.9192,  ...,  1.9192,  1.9596,  2.0000],\n",
            "        [-2.0000, -1.9596, -1.9192,  ...,  1.9192,  1.9596,  2.0000],\n",
            "        [-2.0000, -1.9596, -1.9192,  ...,  1.9192,  1.9596,  2.0000]])\n",
            "tensor([[ 2.0000,  2.0000,  2.0000,  ...,  2.0000,  2.0000,  2.0000],\n",
            "        [ 1.9596,  1.9596,  1.9596,  ...,  1.9596,  1.9596,  1.9596],\n",
            "        [ 1.9192,  1.9192,  1.9192,  ...,  1.9192,  1.9192,  1.9192],\n",
            "        ...,\n",
            "        [-1.9192, -1.9192, -1.9192,  ..., -1.9192, -1.9192, -1.9192],\n",
            "        [-1.9596, -1.9596, -1.9596,  ..., -1.9596, -1.9596, -1.9596],\n",
            "        [-2.0000, -2.0000, -2.0000,  ..., -2.0000, -2.0000, -2.0000]])\n",
            "torch.Size([100, 100])\n",
            "torch.Size([100, 100])\n"
          ]
        }
      ]
    },
    {
      "cell_type": "code",
      "execution_count": 87,
      "metadata": {
        "scrolled": true,
        "id": "0SR9k6x5Sz3x",
        "outputId": "625567e7-cc3f-4eb8-cf53-686968a53dc8",
        "colab": {
          "base_uri": "https://localhost:8080/",
          "height": 34
        }
      },
      "outputs": [
        {
          "output_type": "execute_result",
          "data": {
            "text/plain": [
              "<IPython.core.display.HTML object>"
            ],
            "text/html": [
              "<script>function toggle_code(){$('.rendered.selected div.input').toggle().find('textarea').focus();} $(toggle_code)</script>\n",
              "<a href=\"javascript:toggle_code()\">Toggle</a> the code for visualize_net."
            ]
          },
          "metadata": {},
          "execution_count": 87
        }
      ],
      "source": [
        "# This visulaization function is used for the next example\n",
        "\n",
        "%matplotlib inline\n",
        "from matplotlib import pyplot as plt\n",
        "\n",
        "def visualize_net(net, classify_target):\n",
        "    fig, (ax1, ax2) = plt.subplots(1, 2)\n",
        "    grid = torch.stack([\n",
        "        torch.linspace(-2, 2, 100)[None, :].expand(100, 100),\n",
        "        torch.linspace(2, -2, 100)[:, None].expand(100, 100),\n",
        "    ])\n",
        "    x, y = grid\n",
        "    target = classify_target(x, y)\n",
        "    ax1.set_title('target')\n",
        "    ax1.imshow(target.float(), cmap='hot', extent=[-2,2,-2,2])\n",
        "    ax2.set_title('network output')\n",
        "    score = net(grid.permute(1, 2, 0).reshape(-1, 2).cuda()).softmax(1)\n",
        "    ax2.imshow(score[:,1].reshape(100, 100).detach().cpu(), cmap='hot', extent=[-2,2,-2,2])\n",
        "    plt.show()\n",
        "\n",
        "from IPython.display import HTML\n",
        "HTML('''<script>function toggle_code(){$('.rendered.selected div.input').toggle().find('textarea').focus();} $(toggle_code)</script>\n",
        "<a href=\"javascript:toggle_code()\">Toggle</a> the code for visualize_net.''')"
      ]
    },
    {
      "cell_type": "markdown",
      "metadata": {
        "id": "rTodlNuYSz3x"
      },
      "source": [
        "Using torch.nn.Sequential to Compose Networks\n",
        "---------------------------------------------\n",
        "\n",
        "Unlike `Linear`, most networks are made by composing many smaller networks.  The simplest way to do this is chain networks together end-to-end, connecting each output to the next input.  For example we can simply compose `Linear` layers.\n",
        "\n",
        "**Defining a Multilayer Perceptron.** Of course, to get something more interesting than another linear function, we need to do something nonlinear between the linear steps.  if we add a nonlinearity between each step (for example, if we clamp negative numbers to zero - an operation called `ReLU`), then we can get a **Multilayer Perceptron,** which is known to be a universal function approximator, i.e., a family of piecewise-linear functions that can approximate any function.\n",
        "\n",
        "\n",
        "Here is how we can express the network as a nested set of Sequentials."
      ]
    },
    {
      "cell_type": "code",
      "source": [
        "from collections import OrderedDict\n",
        "from torch.nn import Linear, ReLU, Sequential\n",
        "\n",
        "Layer_seq = OrderedDict([\n",
        "                         ('layer1',Sequential(Linear(2,20),ReLU())),\n",
        "                         ('layer2',Sequential(Linear(20,20),ReLU())),\n",
        "                         ('layer3',Sequential(Linear(20,2)))\n",
        "])\n",
        "mlp = torch.nn.Sequential(Layer_seq)\n",
        "print(mlp)"
      ],
      "metadata": {
        "id": "PGuBv0dAhnKo",
        "outputId": "11e41e61-6565-46b8-8cbb-cfca9228d1f3",
        "colab": {
          "base_uri": "https://localhost:8080/"
        }
      },
      "execution_count": 88,
      "outputs": [
        {
          "output_type": "stream",
          "name": "stdout",
          "text": [
            "Sequential(\n",
            "  (layer1): Sequential(\n",
            "    (0): Linear(in_features=2, out_features=20, bias=True)\n",
            "    (1): ReLU()\n",
            "  )\n",
            "  (layer2): Sequential(\n",
            "    (0): Linear(in_features=20, out_features=20, bias=True)\n",
            "    (1): ReLU()\n",
            "  )\n",
            "  (layer3): Sequential(\n",
            "    (0): Linear(in_features=20, out_features=2, bias=True)\n",
            "  )\n",
            ")\n"
          ]
        }
      ]
    },
    {
      "cell_type": "code",
      "execution_count": 89,
      "metadata": {
        "id": "pAGpJfy8Sz3x",
        "outputId": "101a4c74-ed56-497c-d3cd-99f01f2f1b23",
        "colab": {
          "base_uri": "https://localhost:8080/"
        }
      },
      "outputs": [
        {
          "output_type": "stream",
          "name": "stdout",
          "text": [
            "Sequential(\n",
            "  (layer1): Sequential(\n",
            "    (0): Linear(in_features=2, out_features=20, bias=True)\n",
            "    (1): ReLU()\n",
            "  )\n",
            "  (layer2): Sequential(\n",
            "    (0): Linear(in_features=20, out_features=20, bias=True)\n",
            "    (1): ReLU()\n",
            "  )\n",
            "  (layer3): Sequential(\n",
            "    (0): Linear(in_features=20, out_features=2, bias=True)\n",
            "  )\n",
            ")\n"
          ]
        }
      ],
      "source": [
        "from collections import OrderedDict\n",
        "from torch.nn import Linear, ReLU, Sequential\n",
        "\n",
        "mlp = torch.nn.Sequential(OrderedDict([\n",
        "    ('layer1', Sequential(Linear(2, 20), ReLU())),\n",
        "    ('layer2', Sequential(Linear(20, 20), ReLU())),\n",
        "    ('layer3', Sequential(Linear(20, 2)))\n",
        "]))\n",
        "\n",
        "print(mlp)"
      ]
    },
    {
      "cell_type": "markdown",
      "metadata": {
        "id": "tx-lAymwSz3x"
      },
      "source": [
        "In the above, we have nested two levels of Sequentials.  In the outermost level, we have defined and named three layers.\n",
        "\n",
        "Then each layer is itself a Sequential that executes a parameterized `Linear` operation followed by a `ReLU` nonlinear clamping operation.  We have not bothered to name each of the innermost steps, so the Sequential just automatically numbers them.\n",
        "\n",
        "**Every submodule has a fully qualified name.** We can get a full recursive list of submodules by listing `net.named_modules()`."
      ]
    },
    {
      "cell_type": "code",
      "execution_count": 91,
      "metadata": {
        "id": "azRwy491Sz3x",
        "outputId": "4e32bfdf-9c30-4ccb-b0bc-edb8d577484a",
        "colab": {
          "base_uri": "https://localhost:8080/"
        }
      },
      "outputs": [
        {
          "output_type": "stream",
          "name": "stdout",
          "text": [
            "The whole network is a Sequential\n",
            "layer1 is a Sequential\n",
            "layer1.0 is a Linear\n",
            "layer1.1 is a ReLU\n",
            "layer2 is a Sequential\n",
            "layer2.0 is a Linear\n",
            "layer2.1 is a ReLU\n",
            "layer3 is a Sequential\n",
            "layer3.0 is a Linear\n"
          ]
        }
      ],
      "source": [
        "for n, c in mlp.named_modules():\n",
        "    print(f'{n or \"The whole network\"} is a {type(c).__name__}')"
      ]
    },
    {
      "cell_type": "markdown",
      "metadata": {
        "id": "yFWb7IqvSz3x"
      },
      "source": [
        "**A module's parameters include all its child module parameters.** We can see this by listing all the parameters by name.    "
      ]
    },
    {
      "cell_type": "code",
      "execution_count": 92,
      "metadata": {
        "id": "B2c7DhB9Sz3x",
        "outputId": "72265843-03cc-472f-d930-00faf2028968",
        "colab": {
          "base_uri": "https://localhost:8080/"
        }
      },
      "outputs": [
        {
          "output_type": "stream",
          "name": "stdout",
          "text": [
            "layer1.0.weight has shape (20, 2)\n",
            "layer1.0.bias has shape (20,)\n",
            "layer2.0.weight has shape (20, 20)\n",
            "layer2.0.bias has shape (20,)\n",
            "layer3.0.weight has shape (2, 20)\n",
            "layer3.0.bias has shape (2,)\n"
          ]
        }
      ],
      "source": [
        "for name, param in mlp.named_parameters():\n",
        "    print(f'{name} has shape {tuple(param.shape)}')"
      ]
    },
    {
      "cell_type": "markdown",
      "metadata": {
        "id": "kDE5d74zSz3y"
      },
      "source": [
        "There are now six parameters: a weight and a bias for each of the three `Linear` layers.\n",
        "\n",
        "**Training a Clasifier.** This slightly more complicated network can now represent a more general class of functions. For example, we can use this architecture to learn to compute a classifier function.  \n",
        "\n",
        "Suppose we want to classify points on a plane as either above a sine-wave (class 1) or below a sine-wave (class 0). Here is the ordinary training loop to train our MLP to do it, using the Adam optimizer:\n"
      ]
    },
    {
      "cell_type": "code",
      "execution_count": 95,
      "metadata": {
        "scrolled": false,
        "id": "tyb-86-FSz3y",
        "outputId": "3ef15166-b74e-43ce-b8ab-b640fb625139",
        "colab": {
          "base_uri": "https://localhost:8080/",
          "height": 1000
        }
      },
      "outputs": [
        {
          "output_type": "stream",
          "name": "stdout",
          "text": [
            "Iteration 0 accuracy: 0.9883999824523926\n"
          ]
        },
        {
          "output_type": "display_data",
          "data": {
            "text/plain": [
              "<Figure size 432x288 with 2 Axes>"
            ],
            "image/png": "[encoded data removed]"
          },
          "metadata": {
            "needs_background": "light"
          }
        },
        {
          "output_type": "stream",
          "name": "stdout",
          "text": [
            "Iteration 1 accuracy: 0.9876999855041504\n"
          ]
        },
        {
          "output_type": "display_data",
          "data": {
            "text/plain": [
              "<Figure size 432x288 with 2 Axes>"
            ],
            "image/png": "[encoded data removed]"
          },
          "metadata": {
            "needs_background": "light"
          }
        },
        {
          "output_type": "stream",
          "name": "stdout",
          "text": [
            "Iteration 3 accuracy: 0.971299946308136\n"
          ]
        },
        {
          "output_type": "display_data",
          "data": {
            "text/plain": [
              "<Figure size 432x288 with 2 Axes>"
            ],
            "image/png": "[encoded data removed]"
          },
          "metadata": {
            "needs_background": "light"
          }
        },
        {
          "output_type": "stream",
          "name": "stdout",
          "text": [
            "Iteration 7 accuracy: 0.9669999480247498\n"
          ]
        },
        {
          "output_type": "display_data",
          "data": {
            "text/plain": [
              "<Figure size 432x288 with 2 Axes>"
            ],
            "image/png": "[encoded data removed]"
          },
          "metadata": {
            "needs_background": "light"
          }
        },
        {
          "output_type": "stream",
          "name": "stdout",
          "text": [
            "Iteration 15 accuracy: 0.9792999625205994\n"
          ]
        },
        {
          "output_type": "display_data",
          "data": {
            "text/plain": [
              "<Figure size 432x288 with 2 Axes>"
            ],
            "image/png": "[encoded data removed]"
          },
          "metadata": {
            "needs_background": "light"
          }
        },
        {
          "output_type": "stream",
          "name": "stdout",
          "text": [
            "Iteration 31 accuracy: 0.9935999512672424\n"
          ]
        },
        {
          "output_type": "display_data",
          "data": {
            "text/plain": [
              "<Figure size 432x288 with 2 Axes>"
            ],
            "image/png": "[encoded data removed]"
          },
          "metadata": {
            "needs_background": "light"
          }
        },
        {
          "output_type": "stream",
          "name": "stdout",
          "text": [
            "Iteration 63 accuracy: 0.9939999580383301\n"
          ]
        },
        {
          "output_type": "display_data",
          "data": {
            "text/plain": [
              "<Figure size 432x288 with 2 Axes>"
            ],
            "image/png": "[encoded data removed]"
          },
          "metadata": {
            "needs_background": "light"
          }
        },
        {
          "output_type": "stream",
          "name": "stdout",
          "text": [
            "Iteration 127 accuracy: 0.9949999451637268\n"
          ]
        },
        {
          "output_type": "display_data",
          "data": {
            "text/plain": [
              "<Figure size 432x288 with 2 Axes>"
            ],
            "image/png": "[encoded data removed]"
          },
          "metadata": {
            "needs_background": "light"
          }
        },
        {
          "output_type": "stream",
          "name": "stdout",
          "text": [
            "Iteration 255 accuracy: 0.9914000034332275\n"
          ]
        },
        {
          "output_type": "display_data",
          "data": {
            "text/plain": [
              "<Figure size 432x288 with 2 Axes>"
            ],
            "image/png": "[encoded data removed]"
          },
          "metadata": {
            "needs_background": "light"
          }
        },
        {
          "output_type": "stream",
          "name": "stdout",
          "text": [
            "Iteration 511 accuracy: 0.9950999617576599\n"
          ]
        },
        {
          "output_type": "display_data",
          "data": {
            "text/plain": [
              "<Figure size 432x288 with 2 Axes>"
            ],
            "image/png": "[encoded data removed]"
          },
          "metadata": {
            "needs_background": "light"
          }
        },
        {
          "output_type": "stream",
          "name": "stdout",
          "text": [
            "Iteration 1023 accuracy: 0.9954999685287476\n"
          ]
        },
        {
          "output_type": "display_data",
          "data": {
            "text/plain": [
              "<Figure size 432x288 with 2 Axes>"
            ],
            "image/png": "[encoded data removed]"
          },
          "metadata": {
            "needs_background": "light"
          }
        }
      ],
      "source": [
        "from torch.nn.functional import cross_entropy\n",
        "\n",
        "def classify_target(x, y):\n",
        "    return (y > (x * 3).sin()).long()\n",
        "\n",
        "mlp.cuda()\n",
        "optimizer = Adam(mlp.parameters(), lr=0.01)\n",
        "for iteration in range(1024):\n",
        "    in_batch = torch.randn(10000, 2, device='cuda')\n",
        "    label_batch = classify_target(in_batch[:,0], in_batch[:,1])\n",
        "    out_batch = mlp(in_batch)\n",
        "    loss = cross_entropy(out_batch, label_batch)\n",
        "    if iteration > 0:\n",
        "        mlp.zero_grad()\n",
        "        loss.backward()\n",
        "        optimizer.step()\n",
        "    if iteration == 2 ** iteration.bit_length() - 1:\n",
        "        pred_batch = out_batch.max(1)[1]\n",
        "        accuracy = (pred_batch == label_batch).float().sum() / len(in_batch)\n",
        "        print(f'Iteration {iteration} accuracy: {accuracy}')\n",
        "        visualize_net(mlp, classify_target)\n"
      ]
    },
    {
      "cell_type": "markdown",
      "metadata": {
        "id": "NwcoKxydSz3y"
      },
      "source": [
        "### Exercise\n",
        "\n",
        "1. Try another classification objective.  Try `(y > x**2).long()`.\n",
        "2. Try another one: try `(y.floor() == x.floor()).long()`.\n",
        "3. Make up another one to try.  Can you find a simple objective that the network has trouble matching?\n",
        "\n"
      ]
    },
    {
      "cell_type": "markdown",
      "metadata": {
        "id": "D0hih_GeSz3y"
      },
      "source": [
        "**A network can be saved by saving its state_dict.**  Since the state_dict gathers together all the parameters of the submodules, we can save it all at once.  Note that since every parameter is given a fully-qualified name, if we wanted to load just a subset of the layers, we could do that by picking out keys of the dictionary and adjusting their names by hand."
      ]
    },
    {
      "cell_type": "code",
      "execution_count": 96,
      "metadata": {
        "id": "dX6lJXQRSz3y",
        "outputId": "0d5dcd6e-ca65-4c16-a07b-f053f2a1720c",
        "colab": {
          "base_uri": "https://localhost:8080/"
        }
      },
      "outputs": [
        {
          "output_type": "stream",
          "name": "stdout",
          "text": [
            "layer1.0.weight: torch.float32(20, 2)\n",
            "layer1.0.bias: torch.float32(20,)\n",
            "layer2.0.weight: torch.float32(20, 20)\n",
            "layer2.0.bias: torch.float32(20,)\n",
            "layer3.0.weight: torch.float32(2, 20)\n",
            "layer3.0.bias: torch.float32(2,)\n"
          ]
        }
      ],
      "source": [
        "for k, v in mlp.state_dict().items():\n",
        "    print(f'{k}: {v.dtype}{tuple(v.shape)}')\n",
        "\n",
        "torch.save(mlp.state_dict(), 'checkpoints/mlp.pth')\n"
      ]
    },
    {
      "cell_type": "markdown",
      "metadata": {
        "id": "7oc-CazZSz3y"
      },
      "source": [
        "Defining `forward` to Create Custom Networks\n",
        "--------------------------------\n",
        "\n",
        "Sometimes you will want to hook up network components in a more complicated way than just a sequential operation of predefined components.\n",
        "\n",
        "For example, [ResNet](https://arxiv.org/abs/1512.03385) is built on the observation that learning can work much better if, instead of learning an arbitrary linear operation, we learn perturbations of the identity.  I.e., have a layer learn to compute a small residual instead of the whole total answer.\n",
        "\n",
        "To apply the residual trick in our little three-layer network, we cannot just use an overall `Sequential`: instead we will define the operation by writing our own `forward` function.  It looks like this:"
      ]
    },
    {
      "cell_type": "code",
      "source": [
        "import torch.nn as nn\n",
        "class ChNetwork(nn.Module):\n",
        "  def __init__(self):\n",
        "    super().__init__()\n",
        "    self.layer1 = Sequential(Linear(2,20),ReLU())\n",
        "    self.residual_layer2 = Sequential(Linear(20,20),ReLU())\n",
        "    self.layer3 = Linear(20,2)\n",
        "\n",
        "  def forward(self,x):\n",
        "    x = self.layer1(x)\n",
        "    x = x + self.residual_layer2(x)\n",
        "    x = self.layer3(x)\n",
        "    return x"
      ],
      "metadata": {
        "id": "OTCMskxCkAyA"
      },
      "execution_count": 97,
      "outputs": []
    },
    {
      "cell_type": "code",
      "source": [
        "res_mlp = ChNetwork()"
      ],
      "metadata": {
        "id": "NAKuC8VxkkGa"
      },
      "execution_count": 101,
      "outputs": []
    },
    {
      "cell_type": "code",
      "execution_count": null,
      "metadata": {
        "id": "jN--3jxCSz3y"
      },
      "outputs": [],
      "source": [
        "class MyNetwork(torch.nn.Module):\n",
        "    def __init__(self):\n",
        "        super().__init__()\n",
        "        self.layer1 = Sequential(Linear(2, 20), ReLU())\n",
        "        self.residual_layer2 = Sequential(Linear(20, 20), ReLU())\n",
        "        self.layer3 = Linear(20, 2)\n",
        "        \n",
        "    def forward(self, x):\n",
        "        x = self.layer1(x)\n",
        "        x = x + self.residual_layer2(x)\n",
        "        x = self.layer3(x)\n",
        "        return x\n",
        "\n",
        "res_mlp = MyNetwork()\n",
        "print(res_mlp)\n",
        "\n",
        "# Exercise left to you: try training res_mlp just like we trained mlp above."
      ]
    },
    {
      "cell_type": "markdown",
      "metadata": {
        "id": "w4O9pCLuSz3z"
      },
      "source": [
        "Training the network above can be done exactly the same way as training our previous `Sequential` mlp.  Try copying+pasting the training code and adapting it to this new network."
      ]
    },
    {
      "cell_type": "markdown",
      "metadata": {
        "id": "C8zbPUiNSz3z"
      },
      "source": [
        "### Exercise:\n",
        "\n",
        "1. Write a training loop for `res_mlp`.\n",
        "2. Try various classification objectives.  How does it compare to mlp?"
      ]
    },
    {
      "cell_type": "markdown",
      "metadata": {
        "id": "tZocSaWnSz3z"
      },
      "source": [
        "## Other `Module` tricks\n",
        "\n",
        " * **torch.nn.Parameter** wraps trainable parameters. In the `__init__()` method, you can define more tensors as parameters to be optimized, by wrapping parameter tensors with a `torch.nn.Parameter` before setting the attribute.  See the [pytorch Linear source code](https://github.com/pytorch/pytorch/blob/master/torch/nn/modules/linear.py#L74-L78) to see an example.  (In that code, the `in_features` and `out_features` attributes are just ordinary numbers that are not trainable, but `weight` and `bias` are wrapped in `Parameter` objects to mark them as trainable tensors.)\n",
        " * **module.training** allows special behavior during training. Some modules behave differently at training time than at inference time.  For example, a [Dropout](http://jmlr.org/papers/volume15/srivastava14a/srivastava14a.pdf) layer will drop half the channels and amplify the other half randomly during training, but at inference, for better performance, it will include all the channels. To support this sort of trick, there is a `module.train()` method to put a module (recursively) into training mode and a `module.eval()` to put it into inference mode.  The `module.training` boolean tells which mode is current.  See the [pytorch dropout source code](https://github.com/pytorch/pytorch/blob/master/torch/nn/modules/dropout.py#L24-L58) to see the `training` flag in use.\n",
        " * **buffers** can be learned without the optimizer.  Not every attribute of a module needs to be trainable by the optimizer.  Some attributes can be learned in a different way, for example, by observing and averaging statistics observed during training time.  The most famous example of this is the [Batchnorm](https://arxiv.org/abs/1502.03167) layer, which observes mean and variance during training, and accumulates statistics to enforces zero mean and unit variance.  See the pytorch [batchnorm module source code](https://github.com/pytorch/pytorch/blob/master/torch/nn/modules/batchnorm.py#L27-L55) for an example of using **buffers** which are not optimized by the optimizer.\n",
        " * **Predefined model architectures** are available; for example, `torchvision.models.resnet18(num_classes=100)` will create a ResNet-18 classifier model, configured to do a 100-way classification of images.  See [torchvision.models documentation](https://pytorch.org/docs/stable/torchvision/models.html) for the standard torchvision model zoo."
      ]
    },
    {
      "cell_type": "markdown",
      "metadata": {
        "id": "7FTDsp-NSz3z"
      },
      "source": [
        "### [On to topic 5: Datasets and DataLoaders &rightarrow;](5-Pytorch-Dataloader.ipynb)"
      ]
    }
  ],
  "metadata": {
    "accelerator": "GPU",
    "kernelspec": {
      "display_name": "Python 3",
      "language": "python",
      "name": "python3"
    },
    "language_info": {
      "codemirror_mode": {
        "name": "ipython",
        "version": 3
      },
      "file_extension": ".py",
      "mimetype": "text/x-python",
      "name": "python",
      "nbconvert_exporter": "python",
      "pygments_lexer": "ipython3",
      "version": "3.6.10"
    },
    "colab": {
      "name": "4-Pytorch-Modules.ipynb",
      "provenance": []
    }
  },
  "nbformat": 4,
  "nbformat_minor": 0
}