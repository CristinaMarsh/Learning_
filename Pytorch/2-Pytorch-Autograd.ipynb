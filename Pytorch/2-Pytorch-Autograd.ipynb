{
  "cells": [
    {
      "cell_type": "markdown",
      "metadata": {
        "id": "pbERccpLM-Bo"
      },
      "source": [
        "Topic 2: Pytorch Autograd\n",
        "================\n",
        "\n",
        "If you flag a torch Tensor with the attribute `x.requires_grad=True`, then pytorch will automatically keep track the computational history of all tensors that are derived from `x`.  This allows pytorch to figure out derivatives of any scalar result with regard to changes in the components of x.\n",
        "\n",
        "The function `torch.autograd.grad(output_scalar, [list of input_tensors])` computes `d(output_scalar)/d(input_tensor)` for each input tensor component in the list.  For it to work, the input tensors and output must be part of the same `requires_grad=True` compuation.\n",
        "\n",
        "In the example above, `x` is explicitly marked `requires_grad=True`, so `y.sum()`, which is derived from `x`, automatically comes along with the computation history, and can be differentiated."
      ]
    },
    {
      "cell_type": "code",
      "source": [
        "import torch\n",
        "from matplotlib import pyplot as plt\n",
        "from torch.autograd import grad\n",
        "x = torch.linspace(0, 5, 100, requires_grad=True)\n",
        "y = (x**2).cos()"
      ],
      "metadata": {
        "id": "75iMg7UzNRca"
      },
      "execution_count": 22,
      "outputs": []
    },
    {
      "cell_type": "code",
      "source": [
        "x"
      ],
      "metadata": {
        "id": "IJeR0mheOHSq",
        "outputId": "efc48eb6-0924-4200-fa3e-21576b5f0f84",
        "colab": {
          "base_uri": "https://localhost:8080/"
        }
      },
      "execution_count": 8,
      "outputs": [
        {
          "output_type": "execute_result",
          "data": {
            "text/plain": [
              "tensor([0.0000, 0.0505, 0.1010, 0.1515, 0.2020, 0.2525, 0.3030, 0.3535, 0.4040,\n",
              "        0.4545, 0.5051, 0.5556, 0.6061, 0.6566, 0.7071, 0.7576, 0.8081, 0.8586,\n",
              "        0.9091, 0.9596, 1.0101, 1.0606, 1.1111, 1.1616, 1.2121, 1.2626, 1.3131,\n",
              "        1.3636, 1.4141, 1.4646, 1.5152, 1.5657, 1.6162, 1.6667, 1.7172, 1.7677,\n",
              "        1.8182, 1.8687, 1.9192, 1.9697, 2.0202, 2.0707, 2.1212, 2.1717, 2.2222,\n",
              "        2.2727, 2.3232, 2.3737, 2.4242, 2.4747, 2.5253, 2.5758, 2.6263, 2.6768,\n",
              "        2.7273, 2.7778, 2.8283, 2.8788, 2.9293, 2.9798, 3.0303, 3.0808, 3.1313,\n",
              "        3.1818, 3.2323, 3.2828, 3.3333, 3.3838, 3.4343, 3.4848, 3.5354, 3.5859,\n",
              "        3.6364, 3.6869, 3.7374, 3.7879, 3.8384, 3.8889, 3.9394, 3.9899, 4.0404,\n",
              "        4.0909, 4.1414, 4.1919, 4.2424, 4.2929, 4.3434, 4.3939, 4.4444, 4.4949,\n",
              "        4.5455, 4.5960, 4.6465, 4.6970, 4.7475, 4.7980, 4.8485, 4.8990, 4.9495,\n",
              "        5.0000], requires_grad=True)"
            ]
          },
          "metadata": {},
          "execution_count": 8
        }
      ]
    },
    {
      "cell_type": "code",
      "source": [
        "[x]"
      ],
      "metadata": {
        "id": "gLEJeZXqOIrX",
        "outputId": "5d77fad1-6a0d-4564-8f0e-463c9847c112",
        "colab": {
          "base_uri": "https://localhost:8080/"
        }
      },
      "execution_count": 14,
      "outputs": [
        {
          "output_type": "execute_result",
          "data": {
            "text/plain": [
              "[tensor([0.0000, 0.0505, 0.1010, 0.1515, 0.2020, 0.2525, 0.3030, 0.3535, 0.4040,\n",
              "         0.4545, 0.5051, 0.5556, 0.6061, 0.6566, 0.7071, 0.7576, 0.8081, 0.8586,\n",
              "         0.9091, 0.9596, 1.0101, 1.0606, 1.1111, 1.1616, 1.2121, 1.2626, 1.3131,\n",
              "         1.3636, 1.4141, 1.4646, 1.5152, 1.5657, 1.6162, 1.6667, 1.7172, 1.7677,\n",
              "         1.8182, 1.8687, 1.9192, 1.9697, 2.0202, 2.0707, 2.1212, 2.1717, 2.2222,\n",
              "         2.2727, 2.3232, 2.3737, 2.4242, 2.4747, 2.5253, 2.5758, 2.6263, 2.6768,\n",
              "         2.7273, 2.7778, 2.8283, 2.8788, 2.9293, 2.9798, 3.0303, 3.0808, 3.1313,\n",
              "         3.1818, 3.2323, 3.2828, 3.3333, 3.3838, 3.4343, 3.4848, 3.5354, 3.5859,\n",
              "         3.6364, 3.6869, 3.7374, 3.7879, 3.8384, 3.8889, 3.9394, 3.9899, 4.0404,\n",
              "         4.0909, 4.1414, 4.1919, 4.2424, 4.2929, 4.3434, 4.3939, 4.4444, 4.4949,\n",
              "         4.5455, 4.5960, 4.6465, 4.6970, 4.7475, 4.7980, 4.8485, 4.8990, 4.9495,\n",
              "         5.0000], requires_grad=True)]"
            ]
          },
          "metadata": {},
          "execution_count": 14
        }
      ]
    },
    {
      "cell_type": "code",
      "source": [
        "x.tolist()[:10]"
      ],
      "metadata": {
        "id": "b-_b9amFOLVP",
        "outputId": "885cb61e-ebd7-4acc-acdd-1e9a856a6395",
        "colab": {
          "base_uri": "https://localhost:8080/"
        }
      },
      "execution_count": 11,
      "outputs": [
        {
          "output_type": "execute_result",
          "data": {
            "text/plain": [
              "[0.0,\n",
              " 0.05050504952669144,\n",
              " 0.10101009905338287,\n",
              " 0.1515151560306549,\n",
              " 0.20202019810676575,\n",
              " 0.2525252401828766,\n",
              " 0.3030303120613098,\n",
              " 0.35353535413742065,\n",
              " 0.4040403962135315,\n",
              " 0.45454543828964233]"
            ]
          },
          "metadata": {},
          "execution_count": 11
        }
      ]
    },
    {
      "cell_type": "code",
      "source": [
        "output_scalar = y.sum()\n",
        "input_tensor_list = [x] #note: [list of input_tensors]"
      ],
      "metadata": {
        "id": "vMthEMNWNv9P"
      },
      "execution_count": 23,
      "outputs": []
    },
    {
      "cell_type": "code",
      "source": [
        "dydx = grad(output_scalar,input_tensor_list)"
      ],
      "metadata": {
        "id": "1jeBqlPaNbyp"
      },
      "execution_count": 24,
      "outputs": []
    },
    {
      "cell_type": "code",
      "source": [
        "dydx #you should take tensor out of the tuple"
      ],
      "metadata": {
        "id": "Hsxch9TCO7sQ",
        "outputId": "d44a81a0-d648-4e4f-d5ca-83d0a7bd797a",
        "colab": {
          "base_uri": "https://localhost:8080/"
        }
      },
      "execution_count": 25,
      "outputs": [
        {
          "output_type": "execute_result",
          "data": {
            "text/plain": [
              "(tensor([-0.0000e+00, -2.5765e-04, -2.0612e-03, -6.9560e-03, -1.6485e-02,\n",
              "         -3.2185e-02, -5.5575e-02, -8.8145e-02, -1.3133e-01, -1.8650e-01,\n",
              "         -2.5487e-01, -3.3752e-01, -4.3528e-01, -5.4869e-01, -6.7791e-01,\n",
              "         -8.2262e-01, -9.8193e-01, -1.1543e+00, -1.3373e+00, -1.5279e+00,\n",
              "         -1.7218e+00, -1.9138e+00, -2.0978e+00, -2.2665e+00, -2.4118e+00,\n",
              "         -2.5246e+00, -2.5954e+00, -2.6144e+00, -2.5720e+00, -2.4592e+00,\n",
              "         -2.2684e+00, -1.9940e+00, -1.6330e+00, -1.1861e+00, -6.5843e-01,\n",
              "         -5.9786e-02,  5.9438e-01,  1.2829e+00,  1.9791e+00,  2.6508e+00,\n",
              "          3.2620e+00,  3.7737e+00,  4.1467e+00,  4.3434e+00,  4.3315e+00,\n",
              "          4.0872e+00,  3.5983e+00,  2.8676e+00,  1.9159e+00,  7.8273e-01,\n",
              "         -4.7262e-01, -1.7729e+00, -3.0265e+00, -4.1327e+00, -4.9894e+00,\n",
              "         -5.5028e+00, -5.5970e+00, -5.2252e+00, -4.3782e+00, -3.0925e+00,\n",
              "         -1.4526e+00,  4.1007e-01,  2.3249e+00,  4.0956e+00,  5.5192e+00,\n",
              "          6.4094e+00,  6.6222e+00,  6.0798e+00,  4.7897e+00,  2.8560e+00,\n",
              "          4.7794e-01, -2.0646e+00, -4.4405e+00, -6.3087e+00, -7.3680e+00,\n",
              "         -7.4080e+00, -6.3531e+00, -4.2917e+00, -1.4813e+00,  1.6739e+00,\n",
              "          4.6748e+00,  7.0040e+00,  8.2157e+00,  8.0255e+00,  6.3823e+00,\n",
              "          3.5034e+00, -1.3781e-01, -3.8789e+00, -6.9824e+00, -8.7814e+00,\n",
              "         -8.8286e+00, -7.0156e+00, -3.6318e+00,  6.6059e-01,  4.9416e+00,\n",
              "          8.2239e+00,  9.6828e+00,  8.8724e+00,  5.8738e+00,  1.3235e+00]),)"
            ]
          },
          "metadata": {},
          "execution_count": 25
        }
      ]
    },
    {
      "cell_type": "code",
      "source": [
        "plt.plot(x.detach(), y.detach(), label='y')\n",
        "plt.plot(x.detach(), dydx[0], label='dy/dx')\n",
        "plt.legend()"
      ],
      "metadata": {
        "id": "cPw3PicYOivG",
        "outputId": "01d90451-f818-4218-9fdb-f4a7cca3365a",
        "colab": {
          "base_uri": "https://localhost:8080/",
          "height": 283
        }
      },
      "execution_count": 26,
      "outputs": [
        {
          "output_type": "execute_result",
          "data": {
            "text/plain": [
              "<matplotlib.legend.Legend at 0x7f0f3ea115d0>"
            ]
          },
          "metadata": {},
          "execution_count": 26
        },
        {
          "output_type": "display_data",
          "data": {
            "text/plain": [
              "<Figure size 432x288 with 1 Axes>"
            ],
            "image/png": "[encoded data removed]"
          },
          "metadata": {
            "needs_background": "light"
          }
        }
      ]
    },
    {
      "cell_type": "markdown",
      "metadata": {
        "id": "MuAVYGDhM-Bs"
      },
      "source": [
        "(Note that in the example above, because the components of the vector space are independent of each other, we happen to have `d(y.sum())/dx[i] = dy[i]/dx[i]`, so computing a single gradient vector of the sum is equiavlent to computing elementwise derivatives.)\n",
        "\n",
        "**Detaching tensors from the computation history.** Every tensor that depends on `x` will be `requires_grad=True` and connected to the complete computation history. But if you were to convert a tensor to a regular python number, pytorch would not be able to see the calculations and would not be able to compute gradients on it. To avoid programming mistakes where some computation invisibly goes through a non-pytorch number that cannot be tracked, pytorch disables requires-grad tensors from being converted to untrackable numbers.  You need to explicitly call `x.detach()` or `y.detach()` first, to explicitly say that you want an untracked reference, before plotting the data or using it as non-pytorch numbers."
      ]
    },
    {
      "cell_type": "markdown",
      "metadata": {
        "id": "M8fzhmTrM-Bt"
      },
      "source": [
        "### Exercise\n",
        "\n",
        "Plot the polynomial y=x<sup>3</sup>-6x<sup>2</sup>+8x and its derivative, instead of cos(x<sup>2</sup>)."
      ]
    },
    {
      "cell_type": "code",
      "source": [
        "#Christina\n",
        "x = torch.linspace(0, 5, 100, requires_grad=True)\n",
        "y = x**3 - 6*x**2 + 8*x"
      ],
      "metadata": {
        "id": "fgF-WCfmPPBU"
      },
      "execution_count": 27,
      "outputs": []
    },
    {
      "cell_type": "code",
      "source": [
        "output_scalar_f2 = y.sum()\n",
        "list_tensor_f2 = [x]\n",
        "dydx2 = grad(output_scalar_f2, list_tensor_f2)\n"
      ],
      "metadata": {
        "id": "pSsG_oIkPaV8"
      },
      "execution_count": 28,
      "outputs": []
    },
    {
      "cell_type": "code",
      "source": [
        "plt.plot(x.detach(),y.detach(),label='y')\n",
        "plt.plot(x.detach(),dydx2[0],label='dydx')\n",
        "plt.legend()\n"
      ],
      "metadata": {
        "id": "TiAy1vMmPt_v",
        "outputId": "19022903-e778-450d-8f2d-19a1729e95e7",
        "colab": {
          "base_uri": "https://localhost:8080/",
          "height": 283
        }
      },
      "execution_count": 29,
      "outputs": [
        {
          "output_type": "execute_result",
          "data": {
            "text/plain": [
              "<matplotlib.legend.Legend at 0x7f0f3e8c2410>"
            ]
          },
          "metadata": {},
          "execution_count": 29
        },
        {
          "output_type": "display_data",
          "data": {
            "text/plain": [
              "<Figure size 432x288 with 1 Axes>"
            ],
            "image/png": "[encoded data removed]"
          },
          "metadata": {
            "needs_background": "light"
          }
        }
      ]
    },
    {
      "cell_type": "markdown",
      "metadata": {
        "id": "sEDDyRIYM-Bu"
      },
      "source": [
        "Backprop and In-place gradients\n",
        "-------------------------------\n",
        "\n",
        "In a typical neural network we will not just be getting gradients with regard to one input like `x` above, but with regard to a list of dozens or hundreds of tensor parameters that have all been marked with `requires_grad=True`.  It can be inconvenient to keep track of which gradient outputs go with which original tensor input.  But since the gradients have exactly the same shape as the inputs, it is natural to store computed gradients in-place on the tensors themselves.\n",
        "\n",
        "**Using `backward()` to add `.grad` attributes.** To simplify this common operation, pytorch provides the `y.backward()` method, which computes the gradients of y with respect to every tracked dependency, and stores the results in the field `x.grad` for every original input vector `x` that was marked as `requires_grad=True`."
      ]
    },
    {
      "cell_type": "code",
      "execution_count": 30,
      "metadata": {
        "id": "RwSYsvcsM-Bu",
        "outputId": "1deb1b37-94fa-462a-d21a-7d6c59851b80",
        "colab": {
          "base_uri": "https://localhost:8080/",
          "height": 625
        }
      },
      "outputs": [
        {
          "output_type": "stream",
          "name": "stdout",
          "text": [
            "tensor([-0.0000e+00, -2.5765e-04, -2.0612e-03, -6.9560e-03, -1.6485e-02,\n",
            "        -3.2185e-02, -5.5575e-02, -8.8145e-02, -1.3133e-01, -1.8650e-01,\n",
            "        -2.5487e-01, -3.3752e-01, -4.3528e-01, -5.4869e-01, -6.7791e-01,\n",
            "        -8.2262e-01, -9.8193e-01, -1.1543e+00, -1.3373e+00, -1.5279e+00,\n",
            "        -1.7218e+00, -1.9138e+00, -2.0978e+00, -2.2665e+00, -2.4118e+00,\n",
            "        -2.5246e+00, -2.5954e+00, -2.6144e+00, -2.5720e+00, -2.4592e+00,\n",
            "        -2.2684e+00, -1.9940e+00, -1.6330e+00, -1.1861e+00, -6.5843e-01,\n",
            "        -5.9786e-02,  5.9438e-01,  1.2829e+00,  1.9791e+00,  2.6508e+00,\n",
            "         3.2620e+00,  3.7737e+00,  4.1467e+00,  4.3434e+00,  4.3315e+00,\n",
            "         4.0872e+00,  3.5983e+00,  2.8676e+00,  1.9159e+00,  7.8273e-01,\n",
            "        -4.7262e-01, -1.7729e+00, -3.0265e+00, -4.1327e+00, -4.9894e+00,\n",
            "        -5.5028e+00, -5.5970e+00, -5.2252e+00, -4.3782e+00, -3.0925e+00,\n",
            "        -1.4526e+00,  4.1007e-01,  2.3249e+00,  4.0956e+00,  5.5192e+00,\n",
            "         6.4094e+00,  6.6222e+00,  6.0798e+00,  4.7897e+00,  2.8560e+00,\n",
            "         4.7794e-01, -2.0646e+00, -4.4405e+00, -6.3087e+00, -7.3680e+00,\n",
            "        -7.4080e+00, -6.3531e+00, -4.2917e+00, -1.4813e+00,  1.6739e+00,\n",
            "         4.6748e+00,  7.0040e+00,  8.2157e+00,  8.0255e+00,  6.3823e+00,\n",
            "         3.5034e+00, -1.3781e-01, -3.8789e+00, -6.9824e+00, -8.7814e+00,\n",
            "        -8.8286e+00, -7.0156e+00, -3.6318e+00,  6.6059e-01,  4.9416e+00,\n",
            "         8.2239e+00,  9.6828e+00,  8.8724e+00,  5.8738e+00,  1.3235e+00])\n"
          ]
        },
        {
          "output_type": "display_data",
          "data": {
            "text/plain": [
              "<Figure size 432x288 with 1 Axes>"
            ],
            "image/png": "[encoded data removed]"
          },
          "metadata": {
            "needs_background": "light"
          }
        }
      ],
      "source": [
        "x = torch.linspace(0, 5, 100, requires_grad=True)\n",
        "y = (x**2).cos()\n",
        "y.sum().backward()   # populates the grad attribute below.\n",
        "print(x.grad)\n",
        "\n",
        "plt.plot(x.detach(), y.detach(), label='y')\n",
        "plt.plot(x.detach(), x.grad, label='dy/dx')\n",
        "plt.legend()\n",
        "plt.show()"
      ]
    },
    {
      "cell_type": "code",
      "source": [
        "x.grad.argmax()"
      ],
      "metadata": {
        "id": "DKG6uvbuQLEs",
        "outputId": "dacc7696-3595-4dce-8b12-64b7044b5552",
        "colab": {
          "base_uri": "https://localhost:8080/"
        }
      },
      "execution_count": 32,
      "outputs": [
        {
          "output_type": "execute_result",
          "data": {
            "text/plain": [
              "tensor(96)"
            ]
          },
          "metadata": {},
          "execution_count": 32
        }
      ]
    },
    {
      "cell_type": "markdown",
      "metadata": {
        "id": "xKTmcnYWM-Bu"
      },
      "source": [
        "### Exercise\n",
        "\n",
        "1. Introduce a new vector x<sub>2</sub> which also ranges from zero to five (same as x, but not cloned from x).\n",
        "2. Plot the polynomial y=x<sub>2</sub><sup>3</sup>-6x<sup>2</sup>+8x\n",
        "3. Plot dy/dx and dy/dx<sub>2</sub>.\n",
        "\n",
        "Which x contributes most to the gradient at zero?  At five?"
      ]
    },
    {
      "cell_type": "markdown",
      "metadata": {
        "id": "GurYmk0gM-Bv"
      },
      "source": [
        "Accumulating and Zeroing grad\n",
        "-----------------------------\n",
        "\n",
        "**Gradient accumulation.** If you find that your data batches are too large to get gradients of the\n",
        "whole thing, then it is usually possible to split the batches into smaller pieces and add the\n",
        "gradients. Because gradient accumulation is a common pattern, if you call `.backward()` when parameters\n",
        "`x.grad` already exists, it is not an error.  The new gradient will be *added* to the old one.\n",
        "\n",
        "**zero_grad().** That means that you need to set any previous value of `x.grad` to zero before\n",
        "running `backward()`, or else the new gradient will be added to the old one.  Optimizers have a\n",
        "utility `optim.zero_grad()` to do this to all the optimized parameters at once."
      ]
    },
    {
      "cell_type": "markdown",
      "metadata": {
        "id": "6S4WisD8M-Bw"
      },
      "source": [
        "Saving memory on inference\n",
        "--------------------------\n",
        "\n",
        "**Avoid autograd when you don't need it.** Normally, all the parameters of a neural network are set to `requires_grad=True` by default, so they are ready to be trained.  But that means that whenever you run a network, you will get output which is also requires-grad, and it will be attached to a long computation history that consumes a lot of precious GPU memory.\n",
        "\n",
        "To avoid all this expense when you have no intention of training the network, you could go through all the network parameters to set `requires_grad=False`.\n",
        "\n",
        "Another way to avoid the computation history is to enclose the entire computation within a `with torch.no_grad():` block.  This will suppress all the autograd mechanics (which means, of course, `.backward()` will not function).\n",
        "\n",
        "Note that this is different from the role of `net.eval()` which puts puts the network in inference mode computationally (batchnorm, dropout, and other operations behave differently in training and inference); `net.eval()` does not have any effect on `requires_grad`."
      ]
    },
    {
      "cell_type": "markdown",
      "metadata": {
        "id": "R4uBA1yOM-Bw"
      },
      "source": [
        "More tricks\n",
        "-----------\n",
        "\n",
        "**Gradients over intermediate values.** Normally gradients with respect to intermediate values are not stored in `.grad` - just original input variables - but you can ask for intermediate gradients to be stored using `v.retain_grad()`.\n",
        "\n",
        "**Second derivatives.** If you want higher-order derivatives, then you want pytorch to build the computation graph when it is computing the gradient itself, so this graph can be differentiated again.  To do this, use the `create_graph=True` option on the `grad` or `backward` methods.\n",
        "\n",
        "**Gradients of more than one objective.** Usually you only need to call `y.backward()` once per computation tree, and pytorch will not let you call it again. To save memory, pytorch will have deallocated the computation graph after you have computed a single gradient.  But if you need more than one gradient (e.g., if you have different objectives that you want to apply to different subsets of parameters, as with happens with GANs sometimes), you can use `retain_graph=True`.\n"
      ]
    },
    {
      "cell_type": "markdown",
      "metadata": {
        "id": "8lGM6kkMM-Bw"
      },
      "source": [
        "### Exercise\n",
        "\n",
        "1. Plot the polynomial y=x<sup>3</sup>-6x<sup>2</sup>+8x, just as in the first exercise.\n",
        "2. Use `y.sum().backward(create_graph=True)` to compute the gradient, and plot dy/dx.  Why is `x.grad.detach()` needed now?\n",
        "3. Now set `dy = x.grad.clone()` and then `x.grad.zero_()`, before using `dy.sum().backward()` to compute a 2nd gradient.  Plot d<sup>2</sup>y/dx."
      ]
    },
    {
      "cell_type": "markdown",
      "metadata": {
        "id": "SavTheJTM-Bx"
      },
      "source": [
        "### [On to topic 3: Optimizers &rightarrow;](3-Pytorch-Optimizers.ipynb)"
      ]
    }
  ],
  "metadata": {
    "accelerator": "GPU",
    "kernelspec": {
      "display_name": "Python 3",
      "language": "python",
      "name": "python3"
    },
    "language_info": {
      "codemirror_mode": {
        "name": "ipython",
        "version": 3
      },
      "file_extension": ".py",
      "mimetype": "text/x-python",
      "name": "python",
      "nbconvert_exporter": "python",
      "pygments_lexer": "ipython3",
      "version": "3.6.10"
    },
    "colab": {
      "name": "2-Pytorch-Autograd.ipynb",
      "provenance": []
    }
  },
  "nbformat": 4,
  "nbformat_minor": 0
}