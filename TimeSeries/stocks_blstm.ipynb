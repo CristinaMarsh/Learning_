{
  "nbformat": 4,
  "nbformat_minor": 0,
  "metadata": {
    "colab": {
      "name": "stocks-blstm.ipynb",
      "provenance": [],
      "collapsed_sections": [],
      "authorship_tag": "ABX9TyOsWl2jfSeSsLAMESvp/dI8",
      "include_colab_link": true
    },
    "kernelspec": {
      "name": "python3",
      "display_name": "Python 3"
    },
    "language_info": {
      "name": "python"
    },
    "accelerator": "GPU",
    "gpuClass": "standard"
  },
  "cells": [
    {
      "cell_type": "markdown",
      "metadata": {
        "id": "view-in-github",
        "colab_type": "text"
      },
      "source": [
        "<a href=\"https://colab.research.google.com/github/CristinaMarsh/Learning_/blob/main/TimeSeries/stocks_blstm.ipynb\" target=\"_parent\"><img src=\"https://colab.research.google.com/assets/colab-badge.svg\" alt=\"Open In Colab\"/></a>"
      ]
    },
    {
      "cell_type": "code",
      "source": [
        "! pip install blitz-bayesian-pytorch"
      ],
      "metadata": {
        "colab": {
          "base_uri": "https://localhost:8080/",
          "height": 489
        },
        "id": "Zix90-lf9DSN",
        "outputId": "5e0e5705-562a-4a7f-f54d-2022a8c02755"
      },
      "execution_count": 3,
      "outputs": [
        {
          "output_type": "stream",
          "name": "stdout",
          "text": [
            "Looking in indexes: https://pypi.org/simple, https://us-python.pkg.dev/colab-wheels/public/simple/\n",
            "Collecting blitz-bayesian-pytorch\n",
            "  Downloading blitz_bayesian_pytorch-0.2.8-py3-none-any.whl (48 kB)\n",
            "\u001b[K     |████████████████████████████████| 48 kB 5.2 MB/s \n",
            "\u001b[?25hRequirement already satisfied: scikit-learn>=0.22.2 in /usr/local/lib/python3.7/dist-packages (from blitz-bayesian-pytorch) (1.0.2)\n",
            "Requirement already satisfied: torchvision>=0.5.0 in /usr/local/lib/python3.7/dist-packages (from blitz-bayesian-pytorch) (0.12.0+cu113)\n",
            "Requirement already satisfied: numpy in /usr/local/lib/python3.7/dist-packages (from blitz-bayesian-pytorch) (1.21.6)\n",
            "Requirement already satisfied: pillow>=7.1 in /usr/local/lib/python3.7/dist-packages (from blitz-bayesian-pytorch) (7.1.2)\n",
            "Requirement already satisfied: torch>=1.7.0 in /usr/local/lib/python3.7/dist-packages (from blitz-bayesian-pytorch) (1.11.0+cu113)\n",
            "Requirement already satisfied: threadpoolctl>=2.0.0 in /usr/local/lib/python3.7/dist-packages (from scikit-learn>=0.22.2->blitz-bayesian-pytorch) (3.1.0)\n",
            "Requirement already satisfied: joblib>=0.11 in /usr/local/lib/python3.7/dist-packages (from scikit-learn>=0.22.2->blitz-bayesian-pytorch) (1.1.0)\n",
            "Requirement already satisfied: scipy>=1.1.0 in /usr/local/lib/python3.7/dist-packages (from scikit-learn>=0.22.2->blitz-bayesian-pytorch) (1.4.1)\n",
            "Requirement already satisfied: typing-extensions in /usr/local/lib/python3.7/dist-packages (from torch>=1.7.0->blitz-bayesian-pytorch) (4.1.1)\n",
            "Requirement already satisfied: requests in /usr/local/lib/python3.7/dist-packages (from torchvision>=0.5.0->blitz-bayesian-pytorch) (2.23.0)\n",
            "Requirement already satisfied: idna<3,>=2.5 in /usr/local/lib/python3.7/dist-packages (from requests->torchvision>=0.5.0->blitz-bayesian-pytorch) (2.10)\n",
            "Requirement already satisfied: certifi>=2017.4.17 in /usr/local/lib/python3.7/dist-packages (from requests->torchvision>=0.5.0->blitz-bayesian-pytorch) (2022.6.15)\n",
            "Requirement already satisfied: urllib3!=1.25.0,!=1.25.1,<1.26,>=1.21.1 in /usr/local/lib/python3.7/dist-packages (from requests->torchvision>=0.5.0->blitz-bayesian-pytorch) (1.24.3)\n",
            "Requirement already satisfied: chardet<4,>=3.0.2 in /usr/local/lib/python3.7/dist-packages (from requests->torchvision>=0.5.0->blitz-bayesian-pytorch) (3.0.4)\n",
            "Installing collected packages: blitz-bayesian-pytorch\n",
            "Successfully installed blitz-bayesian-pytorch-0.2.8\n"
          ]
        },
        {
          "output_type": "display_data",
          "data": {
            "application/vnd.colab-display-data+json": {
              "pip_warning": {
                "packages": [
                  "blitz"
                ]
              }
            }
          },
          "metadata": {}
        }
      ]
    },
    {
      "cell_type": "code",
      "execution_count": 1,
      "metadata": {
        "id": "WVKovg4R8_Jf"
      },
      "outputs": [],
      "source": [
        "import pandas as pd\n",
        "import numpy as np\n",
        "\n",
        "import torch\n",
        "import torch.nn as nn\n",
        "import torch.optim as optim\n",
        "import torch.nn.functional as F\n",
        "\n",
        "from blitz.modules import BayesianLSTM\n",
        "from blitz.utils import variational_estimator\n",
        "\n",
        "from sklearn.model_selection import train_test_split\n",
        "from sklearn.preprocessing import StandardScaler\n",
        "\n",
        "import matplotlib.pyplot as plt\n",
        "%matplotlib inline\n",
        "\n",
        "from collections import deque"
      ]
    },
    {
      "cell_type": "code",
      "source": [
        "path = '/content/sample_data/AABA_2006-01-01_to_2018-01-01.csv'\n",
        "\n",
        "df = pd.read_csv(path)\n",
        "\n",
        "window_size = 21"
      ],
      "metadata": {
        "id": "Kv0Qkgf-9ELh"
      },
      "execution_count": 6,
      "outputs": []
    },
    {
      "cell_type": "code",
      "source": [
        "df.head()"
      ],
      "metadata": {
        "colab": {
          "base_uri": "https://localhost:8080/",
          "height": 206
        },
        "id": "d09B_MQd9Y2n",
        "outputId": "8316f77a-8121-4a50-eb3b-79612598e0e0"
      },
      "execution_count": 7,
      "outputs": [
        {
          "output_type": "execute_result",
          "data": {
            "text/plain": [
              "         Date   Open   High    Low  Close    Volume  Name\n",
              "0  2006-01-03  39.69  41.22  38.79  40.91  24232729  AABA\n",
              "1  2006-01-04  41.22  41.90  40.77  40.97  20553479  AABA\n",
              "2  2006-01-05  40.93  41.73  40.85  41.53  12829610  AABA\n",
              "3  2006-01-06  42.88  43.57  42.80  43.21  29422828  AABA\n",
              "4  2006-01-09  43.10  43.66  42.82  43.42  16268338  AABA"
            ],
            "text/html": [
              "\n",
              "  <div id=\"df-6ae323a6-0e18-4992-88e8-f24d8fc4bcef\">\n",
              "    <div class=\"colab-df-container\">\n",
              "      <div>\n",
              "<style scoped>\n",
              "    .dataframe tbody tr th:only-of-type {\n",
              "        vertical-align: middle;\n",
              "    }\n",
              "\n",
              "    .dataframe tbody tr th {\n",
              "        vertical-align: top;\n",
              "    }\n",
              "\n",
              "    .dataframe thead th {\n",
              "        text-align: right;\n",
              "    }\n",
              "</style>\n",
              "<table border=\"1\" class=\"dataframe\">\n",
              "  <thead>\n",
              "    <tr style=\"text-align: right;\">\n",
              "      <th></th>\n",
              "      <th>Date</th>\n",
              "      <th>Open</th>\n",
              "      <th>High</th>\n",
              "      <th>Low</th>\n",
              "      <th>Close</th>\n",
              "      <th>Volume</th>\n",
              "      <th>Name</th>\n",
              "    </tr>\n",
              "  </thead>\n",
              "  <tbody>\n",
              "    <tr>\n",
              "      <th>0</th>\n",
              "      <td>2006-01-03</td>\n",
              "      <td>39.69</td>\n",
              "      <td>41.22</td>\n",
              "      <td>38.79</td>\n",
              "      <td>40.91</td>\n",
              "      <td>24232729</td>\n",
              "      <td>AABA</td>\n",
              "    </tr>\n",
              "    <tr>\n",
              "      <th>1</th>\n",
              "      <td>2006-01-04</td>\n",
              "      <td>41.22</td>\n",
              "      <td>41.90</td>\n",
              "      <td>40.77</td>\n",
              "      <td>40.97</td>\n",
              "      <td>20553479</td>\n",
              "      <td>AABA</td>\n",
              "    </tr>\n",
              "    <tr>\n",
              "      <th>2</th>\n",
              "      <td>2006-01-05</td>\n",
              "      <td>40.93</td>\n",
              "      <td>41.73</td>\n",
              "      <td>40.85</td>\n",
              "      <td>41.53</td>\n",
              "      <td>12829610</td>\n",
              "      <td>AABA</td>\n",
              "    </tr>\n",
              "    <tr>\n",
              "      <th>3</th>\n",
              "      <td>2006-01-06</td>\n",
              "      <td>42.88</td>\n",
              "      <td>43.57</td>\n",
              "      <td>42.80</td>\n",
              "      <td>43.21</td>\n",
              "      <td>29422828</td>\n",
              "      <td>AABA</td>\n",
              "    </tr>\n",
              "    <tr>\n",
              "      <th>4</th>\n",
              "      <td>2006-01-09</td>\n",
              "      <td>43.10</td>\n",
              "      <td>43.66</td>\n",
              "      <td>42.82</td>\n",
              "      <td>43.42</td>\n",
              "      <td>16268338</td>\n",
              "      <td>AABA</td>\n",
              "    </tr>\n",
              "  </tbody>\n",
              "</table>\n",
              "</div>\n",
              "      <button class=\"colab-df-convert\" onclick=\"convertToInteractive('df-6ae323a6-0e18-4992-88e8-f24d8fc4bcef')\"\n",
              "              title=\"Convert this dataframe to an interactive table.\"\n",
              "              style=\"display:none;\">\n",
              "        \n",
              "  <svg xmlns=\"http://www.w3.org/2000/svg\" height=\"24px\"viewBox=\"0 0 24 24\"\n",
              "       width=\"24px\">\n",
              "    <path d=\"M0 0h24v24H0V0z\" fill=\"none\"/>\n",
              "    <path d=\"M18.56 5.44l.94 2.06.94-2.06 2.06-.94-2.06-.94-.94-2.06-.94 2.06-2.06.94zm-11 1L8.5 8.5l.94-2.06 2.06-.94-2.06-.94L8.5 2.5l-.94 2.06-2.06.94zm10 10l.94 2.06.94-2.06 2.06-.94-2.06-.94-.94-2.06-.94 2.06-2.06.94z\"/><path d=\"M17.41 7.96l-1.37-1.37c-.4-.4-.92-.59-1.43-.59-.52 0-1.04.2-1.43.59L10.3 9.45l-7.72 7.72c-.78.78-.78 2.05 0 2.83L4 21.41c.39.39.9.59 1.41.59.51 0 1.02-.2 1.41-.59l7.78-7.78 2.81-2.81c.8-.78.8-2.07 0-2.86zM5.41 20L4 18.59l7.72-7.72 1.47 1.35L5.41 20z\"/>\n",
              "  </svg>\n",
              "      </button>\n",
              "      \n",
              "  <style>\n",
              "    .colab-df-container {\n",
              "      display:flex;\n",
              "      flex-wrap:wrap;\n",
              "      gap: 12px;\n",
              "    }\n",
              "\n",
              "    .colab-df-convert {\n",
              "      background-color: #E8F0FE;\n",
              "      border: none;\n",
              "      border-radius: 50%;\n",
              "      cursor: pointer;\n",
              "      display: none;\n",
              "      fill: #1967D2;\n",
              "      height: 32px;\n",
              "      padding: 0 0 0 0;\n",
              "      width: 32px;\n",
              "    }\n",
              "\n",
              "    .colab-df-convert:hover {\n",
              "      background-color: #E2EBFA;\n",
              "      box-shadow: 0px 1px 2px rgba(60, 64, 67, 0.3), 0px 1px 3px 1px rgba(60, 64, 67, 0.15);\n",
              "      fill: #174EA6;\n",
              "    }\n",
              "\n",
              "    [theme=dark] .colab-df-convert {\n",
              "      background-color: #3B4455;\n",
              "      fill: #D2E3FC;\n",
              "    }\n",
              "\n",
              "    [theme=dark] .colab-df-convert:hover {\n",
              "      background-color: #434B5C;\n",
              "      box-shadow: 0px 1px 3px 1px rgba(0, 0, 0, 0.15);\n",
              "      filter: drop-shadow(0px 1px 2px rgba(0, 0, 0, 0.3));\n",
              "      fill: #FFFFFF;\n",
              "    }\n",
              "  </style>\n",
              "\n",
              "      <script>\n",
              "        const buttonEl =\n",
              "          document.querySelector('#df-6ae323a6-0e18-4992-88e8-f24d8fc4bcef button.colab-df-convert');\n",
              "        buttonEl.style.display =\n",
              "          google.colab.kernel.accessAllowed ? 'block' : 'none';\n",
              "\n",
              "        async function convertToInteractive(key) {\n",
              "          const element = document.querySelector('#df-6ae323a6-0e18-4992-88e8-f24d8fc4bcef');\n",
              "          const dataTable =\n",
              "            await google.colab.kernel.invokeFunction('convertToInteractive',\n",
              "                                                     [key], {});\n",
              "          if (!dataTable) return;\n",
              "\n",
              "          const docLinkHtml = 'Like what you see? Visit the ' +\n",
              "            '<a target=\"_blank\" href=https://colab.research.google.com/notebooks/data_table.ipynb>data table notebook</a>'\n",
              "            + ' to learn more about interactive tables.';\n",
              "          element.innerHTML = '';\n",
              "          dataTable['output_type'] = 'display_data';\n",
              "          await google.colab.output.renderOutput(dataTable, element);\n",
              "          const docLink = document.createElement('div');\n",
              "          docLink.innerHTML = docLinkHtml;\n",
              "          element.appendChild(docLink);\n",
              "        }\n",
              "      </script>\n",
              "    </div>\n",
              "  </div>\n",
              "  "
            ]
          },
          "metadata": {},
          "execution_count": 7
        }
      ]
    },
    {
      "cell_type": "code",
      "source": [
        "close_prices = df[\"Close\"]\n",
        "scaler = StandardScaler()\n",
        "\n",
        "close_prices_arr = np.array(close_prices).reshape(-1, 1)\n",
        "close_prices = scaler.fit_transform(close_prices_arr)\n",
        "\n",
        "close_prices_unscaled = df[\"Close\"]"
      ],
      "metadata": {
        "id": "uU4ZIPnh-V55"
      },
      "execution_count": 8,
      "outputs": []
    },
    {
      "cell_type": "code",
      "source": [
        "def create_timestamps_ds(series, \n",
        "                         timestep_size=window_size):\n",
        "    time_stamps = []\n",
        "    labels = []\n",
        "    aux_deque = deque(maxlen=timestep_size)\n",
        "    \n",
        "    #starting the timestep deque\n",
        "    for i in range(timestep_size):\n",
        "        aux_deque.append(0)\n",
        "    \n",
        "    #feed the timestamps list\n",
        "    for i in range(len(series)-1):\n",
        "        aux_deque.append(series[i])\n",
        "        time_stamps.append(list(aux_deque))\n",
        "    \n",
        "    #feed the labels lsit\n",
        "    for i in range(len(series)-1):\n",
        "        labels.append(series[i + 1])\n",
        "    \n",
        "    assert len(time_stamps) == len(labels), \"Something went wrong\"\n",
        "    \n",
        "    #torch-tensoring it\n",
        "    features = torch.tensor(time_stamps[timestep_size:]).float()\n",
        "    labels = torch.tensor(labels[timestep_size:]).float()\n",
        "    \n",
        "    return features, labels"
      ],
      "metadata": {
        "id": "lzPppKxS-X4Z"
      },
      "execution_count": 9,
      "outputs": []
    },
    {
      "cell_type": "code",
      "source": [
        "@variational_estimator\n",
        "class NN(nn.Module):\n",
        "    def __init__(self):\n",
        "        super(NN, self).__init__()\n",
        "        self.lstm_1 = BayesianLSTM(1, 10, prior_sigma_1=1, prior_pi=1, posterior_rho_init=-3.0)\n",
        "        self.linear = nn.Linear(10, 1)\n",
        "            \n",
        "    def forward(self, x):\n",
        "        x_, _ = self.lstm_1(x)\n",
        "        \n",
        "        #gathering only the latent end-of-sequence for the linear layer\n",
        "        x_ = x_[:, -1, :]\n",
        "        x_ = self.linear(x_)\n",
        "        return x_"
      ],
      "metadata": {
        "id": "Iz3AW6_D_Byk"
      },
      "execution_count": 10,
      "outputs": []
    },
    {
      "cell_type": "code",
      "source": [
        "Xs, ys = create_timestamps_ds(close_prices)\n",
        "X_train, X_test, y_train, y_test = train_test_split(Xs,\n",
        "                                                    ys,\n",
        "                                                    test_size=.25,\n",
        "                                                    random_state=42,\n",
        "                                                    shuffle=False)\n",
        "\n",
        "\n",
        "\n",
        "ds = torch.utils.data.TensorDataset(X_train, y_train)\n",
        "dataloader_train = torch.utils.data.DataLoader(ds, batch_size=8, shuffle=True)\n",
        "\n",
        "net = NN()\n",
        "\n",
        "criterion = nn.MSELoss()\n",
        "optimizer = optim.Adam(net.parameters(), lr=0.001)"
      ],
      "metadata": {
        "colab": {
          "base_uri": "https://localhost:8080/"
        },
        "id": "F8Dw32iN_EYE",
        "outputId": "db1eca2f-f984-4316-8e07-b7ef7707b10e"
      },
      "execution_count": 11,
      "outputs": [
        {
          "output_type": "stream",
          "name": "stderr",
          "text": [
            "/usr/local/lib/python3.7/dist-packages/ipykernel_launcher.py:23: UserWarning: Creating a tensor from a list of numpy.ndarrays is extremely slow. Please consider converting the list to a single numpy.ndarray with numpy.array() before converting to a tensor. (Triggered internally at  ../torch/csrc/utils/tensor_new.cpp:210.)\n"
          ]
        }
      ]
    },
    {
      "cell_type": "code",
      "source": [
        "iteration = 0\n",
        "for epoch in range(10):\n",
        "    for i, (datapoints, labels) in enumerate(dataloader_train):\n",
        "        optimizer.zero_grad()\n",
        "        \n",
        "        loss = net.sample_elbo(inputs=datapoints,\n",
        "                               labels=labels,\n",
        "                               criterion=criterion,\n",
        "                               sample_nbr=3,\n",
        "                               complexity_cost_weight=1/X_train.shape[0])\n",
        "        loss.backward()\n",
        "        optimizer.step()\n",
        "        \n",
        "        iteration += 1\n",
        "        if iteration%250==0:\n",
        "            preds_test = net(X_test)[:,0].unsqueeze(1)\n",
        "            loss_test = criterion(preds_test, y_test)\n",
        "            print(\"Iteration: {} Val-loss: {:.4f}\".format(str(iteration), loss_test))"
      ],
      "metadata": {
        "colab": {
          "base_uri": "https://localhost:8080/"
        },
        "id": "yVx3zq5b_HOw",
        "outputId": "447e5260-5161-4c59-9ada-a4dbb6b813a7"
      },
      "execution_count": 12,
      "outputs": [
        {
          "output_type": "stream",
          "name": "stdout",
          "text": [
            "Iteration: 250 Val-loss: 0.8628\n",
            "Iteration: 500 Val-loss: 0.3982\n",
            "Iteration: 750 Val-loss: 0.2550\n",
            "Iteration: 1000 Val-loss: 0.2349\n",
            "Iteration: 1250 Val-loss: 0.2295\n",
            "Iteration: 1500 Val-loss: 0.1873\n",
            "Iteration: 1750 Val-loss: 0.1853\n",
            "Iteration: 2000 Val-loss: 0.1694\n",
            "Iteration: 2250 Val-loss: 0.2150\n",
            "Iteration: 2500 Val-loss: 0.1629\n",
            "Iteration: 2750 Val-loss: 0.1648\n"
          ]
        }
      ]
    },
    {
      "cell_type": "code",
      "source": [
        "#pred_unscaled\n",
        "original = close_prices_unscaled[1:][window_size:]"
      ],
      "metadata": {
        "id": "wjlto88g_JRH"
      },
      "execution_count": 13,
      "outputs": []
    },
    {
      "cell_type": "code",
      "source": [
        "df_pred = pd.DataFrame(original)\n",
        "df_pred[\"Date\"] = df.Date\n",
        "df[\"Date\"] = pd.to_datetime(df_pred[\"Date\"])\n",
        "df_pred = df_pred.reset_index()\n",
        "#df_pred = df_pred.set_index('Date')"
      ],
      "metadata": {
        "id": "yMt3ZGdFAViS"
      },
      "execution_count": 14,
      "outputs": []
    },
    {
      "cell_type": "code",
      "source": [
        "def pred_stock_future(X_test,\n",
        "                                           future_length,\n",
        "                                           sample_nbr=10):\n",
        "    \n",
        "    #sorry for that, window_size is a global variable, and so are X_train and Xs\n",
        "    global window_size\n",
        "    global X_train\n",
        "    global Xs\n",
        "    global scaler\n",
        "    \n",
        "    #creating auxiliar variables for future prediction\n",
        "    preds_test = []\n",
        "    test_begin = X_test[0:1, :, :]\n",
        "    test_deque = deque(test_begin[0,:,0].tolist(), maxlen=window_size)\n",
        "\n",
        "    idx_pred = np.arange(len(X_train), len(Xs))\n",
        "    \n",
        "    #predict it and append to list\n",
        "    for i in range(len(X_test)):\n",
        "        #print(i)\n",
        "        as_net_input = torch.tensor(test_deque).unsqueeze(0).unsqueeze(2)\n",
        "        pred = [net(as_net_input).cpu().item() for i in range(sample_nbr)]\n",
        "        \n",
        "        \n",
        "        test_deque.append(torch.tensor(pred).mean().cpu().item())\n",
        "        preds_test.append(pred)\n",
        "        \n",
        "        if i % future_length == 0:\n",
        "            #our inptus become the i index of our X_test\n",
        "            #That tweak just helps us with shape issues\n",
        "            test_begin = X_test[i:i+1, :, :]\n",
        "            test_deque = deque(test_begin[0,:,0].tolist(), maxlen=window_size)\n",
        "\n",
        "    #preds_test = np.array(preds_test).reshape(-1, 1)\n",
        "    #preds_test_unscaled = scaler.inverse_transform(preds_test)\n",
        "    \n",
        "    return idx_pred, preds_test"
      ],
      "metadata": {
        "id": "eE7sbwUiAXpK"
      },
      "execution_count": 15,
      "outputs": []
    },
    {
      "cell_type": "code",
      "source": [
        "def get_confidence_intervals(preds_test, ci_multiplier):\n",
        "    global scaler\n",
        "    \n",
        "    preds_test = torch.tensor(preds_test)\n",
        "    \n",
        "    pred_mean = preds_test.mean(1)\n",
        "    pred_std = preds_test.std(1).detach().cpu().numpy()\n",
        "\n",
        "    pred_std = torch.tensor((pred_std))\n",
        "    #print(pred_std)\n",
        "    \n",
        "    upper_bound = pred_mean + (pred_std * ci_multiplier)\n",
        "    lower_bound = pred_mean - (pred_std * ci_multiplier)\n",
        "    #gather unscaled confidence intervals\n",
        "\n",
        "    pred_mean_final = pred_mean.unsqueeze(1).detach().cpu().numpy()\n",
        "    pred_mean_unscaled = scaler.inverse_transform(pred_mean_final)\n",
        "\n",
        "    upper_bound_unscaled = upper_bound.unsqueeze(1).detach().cpu().numpy()\n",
        "    upper_bound_unscaled = scaler.inverse_transform(upper_bound_unscaled)\n",
        "    \n",
        "    lower_bound_unscaled = lower_bound.unsqueeze(1).detach().cpu().numpy()\n",
        "    lower_bound_unscaled = scaler.inverse_transform(lower_bound_unscaled)\n",
        "    \n",
        "    return pred_mean_unscaled, upper_bound_unscaled, lower_bound_unscaled"
      ],
      "metadata": {
        "id": "bdKVvVdfAaBZ"
      },
      "execution_count": 16,
      "outputs": []
    },
    {
      "cell_type": "code",
      "source": [
        "future_length=7\n",
        "sample_nbr=4\n",
        "ci_multiplier=5\n",
        "idx_pred, preds_test = pred_stock_future(X_test, future_length, sample_nbr)\n",
        "pred_mean_unscaled, upper_bound_unscaled, lower_bound_unscaled = get_confidence_intervals(preds_test,\n",
        "                                                                                          ci_multiplier)"
      ],
      "metadata": {
        "id": "7O35CMrUAdOF"
      },
      "execution_count": 17,
      "outputs": []
    },
    {
      "cell_type": "code",
      "source": [
        "\n",
        "y = np.array(df.Close[-750:]).reshape(-1, 1)\n",
        "under_upper = upper_bound_unscaled > y\n",
        "over_lower = lower_bound_unscaled < y\n",
        "total = (under_upper == over_lower)\n",
        "\n",
        "print(\"{} our predictions are in our confidence interval\".format(np.mean(total)))"
      ],
      "metadata": {
        "colab": {
          "base_uri": "https://localhost:8080/"
        },
        "id": "qvvEBNuvAfOV",
        "outputId": "eeb89155-4f71-464b-a248-6fafb558eec9"
      },
      "execution_count": 18,
      "outputs": [
        {
          "output_type": "stream",
          "name": "stdout",
          "text": [
            "0.7826666666666666 our predictions are in our confidence interval\n"
          ]
        }
      ]
    },
    {
      "cell_type": "code",
      "source": [
        "params = {\"ytick.color\" : \"w\",\n",
        "          \"xtick.color\" : \"w\",\n",
        "          \"axes.labelcolor\" : \"w\",\n",
        "          \"axes.edgecolor\" : \"w\"}\n",
        "\n",
        "plt.rcParams.update(params)\n",
        "\n",
        "plt.title(\"IBM Stock prices\", color=\"white\")\n",
        "\n",
        "plt.plot(df_pred.index,\n",
        "         df_pred.Close,\n",
        "         color='black',\n",
        "         label=\"Real\")\n",
        "\n",
        "plt.plot(idx_pred,\n",
        "         pred_mean_unscaled,\n",
        "         label=\"Prediction for {} days, than consult\".format(future_length),\n",
        "         color=\"red\")\n",
        "\n",
        "plt.fill_between(x=idx_pred,\n",
        "                 y1=upper_bound_unscaled[:,0],\n",
        "                 y2=lower_bound_unscaled[:,0],\n",
        "                 facecolor='green',\n",
        "                 label=\"Confidence interval\",\n",
        "                 alpha=0.5)\n",
        "\n",
        "plt.legend()"
      ],
      "metadata": {
        "colab": {
          "base_uri": "https://localhost:8080/",
          "height": 299
        },
        "id": "E33H3HvUAq1j",
        "outputId": "6467befc-ac3c-4f01-c677-f99f83da67a9"
      },
      "execution_count": 20,
      "outputs": [
        {
          "output_type": "execute_result",
          "data": {
            "text/plain": [
              "<matplotlib.legend.Legend at 0x7f13a8090dd0>"
            ]
          },
          "metadata": {},
          "execution_count": 20
        },
        {
          "output_type": "display_data",
          "data": {
            "text/plain": [
              "<Figure size 432x288 with 1 Axes>"
            ],
            "image/png": "[encoded data removed]"
          },
          "metadata": {
            "needs_background": "dark"
          }
        }
      ]
    },
    {
      "cell_type": "code",
      "source": [
        "params = {\"ytick.color\" : \"w\",\n",
        "          \"xtick.color\" : \"w\",\n",
        "          \"axes.labelcolor\" : \"w\",\n",
        "          \"axes.edgecolor\" : \"w\"}\n",
        "plt.rcParams.update(params)\n",
        "\n",
        "plt.title(\"IBM Stock prices\", color=\"white\")\n",
        "\n",
        "\n",
        "plt.fill_between(x=idx_pred,\n",
        "                 y1=upper_bound_unscaled[:,0],\n",
        "                 y2=lower_bound_unscaled[:,0],\n",
        "                 facecolor='green',\n",
        "                 label=\"Confidence interval\",\n",
        "                 alpha=0.75)\n",
        "\n",
        "plt.plot(idx_pred,\n",
        "         df_pred.Close[-len(pred_mean_unscaled):],\n",
        "         label=\"Real\",\n",
        "         alpha=1,\n",
        "         color='black',\n",
        "         linewidth=0.5)\n",
        "\n",
        "plt.plot(idx_pred,\n",
        "         pred_mean_unscaled,\n",
        "         label=\"Prediction for {} days, than consult\".format(future_length),\n",
        "         color=\"red\",\n",
        "         alpha=0.5)\n",
        "\n",
        "plt.legend()"
      ],
      "metadata": {
        "colab": {
          "base_uri": "https://localhost:8080/",
          "height": 299
        },
        "id": "a6FzPriRAtu6",
        "outputId": "fd7d4632-4ca0-4c3c-a7ec-f64220c6543f"
      },
      "execution_count": 21,
      "outputs": [
        {
          "output_type": "execute_result",
          "data": {
            "text/plain": [
              "<matplotlib.legend.Legend at 0x7f13a7fd93d0>"
            ]
          },
          "metadata": {},
          "execution_count": 21
        },
        {
          "output_type": "display_data",
          "data": {
            "text/plain": [
              "<Figure size 432x288 with 1 Axes>"
            ],
            "image/png": "[encoded data removed]"
          },
          "metadata": {
            "needs_background": "dark"
          }
        }
      ]
    },
    {
      "cell_type": "code",
      "source": [
        ""
      ],
      "metadata": {
        "id": "kaX7Sb08AwkN"
      },
      "execution_count": null,
      "outputs": []
    },
    {
      "cell_type": "code",
      "source": [
        ""
      ],
      "metadata": {
        "id": "LGY4WGVjArw8"
      },
      "execution_count": null,
      "outputs": []
    }
  ]
}